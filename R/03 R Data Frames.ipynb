{
 "cells": [
  {
   "cell_type": "markdown",
   "id": "d82fe500-5fbf-415c-a4d7-77102a5d5800",
   "metadata": {
    "tags": []
   },
   "source": [
    "### <center> R Data Frames </center> \n",
    "\n",
    "* DataFrames is one of the main tools for data analysis in R. \n",
    "* Unlike Vectors and Matrices, DataFrames can organize data of mixed data types, creating a very powerful data structure tool. \n",
    "* R has build-in DataFrames for quick reference and to practice with. Let's look at a few. "
   ]
  },
  {
   "cell_type": "markdown",
   "id": "ab706409-e291-4911-8724-4955d2b7c294",
   "metadata": {},
   "source": [
    "**Some build-in DataFrames**"
   ]
  },
  {
   "cell_type": "code",
   "execution_count": 88,
   "id": "d8bee806-c83b-47e1-a61b-5339e2b6912e",
   "metadata": {},
   "outputs": [
    {
     "data": {
      "text/html": [
       "<table>\n",
       "<thead><tr><th></th><th scope=col>Population</th><th scope=col>Income</th><th scope=col>Illiteracy</th><th scope=col>Life Exp</th><th scope=col>Murder</th><th scope=col>HS Grad</th><th scope=col>Frost</th><th scope=col>Area</th></tr></thead>\n",
       "<tbody>\n",
       "\t<tr><th scope=row>Alabama</th><td> 3615 </td><td>3624  </td><td>2.1   </td><td>69.05 </td><td>15.1  </td><td>41.3  </td><td> 20   </td><td> 50708</td></tr>\n",
       "\t<tr><th scope=row>Alaska</th><td>  365 </td><td>6315  </td><td>1.5   </td><td>69.31 </td><td>11.3  </td><td>66.7  </td><td>152   </td><td>566432</td></tr>\n",
       "\t<tr><th scope=row>Arizona</th><td> 2212 </td><td>4530  </td><td>1.8   </td><td>70.55 </td><td> 7.8  </td><td>58.1  </td><td> 15   </td><td>113417</td></tr>\n",
       "\t<tr><th scope=row>Arkansas</th><td> 2110 </td><td>3378  </td><td>1.9   </td><td>70.66 </td><td>10.1  </td><td>39.9  </td><td> 65   </td><td> 51945</td></tr>\n",
       "\t<tr><th scope=row>California</th><td>21198 </td><td>5114  </td><td>1.1   </td><td>71.71 </td><td>10.3  </td><td>62.6  </td><td> 20   </td><td>156361</td></tr>\n",
       "\t<tr><th scope=row>Colorado</th><td> 2541 </td><td>4884  </td><td>0.7   </td><td>72.06 </td><td> 6.8  </td><td>63.9  </td><td>166   </td><td>103766</td></tr>\n",
       "</tbody>\n",
       "</table>\n"
      ],
      "text/latex": [
       "\\begin{tabular}{r|llllllll}\n",
       "  & Population & Income & Illiteracy & Life Exp & Murder & HS Grad & Frost & Area\\\\\n",
       "\\hline\n",
       "\tAlabama &  3615  & 3624   & 2.1    & 69.05  & 15.1   & 41.3   &  20    &  50708\\\\\n",
       "\tAlaska &   365  & 6315   & 1.5    & 69.31  & 11.3   & 66.7   & 152    & 566432\\\\\n",
       "\tArizona &  2212  & 4530   & 1.8    & 70.55  &  7.8   & 58.1   &  15    & 113417\\\\\n",
       "\tArkansas &  2110  & 3378   & 1.9    & 70.66  & 10.1   & 39.9   &  65    &  51945\\\\\n",
       "\tCalifornia & 21198  & 5114   & 1.1    & 71.71  & 10.3   & 62.6   &  20    & 156361\\\\\n",
       "\tColorado &  2541  & 4884   & 0.7    & 72.06  &  6.8   & 63.9   & 166    & 103766\\\\\n",
       "\\end{tabular}\n"
      ],
      "text/markdown": [
       "\n",
       "| <!--/--> | Population | Income | Illiteracy | Life Exp | Murder | HS Grad | Frost | Area |\n",
       "|---|---|---|---|---|---|---|---|---|\n",
       "| Alabama |  3615  | 3624   | 2.1    | 69.05  | 15.1   | 41.3   |  20    |  50708 |\n",
       "| Alaska |   365  | 6315   | 1.5    | 69.31  | 11.3   | 66.7   | 152    | 566432 |\n",
       "| Arizona |  2212  | 4530   | 1.8    | 70.55  |  7.8   | 58.1   |  15    | 113417 |\n",
       "| Arkansas |  2110  | 3378   | 1.9    | 70.66  | 10.1   | 39.9   |  65    |  51945 |\n",
       "| California | 21198  | 5114   | 1.1    | 71.71  | 10.3   | 62.6   |  20    | 156361 |\n",
       "| Colorado |  2541  | 4884   | 0.7    | 72.06  |  6.8   | 63.9   | 166    | 103766 |\n",
       "\n"
      ],
      "text/plain": [
       "           Population Income Illiteracy Life Exp Murder HS Grad Frost Area  \n",
       "Alabama     3615      3624   2.1        69.05    15.1   41.3     20    50708\n",
       "Alaska       365      6315   1.5        69.31    11.3   66.7    152   566432\n",
       "Arizona     2212      4530   1.8        70.55     7.8   58.1     15   113417\n",
       "Arkansas    2110      3378   1.9        70.66    10.1   39.9     65    51945\n",
       "California 21198      5114   1.1        71.71    10.3   62.6     20   156361\n",
       "Colorado    2541      4884   0.7        72.06     6.8   63.9    166   103766"
      ]
     },
     "metadata": {},
     "output_type": "display_data"
    }
   ],
   "source": [
    "head(state.x77) # DataFrame about US States"
   ]
  },
  {
   "cell_type": "code",
   "execution_count": 89,
   "id": "5c2c31f9-21b4-49de-a4b6-8a3be7f7118e",
   "metadata": {},
   "outputs": [
    {
     "data": {
      "text/html": [
       "<table>\n",
       "<thead><tr><th></th><th scope=col>1940</th><th scope=col>1945</th><th scope=col>1950</th><th scope=col>1955</th><th scope=col>1960</th></tr></thead>\n",
       "<tbody>\n",
       "\t<tr><th scope=row>Food and Tobacco</th><td>22.200</td><td>44.500</td><td>59.60 </td><td>73.2  </td><td>86.80 </td></tr>\n",
       "\t<tr><th scope=row>Household Operation</th><td>10.500</td><td>15.500</td><td>29.00 </td><td>36.5  </td><td>46.20 </td></tr>\n",
       "\t<tr><th scope=row>Medical and Health</th><td> 3.530</td><td> 5.760</td><td> 9.71 </td><td>14.0  </td><td>21.10 </td></tr>\n",
       "\t<tr><th scope=row>Personal Care</th><td> 1.040</td><td> 1.980</td><td> 2.45 </td><td> 3.4  </td><td> 5.40 </td></tr>\n",
       "\t<tr><th scope=row>Private Education</th><td> 0.341</td><td> 0.974</td><td> 1.80 </td><td> 2.6  </td><td> 3.64 </td></tr>\n",
       "</tbody>\n",
       "</table>\n"
      ],
      "text/latex": [
       "\\begin{tabular}{r|lllll}\n",
       "  & 1940 & 1945 & 1950 & 1955 & 1960\\\\\n",
       "\\hline\n",
       "\tFood and Tobacco & 22.200 & 44.500 & 59.60  & 73.2   & 86.80 \\\\\n",
       "\tHousehold Operation & 10.500 & 15.500 & 29.00  & 36.5   & 46.20 \\\\\n",
       "\tMedical and Health &  3.530 &  5.760 &  9.71  & 14.0   & 21.10 \\\\\n",
       "\tPersonal Care &  1.040 &  1.980 &  2.45  &  3.4   &  5.40 \\\\\n",
       "\tPrivate Education &  0.341 &  0.974 &  1.80  &  2.6   &  3.64 \\\\\n",
       "\\end{tabular}\n"
      ],
      "text/markdown": [
       "\n",
       "| <!--/--> | 1940 | 1945 | 1950 | 1955 | 1960 |\n",
       "|---|---|---|---|---|---|\n",
       "| Food and Tobacco | 22.200 | 44.500 | 59.60  | 73.2   | 86.80  |\n",
       "| Household Operation | 10.500 | 15.500 | 29.00  | 36.5   | 46.20  |\n",
       "| Medical and Health |  3.530 |  5.760 |  9.71  | 14.0   | 21.10  |\n",
       "| Personal Care |  1.040 |  1.980 |  2.45  |  3.4   |  5.40  |\n",
       "| Private Education |  0.341 |  0.974 |  1.80  |  2.6   |  3.64  |\n",
       "\n"
      ],
      "text/plain": [
       "                    1940   1945   1950  1955 1960 \n",
       "Food and Tobacco    22.200 44.500 59.60 73.2 86.80\n",
       "Household Operation 10.500 15.500 29.00 36.5 46.20\n",
       "Medical and Health   3.530  5.760  9.71 14.0 21.10\n",
       "Personal Care        1.040  1.980  2.45  3.4  5.40\n",
       "Private Education    0.341  0.974  1.80  2.6  3.64"
      ]
     },
     "metadata": {},
     "output_type": "display_data"
    }
   ],
   "source": [
    "USPersonalExpenditure # US Perfonal Expense"
   ]
  },
  {
   "cell_type": "code",
   "execution_count": 90,
   "id": "14401eec-b9c3-4fab-8008-8b50e8ab0d93",
   "metadata": {},
   "outputs": [
    {
     "data": {
      "text/html": [
       "<table>\n",
       "<thead><tr><th scope=col>height</th><th scope=col>weight</th></tr></thead>\n",
       "<tbody>\n",
       "\t<tr><td>58 </td><td>115</td></tr>\n",
       "\t<tr><td>59 </td><td>117</td></tr>\n",
       "\t<tr><td>60 </td><td>120</td></tr>\n",
       "\t<tr><td>61 </td><td>123</td></tr>\n",
       "\t<tr><td>62 </td><td>126</td></tr>\n",
       "\t<tr><td>63 </td><td>129</td></tr>\n",
       "\t<tr><td>64 </td><td>132</td></tr>\n",
       "\t<tr><td>65 </td><td>135</td></tr>\n",
       "\t<tr><td>66 </td><td>139</td></tr>\n",
       "\t<tr><td>67 </td><td>142</td></tr>\n",
       "\t<tr><td>68 </td><td>146</td></tr>\n",
       "\t<tr><td>69 </td><td>150</td></tr>\n",
       "\t<tr><td>70 </td><td>154</td></tr>\n",
       "\t<tr><td>71 </td><td>159</td></tr>\n",
       "\t<tr><td>72 </td><td>164</td></tr>\n",
       "</tbody>\n",
       "</table>\n"
      ],
      "text/latex": [
       "\\begin{tabular}{r|ll}\n",
       " height & weight\\\\\n",
       "\\hline\n",
       "\t 58  & 115\\\\\n",
       "\t 59  & 117\\\\\n",
       "\t 60  & 120\\\\\n",
       "\t 61  & 123\\\\\n",
       "\t 62  & 126\\\\\n",
       "\t 63  & 129\\\\\n",
       "\t 64  & 132\\\\\n",
       "\t 65  & 135\\\\\n",
       "\t 66  & 139\\\\\n",
       "\t 67  & 142\\\\\n",
       "\t 68  & 146\\\\\n",
       "\t 69  & 150\\\\\n",
       "\t 70  & 154\\\\\n",
       "\t 71  & 159\\\\\n",
       "\t 72  & 164\\\\\n",
       "\\end{tabular}\n"
      ],
      "text/markdown": [
       "\n",
       "| height | weight |\n",
       "|---|---|\n",
       "| 58  | 115 |\n",
       "| 59  | 117 |\n",
       "| 60  | 120 |\n",
       "| 61  | 123 |\n",
       "| 62  | 126 |\n",
       "| 63  | 129 |\n",
       "| 64  | 132 |\n",
       "| 65  | 135 |\n",
       "| 66  | 139 |\n",
       "| 67  | 142 |\n",
       "| 68  | 146 |\n",
       "| 69  | 150 |\n",
       "| 70  | 154 |\n",
       "| 71  | 159 |\n",
       "| 72  | 164 |\n",
       "\n"
      ],
      "text/plain": [
       "   height weight\n",
       "1  58     115   \n",
       "2  59     117   \n",
       "3  60     120   \n",
       "4  61     123   \n",
       "5  62     126   \n",
       "6  63     129   \n",
       "7  64     132   \n",
       "8  65     135   \n",
       "9  66     139   \n",
       "10 67     142   \n",
       "11 68     146   \n",
       "12 69     150   \n",
       "13 70     154   \n",
       "14 71     159   \n",
       "15 72     164   "
      ]
     },
     "metadata": {},
     "output_type": "display_data"
    }
   ],
   "source": [
    "women # Women height and weight dataset"
   ]
  },
  {
   "cell_type": "markdown",
   "id": "8534785b-4a04-41a2-9bae-d637dc4570b1",
   "metadata": {},
   "source": [
    "* To get a list of all available build-in dataframes use the **`data()`** function."
   ]
  },
  {
   "cell_type": "code",
   "execution_count": 91,
   "id": "44bc0065-7516-4d89-a6bf-53ab7b03c449",
   "metadata": {
    "tags": []
   },
   "outputs": [
    {
     "data": {
      "text/html": [
       "<h3>Data sets</h3>\n",
       "<table>\n",
       "<thead><tr><th scope=col>Package</th><th scope=col>Item</th><th scope=col>Title</th></tr></thead>\n",
       "<tbody>\n",
       "\t<tr><td>datasets                                                       </td><td>AirPassengers                                                  </td><td>Monthly Airline Passenger Numbers 1949-1960                    </td></tr>\n",
       "\t<tr><td>datasets                                                       </td><td>BJsales                                                        </td><td>Sales Data with Leading Indicator                              </td></tr>\n",
       "\t<tr><td>datasets                                                       </td><td>BJsales.lead (BJsales)                                         </td><td>Sales Data with Leading Indicator                              </td></tr>\n",
       "\t<tr><td>datasets                                                       </td><td>BOD                                                            </td><td>Biochemical Oxygen Demand                                      </td></tr>\n",
       "\t<tr><td>datasets                                                       </td><td>CO2                                                            </td><td>Carbon Dioxide Uptake in Grass Plants                          </td></tr>\n",
       "\t<tr><td>datasets                                                       </td><td>ChickWeight                                                    </td><td>Weight versus age of chicks on different diets                 </td></tr>\n",
       "\t<tr><td>datasets                                                       </td><td>DNase                                                          </td><td>Elisa assay of DNase                                           </td></tr>\n",
       "\t<tr><td>datasets                                                       </td><td>EuStockMarkets                                                 </td><td>Daily Closing Prices of Major European Stock Indices, 1991-1998</td></tr>\n",
       "\t<tr><td>datasets                                                       </td><td>Formaldehyde                                                   </td><td>Determination of Formaldehyde                                  </td></tr>\n",
       "\t<tr><td>datasets                                                       </td><td>HairEyeColor                                                   </td><td>Hair and Eye Color of Statistics Students                      </td></tr>\n",
       "\t<tr><td>datasets                                                       </td><td>Harman23.cor                                                   </td><td>Harman Example 2.3                                             </td></tr>\n",
       "\t<tr><td>datasets                                                       </td><td>Harman74.cor                                                   </td><td>Harman Example 7.4                                             </td></tr>\n",
       "\t<tr><td>datasets                                                       </td><td>Indometh                                                       </td><td>Pharmacokinetics of Indomethacin                               </td></tr>\n",
       "\t<tr><td>datasets                                                       </td><td>InsectSprays                                                   </td><td>Effectiveness of Insect Sprays                                 </td></tr>\n",
       "\t<tr><td>datasets                                                                                                   </td><td><span style=white-space:pre-wrap>JohnsonJohnson        </span>                                             </td><td><span style=white-space:pre-wrap>Quarterly Earnings per Johnson &amp; Johnson Share                 </span></td></tr>\n",
       "\t<tr><td>datasets                                                       </td><td>LakeHuron                                                      </td><td>Level of Lake Huron 1875-1972                                  </td></tr>\n",
       "\t<tr><td>datasets                                                       </td><td>LifeCycleSavings                                               </td><td>Intercountry Life-Cycle Savings Data                           </td></tr>\n",
       "\t<tr><td>datasets                                                       </td><td>Loblolly                                                       </td><td>Growth of Loblolly pine trees                                  </td></tr>\n",
       "\t<tr><td>datasets                                                       </td><td>Nile                                                           </td><td>Flow of the River Nile                                         </td></tr>\n",
       "\t<tr><td>datasets                                                       </td><td>Orange                                                         </td><td>Growth of Orange Trees                                         </td></tr>\n",
       "\t<tr><td>datasets                                                       </td><td>OrchardSprays                                                  </td><td>Potency of Orchard Sprays                                      </td></tr>\n",
       "\t<tr><td>datasets                                                       </td><td>PlantGrowth                                                    </td><td>Results from an Experiment on Plant Growth                     </td></tr>\n",
       "\t<tr><td>datasets                                                       </td><td>Puromycin                                                      </td><td>Reaction Velocity of an Enzymatic Reaction                     </td></tr>\n",
       "\t<tr><td>datasets                                                       </td><td>Seatbelts                                                      </td><td>Road Casualties in Great Britain 1969-84                       </td></tr>\n",
       "\t<tr><td>datasets                                                       </td><td>Theoph                                                         </td><td>Pharmacokinetics of Theophylline                               </td></tr>\n",
       "\t<tr><td>datasets                                                       </td><td>Titanic                                                        </td><td>Survival of passengers on the Titanic                          </td></tr>\n",
       "\t<tr><td>datasets                                                       </td><td>ToothGrowth                                                    </td><td>The Effect of Vitamin C on Tooth Growth in Guinea Pigs         </td></tr>\n",
       "\t<tr><td>datasets                                                       </td><td>UCBAdmissions                                                  </td><td>Student Admissions at UC Berkeley                              </td></tr>\n",
       "\t<tr><td>datasets                                                       </td><td>UKDriverDeaths                                                 </td><td>Road Casualties in Great Britain 1969-84                       </td></tr>\n",
       "\t<tr><td>datasets                                                       </td><td>UKgas                                                          </td><td>UK Quarterly Gas Consumption                                   </td></tr>\n",
       "\t<tr><td>datasets                                                       </td><td>USAccDeaths                                                    </td><td>Accidental Deaths in the US 1973-1978                          </td></tr>\n",
       "\t<tr><td>datasets                                                       </td><td>USArrests                                                      </td><td>Violent Crime Rates by US State                                </td></tr>\n",
       "\t<tr><td>datasets                                                       </td><td>USJudgeRatings                                                 </td><td>Lawyers' Ratings of State Judges in the US Superior Court      </td></tr>\n",
       "\t<tr><td>datasets                                                       </td><td>USPersonalExpenditure                                          </td><td>Personal Expenditure Data                                      </td></tr>\n",
       "\t<tr><td>datasets                                                       </td><td>UScitiesD                                                      </td><td>Distances Between European Cities and Between US Cities        </td></tr>\n",
       "\t<tr><td>datasets                                                       </td><td>VADeaths                                                       </td><td>Death Rates in Virginia (1940)                                 </td></tr>\n",
       "\t<tr><td>datasets                                                       </td><td>WWWusage                                                       </td><td>Internet Usage per Minute                                      </td></tr>\n",
       "\t<tr><td>datasets                                                       </td><td>WorldPhones                                                    </td><td>The World's Telephones                                         </td></tr>\n",
       "\t<tr><td>datasets                                                       </td><td>ability.cov                                                    </td><td>Ability and Intelligence Tests                                 </td></tr>\n",
       "\t<tr><td>datasets                                                       </td><td>airmiles                                                       </td><td>Passenger Miles on Commercial US Airlines, 1937-1960           </td></tr>\n",
       "\t<tr><td>datasets                                                       </td><td>airquality                                                     </td><td>New York Air Quality Measurements                              </td></tr>\n",
       "\t<tr><td>datasets                                                       </td><td>anscombe                                                       </td><td>Anscombe's Quartet of 'Identical' Simple Linear Regressions    </td></tr>\n",
       "\t<tr><td>datasets                                                       </td><td>attenu                                                         </td><td>The Joyner-Boore Attenuation Data                              </td></tr>\n",
       "\t<tr><td>datasets                                                       </td><td>attitude                                                       </td><td>The Chatterjee-Price Attitude Data                             </td></tr>\n",
       "\t<tr><td>datasets                                                       </td><td>austres                                                        </td><td>Quarterly Time Series of the Number of Australian Residents    </td></tr>\n",
       "\t<tr><td>datasets                                                       </td><td>beaver1 (beavers)                                              </td><td>Body Temperature Series of Two Beavers                         </td></tr>\n",
       "\t<tr><td>datasets                                                       </td><td>beaver2 (beavers)                                              </td><td>Body Temperature Series of Two Beavers                         </td></tr>\n",
       "\t<tr><td>datasets                                                       </td><td>cars                                                           </td><td>Speed and Stopping Distances of Cars                           </td></tr>\n",
       "\t<tr><td>datasets                                                       </td><td>chickwts                                                       </td><td>Chicken Weights by Feed Type                                   </td></tr>\n",
       "\t<tr><td>datasets                                                       </td><td>co2                                                            </td><td>Mauna Loa Atmospheric CO2 Concentration                        </td></tr>\n",
       "\t<tr><td>datasets                                                       </td><td>crimtab                                                        </td><td>Student's 3000 Criminals Data                                  </td></tr>\n",
       "\t<tr><td>datasets                                                       </td><td>discoveries                                                    </td><td>Yearly Numbers of Important Discoveries                        </td></tr>\n",
       "\t<tr><td>datasets                                                       </td><td>esoph                                                          </td><td>Smoking, Alcohol and (O)esophageal Cancer                      </td></tr>\n",
       "\t<tr><td>datasets                                                       </td><td>euro                                                           </td><td>Conversion Rates of Euro Currencies                            </td></tr>\n",
       "\t<tr><td>datasets                                                       </td><td>euro.cross (euro)                                              </td><td>Conversion Rates of Euro Currencies                            </td></tr>\n",
       "\t<tr><td>datasets                                                       </td><td>eurodist                                                       </td><td>Distances Between European Cities and Between US Cities        </td></tr>\n",
       "\t<tr><td>datasets                                                       </td><td>faithful                                                       </td><td>Old Faithful Geyser Data                                       </td></tr>\n",
       "\t<tr><td>datasets                                                       </td><td>fdeaths (UKLungDeaths)                                         </td><td>Monthly Deaths from Lung Diseases in the UK                    </td></tr>\n",
       "\t<tr><td>datasets                                                       </td><td>freeny                                                         </td><td>Freeny's Revenue Data                                          </td></tr>\n",
       "\t<tr><td>datasets                                                       </td><td>freeny.x (freeny)                                              </td><td>Freeny's Revenue Data                                          </td></tr>\n",
       "\t<tr><td>datasets                                                       </td><td>freeny.y (freeny)                                              </td><td>Freeny's Revenue Data                                          </td></tr>\n",
       "\t<tr><td>datasets                                                       </td><td>infert                                                         </td><td>Infertility after Spontaneous and Induced Abortion             </td></tr>\n",
       "\t<tr><td>datasets                                                       </td><td>iris                                                           </td><td>Edgar Anderson's Iris Data                                     </td></tr>\n",
       "\t<tr><td>datasets                                                       </td><td>iris3                                                          </td><td>Edgar Anderson's Iris Data                                     </td></tr>\n",
       "\t<tr><td>datasets                                                       </td><td>islands                                                        </td><td>Areas of the World's Major Landmasses                          </td></tr>\n",
       "\t<tr><td>datasets                                                       </td><td>ldeaths (UKLungDeaths)                                         </td><td>Monthly Deaths from Lung Diseases in the UK                    </td></tr>\n",
       "\t<tr><td>datasets                                                       </td><td>lh                                                             </td><td>Luteinizing Hormone in Blood Samples                           </td></tr>\n",
       "\t<tr><td>datasets                                                       </td><td>longley                                                        </td><td>Longley's Economic Regression Data                             </td></tr>\n",
       "\t<tr><td>datasets                                                       </td><td>lynx                                                           </td><td>Annual Canadian Lynx trappings 1821-1934                       </td></tr>\n",
       "\t<tr><td>datasets                                                       </td><td>mdeaths (UKLungDeaths)                                         </td><td>Monthly Deaths from Lung Diseases in the UK                    </td></tr>\n",
       "\t<tr><td>datasets                                                       </td><td>morley                                                         </td><td>Michelson Speed of Light Data                                  </td></tr>\n",
       "\t<tr><td>datasets                                                       </td><td>mtcars                                                         </td><td>Motor Trend Car Road Tests                                     </td></tr>\n",
       "\t<tr><td>datasets                                                       </td><td>nhtemp                                                         </td><td>Average Yearly Temperatures in New Haven                       </td></tr>\n",
       "\t<tr><td>datasets                                                       </td><td>nottem                                                         </td><td>Average Monthly Temperatures at Nottingham, 1920-1939          </td></tr>\n",
       "\t<tr><td>datasets                                                       </td><td>npk                                                            </td><td>Classical N, P, K Factorial Experiment                         </td></tr>\n",
       "\t<tr><td>datasets                                                       </td><td>occupationalStatus                                             </td><td>Occupational Status of Fathers and their Sons                  </td></tr>\n",
       "\t<tr><td>datasets                                                       </td><td>precip                                                         </td><td>Annual Precipitation in US Cities                              </td></tr>\n",
       "\t<tr><td>datasets                                                       </td><td>presidents                                                     </td><td>Quarterly Approval Ratings of US Presidents                    </td></tr>\n",
       "\t<tr><td>datasets                                                       </td><td>pressure                                                       </td><td>Vapor Pressure of Mercury as a Function of Temperature         </td></tr>\n",
       "\t<tr><td>datasets                                                       </td><td>quakes                                                         </td><td>Locations of Earthquakes off Fiji                              </td></tr>\n",
       "\t<tr><td>datasets                                                       </td><td>randu                                                          </td><td>Random Numbers from Congruential Generator RANDU               </td></tr>\n",
       "\t<tr><td>datasets                                                       </td><td>rivers                                                         </td><td>Lengths of Major North American Rivers                         </td></tr>\n",
       "\t<tr><td>datasets                                                       </td><td>rock                                                           </td><td>Measurements on Petroleum Rock Samples                         </td></tr>\n",
       "\t<tr><td>datasets                                                       </td><td>sleep                                                          </td><td>Student's Sleep Data                                           </td></tr>\n",
       "\t<tr><td>datasets                                                       </td><td>stack.loss (stackloss)                                         </td><td>Brownlee's Stack Loss Plant Data                               </td></tr>\n",
       "\t<tr><td>datasets                                                       </td><td>stack.x (stackloss)                                            </td><td>Brownlee's Stack Loss Plant Data                               </td></tr>\n",
       "\t<tr><td>datasets                                                       </td><td>stackloss                                                      </td><td>Brownlee's Stack Loss Plant Data                               </td></tr>\n",
       "\t<tr><td>datasets                                                       </td><td>state.abb (state)                                              </td><td>US State Facts and Figures                                     </td></tr>\n",
       "\t<tr><td>datasets                                                       </td><td>state.area (state)                                             </td><td>US State Facts and Figures                                     </td></tr>\n",
       "\t<tr><td>datasets                                                       </td><td>state.center (state)                                           </td><td>US State Facts and Figures                                     </td></tr>\n",
       "\t<tr><td>datasets                                                       </td><td>state.division (state)                                         </td><td>US State Facts and Figures                                     </td></tr>\n",
       "\t<tr><td>datasets                                                       </td><td>state.name (state)                                             </td><td>US State Facts and Figures                                     </td></tr>\n",
       "\t<tr><td>datasets                                                       </td><td>state.region (state)                                           </td><td>US State Facts and Figures                                     </td></tr>\n",
       "\t<tr><td>datasets                                                       </td><td>state.x77 (state)                                              </td><td>US State Facts and Figures                                     </td></tr>\n",
       "\t<tr><td>datasets                                                       </td><td>sunspot.month                                                  </td><td>Monthly Sunspot Data, from 1749 to \"Present\"                   </td></tr>\n",
       "\t<tr><td>datasets                                                       </td><td>sunspot.year                                                   </td><td>Yearly Sunspot Data, 1700-1988                                 </td></tr>\n",
       "\t<tr><td>datasets                                                       </td><td>sunspots                                                       </td><td>Monthly Sunspot Numbers, 1749-1983                             </td></tr>\n",
       "\t<tr><td>datasets                                                       </td><td>swiss                                                          </td><td>Swiss Fertility and Socioeconomic Indicators (1888) Data       </td></tr>\n",
       "\t<tr><td>datasets                                                       </td><td>treering                                                       </td><td>Yearly Treering Data, -6000-1979                               </td></tr>\n",
       "\t<tr><td>datasets                                                       </td><td>trees                                                          </td><td>Diameter, Height and Volume for Black Cherry Trees             </td></tr>\n",
       "\t<tr><td>datasets                                                       </td><td>uspop                                                          </td><td>Populations Recorded by the US Census                          </td></tr>\n",
       "\t<tr><td>datasets                                                       </td><td>volcano                                                        </td><td>Topographic Information on Auckland's Maunga Whau Volcano      </td></tr>\n",
       "\t<tr><td>datasets                                                       </td><td>warpbreaks                                                     </td><td>The Number of Breaks in Yarn during Weaving                    </td></tr>\n",
       "\t<tr><td>datasets                                                       </td><td>women                                                          </td><td>Average Heights and Weights for American Women                 </td></tr>\n",
       "</tbody>\n",
       "</table>\n",
       "\n",
       "<p>Use 'data(package = .packages(all.available = TRUE))'\n",
       "to list the data sets in all *available* packages.</p>"
      ],
      "text/plain": [
       "Data sets in package 'datasets':\n",
       "\n",
       "AirPassengers           Monthly Airline Passenger Numbers 1949-1960\n",
       "BJsales                 Sales Data with Leading Indicator\n",
       "BJsales.lead (BJsales)\n",
       "                        Sales Data with Leading Indicator\n",
       "BOD                     Biochemical Oxygen Demand\n",
       "CO2                     Carbon Dioxide Uptake in Grass Plants\n",
       "ChickWeight             Weight versus age of chicks on different diets\n",
       "DNase                   Elisa assay of DNase\n",
       "EuStockMarkets          Daily Closing Prices of Major European Stock\n",
       "                        Indices, 1991-1998\n",
       "Formaldehyde            Determination of Formaldehyde\n",
       "HairEyeColor            Hair and Eye Color of Statistics Students\n",
       "Harman23.cor            Harman Example 2.3\n",
       "Harman74.cor            Harman Example 7.4\n",
       "Indometh                Pharmacokinetics of Indomethacin\n",
       "InsectSprays            Effectiveness of Insect Sprays\n",
       "JohnsonJohnson          Quarterly Earnings per Johnson & Johnson Share\n",
       "LakeHuron               Level of Lake Huron 1875-1972\n",
       "LifeCycleSavings        Intercountry Life-Cycle Savings Data\n",
       "Loblolly                Growth of Loblolly pine trees\n",
       "Nile                    Flow of the River Nile\n",
       "Orange                  Growth of Orange Trees\n",
       "OrchardSprays           Potency of Orchard Sprays\n",
       "PlantGrowth             Results from an Experiment on Plant Growth\n",
       "Puromycin               Reaction Velocity of an Enzymatic Reaction\n",
       "Seatbelts               Road Casualties in Great Britain 1969-84\n",
       "Theoph                  Pharmacokinetics of Theophylline\n",
       "Titanic                 Survival of passengers on the Titanic\n",
       "ToothGrowth             The Effect of Vitamin C on Tooth Growth in\n",
       "                        Guinea Pigs\n",
       "UCBAdmissions           Student Admissions at UC Berkeley\n",
       "UKDriverDeaths          Road Casualties in Great Britain 1969-84\n",
       "UKgas                   UK Quarterly Gas Consumption\n",
       "USAccDeaths             Accidental Deaths in the US 1973-1978\n",
       "USArrests               Violent Crime Rates by US State\n",
       "USJudgeRatings          Lawyers' Ratings of State Judges in the US\n",
       "                        Superior Court\n",
       "USPersonalExpenditure   Personal Expenditure Data\n",
       "UScitiesD               Distances Between European Cities and Between\n",
       "                        US Cities\n",
       "VADeaths                Death Rates in Virginia (1940)\n",
       "WWWusage                Internet Usage per Minute\n",
       "WorldPhones             The World's Telephones\n",
       "ability.cov             Ability and Intelligence Tests\n",
       "airmiles                Passenger Miles on Commercial US Airlines,\n",
       "                        1937-1960\n",
       "airquality              New York Air Quality Measurements\n",
       "anscombe                Anscombe's Quartet of 'Identical' Simple Linear\n",
       "                        Regressions\n",
       "attenu                  The Joyner-Boore Attenuation Data\n",
       "attitude                The Chatterjee-Price Attitude Data\n",
       "austres                 Quarterly Time Series of the Number of\n",
       "                        Australian Residents\n",
       "beaver1 (beavers)       Body Temperature Series of Two Beavers\n",
       "beaver2 (beavers)       Body Temperature Series of Two Beavers\n",
       "cars                    Speed and Stopping Distances of Cars\n",
       "chickwts                Chicken Weights by Feed Type\n",
       "co2                     Mauna Loa Atmospheric CO2 Concentration\n",
       "crimtab                 Student's 3000 Criminals Data\n",
       "discoveries             Yearly Numbers of Important Discoveries\n",
       "esoph                   Smoking, Alcohol and (O)esophageal Cancer\n",
       "euro                    Conversion Rates of Euro Currencies\n",
       "euro.cross (euro)       Conversion Rates of Euro Currencies\n",
       "eurodist                Distances Between European Cities and Between\n",
       "                        US Cities\n",
       "faithful                Old Faithful Geyser Data\n",
       "fdeaths (UKLungDeaths)\n",
       "                        Monthly Deaths from Lung Diseases in the UK\n",
       "freeny                  Freeny's Revenue Data\n",
       "freeny.x (freeny)       Freeny's Revenue Data\n",
       "freeny.y (freeny)       Freeny's Revenue Data\n",
       "infert                  Infertility after Spontaneous and Induced\n",
       "                        Abortion\n",
       "iris                    Edgar Anderson's Iris Data\n",
       "iris3                   Edgar Anderson's Iris Data\n",
       "islands                 Areas of the World's Major Landmasses\n",
       "ldeaths (UKLungDeaths)\n",
       "                        Monthly Deaths from Lung Diseases in the UK\n",
       "lh                      Luteinizing Hormone in Blood Samples\n",
       "longley                 Longley's Economic Regression Data\n",
       "lynx                    Annual Canadian Lynx trappings 1821-1934\n",
       "mdeaths (UKLungDeaths)\n",
       "                        Monthly Deaths from Lung Diseases in the UK\n",
       "morley                  Michelson Speed of Light Data\n",
       "mtcars                  Motor Trend Car Road Tests\n",
       "nhtemp                  Average Yearly Temperatures in New Haven\n",
       "nottem                  Average Monthly Temperatures at Nottingham,\n",
       "                        1920-1939\n",
       "npk                     Classical N, P, K Factorial Experiment\n",
       "occupationalStatus      Occupational Status of Fathers and their Sons\n",
       "precip                  Annual Precipitation in US Cities\n",
       "presidents              Quarterly Approval Ratings of US Presidents\n",
       "pressure                Vapor Pressure of Mercury as a Function of\n",
       "                        Temperature\n",
       "quakes                  Locations of Earthquakes off Fiji\n",
       "randu                   Random Numbers from Congruential Generator\n",
       "                        RANDU\n",
       "rivers                  Lengths of Major North American Rivers\n",
       "rock                    Measurements on Petroleum Rock Samples\n",
       "sleep                   Student's Sleep Data\n",
       "stack.loss (stackloss)\n",
       "                        Brownlee's Stack Loss Plant Data\n",
       "stack.x (stackloss)     Brownlee's Stack Loss Plant Data\n",
       "stackloss               Brownlee's Stack Loss Plant Data\n",
       "state.abb (state)       US State Facts and Figures\n",
       "state.area (state)      US State Facts and Figures\n",
       "state.center (state)    US State Facts and Figures\n",
       "state.division (state)\n",
       "                        US State Facts and Figures\n",
       "state.name (state)      US State Facts and Figures\n",
       "state.region (state)    US State Facts and Figures\n",
       "state.x77 (state)       US State Facts and Figures\n",
       "sunspot.month           Monthly Sunspot Data, from 1749 to \"Present\"\n",
       "sunspot.year            Yearly Sunspot Data, 1700-1988\n",
       "sunspots                Monthly Sunspot Numbers, 1749-1983\n",
       "swiss                   Swiss Fertility and Socioeconomic Indicators\n",
       "                        (1888) Data\n",
       "treering                Yearly Treering Data, -6000-1979\n",
       "trees                   Diameter, Height and Volume for Black Cherry\n",
       "                        Trees\n",
       "uspop                   Populations Recorded by the US Census\n",
       "volcano                 Topographic Information on Auckland's Maunga\n",
       "                        Whau Volcano\n",
       "warpbreaks              The Number of Breaks in Yarn during Weaving\n",
       "women                   Average Heights and Weights for American Women\n",
       "\n",
       "Use 'data(package = .packages(all.available = TRUE))'\n",
       "to list the data sets in all *available* packages."
      ]
     },
     "metadata": {},
     "output_type": "display_data"
    }
   ],
   "source": [
    "data()"
   ]
  },
  {
   "cell_type": "markdown",
   "id": "a3293814-bbd6-4833-8348-6630b1921f38",
   "metadata": {},
   "source": [
    "#### <center> Working with DataFrames </center> \n",
    "\n",
    "**Some common DataFrame functions**\n",
    "\n",
    "| Function | Description | \n",
    "|---- | ---- | \n",
    "|**`head(n)`** | Returns top n rows, default=6 |\n",
    "|**`tail(n)`** | Returns bottom n rows, default=6| \n",
    "|**`str()`** | Returns the structure on the DataFrame and data it contains.| \n",
    "|**`summary()`**| Returns statistical summary of all the columns in the DataFrame.|\n",
    "|**`data.frame()`**| Takes in vectors as arguments and makes them columns of a DataFrame. |\n",
    "|**`df.name$column.name`** | Returns the values of the specified column |\n",
    "|**`subset(x=df, subset=some condition)`** | Grabs subset of data frame based on condition |\n",
    "|**`order(some column)`** | Returns a vecor with the index elements in order (default=ascending)|"
   ]
  },
  {
   "cell_type": "code",
   "execution_count": 92,
   "id": "440c7d99-3bb3-4c27-b0a6-e2111b0a0221",
   "metadata": {},
   "outputs": [],
   "source": [
    "states <- state.x77"
   ]
  },
  {
   "cell_type": "code",
   "execution_count": 93,
   "id": "be949a79-a7e9-4aee-a4b8-6e8d2f57b324",
   "metadata": {},
   "outputs": [
    {
     "data": {
      "text/html": [
       "'matrix'"
      ],
      "text/latex": [
       "'matrix'"
      ],
      "text/markdown": [
       "'matrix'"
      ],
      "text/plain": [
       "[1] \"matrix\""
      ]
     },
     "metadata": {},
     "output_type": "display_data"
    }
   ],
   "source": [
    "class(states)"
   ]
  },
  {
   "cell_type": "code",
   "execution_count": 94,
   "id": "45316fed-e32f-4fc1-91f0-a0a5a97e97be",
   "metadata": {},
   "outputs": [
    {
     "data": {
      "text/html": [
       "<table>\n",
       "<thead><tr><th></th><th scope=col>Population</th><th scope=col>Income</th><th scope=col>Illiteracy</th><th scope=col>Life Exp</th><th scope=col>Murder</th><th scope=col>HS Grad</th><th scope=col>Frost</th><th scope=col>Area</th></tr></thead>\n",
       "<tbody>\n",
       "\t<tr><th scope=row>Alabama</th><td> 3615 </td><td>3624  </td><td>2.1   </td><td>69.05 </td><td>15.1  </td><td>41.3  </td><td> 20   </td><td> 50708</td></tr>\n",
       "\t<tr><th scope=row>Alaska</th><td>  365 </td><td>6315  </td><td>1.5   </td><td>69.31 </td><td>11.3  </td><td>66.7  </td><td>152   </td><td>566432</td></tr>\n",
       "\t<tr><th scope=row>Arizona</th><td> 2212 </td><td>4530  </td><td>1.8   </td><td>70.55 </td><td> 7.8  </td><td>58.1  </td><td> 15   </td><td>113417</td></tr>\n",
       "\t<tr><th scope=row>Arkansas</th><td> 2110 </td><td>3378  </td><td>1.9   </td><td>70.66 </td><td>10.1  </td><td>39.9  </td><td> 65   </td><td> 51945</td></tr>\n",
       "\t<tr><th scope=row>California</th><td>21198 </td><td>5114  </td><td>1.1   </td><td>71.71 </td><td>10.3  </td><td>62.6  </td><td> 20   </td><td>156361</td></tr>\n",
       "</tbody>\n",
       "</table>\n"
      ],
      "text/latex": [
       "\\begin{tabular}{r|llllllll}\n",
       "  & Population & Income & Illiteracy & Life Exp & Murder & HS Grad & Frost & Area\\\\\n",
       "\\hline\n",
       "\tAlabama &  3615  & 3624   & 2.1    & 69.05  & 15.1   & 41.3   &  20    &  50708\\\\\n",
       "\tAlaska &   365  & 6315   & 1.5    & 69.31  & 11.3   & 66.7   & 152    & 566432\\\\\n",
       "\tArizona &  2212  & 4530   & 1.8    & 70.55  &  7.8   & 58.1   &  15    & 113417\\\\\n",
       "\tArkansas &  2110  & 3378   & 1.9    & 70.66  & 10.1   & 39.9   &  65    &  51945\\\\\n",
       "\tCalifornia & 21198  & 5114   & 1.1    & 71.71  & 10.3   & 62.6   &  20    & 156361\\\\\n",
       "\\end{tabular}\n"
      ],
      "text/markdown": [
       "\n",
       "| <!--/--> | Population | Income | Illiteracy | Life Exp | Murder | HS Grad | Frost | Area |\n",
       "|---|---|---|---|---|---|---|---|---|\n",
       "| Alabama |  3615  | 3624   | 2.1    | 69.05  | 15.1   | 41.3   |  20    |  50708 |\n",
       "| Alaska |   365  | 6315   | 1.5    | 69.31  | 11.3   | 66.7   | 152    | 566432 |\n",
       "| Arizona |  2212  | 4530   | 1.8    | 70.55  |  7.8   | 58.1   |  15    | 113417 |\n",
       "| Arkansas |  2110  | 3378   | 1.9    | 70.66  | 10.1   | 39.9   |  65    |  51945 |\n",
       "| California | 21198  | 5114   | 1.1    | 71.71  | 10.3   | 62.6   |  20    | 156361 |\n",
       "\n"
      ],
      "text/plain": [
       "           Population Income Illiteracy Life Exp Murder HS Grad Frost Area  \n",
       "Alabama     3615      3624   2.1        69.05    15.1   41.3     20    50708\n",
       "Alaska       365      6315   1.5        69.31    11.3   66.7    152   566432\n",
       "Arizona     2212      4530   1.8        70.55     7.8   58.1     15   113417\n",
       "Arkansas    2110      3378   1.9        70.66    10.1   39.9     65    51945\n",
       "California 21198      5114   1.1        71.71    10.3   62.6     20   156361"
      ]
     },
     "metadata": {},
     "output_type": "display_data"
    }
   ],
   "source": [
    "head(x=states, n=5)"
   ]
  },
  {
   "cell_type": "code",
   "execution_count": 95,
   "id": "bed0ec44-9444-4524-9f86-4496cad3d549",
   "metadata": {},
   "outputs": [
    {
     "data": {
      "text/html": [
       "<table>\n",
       "<thead><tr><th></th><th scope=col>Population</th><th scope=col>Income</th><th scope=col>Illiteracy</th><th scope=col>Life Exp</th><th scope=col>Murder</th><th scope=col>HS Grad</th><th scope=col>Frost</th><th scope=col>Area</th></tr></thead>\n",
       "<tbody>\n",
       "\t<tr><th scope=row>Virginia</th><td>4981 </td><td>4701 </td><td>1.4  </td><td>70.08</td><td>9.5  </td><td>47.8 </td><td> 85  </td><td>39780</td></tr>\n",
       "\t<tr><th scope=row>Washington</th><td>3559 </td><td>4864 </td><td>0.6  </td><td>71.72</td><td>4.3  </td><td>63.5 </td><td> 32  </td><td>66570</td></tr>\n",
       "\t<tr><th scope=row>West Virginia</th><td>1799 </td><td>3617 </td><td>1.4  </td><td>69.48</td><td>6.7  </td><td>41.6 </td><td>100  </td><td>24070</td></tr>\n",
       "\t<tr><th scope=row>Wisconsin</th><td>4589 </td><td>4468 </td><td>0.7  </td><td>72.48</td><td>3.0  </td><td>54.5 </td><td>149  </td><td>54464</td></tr>\n",
       "\t<tr><th scope=row>Wyoming</th><td> 376 </td><td>4566 </td><td>0.6  </td><td>70.29</td><td>6.9  </td><td>62.9 </td><td>173  </td><td>97203</td></tr>\n",
       "</tbody>\n",
       "</table>\n"
      ],
      "text/latex": [
       "\\begin{tabular}{r|llllllll}\n",
       "  & Population & Income & Illiteracy & Life Exp & Murder & HS Grad & Frost & Area\\\\\n",
       "\\hline\n",
       "\tVirginia & 4981  & 4701  & 1.4   & 70.08 & 9.5   & 47.8  &  85   & 39780\\\\\n",
       "\tWashington & 3559  & 4864  & 0.6   & 71.72 & 4.3   & 63.5  &  32   & 66570\\\\\n",
       "\tWest Virginia & 1799  & 3617  & 1.4   & 69.48 & 6.7   & 41.6  & 100   & 24070\\\\\n",
       "\tWisconsin & 4589  & 4468  & 0.7   & 72.48 & 3.0   & 54.5  & 149   & 54464\\\\\n",
       "\tWyoming &  376  & 4566  & 0.6   & 70.29 & 6.9   & 62.9  & 173   & 97203\\\\\n",
       "\\end{tabular}\n"
      ],
      "text/markdown": [
       "\n",
       "| <!--/--> | Population | Income | Illiteracy | Life Exp | Murder | HS Grad | Frost | Area |\n",
       "|---|---|---|---|---|---|---|---|---|\n",
       "| Virginia | 4981  | 4701  | 1.4   | 70.08 | 9.5   | 47.8  |  85   | 39780 |\n",
       "| Washington | 3559  | 4864  | 0.6   | 71.72 | 4.3   | 63.5  |  32   | 66570 |\n",
       "| West Virginia | 1799  | 3617  | 1.4   | 69.48 | 6.7   | 41.6  | 100   | 24070 |\n",
       "| Wisconsin | 4589  | 4468  | 0.7   | 72.48 | 3.0   | 54.5  | 149   | 54464 |\n",
       "| Wyoming |  376  | 4566  | 0.6   | 70.29 | 6.9   | 62.9  | 173   | 97203 |\n",
       "\n"
      ],
      "text/plain": [
       "              Population Income Illiteracy Life Exp Murder HS Grad Frost Area \n",
       "Virginia      4981       4701   1.4        70.08    9.5    47.8     85   39780\n",
       "Washington    3559       4864   0.6        71.72    4.3    63.5     32   66570\n",
       "West Virginia 1799       3617   1.4        69.48    6.7    41.6    100   24070\n",
       "Wisconsin     4589       4468   0.7        72.48    3.0    54.5    149   54464\n",
       "Wyoming        376       4566   0.6        70.29    6.9    62.9    173   97203"
      ]
     },
     "metadata": {},
     "output_type": "display_data"
    }
   ],
   "source": [
    "tail(x=states, n=5)"
   ]
  },
  {
   "cell_type": "code",
   "execution_count": 96,
   "id": "1cf11ea6-cdc4-49c5-bb68-32fa0453d9e0",
   "metadata": {},
   "outputs": [
    {
     "name": "stdout",
     "output_type": "stream",
     "text": [
      " num [1:50, 1:8] 3615 365 2212 2110 21198 ...\n",
      " - attr(*, \"dimnames\")=List of 2\n",
      "  ..$ : chr [1:50] \"Alabama\" \"Alaska\" \"Arizona\" \"Arkansas\" ...\n",
      "  ..$ : chr [1:8] \"Population\" \"Income\" \"Illiteracy\" \"Life Exp\" ...\n"
     ]
    }
   ],
   "source": [
    "str(object=states)"
   ]
  },
  {
   "cell_type": "code",
   "execution_count": 97,
   "id": "3a5fbeb0-c84a-4a2d-9e0c-e58618dacf55",
   "metadata": {},
   "outputs": [
    {
     "data": {
      "text/plain": [
       "   Population        Income       Illiteracy       Life Exp    \n",
       " Min.   :  365   Min.   :3098   Min.   :0.500   Min.   :67.96  \n",
       " 1st Qu.: 1080   1st Qu.:3993   1st Qu.:0.625   1st Qu.:70.12  \n",
       " Median : 2838   Median :4519   Median :0.950   Median :70.67  \n",
       " Mean   : 4246   Mean   :4436   Mean   :1.170   Mean   :70.88  \n",
       " 3rd Qu.: 4968   3rd Qu.:4814   3rd Qu.:1.575   3rd Qu.:71.89  \n",
       " Max.   :21198   Max.   :6315   Max.   :2.800   Max.   :73.60  \n",
       "     Murder          HS Grad          Frost             Area       \n",
       " Min.   : 1.400   Min.   :37.80   Min.   :  0.00   Min.   :  1049  \n",
       " 1st Qu.: 4.350   1st Qu.:48.05   1st Qu.: 66.25   1st Qu.: 36985  \n",
       " Median : 6.850   Median :53.25   Median :114.50   Median : 54277  \n",
       " Mean   : 7.378   Mean   :53.11   Mean   :104.46   Mean   : 70736  \n",
       " 3rd Qu.:10.675   3rd Qu.:59.15   3rd Qu.:139.75   3rd Qu.: 81163  \n",
       " Max.   :15.100   Max.   :67.30   Max.   :188.00   Max.   :566432  "
      ]
     },
     "metadata": {},
     "output_type": "display_data"
    }
   ],
   "source": [
    "summary(states)"
   ]
  },
  {
   "cell_type": "markdown",
   "id": "313bd117-c594-4731-afb1-b4cae0c8dbb8",
   "metadata": {},
   "source": [
    "#### Creating a DataFrame"
   ]
  },
  {
   "cell_type": "code",
   "execution_count": 98,
   "id": "9c18d709-c840-46fb-ac3c-ba61462d9d83",
   "metadata": {},
   "outputs": [],
   "source": [
    "days <- c(\"Mon\", \"Tue\", \"Wed\", \"Thu\", \"Fri\")\n",
    "temp <- c(22.2, 21.0, 23.0, 24.3, 25.0)\n",
    "rain <- c(TRUE, TRUE, FALSE, FALSE, TRUE)"
   ]
  },
  {
   "cell_type": "code",
   "execution_count": 99,
   "id": "3c1acab8-922c-4644-921f-8553f4a9308e",
   "metadata": {},
   "outputs": [],
   "source": [
    "df <- data.frame(days, temp, rain)"
   ]
  },
  {
   "cell_type": "code",
   "execution_count": 100,
   "id": "a2a8942b-9e99-4638-a1fa-cdeaeefb456e",
   "metadata": {},
   "outputs": [
    {
     "data": {
      "text/html": [
       "<table>\n",
       "<thead><tr><th scope=col>days</th><th scope=col>temp</th><th scope=col>rain</th></tr></thead>\n",
       "<tbody>\n",
       "\t<tr><td>Mon  </td><td>22.2 </td><td> TRUE</td></tr>\n",
       "\t<tr><td>Tue  </td><td>21.0 </td><td> TRUE</td></tr>\n",
       "\t<tr><td>Wed  </td><td>23.0 </td><td>FALSE</td></tr>\n",
       "\t<tr><td>Thu  </td><td>24.3 </td><td>FALSE</td></tr>\n",
       "\t<tr><td>Fri  </td><td>25.0 </td><td> TRUE</td></tr>\n",
       "</tbody>\n",
       "</table>\n"
      ],
      "text/latex": [
       "\\begin{tabular}{r|lll}\n",
       " days & temp & rain\\\\\n",
       "\\hline\n",
       "\t Mon   & 22.2  &  TRUE\\\\\n",
       "\t Tue   & 21.0  &  TRUE\\\\\n",
       "\t Wed   & 23.0  & FALSE\\\\\n",
       "\t Thu   & 24.3  & FALSE\\\\\n",
       "\t Fri   & 25.0  &  TRUE\\\\\n",
       "\\end{tabular}\n"
      ],
      "text/markdown": [
       "\n",
       "| days | temp | rain |\n",
       "|---|---|---|\n",
       "| Mon   | 22.2  |  TRUE |\n",
       "| Tue   | 21.0  |  TRUE |\n",
       "| Wed   | 23.0  | FALSE |\n",
       "| Thu   | 24.3  | FALSE |\n",
       "| Fri   | 25.0  |  TRUE |\n",
       "\n"
      ],
      "text/plain": [
       "  days temp rain \n",
       "1 Mon  22.2  TRUE\n",
       "2 Tue  21.0  TRUE\n",
       "3 Wed  23.0 FALSE\n",
       "4 Thu  24.3 FALSE\n",
       "5 Fri  25.0  TRUE"
      ]
     },
     "metadata": {},
     "output_type": "display_data"
    }
   ],
   "source": [
    "df"
   ]
  },
  {
   "cell_type": "markdown",
   "id": "9a2dd697-bb65-438e-9431-f4f359e2ec39",
   "metadata": {},
   "source": [
    "#### <center> Data Frame Selection and Indexing </center> \n",
    "\n",
    "* We can select elements from within a Data Frame using bracket notation. \n",
    "\n",
    "**Select using index location**"
   ]
  },
  {
   "cell_type": "code",
   "execution_count": 101,
   "id": "38665a70-62c7-4cd0-bbb0-e0c4c2f6bde2",
   "metadata": {},
   "outputs": [
    {
     "data": {
      "text/html": [
       "<table>\n",
       "<thead><tr><th scope=col>days</th><th scope=col>temp</th><th scope=col>rain</th></tr></thead>\n",
       "<tbody>\n",
       "\t<tr><td>Mon </td><td>22.2</td><td>TRUE</td></tr>\n",
       "</tbody>\n",
       "</table>\n"
      ],
      "text/latex": [
       "\\begin{tabular}{r|lll}\n",
       " days & temp & rain\\\\\n",
       "\\hline\n",
       "\t Mon  & 22.2 & TRUE\\\\\n",
       "\\end{tabular}\n"
      ],
      "text/markdown": [
       "\n",
       "| days | temp | rain |\n",
       "|---|---|---|\n",
       "| Mon  | 22.2 | TRUE |\n",
       "\n"
      ],
      "text/plain": [
       "  days temp rain\n",
       "1 Mon  22.2 TRUE"
      ]
     },
     "metadata": {},
     "output_type": "display_data"
    }
   ],
   "source": [
    "df[1,] # Select the first row"
   ]
  },
  {
   "cell_type": "code",
   "execution_count": 102,
   "id": "34ee971a-a8fe-4efa-abc4-5c8427670bf5",
   "metadata": {},
   "outputs": [
    {
     "data": {
      "text/html": [
       "<ol class=list-inline>\n",
       "\t<li>Mon</li>\n",
       "\t<li>Tue</li>\n",
       "\t<li>Wed</li>\n",
       "\t<li>Thu</li>\n",
       "\t<li>Fri</li>\n",
       "</ol>\n",
       "\n",
       "<details>\n",
       "\t<summary style=display:list-item;cursor:pointer>\n",
       "\t\t<strong>Levels</strong>:\n",
       "\t</summary>\n",
       "\t<ol class=list-inline>\n",
       "\t\t<li>'Fri'</li>\n",
       "\t\t<li>'Mon'</li>\n",
       "\t\t<li>'Thu'</li>\n",
       "\t\t<li>'Tue'</li>\n",
       "\t\t<li>'Wed'</li>\n",
       "\t</ol>\n",
       "</details>"
      ],
      "text/latex": [
       "\\begin{enumerate*}\n",
       "\\item Mon\n",
       "\\item Tue\n",
       "\\item Wed\n",
       "\\item Thu\n",
       "\\item Fri\n",
       "\\end{enumerate*}\n",
       "\n",
       "\\emph{Levels}: \\begin{enumerate*}\n",
       "\\item 'Fri'\n",
       "\\item 'Mon'\n",
       "\\item 'Thu'\n",
       "\\item 'Tue'\n",
       "\\item 'Wed'\n",
       "\\end{enumerate*}\n"
      ],
      "text/markdown": [
       "1. Mon\n",
       "2. Tue\n",
       "3. Wed\n",
       "4. Thu\n",
       "5. Fri\n",
       "\n",
       "\n",
       "\n",
       "**Levels**: 1. 'Fri'\n",
       "2. 'Mon'\n",
       "3. 'Thu'\n",
       "4. 'Tue'\n",
       "5. 'Wed'\n",
       "\n",
       "\n"
      ],
      "text/plain": [
       "[1] Mon Tue Wed Thu Fri\n",
       "Levels: Fri Mon Thu Tue Wed"
      ]
     },
     "metadata": {},
     "output_type": "display_data"
    }
   ],
   "source": [
    "df[,1] # Select the first column"
   ]
  },
  {
   "cell_type": "markdown",
   "id": "acae6e03-3cb0-4b67-81e3-3680c3bd1474",
   "metadata": {},
   "source": [
    "**Select using column names**"
   ]
  },
  {
   "cell_type": "code",
   "execution_count": 103,
   "id": "1bfa0f59-75bf-4007-a720-afcff0a0c08e",
   "metadata": {},
   "outputs": [
    {
     "data": {
      "text/html": [
       "<ol class=list-inline>\n",
       "\t<li>TRUE</li>\n",
       "\t<li>TRUE</li>\n",
       "\t<li>FALSE</li>\n",
       "\t<li>FALSE</li>\n",
       "\t<li>TRUE</li>\n",
       "</ol>\n"
      ],
      "text/latex": [
       "\\begin{enumerate*}\n",
       "\\item TRUE\n",
       "\\item TRUE\n",
       "\\item FALSE\n",
       "\\item FALSE\n",
       "\\item TRUE\n",
       "\\end{enumerate*}\n"
      ],
      "text/markdown": [
       "1. TRUE\n",
       "2. TRUE\n",
       "3. FALSE\n",
       "4. FALSE\n",
       "5. TRUE\n",
       "\n",
       "\n"
      ],
      "text/plain": [
       "[1]  TRUE  TRUE FALSE FALSE  TRUE"
      ]
     },
     "metadata": {},
     "output_type": "display_data"
    }
   ],
   "source": [
    "df[, \"rain\"] # Select rain data"
   ]
  },
  {
   "cell_type": "code",
   "execution_count": 105,
   "id": "5209d8a9-b0df-4b11-85fb-de077e217758",
   "metadata": {},
   "outputs": [
    {
     "data": {
      "text/html": [
       "<table>\n",
       "<thead><tr><th scope=col>days</th><th scope=col>temp</th></tr></thead>\n",
       "<tbody>\n",
       "\t<tr><td>Mon </td><td>22.2</td></tr>\n",
       "\t<tr><td>Tue </td><td>21.0</td></tr>\n",
       "\t<tr><td>Wed </td><td>23.0</td></tr>\n",
       "</tbody>\n",
       "</table>\n"
      ],
      "text/latex": [
       "\\begin{tabular}{r|ll}\n",
       " days & temp\\\\\n",
       "\\hline\n",
       "\t Mon  & 22.2\\\\\n",
       "\t Tue  & 21.0\\\\\n",
       "\t Wed  & 23.0\\\\\n",
       "\\end{tabular}\n"
      ],
      "text/markdown": [
       "\n",
       "| days | temp |\n",
       "|---|---|\n",
       "| Mon  | 22.2 |\n",
       "| Tue  | 21.0 |\n",
       "| Wed  | 23.0 |\n",
       "\n"
      ],
      "text/plain": [
       "  days temp\n",
       "1 Mon  22.2\n",
       "2 Tue  21.0\n",
       "3 Wed  23.0"
      ]
     },
     "metadata": {},
     "output_type": "display_data"
    }
   ],
   "source": [
    "df[1:3, c(\"days\", \"temp\")] # Select first three rows for days and temps columns"
   ]
  },
  {
   "cell_type": "markdown",
   "id": "f41e0a9a-3941-4251-9421-4579fd2fb37e",
   "metadata": {},
   "source": [
    "* To get the values of a particular column, you use the dollar sign after the dataframe. \n",
    "* General format: **`df.name$column.name`**"
   ]
  },
  {
   "cell_type": "code",
   "execution_count": 106,
   "id": "ca12a8d4-cdc6-456a-94f4-5da62f5b782c",
   "metadata": {},
   "outputs": [
    {
     "data": {
      "text/html": [
       "<ol class=list-inline>\n",
       "\t<li>TRUE</li>\n",
       "\t<li>TRUE</li>\n",
       "\t<li>FALSE</li>\n",
       "\t<li>FALSE</li>\n",
       "\t<li>TRUE</li>\n",
       "</ol>\n"
      ],
      "text/latex": [
       "\\begin{enumerate*}\n",
       "\\item TRUE\n",
       "\\item TRUE\n",
       "\\item FALSE\n",
       "\\item FALSE\n",
       "\\item TRUE\n",
       "\\end{enumerate*}\n"
      ],
      "text/markdown": [
       "1. TRUE\n",
       "2. TRUE\n",
       "3. FALSE\n",
       "4. FALSE\n",
       "5. TRUE\n",
       "\n",
       "\n"
      ],
      "text/plain": [
       "[1]  TRUE  TRUE FALSE FALSE  TRUE"
      ]
     },
     "metadata": {},
     "output_type": "display_data"
    }
   ],
   "source": [
    "df$rain # Get rain values"
   ]
  },
  {
   "cell_type": "code",
   "execution_count": 107,
   "id": "7ab3e562-2456-4643-ab9c-dc542c369802",
   "metadata": {},
   "outputs": [
    {
     "data": {
      "text/html": [
       "<ol class=list-inline>\n",
       "\t<li>Mon</li>\n",
       "\t<li>Tue</li>\n",
       "\t<li>Wed</li>\n",
       "\t<li>Thu</li>\n",
       "\t<li>Fri</li>\n",
       "</ol>\n",
       "\n",
       "<details>\n",
       "\t<summary style=display:list-item;cursor:pointer>\n",
       "\t\t<strong>Levels</strong>:\n",
       "\t</summary>\n",
       "\t<ol class=list-inline>\n",
       "\t\t<li>'Fri'</li>\n",
       "\t\t<li>'Mon'</li>\n",
       "\t\t<li>'Thu'</li>\n",
       "\t\t<li>'Tue'</li>\n",
       "\t\t<li>'Wed'</li>\n",
       "\t</ol>\n",
       "</details>"
      ],
      "text/latex": [
       "\\begin{enumerate*}\n",
       "\\item Mon\n",
       "\\item Tue\n",
       "\\item Wed\n",
       "\\item Thu\n",
       "\\item Fri\n",
       "\\end{enumerate*}\n",
       "\n",
       "\\emph{Levels}: \\begin{enumerate*}\n",
       "\\item 'Fri'\n",
       "\\item 'Mon'\n",
       "\\item 'Thu'\n",
       "\\item 'Tue'\n",
       "\\item 'Wed'\n",
       "\\end{enumerate*}\n"
      ],
      "text/markdown": [
       "1. Mon\n",
       "2. Tue\n",
       "3. Wed\n",
       "4. Thu\n",
       "5. Fri\n",
       "\n",
       "\n",
       "\n",
       "**Levels**: 1. 'Fri'\n",
       "2. 'Mon'\n",
       "3. 'Thu'\n",
       "4. 'Tue'\n",
       "5. 'Wed'\n",
       "\n",
       "\n"
      ],
      "text/plain": [
       "[1] Mon Tue Wed Thu Fri\n",
       "Levels: Fri Mon Thu Tue Wed"
      ]
     },
     "metadata": {},
     "output_type": "display_data"
    }
   ],
   "source": [
    "df$days"
   ]
  },
  {
   "cell_type": "markdown",
   "id": "0deba7f6-d2c1-45db-b9b0-0612e8347a61",
   "metadata": {},
   "source": [
    "* You can also use the bracket notation to return a data frame with the same information."
   ]
  },
  {
   "cell_type": "code",
   "execution_count": 108,
   "id": "a81474e7-f5b9-4eff-b83b-f6ea807f86aa",
   "metadata": {},
   "outputs": [
    {
     "data": {
      "text/html": [
       "<table>\n",
       "<thead><tr><th scope=col>rain</th></tr></thead>\n",
       "<tbody>\n",
       "\t<tr><td> TRUE</td></tr>\n",
       "\t<tr><td> TRUE</td></tr>\n",
       "\t<tr><td>FALSE</td></tr>\n",
       "\t<tr><td>FALSE</td></tr>\n",
       "\t<tr><td> TRUE</td></tr>\n",
       "</tbody>\n",
       "</table>\n"
      ],
      "text/latex": [
       "\\begin{tabular}{r|l}\n",
       " rain\\\\\n",
       "\\hline\n",
       "\t  TRUE\\\\\n",
       "\t  TRUE\\\\\n",
       "\t FALSE\\\\\n",
       "\t FALSE\\\\\n",
       "\t  TRUE\\\\\n",
       "\\end{tabular}\n"
      ],
      "text/markdown": [
       "\n",
       "| rain |\n",
       "|---|\n",
       "|  TRUE |\n",
       "|  TRUE |\n",
       "| FALSE |\n",
       "| FALSE |\n",
       "|  TRUE |\n",
       "\n"
      ],
      "text/plain": [
       "  rain \n",
       "1  TRUE\n",
       "2  TRUE\n",
       "3 FALSE\n",
       "4 FALSE\n",
       "5  TRUE"
      ]
     },
     "metadata": {},
     "output_type": "display_data"
    }
   ],
   "source": [
    "df[\"rain\"]"
   ]
  },
  {
   "cell_type": "code",
   "execution_count": 109,
   "id": "114375f5-71c6-41f4-b0c8-1e69294af429",
   "metadata": {},
   "outputs": [
    {
     "data": {
      "text/html": [
       "<table>\n",
       "<thead><tr><th scope=col>days</th></tr></thead>\n",
       "<tbody>\n",
       "\t<tr><td>Mon</td></tr>\n",
       "\t<tr><td>Tue</td></tr>\n",
       "\t<tr><td>Wed</td></tr>\n",
       "\t<tr><td>Thu</td></tr>\n",
       "\t<tr><td>Fri</td></tr>\n",
       "</tbody>\n",
       "</table>\n"
      ],
      "text/latex": [
       "\\begin{tabular}{r|l}\n",
       " days\\\\\n",
       "\\hline\n",
       "\t Mon\\\\\n",
       "\t Tue\\\\\n",
       "\t Wed\\\\\n",
       "\t Thu\\\\\n",
       "\t Fri\\\\\n",
       "\\end{tabular}\n"
      ],
      "text/markdown": [
       "\n",
       "| days |\n",
       "|---|\n",
       "| Mon |\n",
       "| Tue |\n",
       "| Wed |\n",
       "| Thu |\n",
       "| Fri |\n",
       "\n"
      ],
      "text/plain": [
       "  days\n",
       "1 Mon \n",
       "2 Tue \n",
       "3 Wed \n",
       "4 Thu \n",
       "5 Fri "
      ]
     },
     "metadata": {},
     "output_type": "display_data"
    }
   ],
   "source": [
    "df[\"days\"]"
   ]
  },
  {
   "cell_type": "markdown",
   "id": "a878fe4c-c0f5-437c-97db-3a3d0ce9e129",
   "metadata": {},
   "source": [
    "**Filtering with a subset condition** \n",
    "\n",
    "* The **`subset()`** function grabs a subset of values based on some condition. \n",
    "* Note that the function knows it is using column names in its argument, so it is not passed as a character string.\n",
    "* For example, to grab the days when it rained:"
   ]
  },
  {
   "cell_type": "code",
   "execution_count": 110,
   "id": "07396634-3f8f-4273-a453-9894854c2f11",
   "metadata": {},
   "outputs": [
    {
     "data": {
      "text/html": [
       "<table>\n",
       "<thead><tr><th></th><th scope=col>days</th><th scope=col>temp</th><th scope=col>rain</th></tr></thead>\n",
       "<tbody>\n",
       "\t<tr><th scope=row>1</th><td>Mon </td><td>22.2</td><td>TRUE</td></tr>\n",
       "\t<tr><th scope=row>2</th><td>Tue </td><td>21.0</td><td>TRUE</td></tr>\n",
       "\t<tr><th scope=row>5</th><td>Fri </td><td>25.0</td><td>TRUE</td></tr>\n",
       "</tbody>\n",
       "</table>\n"
      ],
      "text/latex": [
       "\\begin{tabular}{r|lll}\n",
       "  & days & temp & rain\\\\\n",
       "\\hline\n",
       "\t1 & Mon  & 22.2 & TRUE\\\\\n",
       "\t2 & Tue  & 21.0 & TRUE\\\\\n",
       "\t5 & Fri  & 25.0 & TRUE\\\\\n",
       "\\end{tabular}\n"
      ],
      "text/markdown": [
       "\n",
       "| <!--/--> | days | temp | rain |\n",
       "|---|---|---|---|\n",
       "| 1 | Mon  | 22.2 | TRUE |\n",
       "| 2 | Tue  | 21.0 | TRUE |\n",
       "| 5 | Fri  | 25.0 | TRUE |\n",
       "\n"
      ],
      "text/plain": [
       "  days temp rain\n",
       "1 Mon  22.2 TRUE\n",
       "2 Tue  21.0 TRUE\n",
       "5 Fri  25.0 TRUE"
      ]
     },
     "metadata": {},
     "output_type": "display_data"
    }
   ],
   "source": [
    "subset(x=df, subset=(rain==TRUE)) # Grab data for the days it rained"
   ]
  },
  {
   "cell_type": "code",
   "execution_count": 111,
   "id": "3081e2f7-4d8f-4b4d-8cdf-9ac0cdd6fe62",
   "metadata": {},
   "outputs": [
    {
     "data": {
      "text/html": [
       "<table>\n",
       "<thead><tr><th></th><th scope=col>days</th><th scope=col>temp</th><th scope=col>rain</th></tr></thead>\n",
       "<tbody>\n",
       "\t<tr><th scope=row>4</th><td>Thu  </td><td>24.3 </td><td>FALSE</td></tr>\n",
       "\t<tr><th scope=row>5</th><td>Fri  </td><td>25.0 </td><td> TRUE</td></tr>\n",
       "</tbody>\n",
       "</table>\n"
      ],
      "text/latex": [
       "\\begin{tabular}{r|lll}\n",
       "  & days & temp & rain\\\\\n",
       "\\hline\n",
       "\t4 & Thu   & 24.3  & FALSE\\\\\n",
       "\t5 & Fri   & 25.0  &  TRUE\\\\\n",
       "\\end{tabular}\n"
      ],
      "text/markdown": [
       "\n",
       "| <!--/--> | days | temp | rain |\n",
       "|---|---|---|---|\n",
       "| 4 | Thu   | 24.3  | FALSE |\n",
       "| 5 | Fri   | 25.0  |  TRUE |\n",
       "\n"
      ],
      "text/plain": [
       "  days temp rain \n",
       "4 Thu  24.3 FALSE\n",
       "5 Fri  25.0  TRUE"
      ]
     },
     "metadata": {},
     "output_type": "display_data"
    }
   ],
   "source": [
    "subset(x=df, subset=(temp>23)) # Grab data for the days temp > 23"
   ]
  },
  {
   "cell_type": "markdown",
   "id": "e958e90d-b08c-4f2e-a384-40873d2bd18f",
   "metadata": {},
   "source": [
    "**Ordering a Data Frame**\n",
    "\n",
    "* **`order(some column)`** Returns a vecor with the index elements in order (default=ascending)"
   ]
  },
  {
   "cell_type": "code",
   "execution_count": 112,
   "id": "c14e1fa6-4eff-40dd-9287-bd87e3bea7fd",
   "metadata": {},
   "outputs": [
    {
     "data": {
      "text/html": [
       "<ol class=list-inline>\n",
       "\t<li>2</li>\n",
       "\t<li>1</li>\n",
       "\t<li>3</li>\n",
       "\t<li>4</li>\n",
       "\t<li>5</li>\n",
       "</ol>\n"
      ],
      "text/latex": [
       "\\begin{enumerate*}\n",
       "\\item 2\n",
       "\\item 1\n",
       "\\item 3\n",
       "\\item 4\n",
       "\\item 5\n",
       "\\end{enumerate*}\n"
      ],
      "text/markdown": [
       "1. 2\n",
       "2. 1\n",
       "3. 3\n",
       "4. 4\n",
       "5. 5\n",
       "\n",
       "\n"
      ],
      "text/plain": [
       "[1] 2 1 3 4 5"
      ]
     },
     "metadata": {},
     "output_type": "display_data"
    }
   ],
   "source": [
    "order(df[\"temp\"])"
   ]
  },
  {
   "cell_type": "markdown",
   "id": "00520d55-2b17-4202-8372-5b99dae6a082",
   "metadata": {},
   "source": [
    "* Then the data frame uses the order to sort accordingly"
   ]
  },
  {
   "cell_type": "code",
   "execution_count": 113,
   "id": "621ab23d-7c1e-4d4f-a730-370262f5f225",
   "metadata": {},
   "outputs": [
    {
     "data": {
      "text/html": [
       "<table>\n",
       "<thead><tr><th></th><th scope=col>days</th><th scope=col>temp</th><th scope=col>rain</th></tr></thead>\n",
       "<tbody>\n",
       "\t<tr><th scope=row>2</th><td>Tue  </td><td>21.0 </td><td> TRUE</td></tr>\n",
       "\t<tr><th scope=row>1</th><td>Mon  </td><td>22.2 </td><td> TRUE</td></tr>\n",
       "\t<tr><th scope=row>3</th><td>Wed  </td><td>23.0 </td><td>FALSE</td></tr>\n",
       "\t<tr><th scope=row>4</th><td>Thu  </td><td>24.3 </td><td>FALSE</td></tr>\n",
       "\t<tr><th scope=row>5</th><td>Fri  </td><td>25.0 </td><td> TRUE</td></tr>\n",
       "</tbody>\n",
       "</table>\n"
      ],
      "text/latex": [
       "\\begin{tabular}{r|lll}\n",
       "  & days & temp & rain\\\\\n",
       "\\hline\n",
       "\t2 & Tue   & 21.0  &  TRUE\\\\\n",
       "\t1 & Mon   & 22.2  &  TRUE\\\\\n",
       "\t3 & Wed   & 23.0  & FALSE\\\\\n",
       "\t4 & Thu   & 24.3  & FALSE\\\\\n",
       "\t5 & Fri   & 25.0  &  TRUE\\\\\n",
       "\\end{tabular}\n"
      ],
      "text/markdown": [
       "\n",
       "| <!--/--> | days | temp | rain |\n",
       "|---|---|---|---|\n",
       "| 2 | Tue   | 21.0  |  TRUE |\n",
       "| 1 | Mon   | 22.2  |  TRUE |\n",
       "| 3 | Wed   | 23.0  | FALSE |\n",
       "| 4 | Thu   | 24.3  | FALSE |\n",
       "| 5 | Fri   | 25.0  |  TRUE |\n",
       "\n"
      ],
      "text/plain": [
       "  days temp rain \n",
       "2 Tue  21.0  TRUE\n",
       "1 Mon  22.2  TRUE\n",
       "3 Wed  23.0 FALSE\n",
       "4 Thu  24.3 FALSE\n",
       "5 Fri  25.0  TRUE"
      ]
     },
     "metadata": {},
     "output_type": "display_data"
    }
   ],
   "source": [
    "df[order(df[\"temp\"]),]"
   ]
  },
  {
   "cell_type": "code",
   "execution_count": 114,
   "id": "5adf2640-8d12-4f1a-b86c-fc35e8215c2a",
   "metadata": {},
   "outputs": [
    {
     "data": {
      "text/html": [
       "<table>\n",
       "<thead><tr><th></th><th scope=col>days</th><th scope=col>temp</th><th scope=col>rain</th></tr></thead>\n",
       "<tbody>\n",
       "\t<tr><th scope=row>5</th><td>Fri  </td><td>25.0 </td><td> TRUE</td></tr>\n",
       "\t<tr><th scope=row>4</th><td>Thu  </td><td>24.3 </td><td>FALSE</td></tr>\n",
       "\t<tr><th scope=row>3</th><td>Wed  </td><td>23.0 </td><td>FALSE</td></tr>\n",
       "\t<tr><th scope=row>1</th><td>Mon  </td><td>22.2 </td><td> TRUE</td></tr>\n",
       "\t<tr><th scope=row>2</th><td>Tue  </td><td>21.0 </td><td> TRUE</td></tr>\n",
       "</tbody>\n",
       "</table>\n"
      ],
      "text/latex": [
       "\\begin{tabular}{r|lll}\n",
       "  & days & temp & rain\\\\\n",
       "\\hline\n",
       "\t5 & Fri   & 25.0  &  TRUE\\\\\n",
       "\t4 & Thu   & 24.3  & FALSE\\\\\n",
       "\t3 & Wed   & 23.0  & FALSE\\\\\n",
       "\t1 & Mon   & 22.2  &  TRUE\\\\\n",
       "\t2 & Tue   & 21.0  &  TRUE\\\\\n",
       "\\end{tabular}\n"
      ],
      "text/markdown": [
       "\n",
       "| <!--/--> | days | temp | rain |\n",
       "|---|---|---|---|\n",
       "| 5 | Fri   | 25.0  |  TRUE |\n",
       "| 4 | Thu   | 24.3  | FALSE |\n",
       "| 3 | Wed   | 23.0  | FALSE |\n",
       "| 1 | Mon   | 22.2  |  TRUE |\n",
       "| 2 | Tue   | 21.0  |  TRUE |\n",
       "\n"
      ],
      "text/plain": [
       "  days temp rain \n",
       "5 Fri  25.0  TRUE\n",
       "4 Thu  24.3 FALSE\n",
       "3 Wed  23.0 FALSE\n",
       "1 Mon  22.2  TRUE\n",
       "2 Tue  21.0  TRUE"
      ]
     },
     "metadata": {},
     "output_type": "display_data"
    }
   ],
   "source": [
    "df[order(-df[\"temp\"]),] # Orders based on temp in descending order"
   ]
  },
  {
   "cell_type": "markdown",
   "id": "6c653da4-76a9-44cd-b6c1-cee40d571a6a",
   "metadata": {},
   "source": [
    "* The alternative column selection method also works."
   ]
  },
  {
   "cell_type": "code",
   "execution_count": 115,
   "id": "513e1ed8-892e-44b5-b2d4-e2089e6f19af",
   "metadata": {},
   "outputs": [
    {
     "data": {
      "text/html": [
       "<table>\n",
       "<thead><tr><th></th><th scope=col>days</th><th scope=col>temp</th><th scope=col>rain</th></tr></thead>\n",
       "<tbody>\n",
       "\t<tr><th scope=row>2</th><td>Tue  </td><td>21.0 </td><td> TRUE</td></tr>\n",
       "\t<tr><th scope=row>1</th><td>Mon  </td><td>22.2 </td><td> TRUE</td></tr>\n",
       "\t<tr><th scope=row>3</th><td>Wed  </td><td>23.0 </td><td>FALSE</td></tr>\n",
       "\t<tr><th scope=row>4</th><td>Thu  </td><td>24.3 </td><td>FALSE</td></tr>\n",
       "\t<tr><th scope=row>5</th><td>Fri  </td><td>25.0 </td><td> TRUE</td></tr>\n",
       "</tbody>\n",
       "</table>\n"
      ],
      "text/latex": [
       "\\begin{tabular}{r|lll}\n",
       "  & days & temp & rain\\\\\n",
       "\\hline\n",
       "\t2 & Tue   & 21.0  &  TRUE\\\\\n",
       "\t1 & Mon   & 22.2  &  TRUE\\\\\n",
       "\t3 & Wed   & 23.0  & FALSE\\\\\n",
       "\t4 & Thu   & 24.3  & FALSE\\\\\n",
       "\t5 & Fri   & 25.0  &  TRUE\\\\\n",
       "\\end{tabular}\n"
      ],
      "text/markdown": [
       "\n",
       "| <!--/--> | days | temp | rain |\n",
       "|---|---|---|---|\n",
       "| 2 | Tue   | 21.0  |  TRUE |\n",
       "| 1 | Mon   | 22.2  |  TRUE |\n",
       "| 3 | Wed   | 23.0  | FALSE |\n",
       "| 4 | Thu   | 24.3  | FALSE |\n",
       "| 5 | Fri   | 25.0  |  TRUE |\n",
       "\n"
      ],
      "text/plain": [
       "  days temp rain \n",
       "2 Tue  21.0  TRUE\n",
       "1 Mon  22.2  TRUE\n",
       "3 Wed  23.0 FALSE\n",
       "4 Thu  24.3 FALSE\n",
       "5 Fri  25.0  TRUE"
      ]
     },
     "metadata": {},
     "output_type": "display_data"
    }
   ],
   "source": [
    "df[order(df$temp),] "
   ]
  },
  {
   "cell_type": "markdown",
   "id": "0d5962d4-c854-4142-a93b-a29c069b4ab1",
   "metadata": {},
   "source": [
    "#### <center> Overview of Data Frame Operations </center> \n",
    "\n",
    "* Data Frames are the workhorse of R, so in this lecture will will effectively be building a \"cheat sheet\" of common operations.\n",
    "\n",
    "**Creating an Empty Data Frame**"
   ]
  },
  {
   "cell_type": "code",
   "execution_count": 116,
   "id": "bc903f79-15f3-441c-bb11-3e03caf4eec9",
   "metadata": {},
   "outputs": [],
   "source": [
    "df <- data.frame() # Create an empty data frame"
   ]
  },
  {
   "cell_type": "markdown",
   "id": "d0bc953d-dfb4-496e-9010-34f3b0fa1017",
   "metadata": {},
   "source": [
    "**Create Data Frame from Vectors**"
   ]
  },
  {
   "cell_type": "code",
   "execution_count": 117,
   "id": "28b76555-821c-4ecf-a0b9-f55cdec0f2a9",
   "metadata": {},
   "outputs": [],
   "source": [
    "c1 <- 1:10          # Vector of integers\n",
    "c2 <- letters[1:10] # Vector of strings (first ten letters)"
   ]
  },
  {
   "cell_type": "markdown",
   "id": "703bc58c-7ebd-470d-aed3-9693daa35d63",
   "metadata": {},
   "source": [
    "Unlike previous example, here we are aslso renaming the column names as (column_name = vector)."
   ]
  },
  {
   "cell_type": "code",
   "execution_count": 118,
   "id": "2ace4046-d77b-4167-aa94-a5d25bbae35b",
   "metadata": {},
   "outputs": [
    {
     "data": {
      "text/html": [
       "<table>\n",
       "<thead><tr><th scope=col>col.name.1</th><th scope=col>col.name.2</th></tr></thead>\n",
       "<tbody>\n",
       "\t<tr><td> 1</td><td>a </td></tr>\n",
       "\t<tr><td> 2</td><td>b </td></tr>\n",
       "\t<tr><td> 3</td><td>c </td></tr>\n",
       "\t<tr><td> 4</td><td>d </td></tr>\n",
       "\t<tr><td> 5</td><td>e </td></tr>\n",
       "\t<tr><td> 6</td><td>f </td></tr>\n",
       "\t<tr><td> 7</td><td>g </td></tr>\n",
       "\t<tr><td> 8</td><td>h </td></tr>\n",
       "\t<tr><td> 9</td><td>i </td></tr>\n",
       "\t<tr><td>10</td><td>j </td></tr>\n",
       "</tbody>\n",
       "</table>\n"
      ],
      "text/latex": [
       "\\begin{tabular}{r|ll}\n",
       " col.name.1 & col.name.2\\\\\n",
       "\\hline\n",
       "\t  1 & a \\\\\n",
       "\t  2 & b \\\\\n",
       "\t  3 & c \\\\\n",
       "\t  4 & d \\\\\n",
       "\t  5 & e \\\\\n",
       "\t  6 & f \\\\\n",
       "\t  7 & g \\\\\n",
       "\t  8 & h \\\\\n",
       "\t  9 & i \\\\\n",
       "\t 10 & j \\\\\n",
       "\\end{tabular}\n"
      ],
      "text/markdown": [
       "\n",
       "| col.name.1 | col.name.2 |\n",
       "|---|---|\n",
       "|  1 | a  |\n",
       "|  2 | b  |\n",
       "|  3 | c  |\n",
       "|  4 | d  |\n",
       "|  5 | e  |\n",
       "|  6 | f  |\n",
       "|  7 | g  |\n",
       "|  8 | h  |\n",
       "|  9 | i  |\n",
       "| 10 | j  |\n",
       "\n"
      ],
      "text/plain": [
       "   col.name.1 col.name.2\n",
       "1   1         a         \n",
       "2   2         b         \n",
       "3   3         c         \n",
       "4   4         d         \n",
       "5   5         e         \n",
       "6   6         f         \n",
       "7   7         g         \n",
       "8   8         h         \n",
       "9   9         i         \n",
       "10 10         j         "
      ]
     },
     "metadata": {},
     "output_type": "display_data"
    }
   ],
   "source": [
    "df <- data.frame(col.name.1=c1, col.name.2=c2)\n",
    "df"
   ]
  },
  {
   "cell_type": "markdown",
   "id": "05d7ce9b-2e0e-4902-b4c2-8c429fef9d5c",
   "metadata": {},
   "source": [
    "**Importing and Exporting Data**"
   ]
  },
  {
   "cell_type": "code",
   "execution_count": 119,
   "id": "e6898115-e47d-4f9d-8014-0a18e70131a7",
   "metadata": {},
   "outputs": [],
   "source": [
    "write.csv(df, file=\"data.filename.csv\") # Write data frame into a csv file"
   ]
  },
  {
   "cell_type": "code",
   "execution_count": 120,
   "id": "cd338c63-bb33-468e-8660-df637829824b",
   "metadata": {},
   "outputs": [],
   "source": [
    "df2 <- read.csv(\"data.filename.csv\")  # Function to read csv files into a data frame"
   ]
  },
  {
   "cell_type": "markdown",
   "id": "5952770c-9d51-4742-934a-01434a745ca7",
   "metadata": {},
   "source": [
    "* Note that when saving a data frame you are also getting an additional column (named X here) which is the index.  \n",
    "* Many time the index is not just a number, it will be a field with useful information, like some id, name, etc."
   ]
  },
  {
   "cell_type": "code",
   "execution_count": 121,
   "id": "c4a84dd1-6121-4f56-a9ce-6b95620620c8",
   "metadata": {},
   "outputs": [
    {
     "data": {
      "text/html": [
       "<table>\n",
       "<thead><tr><th scope=col>X</th><th scope=col>col.name.1</th><th scope=col>col.name.2</th></tr></thead>\n",
       "<tbody>\n",
       "\t<tr><td> 1</td><td> 1</td><td>a </td></tr>\n",
       "\t<tr><td> 2</td><td> 2</td><td>b </td></tr>\n",
       "\t<tr><td> 3</td><td> 3</td><td>c </td></tr>\n",
       "\t<tr><td> 4</td><td> 4</td><td>d </td></tr>\n",
       "\t<tr><td> 5</td><td> 5</td><td>e </td></tr>\n",
       "\t<tr><td> 6</td><td> 6</td><td>f </td></tr>\n",
       "\t<tr><td> 7</td><td> 7</td><td>g </td></tr>\n",
       "\t<tr><td> 8</td><td> 8</td><td>h </td></tr>\n",
       "\t<tr><td> 9</td><td> 9</td><td>i </td></tr>\n",
       "\t<tr><td>10</td><td>10</td><td>j </td></tr>\n",
       "</tbody>\n",
       "</table>\n"
      ],
      "text/latex": [
       "\\begin{tabular}{r|lll}\n",
       " X & col.name.1 & col.name.2\\\\\n",
       "\\hline\n",
       "\t  1 &  1 & a \\\\\n",
       "\t  2 &  2 & b \\\\\n",
       "\t  3 &  3 & c \\\\\n",
       "\t  4 &  4 & d \\\\\n",
       "\t  5 &  5 & e \\\\\n",
       "\t  6 &  6 & f \\\\\n",
       "\t  7 &  7 & g \\\\\n",
       "\t  8 &  8 & h \\\\\n",
       "\t  9 &  9 & i \\\\\n",
       "\t 10 & 10 & j \\\\\n",
       "\\end{tabular}\n"
      ],
      "text/markdown": [
       "\n",
       "| X | col.name.1 | col.name.2 |\n",
       "|---|---|---|\n",
       "|  1 |  1 | a  |\n",
       "|  2 |  2 | b  |\n",
       "|  3 |  3 | c  |\n",
       "|  4 |  4 | d  |\n",
       "|  5 |  5 | e  |\n",
       "|  6 |  6 | f  |\n",
       "|  7 |  7 | g  |\n",
       "|  8 |  8 | h  |\n",
       "|  9 |  9 | i  |\n",
       "| 10 | 10 | j  |\n",
       "\n"
      ],
      "text/plain": [
       "   X  col.name.1 col.name.2\n",
       "1   1  1         a         \n",
       "2   2  2         b         \n",
       "3   3  3         c         \n",
       "4   4  4         d         \n",
       "5   5  5         e         \n",
       "6   6  6         f         \n",
       "7   7  7         g         \n",
       "8   8  8         h         \n",
       "9   9  9         i         \n",
       "10 10 10         j         "
      ]
     },
     "metadata": {},
     "output_type": "display_data"
    }
   ],
   "source": [
    "df2"
   ]
  },
  {
   "cell_type": "code",
   "execution_count": 122,
   "id": "f19c13f0-29a9-445b-82cd-327ff1a0a10c",
   "metadata": {},
   "outputs": [],
   "source": [
    "library(readxl) # R library needed for reading data from Excel files."
   ]
  },
  {
   "cell_type": "code",
   "execution_count": 123,
   "id": "2f5f1419-8ff8-4aa7-86bd-8c428da7eb52",
   "metadata": {},
   "outputs": [],
   "source": [
    "df3 <- read_excel(\"Sample-Sales-Data.xlsx\", sheet=\"Sheet1\") # Command to read Excel data"
   ]
  },
  {
   "cell_type": "markdown",
   "id": "b1577072-de62-4410-bec7-7d9ce453c9b2",
   "metadata": {},
   "source": [
    "#### Getting Information about Data Frames"
   ]
  },
  {
   "cell_type": "code",
   "execution_count": 124,
   "id": "04f531cc-71bd-4c27-9fe3-658f032b04e4",
   "metadata": {},
   "outputs": [
    {
     "data": {
      "text/html": [
       "10"
      ],
      "text/latex": [
       "10"
      ],
      "text/markdown": [
       "10"
      ],
      "text/plain": [
       "[1] 10"
      ]
     },
     "metadata": {},
     "output_type": "display_data"
    }
   ],
   "source": [
    "nrow(df) # No of rows"
   ]
  },
  {
   "cell_type": "code",
   "execution_count": 125,
   "id": "77fad493-6d94-4899-97b6-e9112441d088",
   "metadata": {},
   "outputs": [
    {
     "data": {
      "text/html": [
       "2"
      ],
      "text/latex": [
       "2"
      ],
      "text/markdown": [
       "2"
      ],
      "text/plain": [
       "[1] 2"
      ]
     },
     "metadata": {},
     "output_type": "display_data"
    }
   ],
   "source": [
    "ncol(df) # No of columns"
   ]
  },
  {
   "cell_type": "code",
   "execution_count": 126,
   "id": "206addd4-12fa-4dd8-b09e-f1ef1f55e274",
   "metadata": {},
   "outputs": [
    {
     "data": {
      "text/html": [
       "<ol class=list-inline>\n",
       "\t<li>'col.name.1'</li>\n",
       "\t<li>'col.name.2'</li>\n",
       "</ol>\n"
      ],
      "text/latex": [
       "\\begin{enumerate*}\n",
       "\\item 'col.name.1'\n",
       "\\item 'col.name.2'\n",
       "\\end{enumerate*}\n"
      ],
      "text/markdown": [
       "1. 'col.name.1'\n",
       "2. 'col.name.2'\n",
       "\n",
       "\n"
      ],
      "text/plain": [
       "[1] \"col.name.1\" \"col.name.2\""
      ]
     },
     "metadata": {},
     "output_type": "display_data"
    }
   ],
   "source": [
    "colnames(df) # Column names in a vector"
   ]
  },
  {
   "cell_type": "markdown",
   "id": "3ec2097d-c02e-47cd-854b-b79b8672b24d",
   "metadata": {},
   "source": [
    "* Note that getting a data frame's row names, it can be very large with large data frames. "
   ]
  },
  {
   "cell_type": "code",
   "execution_count": 127,
   "id": "6e889faa-2f1c-42f6-881d-d35824958a80",
   "metadata": {},
   "outputs": [
    {
     "data": {
      "text/html": [
       "<ol class=list-inline>\n",
       "\t<li>'1'</li>\n",
       "\t<li>'2'</li>\n",
       "\t<li>'3'</li>\n",
       "\t<li>'4'</li>\n",
       "\t<li>'5'</li>\n",
       "\t<li>'6'</li>\n",
       "\t<li>'7'</li>\n",
       "\t<li>'8'</li>\n",
       "\t<li>'9'</li>\n",
       "\t<li>'10'</li>\n",
       "</ol>\n"
      ],
      "text/latex": [
       "\\begin{enumerate*}\n",
       "\\item '1'\n",
       "\\item '2'\n",
       "\\item '3'\n",
       "\\item '4'\n",
       "\\item '5'\n",
       "\\item '6'\n",
       "\\item '7'\n",
       "\\item '8'\n",
       "\\item '9'\n",
       "\\item '10'\n",
       "\\end{enumerate*}\n"
      ],
      "text/markdown": [
       "1. '1'\n",
       "2. '2'\n",
       "3. '3'\n",
       "4. '4'\n",
       "5. '5'\n",
       "6. '6'\n",
       "7. '7'\n",
       "8. '8'\n",
       "9. '9'\n",
       "10. '10'\n",
       "\n",
       "\n"
      ],
      "text/plain": [
       " [1] \"1\"  \"2\"  \"3\"  \"4\"  \"5\"  \"6\"  \"7\"  \"8\"  \"9\"  \"10\""
      ]
     },
     "metadata": {},
     "output_type": "display_data"
    }
   ],
   "source": [
    "rownames(df) # Row names in a vector."
   ]
  },
  {
   "cell_type": "markdown",
   "id": "8726cf4b-6d5d-4d94-aee2-e0ae27d7fab7",
   "metadata": {},
   "source": [
    "* The **`str()`** function give information such as number of observations (rows), number of variables (columns), the column names and their data type and factors, etc. "
   ]
  },
  {
   "cell_type": "code",
   "execution_count": 128,
   "id": "67ae8b6e-06e9-4f37-a240-5cc3f5c76496",
   "metadata": {},
   "outputs": [
    {
     "name": "stdout",
     "output_type": "stream",
     "text": [
      "'data.frame':\t10 obs. of  2 variables:\n",
      " $ col.name.1: int  1 2 3 4 5 6 7 8 9 10\n",
      " $ col.name.2: Factor w/ 10 levels \"a\",\"b\",\"c\",\"d\",..: 1 2 3 4 5 6 7 8 9 10\n"
     ]
    }
   ],
   "source": [
    "str(df) # Information about the structure of a data frame"
   ]
  },
  {
   "cell_type": "code",
   "execution_count": 129,
   "id": "d408ad63-ad0e-450d-814a-3e2aca6cf96d",
   "metadata": {},
   "outputs": [
    {
     "data": {
      "text/plain": [
       "   col.name.1      col.name.2\n",
       " Min.   : 1.00   a      :1   \n",
       " 1st Qu.: 3.25   b      :1   \n",
       " Median : 5.50   c      :1   \n",
       " Mean   : 5.50   d      :1   \n",
       " 3rd Qu.: 7.75   e      :1   \n",
       " Max.   :10.00   f      :1   \n",
       "                 (Other):4   "
      ]
     },
     "metadata": {},
     "output_type": "display_data"
    }
   ],
   "source": [
    "summary(df) # Statistical Summary of a summary"
   ]
  },
  {
   "cell_type": "markdown",
   "id": "fb2866a5-7b0b-475d-b415-ae9b786cc554",
   "metadata": {},
   "source": [
    "#### Referencing Cells\n",
    "\n",
    "* You can think of the basics as using two sets of brackets for a single cell, and a single set of bracketsfor multiple cells."
   ]
  },
  {
   "cell_type": "markdown",
   "id": "b71c034f-f4ed-42e9-93c5-4d7bc9f90bda",
   "metadata": {},
   "source": [
    "**Referencing a single cell**"
   ]
  },
  {
   "cell_type": "code",
   "execution_count": 130,
   "id": "cf122137-4344-4cae-91f6-bd374dc233b0",
   "metadata": {},
   "outputs": [
    {
     "data": {
      "text/html": [
       "e\n",
       "<details>\n",
       "\t<summary style=display:list-item;cursor:pointer>\n",
       "\t\t<strong>Levels</strong>:\n",
       "\t</summary>\n",
       "\t<ol class=list-inline>\n",
       "\t\t<li>'a'</li>\n",
       "\t\t<li>'b'</li>\n",
       "\t\t<li>'c'</li>\n",
       "\t\t<li>'d'</li>\n",
       "\t\t<li>'e'</li>\n",
       "\t\t<li>'f'</li>\n",
       "\t\t<li>'g'</li>\n",
       "\t\t<li>'h'</li>\n",
       "\t\t<li>'i'</li>\n",
       "\t\t<li>'j'</li>\n",
       "\t</ol>\n",
       "</details>"
      ],
      "text/latex": [
       "e\n",
       "\\emph{Levels}: \\begin{enumerate*}\n",
       "\\item 'a'\n",
       "\\item 'b'\n",
       "\\item 'c'\n",
       "\\item 'd'\n",
       "\\item 'e'\n",
       "\\item 'f'\n",
       "\\item 'g'\n",
       "\\item 'h'\n",
       "\\item 'i'\n",
       "\\item 'j'\n",
       "\\end{enumerate*}\n"
      ],
      "text/markdown": [
       "e\n",
       "**Levels**: 1. 'a'\n",
       "2. 'b'\n",
       "3. 'c'\n",
       "4. 'd'\n",
       "5. 'e'\n",
       "6. 'f'\n",
       "7. 'g'\n",
       "8. 'h'\n",
       "9. 'i'\n",
       "10. 'j'\n",
       "\n",
       "\n"
      ],
      "text/plain": [
       "[1] e\n",
       "Levels: a b c d e f g h i j"
      ]
     },
     "metadata": {},
     "output_type": "display_data"
    }
   ],
   "source": [
    "vec <- df[[5,2]]\n",
    "vec"
   ]
  },
  {
   "cell_type": "code",
   "execution_count": 131,
   "id": "6de5a423-205c-46a1-a330-d56e5fd460fc",
   "metadata": {},
   "outputs": [
    {
     "data": {
      "text/html": [
       "e\n",
       "<details>\n",
       "\t<summary style=display:list-item;cursor:pointer>\n",
       "\t\t<strong>Levels</strong>:\n",
       "\t</summary>\n",
       "\t<ol class=list-inline>\n",
       "\t\t<li>'a'</li>\n",
       "\t\t<li>'b'</li>\n",
       "\t\t<li>'c'</li>\n",
       "\t\t<li>'d'</li>\n",
       "\t\t<li>'e'</li>\n",
       "\t\t<li>'f'</li>\n",
       "\t\t<li>'g'</li>\n",
       "\t\t<li>'h'</li>\n",
       "\t\t<li>'i'</li>\n",
       "\t\t<li>'j'</li>\n",
       "\t</ol>\n",
       "</details>"
      ],
      "text/latex": [
       "e\n",
       "\\emph{Levels}: \\begin{enumerate*}\n",
       "\\item 'a'\n",
       "\\item 'b'\n",
       "\\item 'c'\n",
       "\\item 'd'\n",
       "\\item 'e'\n",
       "\\item 'f'\n",
       "\\item 'g'\n",
       "\\item 'h'\n",
       "\\item 'i'\n",
       "\\item 'j'\n",
       "\\end{enumerate*}\n"
      ],
      "text/markdown": [
       "e\n",
       "**Levels**: 1. 'a'\n",
       "2. 'b'\n",
       "3. 'c'\n",
       "4. 'd'\n",
       "5. 'e'\n",
       "6. 'f'\n",
       "7. 'g'\n",
       "8. 'h'\n",
       "9. 'i'\n",
       "10. 'j'\n",
       "\n",
       "\n"
      ],
      "text/plain": [
       "[1] e\n",
       "Levels: a b c d e f g h i j"
      ]
     },
     "metadata": {},
     "output_type": "display_data"
    }
   ],
   "source": [
    "df[5,2]"
   ]
  },
  {
   "cell_type": "code",
   "execution_count": 132,
   "id": "abe3d790-e4e7-4f2b-8a25-86b0048f43e4",
   "metadata": {},
   "outputs": [
    {
     "data": {
      "text/html": [
       "e\n",
       "<details>\n",
       "\t<summary style=display:list-item;cursor:pointer>\n",
       "\t\t<strong>Levels</strong>:\n",
       "\t</summary>\n",
       "\t<ol class=list-inline>\n",
       "\t\t<li>'a'</li>\n",
       "\t\t<li>'b'</li>\n",
       "\t\t<li>'c'</li>\n",
       "\t\t<li>'d'</li>\n",
       "\t\t<li>'e'</li>\n",
       "\t\t<li>'f'</li>\n",
       "\t\t<li>'g'</li>\n",
       "\t\t<li>'h'</li>\n",
       "\t\t<li>'i'</li>\n",
       "\t\t<li>'j'</li>\n",
       "\t</ol>\n",
       "</details>"
      ],
      "text/latex": [
       "e\n",
       "\\emph{Levels}: \\begin{enumerate*}\n",
       "\\item 'a'\n",
       "\\item 'b'\n",
       "\\item 'c'\n",
       "\\item 'd'\n",
       "\\item 'e'\n",
       "\\item 'f'\n",
       "\\item 'g'\n",
       "\\item 'h'\n",
       "\\item 'i'\n",
       "\\item 'j'\n",
       "\\end{enumerate*}\n"
      ],
      "text/markdown": [
       "e\n",
       "**Levels**: 1. 'a'\n",
       "2. 'b'\n",
       "3. 'c'\n",
       "4. 'd'\n",
       "5. 'e'\n",
       "6. 'f'\n",
       "7. 'g'\n",
       "8. 'h'\n",
       "9. 'i'\n",
       "10. 'j'\n",
       "\n",
       "\n"
      ],
      "text/plain": [
       "[1] e\n",
       "Levels: a b c d e f g h i j"
      ]
     },
     "metadata": {},
     "output_type": "display_data"
    }
   ],
   "source": [
    "df[5, \"col.name.2\"]  # This is the most typically used in practice"
   ]
  },
  {
   "cell_type": "code",
   "execution_count": 133,
   "id": "167b461f-2005-4cfd-9b10-27c5cc2a732e",
   "metadata": {},
   "outputs": [],
   "source": [
    "df[[2, \"col.name.1\"]] <- 999 # Reassigning a single cell"
   ]
  },
  {
   "cell_type": "code",
   "execution_count": 134,
   "id": "36ebc022-0b68-42f6-8212-53696668fce7",
   "metadata": {},
   "outputs": [
    {
     "data": {
      "text/html": [
       "<table>\n",
       "<thead><tr><th scope=col>col.name.1</th><th scope=col>col.name.2</th></tr></thead>\n",
       "<tbody>\n",
       "\t<tr><td>  1</td><td>a  </td></tr>\n",
       "\t<tr><td>999</td><td>b  </td></tr>\n",
       "\t<tr><td>  3</td><td>c  </td></tr>\n",
       "\t<tr><td>  4</td><td>d  </td></tr>\n",
       "\t<tr><td>  5</td><td>e  </td></tr>\n",
       "\t<tr><td>  6</td><td>f  </td></tr>\n",
       "\t<tr><td>  7</td><td>g  </td></tr>\n",
       "\t<tr><td>  8</td><td>h  </td></tr>\n",
       "\t<tr><td>  9</td><td>i  </td></tr>\n",
       "\t<tr><td> 10</td><td>j  </td></tr>\n",
       "</tbody>\n",
       "</table>\n"
      ],
      "text/latex": [
       "\\begin{tabular}{r|ll}\n",
       " col.name.1 & col.name.2\\\\\n",
       "\\hline\n",
       "\t   1 & a  \\\\\n",
       "\t 999 & b  \\\\\n",
       "\t   3 & c  \\\\\n",
       "\t   4 & d  \\\\\n",
       "\t   5 & e  \\\\\n",
       "\t   6 & f  \\\\\n",
       "\t   7 & g  \\\\\n",
       "\t   8 & h  \\\\\n",
       "\t   9 & i  \\\\\n",
       "\t  10 & j  \\\\\n",
       "\\end{tabular}\n"
      ],
      "text/markdown": [
       "\n",
       "| col.name.1 | col.name.2 |\n",
       "|---|---|\n",
       "|   1 | a   |\n",
       "| 999 | b   |\n",
       "|   3 | c   |\n",
       "|   4 | d   |\n",
       "|   5 | e   |\n",
       "|   6 | f   |\n",
       "|   7 | g   |\n",
       "|   8 | h   |\n",
       "|   9 | i   |\n",
       "|  10 | j   |\n",
       "\n"
      ],
      "text/plain": [
       "   col.name.1 col.name.2\n",
       "1    1        a         \n",
       "2  999        b         \n",
       "3    3        c         \n",
       "4    4        d         \n",
       "5    5        e         \n",
       "6    6        f         \n",
       "7    7        g         \n",
       "8    8        h         \n",
       "9    9        i         \n",
       "10  10        j         "
      ]
     },
     "metadata": {},
     "output_type": "display_data"
    }
   ],
   "source": [
    "df"
   ]
  },
  {
   "cell_type": "markdown",
   "id": "dd11af60-8532-4958-8180-d825ec7647eb",
   "metadata": {},
   "source": [
    "**Referencing multiple cells**"
   ]
  },
  {
   "cell_type": "code",
   "execution_count": 135,
   "id": "e08c49cb-706d-4f7f-87a6-573cb5f27756",
   "metadata": {},
   "outputs": [
    {
     "data": {
      "text/html": [
       "<table>\n",
       "<thead><tr><th scope=col>col.name.1</th><th scope=col>col.name.2</th></tr></thead>\n",
       "<tbody>\n",
       "\t<tr><td>  1</td><td>a  </td></tr>\n",
       "\t<tr><td>999</td><td>b  </td></tr>\n",
       "\t<tr><td>  3</td><td>c  </td></tr>\n",
       "\t<tr><td>  4</td><td>d  </td></tr>\n",
       "\t<tr><td>  5</td><td>e  </td></tr>\n",
       "</tbody>\n",
       "</table>\n"
      ],
      "text/latex": [
       "\\begin{tabular}{r|ll}\n",
       " col.name.1 & col.name.2\\\\\n",
       "\\hline\n",
       "\t   1 & a  \\\\\n",
       "\t 999 & b  \\\\\n",
       "\t   3 & c  \\\\\n",
       "\t   4 & d  \\\\\n",
       "\t   5 & e  \\\\\n",
       "\\end{tabular}\n"
      ],
      "text/markdown": [
       "\n",
       "| col.name.1 | col.name.2 |\n",
       "|---|---|\n",
       "|   1 | a   |\n",
       "| 999 | b   |\n",
       "|   3 | c   |\n",
       "|   4 | d   |\n",
       "|   5 | e   |\n",
       "\n"
      ],
      "text/plain": [
       "  col.name.1 col.name.2\n",
       "1   1        a         \n",
       "2 999        b         \n",
       "3   3        c         \n",
       "4   4        d         \n",
       "5   5        e         "
      ]
     },
     "metadata": {},
     "output_type": "display_data"
    }
   ],
   "source": [
    "new.df <- df[1:5, 1:2] # Get multiple cells into a new df\n",
    "new.df"
   ]
  },
  {
   "cell_type": "markdown",
   "id": "52f66c69-b8de-4a0d-a3bc-ea63ae3de11c",
   "metadata": {},
   "source": [
    "#### Referencing Rows\n",
    "\n",
    "* We usually use the **`[row,]`** format"
   ]
  },
  {
   "cell_type": "code",
   "execution_count": 136,
   "id": "71b627fb-a75d-456e-9431-ae35bc6cdbde",
   "metadata": {},
   "outputs": [
    {
     "data": {
      "text/html": [
       "<table>\n",
       "<thead><tr><th scope=col>col.name.1</th><th scope=col>col.name.2</th></tr></thead>\n",
       "<tbody>\n",
       "\t<tr><td>1</td><td>a</td></tr>\n",
       "</tbody>\n",
       "</table>\n"
      ],
      "text/latex": [
       "\\begin{tabular}{r|ll}\n",
       " col.name.1 & col.name.2\\\\\n",
       "\\hline\n",
       "\t 1 & a\\\\\n",
       "\\end{tabular}\n"
      ],
      "text/markdown": [
       "\n",
       "| col.name.1 | col.name.2 |\n",
       "|---|---|\n",
       "| 1 | a |\n",
       "\n"
      ],
      "text/plain": [
       "  col.name.1 col.name.2\n",
       "1 1          a         "
      ]
     },
     "metadata": {},
     "output_type": "display_data"
    }
   ],
   "source": [
    "df[1,] # Returns a dataframe of that row"
   ]
  },
  {
   "cell_type": "markdown",
   "id": "94a5f1f6-e961-4ebe-912f-ad4f0142d7f5",
   "metadata": {},
   "source": [
    "* If you just want a vector of those values alone"
   ]
  },
  {
   "cell_type": "code",
   "execution_count": 137,
   "id": "3ffb3890-7044-4f24-becc-34ab5ccee58d",
   "metadata": {},
   "outputs": [
    {
     "data": {
      "text/html": [
       "<ol class=list-inline>\n",
       "\t<li>1</li>\n",
       "\t<li>1</li>\n",
       "</ol>\n"
      ],
      "text/latex": [
       "\\begin{enumerate*}\n",
       "\\item 1\n",
       "\\item 1\n",
       "\\end{enumerate*}\n"
      ],
      "text/markdown": [
       "1. 1\n",
       "2. 1\n",
       "\n",
       "\n"
      ],
      "text/plain": [
       "[1] 1 1"
      ]
     },
     "metadata": {},
     "output_type": "display_data"
    }
   ],
   "source": [
    "vrow <- as.numeric(as.vector(df[1,]))\n",
    "vrow"
   ]
  },
  {
   "cell_type": "markdown",
   "id": "7cde7a87-1aac-4634-a7e8-35531787e52f",
   "metadata": {},
   "source": [
    "#### Referencing Columns "
   ]
  },
  {
   "cell_type": "code",
   "execution_count": 138,
   "id": "8780f77d-8a70-4cda-b563-abe5294a85b6",
   "metadata": {},
   "outputs": [
    {
     "data": {
      "text/html": [
       "<table>\n",
       "<thead><tr><th></th><th scope=col>mpg</th><th scope=col>cyl</th><th scope=col>disp</th><th scope=col>hp</th><th scope=col>drat</th><th scope=col>wt</th><th scope=col>qsec</th><th scope=col>vs</th><th scope=col>am</th><th scope=col>gear</th><th scope=col>carb</th></tr></thead>\n",
       "<tbody>\n",
       "\t<tr><th scope=row>Mazda RX4</th><td>21.0 </td><td>6    </td><td>160  </td><td>110  </td><td>3.90 </td><td>2.620</td><td>16.46</td><td>0    </td><td>1    </td><td>4    </td><td>4    </td></tr>\n",
       "\t<tr><th scope=row>Mazda RX4 Wag</th><td>21.0 </td><td>6    </td><td>160  </td><td>110  </td><td>3.90 </td><td>2.875</td><td>17.02</td><td>0    </td><td>1    </td><td>4    </td><td>4    </td></tr>\n",
       "\t<tr><th scope=row>Datsun 710</th><td>22.8 </td><td>4    </td><td>108  </td><td> 93  </td><td>3.85 </td><td>2.320</td><td>18.61</td><td>1    </td><td>1    </td><td>4    </td><td>1    </td></tr>\n",
       "\t<tr><th scope=row>Hornet 4 Drive</th><td>21.4 </td><td>6    </td><td>258  </td><td>110  </td><td>3.08 </td><td>3.215</td><td>19.44</td><td>1    </td><td>0    </td><td>3    </td><td>1    </td></tr>\n",
       "\t<tr><th scope=row>Hornet Sportabout</th><td>18.7 </td><td>8    </td><td>360  </td><td>175  </td><td>3.15 </td><td>3.440</td><td>17.02</td><td>0    </td><td>0    </td><td>3    </td><td>2    </td></tr>\n",
       "\t<tr><th scope=row>Valiant</th><td>18.1 </td><td>6    </td><td>225  </td><td>105  </td><td>2.76 </td><td>3.460</td><td>20.22</td><td>1    </td><td>0    </td><td>3    </td><td>1    </td></tr>\n",
       "</tbody>\n",
       "</table>\n"
      ],
      "text/latex": [
       "\\begin{tabular}{r|lllllllllll}\n",
       "  & mpg & cyl & disp & hp & drat & wt & qsec & vs & am & gear & carb\\\\\n",
       "\\hline\n",
       "\tMazda RX4 & 21.0  & 6     & 160   & 110   & 3.90  & 2.620 & 16.46 & 0     & 1     & 4     & 4    \\\\\n",
       "\tMazda RX4 Wag & 21.0  & 6     & 160   & 110   & 3.90  & 2.875 & 17.02 & 0     & 1     & 4     & 4    \\\\\n",
       "\tDatsun 710 & 22.8  & 4     & 108   &  93   & 3.85  & 2.320 & 18.61 & 1     & 1     & 4     & 1    \\\\\n",
       "\tHornet 4 Drive & 21.4  & 6     & 258   & 110   & 3.08  & 3.215 & 19.44 & 1     & 0     & 3     & 1    \\\\\n",
       "\tHornet Sportabout & 18.7  & 8     & 360   & 175   & 3.15  & 3.440 & 17.02 & 0     & 0     & 3     & 2    \\\\\n",
       "\tValiant & 18.1  & 6     & 225   & 105   & 2.76  & 3.460 & 20.22 & 1     & 0     & 3     & 1    \\\\\n",
       "\\end{tabular}\n"
      ],
      "text/markdown": [
       "\n",
       "| <!--/--> | mpg | cyl | disp | hp | drat | wt | qsec | vs | am | gear | carb |\n",
       "|---|---|---|---|---|---|---|---|---|---|---|---|\n",
       "| Mazda RX4 | 21.0  | 6     | 160   | 110   | 3.90  | 2.620 | 16.46 | 0     | 1     | 4     | 4     |\n",
       "| Mazda RX4 Wag | 21.0  | 6     | 160   | 110   | 3.90  | 2.875 | 17.02 | 0     | 1     | 4     | 4     |\n",
       "| Datsun 710 | 22.8  | 4     | 108   |  93   | 3.85  | 2.320 | 18.61 | 1     | 1     | 4     | 1     |\n",
       "| Hornet 4 Drive | 21.4  | 6     | 258   | 110   | 3.08  | 3.215 | 19.44 | 1     | 0     | 3     | 1     |\n",
       "| Hornet Sportabout | 18.7  | 8     | 360   | 175   | 3.15  | 3.440 | 17.02 | 0     | 0     | 3     | 2     |\n",
       "| Valiant | 18.1  | 6     | 225   | 105   | 2.76  | 3.460 | 20.22 | 1     | 0     | 3     | 1     |\n",
       "\n"
      ],
      "text/plain": [
       "                  mpg  cyl disp hp  drat wt    qsec  vs am gear carb\n",
       "Mazda RX4         21.0 6   160  110 3.90 2.620 16.46 0  1  4    4   \n",
       "Mazda RX4 Wag     21.0 6   160  110 3.90 2.875 17.02 0  1  4    4   \n",
       "Datsun 710        22.8 4   108   93 3.85 2.320 18.61 1  1  4    1   \n",
       "Hornet 4 Drive    21.4 6   258  110 3.08 3.215 19.44 1  0  3    1   \n",
       "Hornet Sportabout 18.7 8   360  175 3.15 3.440 17.02 0  0  3    2   \n",
       "Valiant           18.1 6   225  105 2.76 3.460 20.22 1  0  3    1   "
      ]
     },
     "metadata": {},
     "output_type": "display_data"
    }
   ],
   "source": [
    "cars <- mtcars\n",
    "head(cars)"
   ]
  },
  {
   "cell_type": "markdown",
   "id": "b5394d7e-d610-47ff-8a05-2b544dc42cbd",
   "metadata": {},
   "source": [
    "**Methods that return a column as a vector**"
   ]
  },
  {
   "cell_type": "code",
   "execution_count": 139,
   "id": "c2ac2453-709d-46a4-9c64-539c5ca7a73b",
   "metadata": {},
   "outputs": [],
   "source": [
    "colv1 <- cars$mpg \n",
    "colv2 <- cars[, \"mpg\"] \n",
    "colv3 <- cars[, 1]\n",
    "colv4 <- cars[[\"mpg\"]]"
   ]
  },
  {
   "cell_type": "code",
   "execution_count": 140,
   "id": "f6a095ee-5b58-43a3-8e4e-3ab30b4dec9d",
   "metadata": {},
   "outputs": [
    {
     "data": {
      "text/html": [
       "<ol class=list-inline>\n",
       "\t<li>21</li>\n",
       "\t<li>21</li>\n",
       "\t<li>22.8</li>\n",
       "\t<li>21.4</li>\n",
       "\t<li>18.7</li>\n",
       "\t<li>18.1</li>\n",
       "</ol>\n"
      ],
      "text/latex": [
       "\\begin{enumerate*}\n",
       "\\item 21\n",
       "\\item 21\n",
       "\\item 22.8\n",
       "\\item 21.4\n",
       "\\item 18.7\n",
       "\\item 18.1\n",
       "\\end{enumerate*}\n"
      ],
      "text/markdown": [
       "1. 21\n",
       "2. 21\n",
       "3. 22.8\n",
       "4. 21.4\n",
       "5. 18.7\n",
       "6. 18.1\n",
       "\n",
       "\n"
      ],
      "text/plain": [
       "[1] 21.0 21.0 22.8 21.4 18.7 18.1"
      ]
     },
     "metadata": {},
     "output_type": "display_data"
    }
   ],
   "source": [
    "head(colv1)"
   ]
  },
  {
   "cell_type": "markdown",
   "id": "d432bf53-adce-4dd6-aae8-551e1249f524",
   "metadata": {},
   "source": [
    "**Methods that return a column as a Data Frame**"
   ]
  },
  {
   "cell_type": "code",
   "execution_count": 141,
   "id": "fe52c41b-4fae-4289-b883-1a871a7700c3",
   "metadata": {},
   "outputs": [],
   "source": [
    "mpg.df <-cars[\"mpg\"] # We use a single set of brackets, rather than two!\n",
    "mpg.df <-cars[1]     # Can also use index location of column"
   ]
  },
  {
   "cell_type": "code",
   "execution_count": 142,
   "id": "4d524ca8-8608-4cac-8c95-3244791716ac",
   "metadata": {},
   "outputs": [
    {
     "data": {
      "text/html": [
       "<table>\n",
       "<thead><tr><th></th><th scope=col>mpg</th></tr></thead>\n",
       "<tbody>\n",
       "\t<tr><th scope=row>Mazda RX4</th><td>21.0</td></tr>\n",
       "\t<tr><th scope=row>Mazda RX4 Wag</th><td>21.0</td></tr>\n",
       "\t<tr><th scope=row>Datsun 710</th><td>22.8</td></tr>\n",
       "\t<tr><th scope=row>Hornet 4 Drive</th><td>21.4</td></tr>\n",
       "\t<tr><th scope=row>Hornet Sportabout</th><td>18.7</td></tr>\n",
       "\t<tr><th scope=row>Valiant</th><td>18.1</td></tr>\n",
       "</tbody>\n",
       "</table>\n"
      ],
      "text/latex": [
       "\\begin{tabular}{r|l}\n",
       "  & mpg\\\\\n",
       "\\hline\n",
       "\tMazda RX4 & 21.0\\\\\n",
       "\tMazda RX4 Wag & 21.0\\\\\n",
       "\tDatsun 710 & 22.8\\\\\n",
       "\tHornet 4 Drive & 21.4\\\\\n",
       "\tHornet Sportabout & 18.7\\\\\n",
       "\tValiant & 18.1\\\\\n",
       "\\end{tabular}\n"
      ],
      "text/markdown": [
       "\n",
       "| <!--/--> | mpg |\n",
       "|---|---|\n",
       "| Mazda RX4 | 21.0 |\n",
       "| Mazda RX4 Wag | 21.0 |\n",
       "| Datsun 710 | 22.8 |\n",
       "| Hornet 4 Drive | 21.4 |\n",
       "| Hornet Sportabout | 18.7 |\n",
       "| Valiant | 18.1 |\n",
       "\n"
      ],
      "text/plain": [
       "                  mpg \n",
       "Mazda RX4         21.0\n",
       "Mazda RX4 Wag     21.0\n",
       "Datsun 710        22.8\n",
       "Hornet 4 Drive    21.4\n",
       "Hornet Sportabout 18.7\n",
       "Valiant           18.1"
      ]
     },
     "metadata": {},
     "output_type": "display_data"
    }
   ],
   "source": [
    "head(mpg.df)"
   ]
  },
  {
   "cell_type": "code",
   "execution_count": 143,
   "id": "3a74160a-8540-46b6-a249-8aeb87812ad9",
   "metadata": {},
   "outputs": [
    {
     "data": {
      "text/html": [
       "<table>\n",
       "<thead><tr><th></th><th scope=col>mpg</th><th scope=col>cyl</th></tr></thead>\n",
       "<tbody>\n",
       "\t<tr><th scope=row>Mazda RX4</th><td>21.0</td><td>6   </td></tr>\n",
       "\t<tr><th scope=row>Mazda RX4 Wag</th><td>21.0</td><td>6   </td></tr>\n",
       "\t<tr><th scope=row>Datsun 710</th><td>22.8</td><td>4   </td></tr>\n",
       "\t<tr><th scope=row>Hornet 4 Drive</th><td>21.4</td><td>6   </td></tr>\n",
       "\t<tr><th scope=row>Hornet Sportabout</th><td>18.7</td><td>8   </td></tr>\n",
       "\t<tr><th scope=row>Valiant</th><td>18.1</td><td>6   </td></tr>\n",
       "</tbody>\n",
       "</table>\n"
      ],
      "text/latex": [
       "\\begin{tabular}{r|ll}\n",
       "  & mpg & cyl\\\\\n",
       "\\hline\n",
       "\tMazda RX4 & 21.0 & 6   \\\\\n",
       "\tMazda RX4 Wag & 21.0 & 6   \\\\\n",
       "\tDatsun 710 & 22.8 & 4   \\\\\n",
       "\tHornet 4 Drive & 21.4 & 6   \\\\\n",
       "\tHornet Sportabout & 18.7 & 8   \\\\\n",
       "\tValiant & 18.1 & 6   \\\\\n",
       "\\end{tabular}\n"
      ],
      "text/markdown": [
       "\n",
       "| <!--/--> | mpg | cyl |\n",
       "|---|---|---|\n",
       "| Mazda RX4 | 21.0 | 6    |\n",
       "| Mazda RX4 Wag | 21.0 | 6    |\n",
       "| Datsun 710 | 22.8 | 4    |\n",
       "| Hornet 4 Drive | 21.4 | 6    |\n",
       "| Hornet Sportabout | 18.7 | 8    |\n",
       "| Valiant | 18.1 | 6    |\n",
       "\n"
      ],
      "text/plain": [
       "                  mpg  cyl\n",
       "Mazda RX4         21.0 6  \n",
       "Mazda RX4 Wag     21.0 6  \n",
       "Datsun 710        22.8 4  \n",
       "Hornet 4 Drive    21.4 6  \n",
       "Hornet Sportabout 18.7 8  \n",
       "Valiant           18.1 6  "
      ]
     },
     "metadata": {},
     "output_type": "display_data"
    }
   ],
   "source": [
    "many.cols <- cars[c(\"mpg\", \"cyl\")]\n",
    "head(many.cols)"
   ]
  },
  {
   "cell_type": "markdown",
   "id": "eb162da8-540f-477c-8a49-49815b466f77",
   "metadata": {},
   "source": [
    "**Adding Rows to a Data Frame**\n",
    "\n",
    "* **`rbind()`** function adds a new row\n",
    "* Below a new data frame with same columns and a single row."
   ]
  },
  {
   "cell_type": "code",
   "execution_count": 144,
   "id": "40e3c810-edc5-48db-a3f9-912903efe293",
   "metadata": {},
   "outputs": [
    {
     "data": {
      "text/html": [
       "<table>\n",
       "<thead><tr><th scope=col>col.name.1</th><th scope=col>col.name.2</th></tr></thead>\n",
       "<tbody>\n",
       "\t<tr><td>2000</td><td>new </td></tr>\n",
       "</tbody>\n",
       "</table>\n"
      ],
      "text/latex": [
       "\\begin{tabular}{r|ll}\n",
       " col.name.1 & col.name.2\\\\\n",
       "\\hline\n",
       "\t 2000 & new \\\\\n",
       "\\end{tabular}\n"
      ],
      "text/markdown": [
       "\n",
       "| col.name.1 | col.name.2 |\n",
       "|---|---|\n",
       "| 2000 | new  |\n",
       "\n"
      ],
      "text/plain": [
       "  col.name.1 col.name.2\n",
       "1 2000       new       "
      ]
     },
     "metadata": {},
     "output_type": "display_data"
    }
   ],
   "source": [
    "df2 <- data.frame(col.name.1=2000, col.name.2=\"new\")\n",
    "df2"
   ]
  },
  {
   "cell_type": "code",
   "execution_count": 145,
   "id": "1873b6ad-82a0-47b3-a661-8fbcf4ef47fa",
   "metadata": {},
   "outputs": [],
   "source": [
    "dfnew <- rbind(df, df2)"
   ]
  },
  {
   "cell_type": "code",
   "execution_count": 146,
   "id": "640b3567-2090-4265-8131-8b260522cbca",
   "metadata": {},
   "outputs": [
    {
     "data": {
      "text/html": [
       "<table>\n",
       "<thead><tr><th scope=col>col.name.1</th><th scope=col>col.name.2</th></tr></thead>\n",
       "<tbody>\n",
       "\t<tr><td>   1</td><td>a   </td></tr>\n",
       "\t<tr><td> 999</td><td>b   </td></tr>\n",
       "\t<tr><td>   3</td><td>c   </td></tr>\n",
       "\t<tr><td>   4</td><td>d   </td></tr>\n",
       "\t<tr><td>   5</td><td>e   </td></tr>\n",
       "\t<tr><td>   6</td><td>f   </td></tr>\n",
       "\t<tr><td>   7</td><td>g   </td></tr>\n",
       "\t<tr><td>   8</td><td>h   </td></tr>\n",
       "\t<tr><td>   9</td><td>i   </td></tr>\n",
       "\t<tr><td>  10</td><td>j   </td></tr>\n",
       "\t<tr><td>2000</td><td>new </td></tr>\n",
       "</tbody>\n",
       "</table>\n"
      ],
      "text/latex": [
       "\\begin{tabular}{r|ll}\n",
       " col.name.1 & col.name.2\\\\\n",
       "\\hline\n",
       "\t    1 & a   \\\\\n",
       "\t  999 & b   \\\\\n",
       "\t    3 & c   \\\\\n",
       "\t    4 & d   \\\\\n",
       "\t    5 & e   \\\\\n",
       "\t    6 & f   \\\\\n",
       "\t    7 & g   \\\\\n",
       "\t    8 & h   \\\\\n",
       "\t    9 & i   \\\\\n",
       "\t   10 & j   \\\\\n",
       "\t 2000 & new \\\\\n",
       "\\end{tabular}\n"
      ],
      "text/markdown": [
       "\n",
       "| col.name.1 | col.name.2 |\n",
       "|---|---|\n",
       "|    1 | a    |\n",
       "|  999 | b    |\n",
       "|    3 | c    |\n",
       "|    4 | d    |\n",
       "|    5 | e    |\n",
       "|    6 | f    |\n",
       "|    7 | g    |\n",
       "|    8 | h    |\n",
       "|    9 | i    |\n",
       "|   10 | j    |\n",
       "| 2000 | new  |\n",
       "\n"
      ],
      "text/plain": [
       "   col.name.1 col.name.2\n",
       "1     1       a         \n",
       "2   999       b         \n",
       "3     3       c         \n",
       "4     4       d         \n",
       "5     5       e         \n",
       "6     6       f         \n",
       "7     7       g         \n",
       "8     8       h         \n",
       "9     9       i         \n",
       "10   10       j         \n",
       "11 2000       new       "
      ]
     },
     "metadata": {},
     "output_type": "display_data"
    }
   ],
   "source": [
    "dfnew"
   ]
  },
  {
   "cell_type": "markdown",
   "id": "17e0f0dd-f1f3-4a57-81dd-91a40a02a2c3",
   "metadata": {},
   "source": [
    "**Adding Columns to a Data Frame**"
   ]
  },
  {
   "cell_type": "code",
   "execution_count": 147,
   "id": "a768cbe4-2f13-4b77-a5ad-efe9d4201071",
   "metadata": {},
   "outputs": [
    {
     "data": {
      "text/html": [
       "<table>\n",
       "<thead><tr><th scope=col>col.name.1</th><th scope=col>col.name.2</th><th scope=col>new.col</th></tr></thead>\n",
       "<tbody>\n",
       "\t<tr><td>  1 </td><td>a   </td><td>   2</td></tr>\n",
       "\t<tr><td>999 </td><td>b   </td><td>1998</td></tr>\n",
       "\t<tr><td>  3 </td><td>c   </td><td>   6</td></tr>\n",
       "\t<tr><td>  4 </td><td>d   </td><td>   8</td></tr>\n",
       "\t<tr><td>  5 </td><td>e   </td><td>  10</td></tr>\n",
       "\t<tr><td>  6 </td><td>f   </td><td>  12</td></tr>\n",
       "</tbody>\n",
       "</table>\n"
      ],
      "text/latex": [
       "\\begin{tabular}{r|lll}\n",
       " col.name.1 & col.name.2 & new.col\\\\\n",
       "\\hline\n",
       "\t   1  & a    &    2\\\\\n",
       "\t 999  & b    & 1998\\\\\n",
       "\t   3  & c    &    6\\\\\n",
       "\t   4  & d    &    8\\\\\n",
       "\t   5  & e    &   10\\\\\n",
       "\t   6  & f    &   12\\\\\n",
       "\\end{tabular}\n"
      ],
      "text/markdown": [
       "\n",
       "| col.name.1 | col.name.2 | new.col |\n",
       "|---|---|---|\n",
       "|   1  | a    |    2 |\n",
       "| 999  | b    | 1998 |\n",
       "|   3  | c    |    6 |\n",
       "|   4  | d    |    8 |\n",
       "|   5  | e    |   10 |\n",
       "|   6  | f    |   12 |\n",
       "\n"
      ],
      "text/plain": [
       "  col.name.1 col.name.2 new.col\n",
       "1   1        a             2   \n",
       "2 999        b          1998   \n",
       "3   3        c             6   \n",
       "4   4        d             8   \n",
       "5   5        e            10   \n",
       "6   6        f            12   "
      ]
     },
     "metadata": {},
     "output_type": "display_data"
    }
   ],
   "source": [
    "df$new.col <- 2*df$col.name.1 # New column two times col 1\n",
    "head(df)"
   ]
  },
  {
   "cell_type": "code",
   "execution_count": 148,
   "id": "0b2880c1-dd7f-425d-96dd-c05ff8951401",
   "metadata": {},
   "outputs": [
    {
     "data": {
      "text/html": [
       "<table>\n",
       "<thead><tr><th scope=col>col.name.1</th><th scope=col>col.name.2</th><th scope=col>new.col</th><th scope=col>new.col.copy</th></tr></thead>\n",
       "<tbody>\n",
       "\t<tr><td>  1 </td><td>a   </td><td>   2</td><td>   2</td></tr>\n",
       "\t<tr><td>999 </td><td>b   </td><td>1998</td><td>1998</td></tr>\n",
       "\t<tr><td>  3 </td><td>c   </td><td>   6</td><td>   6</td></tr>\n",
       "\t<tr><td>  4 </td><td>d   </td><td>   8</td><td>   8</td></tr>\n",
       "\t<tr><td>  5 </td><td>e   </td><td>  10</td><td>  10</td></tr>\n",
       "\t<tr><td>  6 </td><td>f   </td><td>  12</td><td>  12</td></tr>\n",
       "</tbody>\n",
       "</table>\n"
      ],
      "text/latex": [
       "\\begin{tabular}{r|llll}\n",
       " col.name.1 & col.name.2 & new.col & new.col.copy\\\\\n",
       "\\hline\n",
       "\t   1  & a    &    2 &    2\\\\\n",
       "\t 999  & b    & 1998 & 1998\\\\\n",
       "\t   3  & c    &    6 &    6\\\\\n",
       "\t   4  & d    &    8 &    8\\\\\n",
       "\t   5  & e    &   10 &   10\\\\\n",
       "\t   6  & f    &   12 &   12\\\\\n",
       "\\end{tabular}\n"
      ],
      "text/markdown": [
       "\n",
       "| col.name.1 | col.name.2 | new.col | new.col.copy |\n",
       "|---|---|---|---|\n",
       "|   1  | a    |    2 |    2 |\n",
       "| 999  | b    | 1998 | 1998 |\n",
       "|   3  | c    |    6 |    6 |\n",
       "|   4  | d    |    8 |    8 |\n",
       "|   5  | e    |   10 |   10 |\n",
       "|   6  | f    |   12 |   12 |\n",
       "\n"
      ],
      "text/plain": [
       "  col.name.1 col.name.2 new.col new.col.copy\n",
       "1   1        a             2       2        \n",
       "2 999        b          1998    1998        \n",
       "3   3        c             6       6        \n",
       "4   4        d             8       8        \n",
       "5   5        e            10      10        \n",
       "6   6        f            12      12        "
      ]
     },
     "metadata": {},
     "output_type": "display_data"
    }
   ],
   "source": [
    "df$new.col.copy <- df$new.col  # another new column copy of new column\n",
    "head(df)"
   ]
  },
  {
   "cell_type": "code",
   "execution_count": 149,
   "id": "f8138d3a-7e1e-4b9c-9952-8c4fb9e192f0",
   "metadata": {},
   "outputs": [
    {
     "data": {
      "text/html": [
       "<table>\n",
       "<thead><tr><th scope=col>col.name.1</th><th scope=col>col.name.2</th><th scope=col>new.col</th><th scope=col>new.col.copy</th><th scope=col>new.col.copy2</th></tr></thead>\n",
       "<tbody>\n",
       "\t<tr><td>  1 </td><td>a   </td><td>   2</td><td>   2</td><td>   2</td></tr>\n",
       "\t<tr><td>999 </td><td>b   </td><td>1998</td><td>1998</td><td>1998</td></tr>\n",
       "\t<tr><td>  3 </td><td>c   </td><td>   6</td><td>   6</td><td>   6</td></tr>\n",
       "\t<tr><td>  4 </td><td>d   </td><td>   8</td><td>   8</td><td>   8</td></tr>\n",
       "\t<tr><td>  5 </td><td>e   </td><td>  10</td><td>  10</td><td>  10</td></tr>\n",
       "\t<tr><td>  6 </td><td>f   </td><td>  12</td><td>  12</td><td>  12</td></tr>\n",
       "</tbody>\n",
       "</table>\n"
      ],
      "text/latex": [
       "\\begin{tabular}{r|lllll}\n",
       " col.name.1 & col.name.2 & new.col & new.col.copy & new.col.copy2\\\\\n",
       "\\hline\n",
       "\t   1  & a    &    2 &    2 &    2\\\\\n",
       "\t 999  & b    & 1998 & 1998 & 1998\\\\\n",
       "\t   3  & c    &    6 &    6 &    6\\\\\n",
       "\t   4  & d    &    8 &    8 &    8\\\\\n",
       "\t   5  & e    &   10 &   10 &   10\\\\\n",
       "\t   6  & f    &   12 &   12 &   12\\\\\n",
       "\\end{tabular}\n"
      ],
      "text/markdown": [
       "\n",
       "| col.name.1 | col.name.2 | new.col | new.col.copy | new.col.copy2 |\n",
       "|---|---|---|---|---|\n",
       "|   1  | a    |    2 |    2 |    2 |\n",
       "| 999  | b    | 1998 | 1998 | 1998 |\n",
       "|   3  | c    |    6 |    6 |    6 |\n",
       "|   4  | d    |    8 |    8 |    8 |\n",
       "|   5  | e    |   10 |   10 |   10 |\n",
       "|   6  | f    |   12 |   12 |   12 |\n",
       "\n"
      ],
      "text/plain": [
       "  col.name.1 col.name.2 new.col new.col.copy new.col.copy2\n",
       "1   1        a             2       2            2         \n",
       "2 999        b          1998    1998         1998         \n",
       "3   3        c             6       6            6         \n",
       "4   4        d             8       8            8         \n",
       "5   5        e            10      10           10         \n",
       "6   6        f            12      12           12         "
      ]
     },
     "metadata": {},
     "output_type": "display_data"
    }
   ],
   "source": [
    "df[, \"new.col.copy2\"] <- df[, \"new.col\"] # Just reference columns differently\n",
    "head(df)"
   ]
  },
  {
   "cell_type": "code",
   "execution_count": 150,
   "id": "0d4a6513-8e92-4b20-a642-330401a5fd9a",
   "metadata": {},
   "outputs": [
    {
     "data": {
      "text/html": [
       "<table>\n",
       "<thead><tr><th scope=col>col.name.1</th><th scope=col>col.name.2</th><th scope=col>new.col</th><th scope=col>new.col.copy</th><th scope=col>new.col.copy2</th><th scope=col>df$new.col.copy2</th></tr></thead>\n",
       "<tbody>\n",
       "\t<tr><td>  1 </td><td>a   </td><td>   2</td><td>   2</td><td>   2</td><td>   2</td></tr>\n",
       "\t<tr><td>999 </td><td>b   </td><td>1998</td><td>1998</td><td>1998</td><td>1998</td></tr>\n",
       "\t<tr><td>  3 </td><td>c   </td><td>   6</td><td>   6</td><td>   6</td><td>   6</td></tr>\n",
       "\t<tr><td>  4 </td><td>d   </td><td>   8</td><td>   8</td><td>   8</td><td>   8</td></tr>\n",
       "\t<tr><td>  5 </td><td>e   </td><td>  10</td><td>  10</td><td>  10</td><td>  10</td></tr>\n",
       "\t<tr><td>  6 </td><td>f   </td><td>  12</td><td>  12</td><td>  12</td><td>  12</td></tr>\n",
       "</tbody>\n",
       "</table>\n"
      ],
      "text/latex": [
       "\\begin{tabular}{r|llllll}\n",
       " col.name.1 & col.name.2 & new.col & new.col.copy & new.col.copy2 & df\\$new.col.copy2\\\\\n",
       "\\hline\n",
       "\t   1  & a    &    2 &    2 &    2 &    2\\\\\n",
       "\t 999  & b    & 1998 & 1998 & 1998 & 1998\\\\\n",
       "\t   3  & c    &    6 &    6 &    6 &    6\\\\\n",
       "\t   4  & d    &    8 &    8 &    8 &    8\\\\\n",
       "\t   5  & e    &   10 &   10 &   10 &   10\\\\\n",
       "\t   6  & f    &   12 &   12 &   12 &   12\\\\\n",
       "\\end{tabular}\n"
      ],
      "text/markdown": [
       "\n",
       "| col.name.1 | col.name.2 | new.col | new.col.copy | new.col.copy2 | df$new.col.copy2 |\n",
       "|---|---|---|---|---|---|\n",
       "|   1  | a    |    2 |    2 |    2 |    2 |\n",
       "| 999  | b    | 1998 | 1998 | 1998 | 1998 |\n",
       "|   3  | c    |    6 |    6 |    6 |    6 |\n",
       "|   4  | d    |    8 |    8 |    8 |    8 |\n",
       "|   5  | e    |   10 |   10 |   10 |   10 |\n",
       "|   6  | f    |   12 |   12 |   12 |   12 |\n",
       "\n"
      ],
      "text/plain": [
       "  col.name.1 col.name.2 new.col new.col.copy new.col.copy2 df$new.col.copy2\n",
       "1   1        a             2       2            2             2            \n",
       "2 999        b          1998    1998         1998          1998            \n",
       "3   3        c             6       6            6             6            \n",
       "4   4        d             8       8            8             8            \n",
       "5   5        e            10      10           10            10            \n",
       "6   6        f            12      12           12            12            "
      ]
     },
     "metadata": {},
     "output_type": "display_data"
    }
   ],
   "source": [
    "df <- cbind(df, df$new.col.copy2)\n",
    "head(df)"
   ]
  },
  {
   "cell_type": "markdown",
   "id": "4b57dc3c-9a6c-4b4a-8d1e-1f8b88b6f8be",
   "metadata": {},
   "source": [
    "**Setting Column Names**"
   ]
  },
  {
   "cell_type": "code",
   "execution_count": 151,
   "id": "7e81c7b8-e838-4ab3-8242-ce335f8e56a5",
   "metadata": {},
   "outputs": [
    {
     "data": {
      "text/html": [
       "<ol class=list-inline>\n",
       "\t<li>'col.name.1'</li>\n",
       "\t<li>'col.name.2'</li>\n",
       "\t<li>'new.col'</li>\n",
       "\t<li>'new.col.copy'</li>\n",
       "\t<li>'new.col.copy2'</li>\n",
       "\t<li>'df$new.col.copy2'</li>\n",
       "</ol>\n"
      ],
      "text/latex": [
       "\\begin{enumerate*}\n",
       "\\item 'col.name.1'\n",
       "\\item 'col.name.2'\n",
       "\\item 'new.col'\n",
       "\\item 'new.col.copy'\n",
       "\\item 'new.col.copy2'\n",
       "\\item 'df\\$new.col.copy2'\n",
       "\\end{enumerate*}\n"
      ],
      "text/markdown": [
       "1. 'col.name.1'\n",
       "2. 'col.name.2'\n",
       "3. 'new.col'\n",
       "4. 'new.col.copy'\n",
       "5. 'new.col.copy2'\n",
       "6. 'df$new.col.copy2'\n",
       "\n",
       "\n"
      ],
      "text/plain": [
       "[1] \"col.name.1\"       \"col.name.2\"       \"new.col\"          \"new.col.copy\"    \n",
       "[5] \"new.col.copy2\"    \"df$new.col.copy2\""
      ]
     },
     "metadata": {},
     "output_type": "display_data"
    }
   ],
   "source": [
    "colnames(df)  # Returns columns of a data frame"
   ]
  },
  {
   "cell_type": "code",
   "execution_count": 152,
   "id": "4b09d0e3-3821-46bc-84a9-cb8696a3226c",
   "metadata": {},
   "outputs": [
    {
     "data": {
      "text/html": [
       "<ol class=list-inline>\n",
       "\t<li>'col.name.1'</li>\n",
       "\t<li>'NEW NAME'</li>\n",
       "\t<li>'new.col'</li>\n",
       "\t<li>'new.col.copy'</li>\n",
       "\t<li>'new.col.copy2'</li>\n",
       "\t<li>'df$new.col.copy2'</li>\n",
       "</ol>\n"
      ],
      "text/latex": [
       "\\begin{enumerate*}\n",
       "\\item 'col.name.1'\n",
       "\\item 'NEW NAME'\n",
       "\\item 'new.col'\n",
       "\\item 'new.col.copy'\n",
       "\\item 'new.col.copy2'\n",
       "\\item 'df\\$new.col.copy2'\n",
       "\\end{enumerate*}\n"
      ],
      "text/markdown": [
       "1. 'col.name.1'\n",
       "2. 'NEW NAME'\n",
       "3. 'new.col'\n",
       "4. 'new.col.copy'\n",
       "5. 'new.col.copy2'\n",
       "6. 'df$new.col.copy2'\n",
       "\n",
       "\n"
      ],
      "text/plain": [
       "[1] \"col.name.1\"       \"NEW NAME\"         \"new.col\"          \"new.col.copy\"    \n",
       "[5] \"new.col.copy2\"    \"df$new.col.copy2\""
      ]
     },
     "metadata": {},
     "output_type": "display_data"
    }
   ],
   "source": [
    "colnames(df)[2] <- \"NEW NAME\"  # Assigns new name to second column\n",
    "colnames(df)"
   ]
  },
  {
   "cell_type": "code",
   "execution_count": 153,
   "id": "96df1633-1b6b-42f3-ad5f-c748ac93e917",
   "metadata": {},
   "outputs": [
    {
     "data": {
      "text/html": [
       "<ol class=list-inline>\n",
       "\t<li>'col.name.1'</li>\n",
       "\t<li>'col.name.2'</li>\n",
       "\t<li>'newcol'</li>\n",
       "\t<li>'copy.of.col2'</li>\n",
       "\t<li>'col1.times.2'</li>\n",
       "\t<li>NA</li>\n",
       "</ol>\n"
      ],
      "text/latex": [
       "\\begin{enumerate*}\n",
       "\\item 'col.name.1'\n",
       "\\item 'col.name.2'\n",
       "\\item 'newcol'\n",
       "\\item 'copy.of.col2'\n",
       "\\item 'col1.times.2'\n",
       "\\item NA\n",
       "\\end{enumerate*}\n"
      ],
      "text/markdown": [
       "1. 'col.name.1'\n",
       "2. 'col.name.2'\n",
       "3. 'newcol'\n",
       "4. 'copy.of.col2'\n",
       "5. 'col1.times.2'\n",
       "6. NA\n",
       "\n",
       "\n"
      ],
      "text/plain": [
       "[1] \"col.name.1\"   \"col.name.2\"   \"newcol\"       \"copy.of.col2\" \"col1.times.2\"\n",
       "[6] NA            "
      ]
     },
     "metadata": {},
     "output_type": "display_data"
    }
   ],
   "source": [
    "# Assign a vector to rename all column names. \n",
    "colnames(df) <- c('col.name.1', 'col.name.2', 'newcol', 'copy.of.col2' ,'col1.times.2')\n",
    "colnames(df)"
   ]
  },
  {
   "cell_type": "markdown",
   "id": "7a9c8ec4-b47b-4554-9d5c-b7c6d1f0738b",
   "metadata": {},
   "source": [
    "**Selecting Multiple Rows**"
   ]
  },
  {
   "cell_type": "code",
   "execution_count": 154,
   "id": "67421199-8ca8-43aa-95be-b4fd414a1ed6",
   "metadata": {},
   "outputs": [],
   "source": [
    "first.ten.rows <- df[1:10, ] # Similar fashion as with Matrices"
   ]
  },
  {
   "cell_type": "code",
   "execution_count": 155,
   "id": "7b70226d-0489-40eb-8919-bfd3e9af6e90",
   "metadata": {},
   "outputs": [
    {
     "data": {
      "text/html": [
       "<table>\n",
       "<thead><tr><th scope=col>col.name.1</th><th scope=col>col.name.2</th><th scope=col>newcol</th><th scope=col>copy.of.col2</th><th scope=col>col1.times.2</th><th scope=col>NA</th></tr></thead>\n",
       "<tbody>\n",
       "\t<tr><td>  1 </td><td>a   </td><td>   2</td><td>   2</td><td>   2</td><td>   2</td></tr>\n",
       "\t<tr><td>999 </td><td>b   </td><td>1998</td><td>1998</td><td>1998</td><td>1998</td></tr>\n",
       "\t<tr><td>  3 </td><td>c   </td><td>   6</td><td>   6</td><td>   6</td><td>   6</td></tr>\n",
       "\t<tr><td>  4 </td><td>d   </td><td>   8</td><td>   8</td><td>   8</td><td>   8</td></tr>\n",
       "\t<tr><td>  5 </td><td>e   </td><td>  10</td><td>  10</td><td>  10</td><td>  10</td></tr>\n",
       "\t<tr><td>  6 </td><td>f   </td><td>  12</td><td>  12</td><td>  12</td><td>  12</td></tr>\n",
       "\t<tr><td>  7 </td><td>g   </td><td>  14</td><td>  14</td><td>  14</td><td>  14</td></tr>\n",
       "\t<tr><td>  8 </td><td>h   </td><td>  16</td><td>  16</td><td>  16</td><td>  16</td></tr>\n",
       "\t<tr><td>  9 </td><td>i   </td><td>  18</td><td>  18</td><td>  18</td><td>  18</td></tr>\n",
       "\t<tr><td> 10 </td><td>j   </td><td>  20</td><td>  20</td><td>  20</td><td>  20</td></tr>\n",
       "</tbody>\n",
       "</table>\n"
      ],
      "text/latex": [
       "\\begin{tabular}{r|llllll}\n",
       " col.name.1 & col.name.2 & newcol & copy.of.col2 & col1.times.2 & NA\\\\\n",
       "\\hline\n",
       "\t   1  & a    &    2 &    2 &    2 &    2\\\\\n",
       "\t 999  & b    & 1998 & 1998 & 1998 & 1998\\\\\n",
       "\t   3  & c    &    6 &    6 &    6 &    6\\\\\n",
       "\t   4  & d    &    8 &    8 &    8 &    8\\\\\n",
       "\t   5  & e    &   10 &   10 &   10 &   10\\\\\n",
       "\t   6  & f    &   12 &   12 &   12 &   12\\\\\n",
       "\t   7  & g    &   14 &   14 &   14 &   14\\\\\n",
       "\t   8  & h    &   16 &   16 &   16 &   16\\\\\n",
       "\t   9  & i    &   18 &   18 &   18 &   18\\\\\n",
       "\t  10  & j    &   20 &   20 &   20 &   20\\\\\n",
       "\\end{tabular}\n"
      ],
      "text/markdown": [
       "\n",
       "| col.name.1 | col.name.2 | newcol | copy.of.col2 | col1.times.2 | NA |\n",
       "|---|---|---|---|---|---|\n",
       "|   1  | a    |    2 |    2 |    2 |    2 |\n",
       "| 999  | b    | 1998 | 1998 | 1998 | 1998 |\n",
       "|   3  | c    |    6 |    6 |    6 |    6 |\n",
       "|   4  | d    |    8 |    8 |    8 |    8 |\n",
       "|   5  | e    |   10 |   10 |   10 |   10 |\n",
       "|   6  | f    |   12 |   12 |   12 |   12 |\n",
       "|   7  | g    |   14 |   14 |   14 |   14 |\n",
       "|   8  | h    |   16 |   16 |   16 |   16 |\n",
       "|   9  | i    |   18 |   18 |   18 |   18 |\n",
       "|  10  | j    |   20 |   20 |   20 |   20 |\n",
       "\n"
      ],
      "text/plain": [
       "   col.name.1 col.name.2 newcol copy.of.col2 col1.times.2 <NA>\n",
       "1    1        a             2      2            2            2\n",
       "2  999        b          1998   1998         1998         1998\n",
       "3    3        c             6      6            6            6\n",
       "4    4        d             8      8            8            8\n",
       "5    5        e            10     10           10           10\n",
       "6    6        f            12     12           12           12\n",
       "7    7        g            14     14           14           14\n",
       "8    8        h            16     16           16           16\n",
       "9    9        i            18     18           18           18\n",
       "10  10        j            20     20           20           20"
      ]
     },
     "metadata": {},
     "output_type": "display_data"
    }
   ],
   "source": [
    "first.ten.rows"
   ]
  },
  {
   "cell_type": "code",
   "execution_count": 156,
   "id": "c0116769-1859-42a9-b717-bd789b02ef9d",
   "metadata": {},
   "outputs": [
    {
     "data": {
      "text/html": [
       "<table>\n",
       "<thead><tr><th></th><th scope=col>col.name.1</th><th scope=col>col.name.2</th><th scope=col>newcol</th><th scope=col>copy.of.col2</th><th scope=col>col1.times.2</th><th scope=col>NA</th></tr></thead>\n",
       "<tbody>\n",
       "\t<tr><th scope=row>1</th><td>1 </td><td>a </td><td> 2</td><td> 2</td><td> 2</td><td> 2</td></tr>\n",
       "\t<tr><th scope=row>3</th><td>3 </td><td>c </td><td> 6</td><td> 6</td><td> 6</td><td> 6</td></tr>\n",
       "\t<tr><th scope=row>4</th><td>4 </td><td>d </td><td> 8</td><td> 8</td><td> 8</td><td> 8</td></tr>\n",
       "\t<tr><th scope=row>5</th><td>5 </td><td>e </td><td>10</td><td>10</td><td>10</td><td>10</td></tr>\n",
       "\t<tr><th scope=row>6</th><td>6 </td><td>f </td><td>12</td><td>12</td><td>12</td><td>12</td></tr>\n",
       "\t<tr><th scope=row>7</th><td>7 </td><td>g </td><td>14</td><td>14</td><td>14</td><td>14</td></tr>\n",
       "</tbody>\n",
       "</table>\n"
      ],
      "text/latex": [
       "\\begin{tabular}{r|llllll}\n",
       "  & col.name.1 & col.name.2 & newcol & copy.of.col2 & col1.times.2 & NA\\\\\n",
       "\\hline\n",
       "\t1 & 1  & a  &  2 &  2 &  2 &  2\\\\\n",
       "\t3 & 3  & c  &  6 &  6 &  6 &  6\\\\\n",
       "\t4 & 4  & d  &  8 &  8 &  8 &  8\\\\\n",
       "\t5 & 5  & e  & 10 & 10 & 10 & 10\\\\\n",
       "\t6 & 6  & f  & 12 & 12 & 12 & 12\\\\\n",
       "\t7 & 7  & g  & 14 & 14 & 14 & 14\\\\\n",
       "\\end{tabular}\n"
      ],
      "text/markdown": [
       "\n",
       "| <!--/--> | col.name.1 | col.name.2 | newcol | copy.of.col2 | col1.times.2 | NA |\n",
       "|---|---|---|---|---|---|---|\n",
       "| 1 | 1  | a  |  2 |  2 |  2 |  2 |\n",
       "| 3 | 3  | c  |  6 |  6 |  6 |  6 |\n",
       "| 4 | 4  | d  |  8 |  8 |  8 |  8 |\n",
       "| 5 | 5  | e  | 10 | 10 | 10 | 10 |\n",
       "| 6 | 6  | f  | 12 | 12 | 12 | 12 |\n",
       "| 7 | 7  | g  | 14 | 14 | 14 | 14 |\n",
       "\n"
      ],
      "text/plain": [
       "  col.name.1 col.name.2 newcol copy.of.col2 col1.times.2 <NA>\n",
       "1 1          a           2      2            2            2  \n",
       "3 3          c           6      6            6            6  \n",
       "4 4          d           8      8            8            8  \n",
       "5 5          e          10     10           10           10  \n",
       "6 6          f          12     12           12           12  \n",
       "7 7          g          14     14           14           14  "
      ]
     },
     "metadata": {},
     "output_type": "display_data"
    }
   ],
   "source": [
    "everything.but.row.two <- df[-2, ] # Selects everything but second row\n",
    "head(everything.but.row.two)"
   ]
  },
  {
   "cell_type": "markdown",
   "id": "9130f4e1-6b81-4c65-b569-d62eae7e246b",
   "metadata": {},
   "source": [
    "**Conditional selection**\n",
    "\n",
    "* Remember to pass the comma, to request all other columns!"
   ]
  },
  {
   "cell_type": "code",
   "execution_count": 157,
   "id": "3cf98ba0-d334-417a-bc63-4f4789647075",
   "metadata": {},
   "outputs": [
    {
     "data": {
      "text/html": [
       "<table>\n",
       "<thead><tr><th></th><th scope=col>mpg</th><th scope=col>cyl</th><th scope=col>disp</th><th scope=col>hp</th><th scope=col>drat</th><th scope=col>wt</th><th scope=col>qsec</th><th scope=col>vs</th><th scope=col>am</th><th scope=col>gear</th><th scope=col>carb</th></tr></thead>\n",
       "<tbody>\n",
       "\t<tr><th scope=row>Fiat 128</th><td>32.4 </td><td>4    </td><td> 78.7</td><td> 66  </td><td>4.08 </td><td>2.200</td><td>19.47</td><td>1    </td><td>1    </td><td>4    </td><td>1    </td></tr>\n",
       "\t<tr><th scope=row>Honda Civic</th><td>30.4 </td><td>4    </td><td> 75.7</td><td> 52  </td><td>4.93 </td><td>1.615</td><td>18.52</td><td>1    </td><td>1    </td><td>4    </td><td>2    </td></tr>\n",
       "\t<tr><th scope=row>Toyota Corolla</th><td>33.9 </td><td>4    </td><td> 71.1</td><td> 65  </td><td>4.22 </td><td>1.835</td><td>19.90</td><td>1    </td><td>1    </td><td>4    </td><td>1    </td></tr>\n",
       "\t<tr><th scope=row>Fiat X1-9</th><td>27.3 </td><td>4    </td><td> 79.0</td><td> 66  </td><td>4.08 </td><td>1.935</td><td>18.90</td><td>1    </td><td>1    </td><td>4    </td><td>1    </td></tr>\n",
       "\t<tr><th scope=row>Porsche 914-2</th><td>26.0 </td><td>4    </td><td>120.3</td><td> 91  </td><td>4.43 </td><td>2.140</td><td>16.70</td><td>0    </td><td>1    </td><td>5    </td><td>2    </td></tr>\n",
       "\t<tr><th scope=row>Lotus Europa</th><td>30.4 </td><td>4    </td><td> 95.1</td><td>113  </td><td>3.77 </td><td>1.513</td><td>16.90</td><td>1    </td><td>1    </td><td>5    </td><td>2    </td></tr>\n",
       "</tbody>\n",
       "</table>\n"
      ],
      "text/latex": [
       "\\begin{tabular}{r|lllllllllll}\n",
       "  & mpg & cyl & disp & hp & drat & wt & qsec & vs & am & gear & carb\\\\\n",
       "\\hline\n",
       "\tFiat 128 & 32.4  & 4     &  78.7 &  66   & 4.08  & 2.200 & 19.47 & 1     & 1     & 4     & 1    \\\\\n",
       "\tHonda Civic & 30.4  & 4     &  75.7 &  52   & 4.93  & 1.615 & 18.52 & 1     & 1     & 4     & 2    \\\\\n",
       "\tToyota Corolla & 33.9  & 4     &  71.1 &  65   & 4.22  & 1.835 & 19.90 & 1     & 1     & 4     & 1    \\\\\n",
       "\tFiat X1-9 & 27.3  & 4     &  79.0 &  66   & 4.08  & 1.935 & 18.90 & 1     & 1     & 4     & 1    \\\\\n",
       "\tPorsche 914-2 & 26.0  & 4     & 120.3 &  91   & 4.43  & 2.140 & 16.70 & 0     & 1     & 5     & 2    \\\\\n",
       "\tLotus Europa & 30.4  & 4     &  95.1 & 113   & 3.77  & 1.513 & 16.90 & 1     & 1     & 5     & 2    \\\\\n",
       "\\end{tabular}\n"
      ],
      "text/markdown": [
       "\n",
       "| <!--/--> | mpg | cyl | disp | hp | drat | wt | qsec | vs | am | gear | carb |\n",
       "|---|---|---|---|---|---|---|---|---|---|---|---|\n",
       "| Fiat 128 | 32.4  | 4     |  78.7 |  66   | 4.08  | 2.200 | 19.47 | 1     | 1     | 4     | 1     |\n",
       "| Honda Civic | 30.4  | 4     |  75.7 |  52   | 4.93  | 1.615 | 18.52 | 1     | 1     | 4     | 2     |\n",
       "| Toyota Corolla | 33.9  | 4     |  71.1 |  65   | 4.22  | 1.835 | 19.90 | 1     | 1     | 4     | 1     |\n",
       "| Fiat X1-9 | 27.3  | 4     |  79.0 |  66   | 4.08  | 1.935 | 18.90 | 1     | 1     | 4     | 1     |\n",
       "| Porsche 914-2 | 26.0  | 4     | 120.3 |  91   | 4.43  | 2.140 | 16.70 | 0     | 1     | 5     | 2     |\n",
       "| Lotus Europa | 30.4  | 4     |  95.1 | 113   | 3.77  | 1.513 | 16.90 | 1     | 1     | 5     | 2     |\n",
       "\n"
      ],
      "text/plain": [
       "               mpg  cyl disp  hp  drat wt    qsec  vs am gear carb\n",
       "Fiat 128       32.4 4    78.7  66 4.08 2.200 19.47 1  1  4    1   \n",
       "Honda Civic    30.4 4    75.7  52 4.93 1.615 18.52 1  1  4    2   \n",
       "Toyota Corolla 33.9 4    71.1  65 4.22 1.835 19.90 1  1  4    1   \n",
       "Fiat X1-9      27.3 4    79.0  66 4.08 1.935 18.90 1  1  4    1   \n",
       "Porsche 914-2  26.0 4   120.3  91 4.43 2.140 16.70 0  1  5    2   \n",
       "Lotus Europa   30.4 4    95.1 113 3.77 1.513 16.90 1  1  5    2   "
      ]
     },
     "metadata": {},
     "output_type": "display_data"
    }
   ],
   "source": [
    "cars[(cars$mpg > 25),]  # Get all cars with mpg > 25"
   ]
  },
  {
   "cell_type": "code",
   "execution_count": 158,
   "id": "da9cdcb3-7865-4716-8f87-01abdc08b17a",
   "metadata": {},
   "outputs": [
    {
     "data": {
      "text/html": [
       "<table>\n",
       "<thead><tr><th></th><th scope=col>mpg</th><th scope=col>cyl</th><th scope=col>disp</th><th scope=col>hp</th><th scope=col>drat</th><th scope=col>wt</th><th scope=col>qsec</th><th scope=col>vs</th><th scope=col>am</th><th scope=col>gear</th><th scope=col>carb</th></tr></thead>\n",
       "<tbody>\n",
       "\t<tr><th scope=row>Mazda RX4</th><td>21.0 </td><td>6    </td><td>160  </td><td>110  </td><td>3.90 </td><td>2.620</td><td>16.46</td><td>0    </td><td>1    </td><td>4    </td><td>4    </td></tr>\n",
       "\t<tr><th scope=row>Mazda RX4 Wag</th><td>21.0 </td><td>6    </td><td>160  </td><td>110  </td><td>3.90 </td><td>2.875</td><td>17.02</td><td>0    </td><td>1    </td><td>4    </td><td>4    </td></tr>\n",
       "\t<tr><th scope=row>Hornet 4 Drive</th><td>21.4 </td><td>6    </td><td>258  </td><td>110  </td><td>3.08 </td><td>3.215</td><td>19.44</td><td>1    </td><td>0    </td><td>3    </td><td>1    </td></tr>\n",
       "</tbody>\n",
       "</table>\n"
      ],
      "text/latex": [
       "\\begin{tabular}{r|lllllllllll}\n",
       "  & mpg & cyl & disp & hp & drat & wt & qsec & vs & am & gear & carb\\\\\n",
       "\\hline\n",
       "\tMazda RX4 & 21.0  & 6     & 160   & 110   & 3.90  & 2.620 & 16.46 & 0     & 1     & 4     & 4    \\\\\n",
       "\tMazda RX4 Wag & 21.0  & 6     & 160   & 110   & 3.90  & 2.875 & 17.02 & 0     & 1     & 4     & 4    \\\\\n",
       "\tHornet 4 Drive & 21.4  & 6     & 258   & 110   & 3.08  & 3.215 & 19.44 & 1     & 0     & 3     & 1    \\\\\n",
       "\\end{tabular}\n"
      ],
      "text/markdown": [
       "\n",
       "| <!--/--> | mpg | cyl | disp | hp | drat | wt | qsec | vs | am | gear | carb |\n",
       "|---|---|---|---|---|---|---|---|---|---|---|---|\n",
       "| Mazda RX4 | 21.0  | 6     | 160   | 110   | 3.90  | 2.620 | 16.46 | 0     | 1     | 4     | 4     |\n",
       "| Mazda RX4 Wag | 21.0  | 6     | 160   | 110   | 3.90  | 2.875 | 17.02 | 0     | 1     | 4     | 4     |\n",
       "| Hornet 4 Drive | 21.4  | 6     | 258   | 110   | 3.08  | 3.215 | 19.44 | 1     | 0     | 3     | 1     |\n",
       "\n"
      ],
      "text/plain": [
       "               mpg  cyl disp hp  drat wt    qsec  vs am gear carb\n",
       "Mazda RX4      21.0 6   160  110 3.90 2.620 16.46 0  1  4    4   \n",
       "Mazda RX4 Wag  21.0 6   160  110 3.90 2.875 17.02 0  1  4    4   \n",
       "Hornet 4 Drive 21.4 6   258  110 3.08 3.215 19.44 1  0  3    1   "
      ]
     },
     "metadata": {},
     "output_type": "display_data"
    }
   ],
   "source": [
    "cars[(cars$mpg >20) & (cars$cyl==6),] # Selection with multiple conditions"
   ]
  },
  {
   "cell_type": "code",
   "execution_count": 159,
   "id": "e8717d5a-20b9-4e74-9273-3d4832846cc1",
   "metadata": {},
   "outputs": [
    {
     "data": {
      "text/html": [
       "<table>\n",
       "<thead><tr><th></th><th scope=col>mpg</th><th scope=col>cyl</th><th scope=col>hp</th></tr></thead>\n",
       "<tbody>\n",
       "\t<tr><th scope=row>Mazda RX4</th><td>21.0</td><td>6   </td><td>110 </td></tr>\n",
       "\t<tr><th scope=row>Mazda RX4 Wag</th><td>21.0</td><td>6   </td><td>110 </td></tr>\n",
       "\t<tr><th scope=row>Hornet 4 Drive</th><td>21.4</td><td>6   </td><td>110 </td></tr>\n",
       "</tbody>\n",
       "</table>\n"
      ],
      "text/latex": [
       "\\begin{tabular}{r|lll}\n",
       "  & mpg & cyl & hp\\\\\n",
       "\\hline\n",
       "\tMazda RX4 & 21.0 & 6    & 110 \\\\\n",
       "\tMazda RX4 Wag & 21.0 & 6    & 110 \\\\\n",
       "\tHornet 4 Drive & 21.4 & 6    & 110 \\\\\n",
       "\\end{tabular}\n"
      ],
      "text/markdown": [
       "\n",
       "| <!--/--> | mpg | cyl | hp |\n",
       "|---|---|---|---|\n",
       "| Mazda RX4 | 21.0 | 6    | 110  |\n",
       "| Mazda RX4 Wag | 21.0 | 6    | 110  |\n",
       "| Hornet 4 Drive | 21.4 | 6    | 110  |\n",
       "\n"
      ],
      "text/plain": [
       "               mpg  cyl hp \n",
       "Mazda RX4      21.0 6   110\n",
       "Mazda RX4 Wag  21.0 6   110\n",
       "Hornet 4 Drive 21.4 6   110"
      ]
     },
     "metadata": {},
     "output_type": "display_data"
    }
   ],
   "source": [
    "# Also select which columns to return\n",
    "cars[(cars$mpg >20) & (cars$cyl==6), c(\"mpg\", \"cyl\", \"hp\")]"
   ]
  },
  {
   "cell_type": "markdown",
   "id": "70f81520-ae8d-40b4-a21f-932b98d6ab3f",
   "metadata": {},
   "source": [
    "**`subset()`** function can do the same thing"
   ]
  },
  {
   "cell_type": "code",
   "execution_count": 160,
   "id": "e8b6bd45-b243-4ded-afaf-b05d279042ea",
   "metadata": {},
   "outputs": [
    {
     "data": {
      "text/html": [
       "<table>\n",
       "<thead><tr><th></th><th scope=col>mpg</th><th scope=col>cyl</th><th scope=col>hp</th></tr></thead>\n",
       "<tbody>\n",
       "\t<tr><th scope=row>Mazda RX4</th><td>21.0</td><td>6   </td><td>110 </td></tr>\n",
       "\t<tr><th scope=row>Mazda RX4 Wag</th><td>21.0</td><td>6   </td><td>110 </td></tr>\n",
       "\t<tr><th scope=row>Hornet 4 Drive</th><td>21.4</td><td>6   </td><td>110 </td></tr>\n",
       "</tbody>\n",
       "</table>\n"
      ],
      "text/latex": [
       "\\begin{tabular}{r|lll}\n",
       "  & mpg & cyl & hp\\\\\n",
       "\\hline\n",
       "\tMazda RX4 & 21.0 & 6    & 110 \\\\\n",
       "\tMazda RX4 Wag & 21.0 & 6    & 110 \\\\\n",
       "\tHornet 4 Drive & 21.4 & 6    & 110 \\\\\n",
       "\\end{tabular}\n"
      ],
      "text/markdown": [
       "\n",
       "| <!--/--> | mpg | cyl | hp |\n",
       "|---|---|---|---|\n",
       "| Mazda RX4 | 21.0 | 6    | 110  |\n",
       "| Mazda RX4 Wag | 21.0 | 6    | 110  |\n",
       "| Hornet 4 Drive | 21.4 | 6    | 110  |\n",
       "\n"
      ],
      "text/plain": [
       "               mpg  cyl hp \n",
       "Mazda RX4      21.0 6   110\n",
       "Mazda RX4 Wag  21.0 6   110\n",
       "Hornet 4 Drive 21.4 6   110"
      ]
     },
     "metadata": {},
     "output_type": "display_data"
    }
   ],
   "source": [
    "subset(x=cars, subset= (mpg >20 & cyl==6), select=c(\"mpg\", \"cyl\", \"hp\"))"
   ]
  },
  {
   "cell_type": "markdown",
   "id": "f9cd7228-c1f0-411b-a3a1-3d6dbab05763",
   "metadata": {},
   "source": [
    "**Select Multiple Columns**"
   ]
  },
  {
   "cell_type": "code",
   "execution_count": 161,
   "id": "de9193c3-c331-45e5-a2f2-c6bf2c14bcc7",
   "metadata": {},
   "outputs": [
    {
     "data": {
      "text/html": [
       "<table>\n",
       "<thead><tr><th></th><th scope=col>mpg</th><th scope=col>cyl</th><th scope=col>disp</th></tr></thead>\n",
       "<tbody>\n",
       "\t<tr><th scope=row>Mazda RX4</th><td>21.0</td><td>6   </td><td>160 </td></tr>\n",
       "\t<tr><th scope=row>Mazda RX4 Wag</th><td>21.0</td><td>6   </td><td>160 </td></tr>\n",
       "\t<tr><th scope=row>Datsun 710</th><td>22.8</td><td>4   </td><td>108 </td></tr>\n",
       "\t<tr><th scope=row>Hornet 4 Drive</th><td>21.4</td><td>6   </td><td>258 </td></tr>\n",
       "\t<tr><th scope=row>Hornet Sportabout</th><td>18.7</td><td>8   </td><td>360 </td></tr>\n",
       "\t<tr><th scope=row>Valiant</th><td>18.1</td><td>6   </td><td>225 </td></tr>\n",
       "</tbody>\n",
       "</table>\n"
      ],
      "text/latex": [
       "\\begin{tabular}{r|lll}\n",
       "  & mpg & cyl & disp\\\\\n",
       "\\hline\n",
       "\tMazda RX4 & 21.0 & 6    & 160 \\\\\n",
       "\tMazda RX4 Wag & 21.0 & 6    & 160 \\\\\n",
       "\tDatsun 710 & 22.8 & 4    & 108 \\\\\n",
       "\tHornet 4 Drive & 21.4 & 6    & 258 \\\\\n",
       "\tHornet Sportabout & 18.7 & 8    & 360 \\\\\n",
       "\tValiant & 18.1 & 6    & 225 \\\\\n",
       "\\end{tabular}\n"
      ],
      "text/markdown": [
       "\n",
       "| <!--/--> | mpg | cyl | disp |\n",
       "|---|---|---|---|\n",
       "| Mazda RX4 | 21.0 | 6    | 160  |\n",
       "| Mazda RX4 Wag | 21.0 | 6    | 160  |\n",
       "| Datsun 710 | 22.8 | 4    | 108  |\n",
       "| Hornet 4 Drive | 21.4 | 6    | 258  |\n",
       "| Hornet Sportabout | 18.7 | 8    | 360  |\n",
       "| Valiant | 18.1 | 6    | 225  |\n",
       "\n"
      ],
      "text/plain": [
       "                  mpg  cyl disp\n",
       "Mazda RX4         21.0 6   160 \n",
       "Mazda RX4 Wag     21.0 6   160 \n",
       "Datsun 710        22.8 4   108 \n",
       "Hornet 4 Drive    21.4 6   258 \n",
       "Hornet Sportabout 18.7 8   360 \n",
       "Valiant           18.1 6   225 "
      ]
     },
     "metadata": {},
     "output_type": "display_data"
    }
   ],
   "source": [
    "head(cars[,c(1,2,3)])"
   ]
  },
  {
   "cell_type": "code",
   "execution_count": 162,
   "id": "89c17602-dc64-4fa6-88c6-1d231f00200a",
   "metadata": {},
   "outputs": [
    {
     "data": {
      "text/html": [
       "<table>\n",
       "<thead><tr><th></th><th scope=col>mpg</th><th scope=col>cyl</th><th scope=col>disp</th></tr></thead>\n",
       "<tbody>\n",
       "\t<tr><th scope=row>Mazda RX4</th><td>21.0</td><td>6   </td><td>160 </td></tr>\n",
       "\t<tr><th scope=row>Mazda RX4 Wag</th><td>21.0</td><td>6   </td><td>160 </td></tr>\n",
       "\t<tr><th scope=row>Datsun 710</th><td>22.8</td><td>4   </td><td>108 </td></tr>\n",
       "\t<tr><th scope=row>Hornet 4 Drive</th><td>21.4</td><td>6   </td><td>258 </td></tr>\n",
       "\t<tr><th scope=row>Hornet Sportabout</th><td>18.7</td><td>8   </td><td>360 </td></tr>\n",
       "\t<tr><th scope=row>Valiant</th><td>18.1</td><td>6   </td><td>225 </td></tr>\n",
       "</tbody>\n",
       "</table>\n"
      ],
      "text/latex": [
       "\\begin{tabular}{r|lll}\n",
       "  & mpg & cyl & disp\\\\\n",
       "\\hline\n",
       "\tMazda RX4 & 21.0 & 6    & 160 \\\\\n",
       "\tMazda RX4 Wag & 21.0 & 6    & 160 \\\\\n",
       "\tDatsun 710 & 22.8 & 4    & 108 \\\\\n",
       "\tHornet 4 Drive & 21.4 & 6    & 258 \\\\\n",
       "\tHornet Sportabout & 18.7 & 8    & 360 \\\\\n",
       "\tValiant & 18.1 & 6    & 225 \\\\\n",
       "\\end{tabular}\n"
      ],
      "text/markdown": [
       "\n",
       "| <!--/--> | mpg | cyl | disp |\n",
       "|---|---|---|---|\n",
       "| Mazda RX4 | 21.0 | 6    | 160  |\n",
       "| Mazda RX4 Wag | 21.0 | 6    | 160  |\n",
       "| Datsun 710 | 22.8 | 4    | 108  |\n",
       "| Hornet 4 Drive | 21.4 | 6    | 258  |\n",
       "| Hornet Sportabout | 18.7 | 8    | 360  |\n",
       "| Valiant | 18.1 | 6    | 225  |\n",
       "\n"
      ],
      "text/plain": [
       "                  mpg  cyl disp\n",
       "Mazda RX4         21.0 6   160 \n",
       "Mazda RX4 Wag     21.0 6   160 \n",
       "Datsun 710        22.8 4   108 \n",
       "Hornet 4 Drive    21.4 6   258 \n",
       "Hornet Sportabout 18.7 8   360 \n",
       "Valiant           18.1 6   225 "
      ]
     },
     "metadata": {},
     "output_type": "display_data"
    }
   ],
   "source": [
    "head(cars[,c(\"mpg\", \"cyl\", \"disp\")])"
   ]
  },
  {
   "cell_type": "code",
   "execution_count": 163,
   "id": "662c8aa0-c9bb-43d0-b6bb-0d61dc2577e4",
   "metadata": {},
   "outputs": [
    {
     "data": {
      "text/html": [
       "<table>\n",
       "<thead><tr><th></th><th scope=col>cyl</th><th scope=col>disp</th><th scope=col>hp</th><th scope=col>drat</th><th scope=col>wt</th><th scope=col>qsec</th><th scope=col>vs</th><th scope=col>am</th><th scope=col>gear</th><th scope=col>carb</th></tr></thead>\n",
       "<tbody>\n",
       "\t<tr><th scope=row>Mazda RX4</th><td>6    </td><td>160  </td><td>110  </td><td>3.90 </td><td>2.620</td><td>16.46</td><td>0    </td><td>1    </td><td>4    </td><td>4    </td></tr>\n",
       "\t<tr><th scope=row>Mazda RX4 Wag</th><td>6    </td><td>160  </td><td>110  </td><td>3.90 </td><td>2.875</td><td>17.02</td><td>0    </td><td>1    </td><td>4    </td><td>4    </td></tr>\n",
       "\t<tr><th scope=row>Datsun 710</th><td>4    </td><td>108  </td><td> 93  </td><td>3.85 </td><td>2.320</td><td>18.61</td><td>1    </td><td>1    </td><td>4    </td><td>1    </td></tr>\n",
       "\t<tr><th scope=row>Hornet 4 Drive</th><td>6    </td><td>258  </td><td>110  </td><td>3.08 </td><td>3.215</td><td>19.44</td><td>1    </td><td>0    </td><td>3    </td><td>1    </td></tr>\n",
       "\t<tr><th scope=row>Hornet Sportabout</th><td>8    </td><td>360  </td><td>175  </td><td>3.15 </td><td>3.440</td><td>17.02</td><td>0    </td><td>0    </td><td>3    </td><td>2    </td></tr>\n",
       "\t<tr><th scope=row>Valiant</th><td>6    </td><td>225  </td><td>105  </td><td>2.76 </td><td>3.460</td><td>20.22</td><td>1    </td><td>0    </td><td>3    </td><td>1    </td></tr>\n",
       "</tbody>\n",
       "</table>\n"
      ],
      "text/latex": [
       "\\begin{tabular}{r|llllllllll}\n",
       "  & cyl & disp & hp & drat & wt & qsec & vs & am & gear & carb\\\\\n",
       "\\hline\n",
       "\tMazda RX4 & 6     & 160   & 110   & 3.90  & 2.620 & 16.46 & 0     & 1     & 4     & 4    \\\\\n",
       "\tMazda RX4 Wag & 6     & 160   & 110   & 3.90  & 2.875 & 17.02 & 0     & 1     & 4     & 4    \\\\\n",
       "\tDatsun 710 & 4     & 108   &  93   & 3.85  & 2.320 & 18.61 & 1     & 1     & 4     & 1    \\\\\n",
       "\tHornet 4 Drive & 6     & 258   & 110   & 3.08  & 3.215 & 19.44 & 1     & 0     & 3     & 1    \\\\\n",
       "\tHornet Sportabout & 8     & 360   & 175   & 3.15  & 3.440 & 17.02 & 0     & 0     & 3     & 2    \\\\\n",
       "\tValiant & 6     & 225   & 105   & 2.76  & 3.460 & 20.22 & 1     & 0     & 3     & 1    \\\\\n",
       "\\end{tabular}\n"
      ],
      "text/markdown": [
       "\n",
       "| <!--/--> | cyl | disp | hp | drat | wt | qsec | vs | am | gear | carb |\n",
       "|---|---|---|---|---|---|---|---|---|---|---|\n",
       "| Mazda RX4 | 6     | 160   | 110   | 3.90  | 2.620 | 16.46 | 0     | 1     | 4     | 4     |\n",
       "| Mazda RX4 Wag | 6     | 160   | 110   | 3.90  | 2.875 | 17.02 | 0     | 1     | 4     | 4     |\n",
       "| Datsun 710 | 4     | 108   |  93   | 3.85  | 2.320 | 18.61 | 1     | 1     | 4     | 1     |\n",
       "| Hornet 4 Drive | 6     | 258   | 110   | 3.08  | 3.215 | 19.44 | 1     | 0     | 3     | 1     |\n",
       "| Hornet Sportabout | 8     | 360   | 175   | 3.15  | 3.440 | 17.02 | 0     | 0     | 3     | 2     |\n",
       "| Valiant | 6     | 225   | 105   | 2.76  | 3.460 | 20.22 | 1     | 0     | 3     | 1     |\n",
       "\n"
      ],
      "text/plain": [
       "                  cyl disp hp  drat wt    qsec  vs am gear carb\n",
       "Mazda RX4         6   160  110 3.90 2.620 16.46 0  1  4    4   \n",
       "Mazda RX4 Wag     6   160  110 3.90 2.875 17.02 0  1  4    4   \n",
       "Datsun 710        4   108   93 3.85 2.320 18.61 1  1  4    1   \n",
       "Hornet 4 Drive    6   258  110 3.08 3.215 19.44 1  0  3    1   \n",
       "Hornet Sportabout 8   360  175 3.15 3.440 17.02 0  0  3    2   \n",
       "Valiant           6   225  105 2.76 3.460 20.22 1  0  3    1   "
      ]
     },
     "metadata": {},
     "output_type": "display_data"
    }
   ],
   "source": [
    "head(cars[, -1]) # Drop column 1"
   ]
  },
  {
   "cell_type": "code",
   "execution_count": 164,
   "id": "3a8bc08f-c0b5-4d7d-aacf-ba018e2f22df",
   "metadata": {},
   "outputs": [
    {
     "data": {
      "text/html": [
       "<table>\n",
       "<thead><tr><th></th><th scope=col>cyl</th><th scope=col>hp</th><th scope=col>drat</th><th scope=col>wt</th><th scope=col>qsec</th><th scope=col>vs</th><th scope=col>am</th><th scope=col>gear</th><th scope=col>carb</th></tr></thead>\n",
       "<tbody>\n",
       "\t<tr><th scope=row>Mazda RX4</th><td>6    </td><td>110  </td><td>3.90 </td><td>2.620</td><td>16.46</td><td>0    </td><td>1    </td><td>4    </td><td>4    </td></tr>\n",
       "\t<tr><th scope=row>Mazda RX4 Wag</th><td>6    </td><td>110  </td><td>3.90 </td><td>2.875</td><td>17.02</td><td>0    </td><td>1    </td><td>4    </td><td>4    </td></tr>\n",
       "\t<tr><th scope=row>Datsun 710</th><td>4    </td><td> 93  </td><td>3.85 </td><td>2.320</td><td>18.61</td><td>1    </td><td>1    </td><td>4    </td><td>1    </td></tr>\n",
       "\t<tr><th scope=row>Hornet 4 Drive</th><td>6    </td><td>110  </td><td>3.08 </td><td>3.215</td><td>19.44</td><td>1    </td><td>0    </td><td>3    </td><td>1    </td></tr>\n",
       "\t<tr><th scope=row>Hornet Sportabout</th><td>8    </td><td>175  </td><td>3.15 </td><td>3.440</td><td>17.02</td><td>0    </td><td>0    </td><td>3    </td><td>2    </td></tr>\n",
       "\t<tr><th scope=row>Valiant</th><td>6    </td><td>105  </td><td>2.76 </td><td>3.460</td><td>20.22</td><td>1    </td><td>0    </td><td>3    </td><td>1    </td></tr>\n",
       "</tbody>\n",
       "</table>\n"
      ],
      "text/latex": [
       "\\begin{tabular}{r|lllllllll}\n",
       "  & cyl & hp & drat & wt & qsec & vs & am & gear & carb\\\\\n",
       "\\hline\n",
       "\tMazda RX4 & 6     & 110   & 3.90  & 2.620 & 16.46 & 0     & 1     & 4     & 4    \\\\\n",
       "\tMazda RX4 Wag & 6     & 110   & 3.90  & 2.875 & 17.02 & 0     & 1     & 4     & 4    \\\\\n",
       "\tDatsun 710 & 4     &  93   & 3.85  & 2.320 & 18.61 & 1     & 1     & 4     & 1    \\\\\n",
       "\tHornet 4 Drive & 6     & 110   & 3.08  & 3.215 & 19.44 & 1     & 0     & 3     & 1    \\\\\n",
       "\tHornet Sportabout & 8     & 175   & 3.15  & 3.440 & 17.02 & 0     & 0     & 3     & 2    \\\\\n",
       "\tValiant & 6     & 105   & 2.76  & 3.460 & 20.22 & 1     & 0     & 3     & 1    \\\\\n",
       "\\end{tabular}\n"
      ],
      "text/markdown": [
       "\n",
       "| <!--/--> | cyl | hp | drat | wt | qsec | vs | am | gear | carb |\n",
       "|---|---|---|---|---|---|---|---|---|---|\n",
       "| Mazda RX4 | 6     | 110   | 3.90  | 2.620 | 16.46 | 0     | 1     | 4     | 4     |\n",
       "| Mazda RX4 Wag | 6     | 110   | 3.90  | 2.875 | 17.02 | 0     | 1     | 4     | 4     |\n",
       "| Datsun 710 | 4     |  93   | 3.85  | 2.320 | 18.61 | 1     | 1     | 4     | 1     |\n",
       "| Hornet 4 Drive | 6     | 110   | 3.08  | 3.215 | 19.44 | 1     | 0     | 3     | 1     |\n",
       "| Hornet Sportabout | 8     | 175   | 3.15  | 3.440 | 17.02 | 0     | 0     | 3     | 2     |\n",
       "| Valiant | 6     | 105   | 2.76  | 3.460 | 20.22 | 1     | 0     | 3     | 1     |\n",
       "\n"
      ],
      "text/plain": [
       "                  cyl hp  drat wt    qsec  vs am gear carb\n",
       "Mazda RX4         6   110 3.90 2.620 16.46 0  1  4    4   \n",
       "Mazda RX4 Wag     6   110 3.90 2.875 17.02 0  1  4    4   \n",
       "Datsun 710        4    93 3.85 2.320 18.61 1  1  4    1   \n",
       "Hornet 4 Drive    6   110 3.08 3.215 19.44 1  0  3    1   \n",
       "Hornet Sportabout 8   175 3.15 3.440 17.02 0  0  3    2   \n",
       "Valiant           6   105 2.76 3.460 20.22 1  0  3    1   "
      ]
     },
     "metadata": {},
     "output_type": "display_data"
    }
   ],
   "source": [
    "head(cars[, -c(1, 3)]) # Drop columns 1 and 3"
   ]
  },
  {
   "cell_type": "markdown",
   "id": "7b7cd24a-c4fa-4059-822c-6fe820d56860",
   "metadata": {},
   "source": [
    "**Dealing with Missing Data** \n",
    "\n",
    "* If we run the **`is.na(df)`** by itself, we can a boolean data frame of same size. \n",
    "* The **`any()`** function returns a single TRUE or FALSE depending if there any missing points. "
   ]
  },
  {
   "cell_type": "code",
   "execution_count": 165,
   "id": "f6f85bb2-8a40-42e3-917a-81df76008f0a",
   "metadata": {},
   "outputs": [
    {
     "data": {
      "text/html": [
       "FALSE"
      ],
      "text/latex": [
       "FALSE"
      ],
      "text/markdown": [
       "FALSE"
      ],
      "text/plain": [
       "[1] FALSE"
      ]
     },
     "metadata": {},
     "output_type": "display_data"
    }
   ],
   "source": [
    "any(is.na(cars)) # Checks if there is any missing data in data frame"
   ]
  },
  {
   "cell_type": "markdown",
   "id": "b0534bbb-8bbd-4949-b1a8-951322f61257",
   "metadata": {},
   "source": [
    "* If you want to check a spefici column or columns, you just specify them in the df call. "
   ]
  },
  {
   "cell_type": "code",
   "execution_count": 166,
   "id": "8e64b14b-f1c8-4cf8-9881-cac42acb7aea",
   "metadata": {},
   "outputs": [
    {
     "data": {
      "text/html": [
       "FALSE"
      ],
      "text/latex": [
       "FALSE"
      ],
      "text/markdown": [
       "FALSE"
      ],
      "text/plain": [
       "[1] FALSE"
      ]
     },
     "metadata": {},
     "output_type": "display_data"
    }
   ],
   "source": [
    "any(is.na(cars$mpg))"
   ]
  },
  {
   "cell_type": "markdown",
   "id": "8ed41291-e655-43dd-be51-d789478ca707",
   "metadata": {},
   "source": [
    "* Typically we will do an assignment like this for a single column"
   ]
  },
  {
   "cell_type": "code",
   "execution_count": 167,
   "id": "54bc2861-b7a2-402a-a089-86038951f860",
   "metadata": {},
   "outputs": [],
   "source": [
    "df[is.na(df)] <- 0 # Assigns all missing data with chosen value"
   ]
  },
  {
   "cell_type": "code",
   "execution_count": 168,
   "id": "1a93f977-c74e-45ea-afae-9a2d02267d26",
   "metadata": {},
   "outputs": [],
   "source": [
    "df[is.na(cars$mpg)] <- 0"
   ]
  },
  {
   "cell_type": "code",
   "execution_count": 169,
   "id": "d484bb3e-3be0-4666-821e-21638388446c",
   "metadata": {},
   "outputs": [],
   "source": [
    " # Replaces missing values of column with mean value of column\n",
    "df[is.na(cars$mpg)] <- mean(cars$mpg)"
   ]
  },
  {
   "cell_type": "code",
   "execution_count": 170,
   "id": "72158b54-b58c-44cd-8786-3b47a052052b",
   "metadata": {},
   "outputs": [],
   "source": [
    "# Keep rows where there are no missing data in col column\n",
    "df <- df[!is.na(df$col),]"
   ]
  }
 ],
 "metadata": {
  "kernelspec": {
   "display_name": "R",
   "language": "R",
   "name": "ir"
  },
  "language_info": {
   "codemirror_mode": "r",
   "file_extension": ".r",
   "mimetype": "text/x-r-source",
   "name": "R",
   "pygments_lexer": "r",
   "version": "3.6.1"
  }
 },
 "nbformat": 4,
 "nbformat_minor": 5
}
