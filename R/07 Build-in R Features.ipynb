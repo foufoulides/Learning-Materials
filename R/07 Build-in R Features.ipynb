{
 "cells": [
  {
   "cell_type": "markdown",
   "id": "393835b5-30c1-4349-81b5-ce91be89be52",
   "metadata": {},
   "source": [
    "### <center> Build-in R Features </center>\n",
    "\n",
    "### Build-in Data Structure Functions\n",
    "\n",
    "* R contains quite a few useful build-in function to work with data structures. \n",
    "* Here are some of the key functions to know: \n",
    "\n",
    "| Function | Description| \n",
    "| ---- | ---- |\n",
    "|**`seq(start, end, step size)`** | Create number sequences |\n",
    "|**`sort(vector.name)`** | Sort a vector |\n",
    "|**`rev(object.name)`** | Reverse elements of an object |\n",
    "|**`str(object.name)`** | Show the structure of an object | \n",
    "|**`append()`** | Merge object together (works on vectors and lists)|\n",
    "|**`is.objectType(object)`** | Check the class of an R object |\n",
    "|**`as.objectType(object)`** | Convert (cast) R object |\n",
    "\n",
    "* Examples:"
   ]
  },
  {
   "cell_type": "code",
   "execution_count": 28,
   "id": "c534ad76-b7f2-40ef-96ac-36d23be9522b",
   "metadata": {
    "scrolled": true
   },
   "outputs": [
    {
     "data": {
      "text/html": [
       "<ol class=list-inline>\n",
       "\t<li>0</li>\n",
       "\t<li>2</li>\n",
       "\t<li>4</li>\n",
       "\t<li>6</li>\n",
       "\t<li>8</li>\n",
       "\t<li>10</li>\n",
       "</ol>\n"
      ],
      "text/latex": [
       "\\begin{enumerate*}\n",
       "\\item 0\n",
       "\\item 2\n",
       "\\item 4\n",
       "\\item 6\n",
       "\\item 8\n",
       "\\item 10\n",
       "\\end{enumerate*}\n"
      ],
      "text/markdown": [
       "1. 0\n",
       "2. 2\n",
       "3. 4\n",
       "4. 6\n",
       "5. 8\n",
       "6. 10\n",
       "\n",
       "\n"
      ],
      "text/plain": [
       "[1]  0  2  4  6  8 10"
      ]
     },
     "metadata": {},
     "output_type": "display_data"
    }
   ],
   "source": [
    "seq(from=0, to=10, by=2) # if you put in order explicit call not nessecary"
   ]
  },
  {
   "cell_type": "code",
   "execution_count": 16,
   "id": "4f9ec76e-fcf9-4b37-9c77-3acca47a3d36",
   "metadata": {},
   "outputs": [],
   "source": [
    "v1 <- c(1, 4, 6, 7, 2, 13, 3)"
   ]
  },
  {
   "cell_type": "code",
   "execution_count": 29,
   "id": "ab8aa89c-ac3b-48c6-9e4d-246a3ce970ff",
   "metadata": {},
   "outputs": [
    {
     "data": {
      "text/html": [
       "<ol class=list-inline>\n",
       "\t<li>1</li>\n",
       "\t<li>2</li>\n",
       "\t<li>3</li>\n",
       "\t<li>4</li>\n",
       "\t<li>6</li>\n",
       "\t<li>7</li>\n",
       "\t<li>13</li>\n",
       "</ol>\n"
      ],
      "text/latex": [
       "\\begin{enumerate*}\n",
       "\\item 1\n",
       "\\item 2\n",
       "\\item 3\n",
       "\\item 4\n",
       "\\item 6\n",
       "\\item 7\n",
       "\\item 13\n",
       "\\end{enumerate*}\n"
      ],
      "text/markdown": [
       "1. 1\n",
       "2. 2\n",
       "3. 3\n",
       "4. 4\n",
       "5. 6\n",
       "6. 7\n",
       "7. 13\n",
       "\n",
       "\n"
      ],
      "text/plain": [
       "[1]  1  2  3  4  6  7 13"
      ]
     },
     "metadata": {},
     "output_type": "display_data"
    }
   ],
   "source": [
    "sort(x=v1)"
   ]
  },
  {
   "cell_type": "code",
   "execution_count": 30,
   "id": "c4b75fc7-7b35-41e2-9342-54e492a69a51",
   "metadata": {},
   "outputs": [
    {
     "data": {
      "text/html": [
       "<ol class=list-inline>\n",
       "\t<li>13</li>\n",
       "\t<li>7</li>\n",
       "\t<li>6</li>\n",
       "\t<li>4</li>\n",
       "\t<li>3</li>\n",
       "\t<li>2</li>\n",
       "\t<li>1</li>\n",
       "</ol>\n"
      ],
      "text/latex": [
       "\\begin{enumerate*}\n",
       "\\item 13\n",
       "\\item 7\n",
       "\\item 6\n",
       "\\item 4\n",
       "\\item 3\n",
       "\\item 2\n",
       "\\item 1\n",
       "\\end{enumerate*}\n"
      ],
      "text/markdown": [
       "1. 13\n",
       "2. 7\n",
       "3. 6\n",
       "4. 4\n",
       "5. 3\n",
       "6. 2\n",
       "7. 1\n",
       "\n",
       "\n"
      ],
      "text/plain": [
       "[1] 13  7  6  4  3  2  1"
      ]
     },
     "metadata": {},
     "output_type": "display_data"
    }
   ],
   "source": [
    "sort(x=v1, decreasing = TRUE)"
   ]
  },
  {
   "cell_type": "code",
   "execution_count": 31,
   "id": "0a6f381f-6585-497b-9663-be3b3f4e07ef",
   "metadata": {},
   "outputs": [
    {
     "data": {
      "text/html": [
       "<ol class=list-inline>\n",
       "\t<li>1</li>\n",
       "\t<li>2</li>\n",
       "\t<li>3</li>\n",
       "\t<li>4</li>\n",
       "\t<li>5</li>\n",
       "</ol>\n"
      ],
      "text/latex": [
       "\\begin{enumerate*}\n",
       "\\item 1\n",
       "\\item 2\n",
       "\\item 3\n",
       "\\item 4\n",
       "\\item 5\n",
       "\\end{enumerate*}\n"
      ],
      "text/markdown": [
       "1. 1\n",
       "2. 2\n",
       "3. 3\n",
       "4. 4\n",
       "5. 5\n",
       "\n",
       "\n"
      ],
      "text/plain": [
       "[1] 1 2 3 4 5"
      ]
     },
     "metadata": {},
     "output_type": "display_data"
    }
   ],
   "source": [
    "v2 <- c(1,2,3,4,5)\n",
    "v2"
   ]
  },
  {
   "cell_type": "code",
   "execution_count": 32,
   "id": "74909d56-2fac-4a34-a291-4b74663f2e27",
   "metadata": {},
   "outputs": [
    {
     "data": {
      "text/html": [
       "<ol class=list-inline>\n",
       "\t<li>5</li>\n",
       "\t<li>4</li>\n",
       "\t<li>3</li>\n",
       "\t<li>2</li>\n",
       "\t<li>1</li>\n",
       "</ol>\n"
      ],
      "text/latex": [
       "\\begin{enumerate*}\n",
       "\\item 5\n",
       "\\item 4\n",
       "\\item 3\n",
       "\\item 2\n",
       "\\item 1\n",
       "\\end{enumerate*}\n"
      ],
      "text/markdown": [
       "1. 5\n",
       "2. 4\n",
       "3. 3\n",
       "4. 2\n",
       "5. 1\n",
       "\n",
       "\n"
      ],
      "text/plain": [
       "[1] 5 4 3 2 1"
      ]
     },
     "metadata": {},
     "output_type": "display_data"
    }
   ],
   "source": [
    "rev(x = v2)"
   ]
  },
  {
   "cell_type": "code",
   "execution_count": 33,
   "id": "7e8e0324-6993-46eb-ada1-c6fc8f6beeb4",
   "metadata": {},
   "outputs": [
    {
     "name": "stdout",
     "output_type": "stream",
     "text": [
      " num [1:7] 1 4 6 7 2 13 3\n",
      " num [1:5] 1 2 3 4 5\n"
     ]
    }
   ],
   "source": [
    "str(v1)\n",
    "str(v2)"
   ]
  },
  {
   "cell_type": "code",
   "execution_count": 24,
   "id": "0dbb7177-816e-455f-8a26-e4a0788163a6",
   "metadata": {},
   "outputs": [
    {
     "data": {
      "text/html": [
       "<ol class=list-inline>\n",
       "\t<li>1</li>\n",
       "\t<li>4</li>\n",
       "\t<li>6</li>\n",
       "\t<li>7</li>\n",
       "\t<li>2</li>\n",
       "\t<li>13</li>\n",
       "\t<li>3</li>\n",
       "\t<li>1</li>\n",
       "\t<li>2</li>\n",
       "\t<li>3</li>\n",
       "\t<li>4</li>\n",
       "\t<li>5</li>\n",
       "</ol>\n"
      ],
      "text/latex": [
       "\\begin{enumerate*}\n",
       "\\item 1\n",
       "\\item 4\n",
       "\\item 6\n",
       "\\item 7\n",
       "\\item 2\n",
       "\\item 13\n",
       "\\item 3\n",
       "\\item 1\n",
       "\\item 2\n",
       "\\item 3\n",
       "\\item 4\n",
       "\\item 5\n",
       "\\end{enumerate*}\n"
      ],
      "text/markdown": [
       "1. 1\n",
       "2. 4\n",
       "3. 6\n",
       "4. 7\n",
       "5. 2\n",
       "6. 13\n",
       "7. 3\n",
       "8. 1\n",
       "9. 2\n",
       "10. 3\n",
       "11. 4\n",
       "12. 5\n",
       "\n",
       "\n"
      ],
      "text/plain": [
       " [1]  1  4  6  7  2 13  3  1  2  3  4  5"
      ]
     },
     "metadata": {},
     "output_type": "display_data"
    }
   ],
   "source": [
    "append(v1, v2)"
   ]
  },
  {
   "cell_type": "code",
   "execution_count": 34,
   "id": "4cfbe8d2-fb29-41e6-979b-d236a02d9076",
   "metadata": {},
   "outputs": [
    {
     "data": {
      "text/html": [
       "<ol class=list-inline>\n",
       "\t<li>1</li>\n",
       "\t<li>1</li>\n",
       "\t<li>2</li>\n",
       "\t<li>2</li>\n",
       "\t<li>3</li>\n",
       "\t<li>3</li>\n",
       "\t<li>4</li>\n",
       "\t<li>4</li>\n",
       "\t<li>5</li>\n",
       "\t<li>6</li>\n",
       "\t<li>7</li>\n",
       "\t<li>13</li>\n",
       "</ol>\n"
      ],
      "text/latex": [
       "\\begin{enumerate*}\n",
       "\\item 1\n",
       "\\item 1\n",
       "\\item 2\n",
       "\\item 2\n",
       "\\item 3\n",
       "\\item 3\n",
       "\\item 4\n",
       "\\item 4\n",
       "\\item 5\n",
       "\\item 6\n",
       "\\item 7\n",
       "\\item 13\n",
       "\\end{enumerate*}\n"
      ],
      "text/markdown": [
       "1. 1\n",
       "2. 1\n",
       "3. 2\n",
       "4. 2\n",
       "5. 3\n",
       "6. 3\n",
       "7. 4\n",
       "8. 4\n",
       "9. 5\n",
       "10. 6\n",
       "11. 7\n",
       "12. 13\n",
       "\n",
       "\n"
      ],
      "text/plain": [
       " [1]  1  1  2  2  3  3  4  4  5  6  7 13"
      ]
     },
     "metadata": {},
     "output_type": "display_data"
    }
   ],
   "source": [
    "sort(append(v1,v2)) # You can combine functions just like in Excel"
   ]
  },
  {
   "cell_type": "code",
   "execution_count": 40,
   "id": "062231ea-92ac-48d7-8db2-98521d140b59",
   "metadata": {},
   "outputs": [],
   "source": [
    "v3 <- c(1,2,3)"
   ]
  },
  {
   "cell_type": "code",
   "execution_count": 41,
   "id": "365130b7-5a5d-4501-990a-47f46fb2c2ee",
   "metadata": {},
   "outputs": [
    {
     "data": {
      "text/html": [
       "TRUE"
      ],
      "text/latex": [
       "TRUE"
      ],
      "text/markdown": [
       "TRUE"
      ],
      "text/plain": [
       "[1] TRUE"
      ]
     },
     "metadata": {},
     "output_type": "display_data"
    }
   ],
   "source": [
    "is.vector(v3)"
   ]
  },
  {
   "cell_type": "code",
   "execution_count": 42,
   "id": "82220272-b6db-4c58-a22f-7f4b8d746172",
   "metadata": {},
   "outputs": [
    {
     "data": {
      "text/html": [
       "FALSE"
      ],
      "text/latex": [
       "FALSE"
      ],
      "text/markdown": [
       "FALSE"
      ],
      "text/plain": [
       "[1] FALSE"
      ]
     },
     "metadata": {},
     "output_type": "display_data"
    }
   ],
   "source": [
    "is.list(v3)"
   ]
  },
  {
   "cell_type": "code",
   "execution_count": 43,
   "id": "248b48bc-9022-41a3-8afe-7e7c993d7480",
   "metadata": {},
   "outputs": [
    {
     "data": {
      "text/html": [
       "FALSE"
      ],
      "text/latex": [
       "FALSE"
      ],
      "text/markdown": [
       "FALSE"
      ],
      "text/plain": [
       "[1] FALSE"
      ]
     },
     "metadata": {},
     "output_type": "display_data"
    }
   ],
   "source": [
    "is.matrix(v3)"
   ]
  },
  {
   "cell_type": "code",
   "execution_count": 48,
   "id": "ac8a3151-3569-4bd4-b0cc-d75a2ea74c4f",
   "metadata": {},
   "outputs": [
    {
     "data": {
      "text/html": [
       "<table>\n",
       "<tbody>\n",
       "\t<tr><td>1</td></tr>\n",
       "\t<tr><td>2</td></tr>\n",
       "\t<tr><td>3</td></tr>\n",
       "</tbody>\n",
       "</table>\n"
      ],
      "text/latex": [
       "\\begin{tabular}{l}\n",
       "\t 1\\\\\n",
       "\t 2\\\\\n",
       "\t 3\\\\\n",
       "\\end{tabular}\n"
      ],
      "text/markdown": [
       "\n",
       "| 1 |\n",
       "| 2 |\n",
       "| 3 |\n",
       "\n"
      ],
      "text/plain": [
       "     [,1]\n",
       "[1,] 1   \n",
       "[2,] 2   \n",
       "[3,] 3   "
      ]
     },
     "metadata": {},
     "output_type": "display_data"
    }
   ],
   "source": [
    "v4 = as.matrix(v3)\n",
    "v4"
   ]
  },
  {
   "cell_type": "code",
   "execution_count": 49,
   "id": "809f4a7e-efda-473b-9b26-d2dd9b66685b",
   "metadata": {},
   "outputs": [
    {
     "data": {
      "text/html": [
       "TRUE"
      ],
      "text/latex": [
       "TRUE"
      ],
      "text/markdown": [
       "TRUE"
      ],
      "text/plain": [
       "[1] TRUE"
      ]
     },
     "metadata": {},
     "output_type": "display_data"
    }
   ],
   "source": [
    "is.matrix(v4)"
   ]
  },
  {
   "cell_type": "markdown",
   "id": "3fc741d2-010b-4965-a5e6-fde336329710",
   "metadata": {},
   "source": [
    "### **`apply()`** functions\n",
    "\n",
    "* In this lecture we will learn about three different **`apply()`** functions, to apply a function over an iterable object like a list or a vector.\n",
    "* Note that we are passing a function as an argument, not calling it, so we don't use parentheses **`()`**.\n",
    "\n",
    "| Function | Description| \n",
    "| ---- | ---- |\n",
    "|**`lapply(list_or_vector, function)`** | Return a list of same length as X, each element is the result of applying function argument. \"l\" stands for list. |\n",
    "|**`sapply(list_or_vector, function, simplify = TRUE)`** | User-friendly version of `lapply()`, return a `vector` or a `matrix` if `simplify` is `TRUE`. \"s\" stands for simplify. |\n",
    "|**`sample(vector, sample_size)`** | Takes a sample of specified sample size from elements of object x, typically a vector, with or without replacement. |"
   ]
  },
  {
   "cell_type": "markdown",
   "id": "7e128174-ee5d-4606-b6bb-a0a14b8013d8",
   "metadata": {},
   "source": [
    "* First let's show a quick useful function called **`sample()`**. "
   ]
  },
  {
   "cell_type": "code",
   "execution_count": 54,
   "id": "b92caca2-ecc9-4fe4-9581-8ee835af0beb",
   "metadata": {},
   "outputs": [
    {
     "data": {
      "text/html": [
       "<ol class=list-inline>\n",
       "\t<li>10</li>\n",
       "\t<li>5</li>\n",
       "</ol>\n"
      ],
      "text/latex": [
       "\\begin{enumerate*}\n",
       "\\item 10\n",
       "\\item 5\n",
       "\\end{enumerate*}\n"
      ],
      "text/markdown": [
       "1. 10\n",
       "2. 5\n",
       "\n",
       "\n"
      ],
      "text/plain": [
       "[1] 10  5"
      ]
     },
     "metadata": {},
     "output_type": "display_data"
    }
   ],
   "source": [
    "sample(x = 1:10, size=2)"
   ]
  },
  {
   "cell_type": "markdown",
   "id": "b972931c-67f9-42db-821a-0177924ad155",
   "metadata": {},
   "source": [
    "* Now let's look at an example where we use **`lapply()`** to apply a function over a vector. "
   ]
  },
  {
   "cell_type": "code",
   "execution_count": 68,
   "id": "b9491071-5703-42f6-acfa-9ee88587cce5",
   "metadata": {},
   "outputs": [
    {
     "data": {
      "text/html": [
       "<ol>\n",
       "\t<li>9</li>\n",
       "\t<li>12</li>\n",
       "\t<li>8</li>\n",
       "\t<li>6</li>\n",
       "\t<li>9</li>\n",
       "</ol>\n"
      ],
      "text/latex": [
       "\\begin{enumerate}\n",
       "\\item 9\n",
       "\\item 12\n",
       "\\item 8\n",
       "\\item 6\n",
       "\\item 9\n",
       "\\end{enumerate}\n"
      ],
      "text/markdown": [
       "1. 9\n",
       "2. 12\n",
       "3. 8\n",
       "4. 6\n",
       "5. 9\n",
       "\n",
       "\n"
      ],
      "text/plain": [
       "[[1]]\n",
       "[1] 9\n",
       "\n",
       "[[2]]\n",
       "[1] 12\n",
       "\n",
       "[[3]]\n",
       "[1] 8\n",
       "\n",
       "[[4]]\n",
       "[1] 6\n",
       "\n",
       "[[5]]\n",
       "[1] 9\n"
      ]
     },
     "metadata": {},
     "output_type": "display_data"
    }
   ],
   "source": [
    "v <- 1:5 # Create a vector from 1 to 5\n",
    "\n",
    "add.rand <- function(n){ \n",
    "    ran <- sample(x=1:10, 1) # Get a random number\n",
    "    return (n + ran) # Return x plus a random number\n",
    "    } \n",
    "\n",
    "lapply(v, add.rand) # Returns a list where some random number is added to each vector element"
   ]
  },
  {
   "cell_type": "code",
   "execution_count": 67,
   "id": "83ab23e7-4e1d-4b1c-9748-f0b536eb824a",
   "metadata": {},
   "outputs": [
    {
     "data": {
      "text/html": [
       "<ol class=list-inline>\n",
       "\t<li>7</li>\n",
       "\t<li>8</li>\n",
       "\t<li>9</li>\n",
       "\t<li>10</li>\n",
       "\t<li>11</li>\n",
       "</ol>\n"
      ],
      "text/latex": [
       "\\begin{enumerate*}\n",
       "\\item 7\n",
       "\\item 8\n",
       "\\item 9\n",
       "\\item 10\n",
       "\\item 11\n",
       "\\end{enumerate*}\n"
      ],
      "text/markdown": [
       "1. 7\n",
       "2. 8\n",
       "3. 9\n",
       "4. 10\n",
       "5. 11\n",
       "\n",
       "\n"
      ],
      "text/plain": [
       "[1]  7  8  9 10 11"
      ]
     },
     "metadata": {},
     "output_type": "display_data"
    }
   ],
   "source": [
    "add.rand(v) # add.rand by itself adds the same random number to every element in the list"
   ]
  },
  {
   "cell_type": "markdown",
   "id": "6321e151-21f3-44ed-9178-f78a1d3dc53d",
   "metadata": {},
   "source": [
    "* Often times you don't want a **`list`** back, but something simpler, like a vector or a matrix.\n",
    "* This is where **`sapply()`** comes in, which simplifies the process by returning a **`vector`**."
   ]
  },
  {
   "cell_type": "code",
   "execution_count": 69,
   "id": "14b93e78-11f6-4df0-83ee-715a5280ce53",
   "metadata": {},
   "outputs": [
    {
     "data": {
      "text/html": [
       "<ol class=list-inline>\n",
       "\t<li>4</li>\n",
       "\t<li>10</li>\n",
       "\t<li>13</li>\n",
       "\t<li>9</li>\n",
       "\t<li>9</li>\n",
       "</ol>\n"
      ],
      "text/latex": [
       "\\begin{enumerate*}\n",
       "\\item 4\n",
       "\\item 10\n",
       "\\item 13\n",
       "\\item 9\n",
       "\\item 9\n",
       "\\end{enumerate*}\n"
      ],
      "text/markdown": [
       "1. 4\n",
       "2. 10\n",
       "3. 13\n",
       "4. 9\n",
       "5. 9\n",
       "\n",
       "\n"
      ],
      "text/plain": [
       "[1]  4 10 13  9  9"
      ]
     },
     "metadata": {},
     "output_type": "display_data"
    }
   ],
   "source": [
    "sapply(v, add.rand)"
   ]
  },
  {
   "cell_type": "markdown",
   "id": "e5120ebc-1b82-44fe-b9d7-1cc76c6807c3",
   "metadata": {},
   "source": [
    "* Let's look at one more example"
   ]
  },
  {
   "cell_type": "code",
   "execution_count": 73,
   "id": "8ea9cf26-2b27-4ee7-8b7b-38408d05029d",
   "metadata": {},
   "outputs": [
    {
     "data": {
      "text/html": [
       "<ol class=list-inline>\n",
       "\t<li>2</li>\n",
       "\t<li>4</li>\n",
       "\t<li>6</li>\n",
       "\t<li>8</li>\n",
       "\t<li>10</li>\n",
       "</ol>\n"
      ],
      "text/latex": [
       "\\begin{enumerate*}\n",
       "\\item 2\n",
       "\\item 4\n",
       "\\item 6\n",
       "\\item 8\n",
       "\\item 10\n",
       "\\end{enumerate*}\n"
      ],
      "text/markdown": [
       "1. 2\n",
       "2. 4\n",
       "3. 6\n",
       "4. 8\n",
       "5. 10\n",
       "\n",
       "\n"
      ],
      "text/plain": [
       "[1]  2  4  6  8 10"
      ]
     },
     "metadata": {},
     "output_type": "display_data"
    }
   ],
   "source": [
    "v <- 1:5\n",
    "\n",
    "times2 <-function(num){ \n",
    "    return(num*2)\n",
    "    } \n",
    "\n",
    "result <- sapply(v, times2) \n",
    "result"
   ]
  },
  {
   "cell_type": "markdown",
   "id": "1b8a6617-6add-4524-8fe9-6dc6e89d4191",
   "metadata": {},
   "source": [
    "**`sapply()` limitation:** It won't be able to automatically return a `vector` if your applied function doesn't return something for all elements in that `vector`. It returns a `list` instead, like `lapply`."
   ]
  },
  {
   "cell_type": "code",
   "execution_count": 81,
   "id": "42bd665b-c1e0-46a6-b118-8b91b7476b49",
   "metadata": {},
   "outputs": [],
   "source": [
    "even.check <- function(x){ \n",
    "    return(x[(x%%2==0)])\n",
    "    } \n",
    "nums <- c(1, 2, 3, 4, 5)"
   ]
  },
  {
   "cell_type": "code",
   "execution_count": 83,
   "id": "879e29e2-d7e6-4e19-afc9-8cac05a685da",
   "metadata": {},
   "outputs": [
    {
     "data": {
      "text/html": [
       "<ol>\n",
       "\t<li></li>\n",
       "\t<li>2</li>\n",
       "\t<li></li>\n",
       "\t<li>4</li>\n",
       "\t<li></li>\n",
       "</ol>\n"
      ],
      "text/latex": [
       "\\begin{enumerate}\n",
       "\\item \n",
       "\\item 2\n",
       "\\item \n",
       "\\item 4\n",
       "\\item \n",
       "\\end{enumerate}\n"
      ],
      "text/markdown": [
       "1. \n",
       "2. 2\n",
       "3. \n",
       "4. 4\n",
       "5. \n",
       "\n",
       "\n"
      ],
      "text/plain": [
       "[[1]]\n",
       "numeric(0)\n",
       "\n",
       "[[2]]\n",
       "[1] 2\n",
       "\n",
       "[[3]]\n",
       "numeric(0)\n",
       "\n",
       "[[4]]\n",
       "[1] 4\n",
       "\n",
       "[[5]]\n",
       "numeric(0)\n"
      ]
     },
     "metadata": {},
     "output_type": "display_data"
    },
    {
     "data": {
      "text/html": [
       "'list'"
      ],
      "text/latex": [
       "'list'"
      ],
      "text/markdown": [
       "'list'"
      ],
      "text/plain": [
       "[1] \"list\""
      ]
     },
     "metadata": {},
     "output_type": "display_data"
    }
   ],
   "source": [
    "sapply(nums, even.check)\n",
    "class(sapply(nums, even.check))"
   ]
  },
  {
   "cell_type": "code",
   "execution_count": 84,
   "id": "c17143c3-3605-44d9-82f8-707f1d7e1220",
   "metadata": {},
   "outputs": [
    {
     "data": {
      "text/html": [
       "<ol>\n",
       "\t<li></li>\n",
       "\t<li>2</li>\n",
       "\t<li></li>\n",
       "\t<li>4</li>\n",
       "\t<li></li>\n",
       "</ol>\n"
      ],
      "text/latex": [
       "\\begin{enumerate}\n",
       "\\item \n",
       "\\item 2\n",
       "\\item \n",
       "\\item 4\n",
       "\\item \n",
       "\\end{enumerate}\n"
      ],
      "text/markdown": [
       "1. \n",
       "2. 2\n",
       "3. \n",
       "4. 4\n",
       "5. \n",
       "\n",
       "\n"
      ],
      "text/plain": [
       "[[1]]\n",
       "numeric(0)\n",
       "\n",
       "[[2]]\n",
       "[1] 2\n",
       "\n",
       "[[3]]\n",
       "numeric(0)\n",
       "\n",
       "[[4]]\n",
       "[1] 4\n",
       "\n",
       "[[5]]\n",
       "numeric(0)\n"
      ]
     },
     "metadata": {},
     "output_type": "display_data"
    },
    {
     "data": {
      "text/html": [
       "'list'"
      ],
      "text/latex": [
       "'list'"
      ],
      "text/markdown": [
       "'list'"
      ],
      "text/plain": [
       "[1] \"list\""
      ]
     },
     "metadata": {},
     "output_type": "display_data"
    }
   ],
   "source": [
    "lapply(nums, even.check)\n",
    "class(lapply(nums, even.check))"
   ]
  },
  {
   "cell_type": "markdown",
   "id": "0dbe989b-9b6c-4053-9ca4-b2a886836d8a",
   "metadata": {},
   "source": [
    "* There are actually several **`apply()`** functions and you can find all of them by just calling **`help()`** on any one of them.\n",
    "* The base function of all these **`lapply()`**, so the rest are a wrapper around it."
   ]
  },
  {
   "cell_type": "markdown",
   "id": "8386bc71-0dab-4739-ac08-7149993e6196",
   "metadata": {},
   "source": [
    "Expert from the **`help()`** documentation: \n",
    "\n",
    "* **`lapply`** returns a `list` of the same length as X, each element of which is the result of applying FUN to the corresponding element of X.\n",
    "\n",
    "* **`sapply`** is a user-friendly version and wrapper of **`lapply`** by default returning a vector, matrix or, if simplify = \"array\", an array if appropriate, by applying **`simplify2array()`**. \n",
    "* **`sapply(x, f, simplify = FALSE, USE.NAMES = FALSE)`** is the same as **`lapply(x, f)`**.\n",
    "\n",
    "* **`vapply`** is similar to **`sapply`**, but has a pre-specified type of return value, so it can be safer (and sometimes faster) to use.\n",
    "\n",
    "* **`replicate`** is a wrapper for the common use of **`sapply`** for repeated evaluation of an expression (which will usually involve random number generation).\n",
    "\n",
    "* **`simplify2array()`** is the utility called from **`sapply()`** when simplify is not false and is similarly called from **`mapply()`**."
   ]
  },
  {
   "cell_type": "markdown",
   "id": "bad0469f-d64c-444f-8bdb-88f2c18edb1f",
   "metadata": {},
   "source": [
    "#### Anonymous Functions\n",
    "\n",
    "* When functions are simple and we only use once, it better to express them as anonymous functions, rather than formally define them. \n",
    "* They are similar to `lambda functions` in Python.\n",
    "* General format:  **`function(parameter){code to return something here}`**"
   ]
  },
  {
   "cell_type": "code",
   "execution_count": 75,
   "id": "b71c2b22-45ec-4f3e-be70-e9a4c2174cbf",
   "metadata": {
    "scrolled": true
   },
   "outputs": [
    {
     "data": {
      "text/html": [
       "<ol class=list-inline>\n",
       "\t<li>2</li>\n",
       "\t<li>4</li>\n",
       "\t<li>6</li>\n",
       "\t<li>8</li>\n",
       "\t<li>10</li>\n",
       "</ol>\n"
      ],
      "text/latex": [
       "\\begin{enumerate*}\n",
       "\\item 2\n",
       "\\item 4\n",
       "\\item 6\n",
       "\\item 8\n",
       "\\item 10\n",
       "\\end{enumerate*}\n"
      ],
      "text/markdown": [
       "1. 2\n",
       "2. 4\n",
       "3. 6\n",
       "4. 8\n",
       "5. 10\n",
       "\n",
       "\n"
      ],
      "text/plain": [
       "[1]  2  4  6  8 10"
      ]
     },
     "metadata": {},
     "output_type": "display_data"
    }
   ],
   "source": [
    "v <- 1:5\n",
    "\n",
    "sapply(v, function(num){num*2})"
   ]
  },
  {
   "cell_type": "markdown",
   "id": "716a2d72-85f9-4fc6-9195-4b1061aa600b",
   "metadata": {},
   "source": [
    "* If you look at the formal definition of the function, you will see the anonymous function, removes unnessessary elements from it: \n",
    "    * Removes the function name and assignment operator\n",
    "    * Removes the return keyword with parentheses"
   ]
  },
  {
   "cell_type": "code",
   "execution_count": null,
   "id": "9abb3b20-607f-40c8-830c-08004b3dd2f8",
   "metadata": {},
   "outputs": [],
   "source": [
    "times2 <-function(num){ \n",
    "    return(num*2)\n",
    "    } "
   ]
  },
  {
   "cell_type": "markdown",
   "id": "2bb4843e-1f22-4bb9-9687-2dbacdd49d73",
   "metadata": {},
   "source": [
    "#### **`lapply()`** and **`sapply()`** with more than one arguments"
   ]
  },
  {
   "cell_type": "code",
   "execution_count": 77,
   "id": "3152f020-bfd1-4e07-bcd4-cd4ee24ec297",
   "metadata": {},
   "outputs": [],
   "source": [
    "v <- 1:5\n",
    "\n",
    "add_choice <- function(num, choice){ \n",
    "    return(num + choice)\n",
    "    } "
   ]
  },
  {
   "cell_type": "code",
   "execution_count": 78,
   "id": "9263497c-51f4-427e-ad03-7cc9890880f7",
   "metadata": {},
   "outputs": [
    {
     "data": {
      "text/html": [
       "12"
      ],
      "text/latex": [
       "12"
      ],
      "text/markdown": [
       "12"
      ],
      "text/plain": [
       "[1] 12"
      ]
     },
     "metadata": {},
     "output_type": "display_data"
    }
   ],
   "source": [
    "add_choice(10, 2)"
   ]
  },
  {
   "cell_type": "markdown",
   "id": "5fd1f267-a40f-4b8d-81a0-9dab40d3cbcf",
   "metadata": {},
   "source": [
    "* Here the apply function knows what to use for number, as it uses the vector number. \n",
    "* But it doesn't know what to use for the choice.\n",
    "* Se we have to put them as an additional argument in the apply function."
   ]
  },
  {
   "cell_type": "code",
   "execution_count": 79,
   "id": "c5e63e8c-6c1f-4c07-8044-af6458289343",
   "metadata": {},
   "outputs": [
    {
     "ename": "ERROR",
     "evalue": "Error in FUN(X[[i]], ...): argument \"choice\" is missing, with no default\n",
     "output_type": "error",
     "traceback": [
      "Error in FUN(X[[i]], ...): argument \"choice\" is missing, with no default\nTraceback:\n",
      "1. sapply(v, add_choice)",
      "2. lapply(X = X, FUN = FUN, ...)",
      "3. FUN(X[[i]], ...)"
     ]
    }
   ],
   "source": [
    "sapply(v, add_choice)"
   ]
  },
  {
   "cell_type": "code",
   "execution_count": 80,
   "id": "96bf759f-277d-4dea-a126-ed58fdf62663",
   "metadata": {},
   "outputs": [
    {
     "data": {
      "text/html": [
       "<ol class=list-inline>\n",
       "\t<li>101</li>\n",
       "\t<li>102</li>\n",
       "\t<li>103</li>\n",
       "\t<li>104</li>\n",
       "\t<li>105</li>\n",
       "</ol>\n"
      ],
      "text/latex": [
       "\\begin{enumerate*}\n",
       "\\item 101\n",
       "\\item 102\n",
       "\\item 103\n",
       "\\item 104\n",
       "\\item 105\n",
       "\\end{enumerate*}\n"
      ],
      "text/markdown": [
       "1. 101\n",
       "2. 102\n",
       "3. 103\n",
       "4. 104\n",
       "5. 105\n",
       "\n",
       "\n"
      ],
      "text/plain": [
       "[1] 101 102 103 104 105"
      ]
     },
     "metadata": {},
     "output_type": "display_data"
    }
   ],
   "source": [
    "sapply(v, add_choice, choice=100)"
   ]
  },
  {
   "cell_type": "markdown",
   "id": "09b00047-495e-4fae-9b86-ad63e675e2d0",
   "metadata": {},
   "source": [
    "### Math Functions with R \n",
    "\n",
    "| Function | Description | \n",
    "| ---- | ---- |\n",
    "|**`abs(x)`** | Returns the absolute value of x |\n",
    "|**`sum(x)`** | Returns the sum of all values present in x | \n",
    "|**`mean(x)`** | Returns the average of elements in x |\n",
    "|**`sqrt(x)`** | Returns the square root of x |\n",
    "|**`ceiling(x)`** | Returns the ceiling of x | \n",
    "|**`floor(x)`** | Returns the floor of x |\n",
    "|**`trunc(x)`** | Returns the trucation of x | \n",
    "|**`round(x, digits=n)`** | Rounds x to n decimal points |\n",
    "|**`signif(x, digits=n)`** | Returns x with a TOTAL of n digits |\n",
    "|**`cos(x), sin(x), tan(x)`** | Performs trigonometric operations on x |\n",
    "|**`log(x)`** | Returns the natural algorithm of x | \n",
    "|**`log10(x)`** | Returns the common (base 10) logarithm of x | \n",
    "|**`exp(x)`** | Returns the natural exponent of x (e^x) |\n",
    "\n",
    "Some examples: "
   ]
  },
  {
   "cell_type": "code",
   "execution_count": 85,
   "id": "8352cd6e-c154-4cf6-afd8-0c94afffda98",
   "metadata": {},
   "outputs": [
    {
     "data": {
      "text/html": [
       "2"
      ],
      "text/latex": [
       "2"
      ],
      "text/markdown": [
       "2"
      ],
      "text/plain": [
       "[1] 2"
      ]
     },
     "metadata": {},
     "output_type": "display_data"
    }
   ],
   "source": [
    "abs(-2)"
   ]
  },
  {
   "cell_type": "code",
   "execution_count": 88,
   "id": "87af61ba-9cc2-42ef-b8ec-dcd62697c932",
   "metadata": {},
   "outputs": [],
   "source": [
    "v <- c(-1, 2, -3, 4, -5, 6, -7, 8, -9, 10)"
   ]
  },
  {
   "cell_type": "code",
   "execution_count": 89,
   "id": "e615d418-39f6-4ca0-ab2e-e568927c31af",
   "metadata": {},
   "outputs": [
    {
     "data": {
      "text/html": [
       "5"
      ],
      "text/latex": [
       "5"
      ],
      "text/markdown": [
       "5"
      ],
      "text/plain": [
       "[1] 5"
      ]
     },
     "metadata": {},
     "output_type": "display_data"
    }
   ],
   "source": [
    "sum(v)"
   ]
  },
  {
   "cell_type": "code",
   "execution_count": 90,
   "id": "59cf9b09-e32a-4bf4-9f8a-13b0e6aea977",
   "metadata": {},
   "outputs": [
    {
     "data": {
      "text/html": [
       "<ol class=list-inline>\n",
       "\t<li>1</li>\n",
       "\t<li>2</li>\n",
       "\t<li>3</li>\n",
       "\t<li>4</li>\n",
       "\t<li>5</li>\n",
       "\t<li>6</li>\n",
       "\t<li>7</li>\n",
       "\t<li>8</li>\n",
       "\t<li>9</li>\n",
       "\t<li>10</li>\n",
       "</ol>\n"
      ],
      "text/latex": [
       "\\begin{enumerate*}\n",
       "\\item 1\n",
       "\\item 2\n",
       "\\item 3\n",
       "\\item 4\n",
       "\\item 5\n",
       "\\item 6\n",
       "\\item 7\n",
       "\\item 8\n",
       "\\item 9\n",
       "\\item 10\n",
       "\\end{enumerate*}\n"
      ],
      "text/markdown": [
       "1. 1\n",
       "2. 2\n",
       "3. 3\n",
       "4. 4\n",
       "5. 5\n",
       "6. 6\n",
       "7. 7\n",
       "8. 8\n",
       "9. 9\n",
       "10. 10\n",
       "\n",
       "\n"
      ],
      "text/plain": [
       " [1]  1  2  3  4  5  6  7  8  9 10"
      ]
     },
     "metadata": {},
     "output_type": "display_data"
    }
   ],
   "source": [
    "abs(v)"
   ]
  },
  {
   "cell_type": "code",
   "execution_count": 91,
   "id": "67cc549c-bda1-4e0b-acd3-91566b1812d5",
   "metadata": {},
   "outputs": [
    {
     "data": {
      "text/html": [
       "0.5"
      ],
      "text/latex": [
       "0.5"
      ],
      "text/markdown": [
       "0.5"
      ],
      "text/plain": [
       "[1] 0.5"
      ]
     },
     "metadata": {},
     "output_type": "display_data"
    }
   ],
   "source": [
    "mean(v)"
   ]
  },
  {
   "cell_type": "code",
   "execution_count": 92,
   "id": "a7082fe7-6cec-409f-be24-b6d2ce1f76de",
   "metadata": {},
   "outputs": [
    {
     "data": {
      "text/html": [
       "12.35"
      ],
      "text/latex": [
       "12.35"
      ],
      "text/markdown": [
       "12.35"
      ],
      "text/plain": [
       "[1] 12.35"
      ]
     },
     "metadata": {},
     "output_type": "display_data"
    }
   ],
   "source": [
    "round(12.3456, 2)"
   ]
  },
  {
   "cell_type": "code",
   "execution_count": 93,
   "id": "47bf27ff-73e9-4120-b55f-bf9cb91963ba",
   "metadata": {},
   "outputs": [
    {
     "data": {
      "text/html": [
       "12"
      ],
      "text/latex": [
       "12"
      ],
      "text/markdown": [
       "12"
      ],
      "text/plain": [
       "[1] 12"
      ]
     },
     "metadata": {},
     "output_type": "display_data"
    }
   ],
   "source": [
    "signif(12.3456, 2)"
   ]
  },
  {
   "cell_type": "markdown",
   "id": "5729166d-9904-4975-a41d-e5d143f4b400",
   "metadata": {},
   "source": [
    "### Regural Expressions in R \n",
    "\n",
    "* Regular expressions is a general term which covers the idea of pattern searching, typically in a string (or a vector of strings). \n",
    "\n",
    "* We will learn two useful functions of regular expressions and pattern searching, and we will go deeper in the topic later on. \n",
    "\n",
    "* For both of these functions you pass in a pattern and then the object you want to search for. \n",
    "\n",
    "| Function | Description | \n",
    "| ---- | ---- | \n",
    "|**`grepl()`** | Returns a logical (TRUE or FALSE) indicating if pattern was found. | \n",
    "|**`grep()`** | Returns a vector of index locations of matching pattern instances. | \n",
    "\n",
    "* **`grep`** (= global regular expression print) is a command-line utility for searching plain-text data sets for lines that match a regular expression.\n",
    "* **`grepl`** stands for grep logical."
   ]
  },
  {
   "cell_type": "code",
   "execution_count": 2,
   "id": "fc50b82f-381b-4f1b-a535-3a1d046fa800",
   "metadata": {},
   "outputs": [],
   "source": [
    "text <- \"Hello there, can you tell in which direction is the port?\" "
   ]
  },
  {
   "cell_type": "code",
   "execution_count": 3,
   "id": "b12d5dc4-979e-4490-a159-7a88a3d69d6e",
   "metadata": {},
   "outputs": [
    {
     "data": {
      "text/html": [
       "TRUE"
      ],
      "text/latex": [
       "TRUE"
      ],
      "text/markdown": [
       "TRUE"
      ],
      "text/plain": [
       "[1] TRUE"
      ]
     },
     "metadata": {},
     "output_type": "display_data"
    }
   ],
   "source": [
    "grepl(\"port\", text)"
   ]
  },
  {
   "cell_type": "code",
   "execution_count": 97,
   "id": "795152ec-8cea-4652-86cb-58b6b0b8450c",
   "metadata": {},
   "outputs": [
    {
     "data": {
      "text/html": [
       "1"
      ],
      "text/latex": [
       "1"
      ],
      "text/markdown": [
       "1"
      ],
      "text/plain": [
       "[1] 1"
      ]
     },
     "metadata": {},
     "output_type": "display_data"
    }
   ],
   "source": [
    "grep(\"port\", text) # Returns one because there is a single element, the string itself."
   ]
  },
  {
   "cell_type": "code",
   "execution_count": 98,
   "id": "3e2cdd0d-8b0b-4562-9a45-fad2f9715d34",
   "metadata": {},
   "outputs": [],
   "source": [
    "v <- c(\"a\", \"b\", \"c\", \"d\", \"e\")"
   ]
  },
  {
   "cell_type": "code",
   "execution_count": 99,
   "id": "5e6e4287-0bc5-4d25-9e0d-2e64fae221fe",
   "metadata": {},
   "outputs": [
    {
     "data": {
      "text/html": [
       "<ol class=list-inline>\n",
       "\t<li>TRUE</li>\n",
       "\t<li>FALSE</li>\n",
       "\t<li>FALSE</li>\n",
       "\t<li>FALSE</li>\n",
       "\t<li>FALSE</li>\n",
       "</ol>\n"
      ],
      "text/latex": [
       "\\begin{enumerate*}\n",
       "\\item TRUE\n",
       "\\item FALSE\n",
       "\\item FALSE\n",
       "\\item FALSE\n",
       "\\item FALSE\n",
       "\\end{enumerate*}\n"
      ],
      "text/markdown": [
       "1. TRUE\n",
       "2. FALSE\n",
       "3. FALSE\n",
       "4. FALSE\n",
       "5. FALSE\n",
       "\n",
       "\n"
      ],
      "text/plain": [
       "[1]  TRUE FALSE FALSE FALSE FALSE"
      ]
     },
     "metadata": {},
     "output_type": "display_data"
    }
   ],
   "source": [
    "grepl(\"a\", v)"
   ]
  },
  {
   "cell_type": "code",
   "execution_count": 101,
   "id": "eb537451-11ab-400e-99e8-249058ac22b0",
   "metadata": {},
   "outputs": [
    {
     "data": {
      "text/html": [
       "1"
      ],
      "text/latex": [
       "1"
      ],
      "text/markdown": [
       "1"
      ],
      "text/plain": [
       "[1] 1"
      ]
     },
     "metadata": {},
     "output_type": "display_data"
    }
   ],
   "source": [
    "grep(\"a\", v)"
   ]
  },
  {
   "cell_type": "code",
   "execution_count": 103,
   "id": "27267ff5-31a6-4950-add7-04d973c63fb0",
   "metadata": {},
   "outputs": [
    {
     "data": {
      "text/html": [],
      "text/latex": [],
      "text/markdown": [],
      "text/plain": [
       "integer(0)"
      ]
     },
     "metadata": {},
     "output_type": "display_data"
    }
   ],
   "source": [
    "grep(\"f\", v) # returns null if pattern is nowhere"
   ]
  },
  {
   "cell_type": "markdown",
   "id": "c5e55069-0d11-4e6e-9395-d888700b6727",
   "metadata": {},
   "source": [
    "* We'll learn more regular expression functions as we need them when doing exercises or projects. Want more info on regular expressions with R in the meantime? Check out this [link](https://www.regular-expressions.info/rlanguage.html). "
   ]
  },
  {
   "cell_type": "markdown",
   "id": "7f7f39a2-1e8e-41d8-bdd9-7496d655c286",
   "metadata": {},
   "source": [
    "### Dates and Timestamps \n",
    "\n",
    "* R gives us a variety of tool for working with timestamp information. \n",
    "* Let's start exploring the **`Date`** object.\n",
    "\n",
    "| Function | Description | \n",
    "| ---- | ---- | \n",
    "|**`Sys.Date()`** | Get today's date from the system in the ANSI standard format (YYYY-MM-DD). | \n",
    "|**`as.Date()`** | You can convert character string in R to a Date object. | \n",
    "\n",
    "* Format codes for the **`as.Date()`** function: \n",
    "| Code | Description | \n",
    "| ---- | ---- | \n",
    "|**`%d`** | Day of the month (decimal number) |\n",
    "|**`%m`**|Month (decimal nuber)|\n",
    "|**`%b`**|Month (abbreviated) |\n",
    "|**`%B`**|Month (full name) |\n",
    "|**`%y`**|Year (2 digit) |\n",
    "|**`%Y`**|Year (4 digit) |\n",
    "\n",
    "* Examples: "
   ]
  },
  {
   "cell_type": "code",
   "execution_count": 104,
   "id": "f9659e47-2a87-4e6a-a4c2-ed05fef4f328",
   "metadata": {},
   "outputs": [
    {
     "data": {
      "text/html": [
       "<time datetime=\"2021-09-13\">2021-09-13</time>"
      ],
      "text/latex": [
       "2021-09-13"
      ],
      "text/markdown": [
       "2021-09-13"
      ],
      "text/plain": [
       "[1] \"2021-09-13\""
      ]
     },
     "metadata": {},
     "output_type": "display_data"
    }
   ],
   "source": [
    "today <- Sys.Date()\n",
    "today"
   ]
  },
  {
   "cell_type": "code",
   "execution_count": 118,
   "id": "3b42ce82-6e32-4c33-be1d-0f66365f0e24",
   "metadata": {},
   "outputs": [
    {
     "data": {
      "text/html": [
       "'Date'"
      ],
      "text/latex": [
       "'Date'"
      ],
      "text/markdown": [
       "'Date'"
      ],
      "text/plain": [
       "[1] \"Date\""
      ]
     },
     "metadata": {},
     "output_type": "display_data"
    }
   ],
   "source": [
    "class(today)  # A date object"
   ]
  },
  {
   "cell_type": "markdown",
   "id": "e80e409c-ee41-41c6-9989-da4a12fa4087",
   "metadata": {},
   "source": [
    "* Often times we get the date into a character format, so we need to convert it to a Date format."
   ]
  },
  {
   "cell_type": "code",
   "execution_count": 119,
   "id": "c1294db2-3a5e-4d2f-ae11-dd98fecedd8c",
   "metadata": {},
   "outputs": [
    {
     "data": {
      "text/html": [
       "<time datetime=\"1990-11-03\">1990-11-03</time>"
      ],
      "text/latex": [
       "1990-11-03"
      ],
      "text/markdown": [
       "1990-11-03"
      ],
      "text/plain": [
       "[1] \"1990-11-03\""
      ]
     },
     "metadata": {},
     "output_type": "display_data"
    }
   ],
   "source": [
    "as.Date(\"1990-11-03\") # No format argument needed because it is in standard ANSI format."
   ]
  },
  {
   "cell_type": "markdown",
   "id": "95c1f2d2-666d-40b1-8cf5-d0b2fd263010",
   "metadata": {},
   "source": [
    "* Otherwise you have to specify in the **`format=`** argument the format the date is in the string:"
   ]
  },
  {
   "cell_type": "code",
   "execution_count": 124,
   "id": "59a7a299-281c-4eae-9227-1aebf5fd3290",
   "metadata": {},
   "outputs": [
    {
     "data": {
      "text/html": [
       "<time datetime=\"1990-11-03\">1990-11-03</time>"
      ],
      "text/latex": [
       "1990-11-03"
      ],
      "text/markdown": [
       "1990-11-03"
      ],
      "text/plain": [
       "[1] \"1990-11-03\""
      ]
     },
     "metadata": {},
     "output_type": "display_data"
    }
   ],
   "source": [
    "as.Date(\"Nov-03-90\", format=\"%b-%d-%y\") "
   ]
  },
  {
   "cell_type": "code",
   "execution_count": 125,
   "id": "3b807275-dd39-42c9-8445-e867bfebf17e",
   "metadata": {},
   "outputs": [
    {
     "data": {
      "text/html": [
       "<time datetime=\"1990-11-03\">1990-11-03</time>"
      ],
      "text/latex": [
       "1990-11-03"
      ],
      "text/markdown": [
       "1990-11-03"
      ],
      "text/plain": [
       "[1] \"1990-11-03\""
      ]
     },
     "metadata": {},
     "output_type": "display_data"
    }
   ],
   "source": [
    "as.Date(\"November-03-1990\", format=\"%B-%d-%Y\")"
   ]
  },
  {
   "cell_type": "code",
   "execution_count": 123,
   "id": "8f6465fb-73eb-43ed-8bb4-088b5e4d6010",
   "metadata": {},
   "outputs": [
    {
     "data": {
      "text/html": [
       "<time datetime=\"2002-06-01\">2002-06-01</time>"
      ],
      "text/latex": [
       "2002-06-01"
      ],
      "text/markdown": [
       "2002-06-01"
      ],
      "text/plain": [
       "[1] \"2002-06-01\""
      ]
     },
     "metadata": {},
     "output_type": "display_data"
    }
   ],
   "source": [
    "as.Date(\"june, 01, 2002\", format=\"%B, %d, %Y\")"
   ]
  },
  {
   "cell_type": "markdown",
   "id": "1ee6f888-4b54-48ca-92e3-aac212b40b61",
   "metadata": {},
   "source": [
    "**Time**\n",
    "\n",
    "* We can aso convert strings and work with them for time information. \n",
    "* R uses a **POSIXct** and **POSIXlt** object types to store time information.\n",
    "* **`as.POSIXct()`** converts a string to a POSIXcs object type for time series analysis, etc.\n",
    "* The format codes are best seen through the help documentation for the **`strptime()`** function."
   ]
  },
  {
   "cell_type": "markdown",
   "id": "18d40466-f3c8-4083-abef-2775f6105f1c",
   "metadata": {},
   "source": [
    "* Notice how today's date was added automatically because we didn't specify it in the format argument"
   ]
  },
  {
   "cell_type": "code",
   "execution_count": 116,
   "id": "4815d2d6-8ab3-40dd-b6ac-ce1460c9a5b6",
   "metadata": {},
   "outputs": [
    {
     "data": {
      "text/plain": [
       "[1] \"2021-09-13 11:02:03 BST\""
      ]
     },
     "metadata": {},
     "output_type": "display_data"
    }
   ],
   "source": [
    "as.POSIXct(\"11:02:03\", format=\"%H:%M:%S\")"
   ]
  },
  {
   "cell_type": "code",
   "execution_count": 117,
   "id": "470765d5-a585-415c-a23a-ab753e817f99",
   "metadata": {
    "scrolled": true
   },
   "outputs": [
    {
     "data": {
      "text/plain": [
       "[1] \"1990-11-03 11:02:03 GMT\""
      ]
     },
     "metadata": {},
     "output_type": "display_data"
    }
   ],
   "source": [
    "as.POSIXct(\"November-03-1990 11:02:03\", format=\"%B-%d-%Y %H:%M:%S\")"
   ]
  },
  {
   "cell_type": "markdown",
   "id": "2eafd971-2407-4422-9be9-3967acc19e0b",
   "metadata": {},
   "source": [
    "* Usually however, we will be using the **`strptime()`** function.\n",
    "* In the function documentation, you will hind all the format codes. \n",
    "* We will use this function exactly as we used the **`as.Date()`** and **`as.POSIXct()`** functions. "
   ]
  },
  {
   "cell_type": "code",
   "execution_count": 5,
   "id": "6c8ea43a-15df-4935-b517-732bee19f720",
   "metadata": {},
   "outputs": [
    {
     "data": {
      "text/plain": [
       "[1] \"2021-09-24 11:02:03 BST\""
      ]
     },
     "metadata": {},
     "output_type": "display_data"
    }
   ],
   "source": [
    "strptime(\"11:02:03\", format=\"%H:%M:%S\")"
   ]
  },
  {
   "cell_type": "code",
   "execution_count": 127,
   "id": "01de9ee6-5341-4a62-b2bf-ea5ea3f25d23",
   "metadata": {},
   "outputs": [
    {
     "data": {
      "text/plain": [
       "[1] \"1990-11-03 11:02:03 GMT\""
      ]
     },
     "metadata": {},
     "output_type": "display_data"
    }
   ],
   "source": [
    "strptime(\"November-03-1990 11:02:03\", format=\"%B-%d-%Y %H:%M:%S\")"
   ]
  },
  {
   "cell_type": "code",
   "execution_count": 128,
   "id": "93b77592-9c38-43a8-b260-717d4527fef7",
   "metadata": {},
   "outputs": [
    {
     "data": {
      "text/plain": [
       "[1] \"1990-11-03 GMT\""
      ]
     },
     "metadata": {},
     "output_type": "display_data"
    }
   ],
   "source": [
    "strptime(\"Nov-03-90\", format=\"%b-%d-%y\")"
   ]
  }
 ],
 "metadata": {
  "kernelspec": {
   "display_name": "R",
   "language": "R",
   "name": "ir"
  },
  "language_info": {
   "codemirror_mode": "r",
   "file_extension": ".r",
   "mimetype": "text/x-r-source",
   "name": "R",
   "pygments_lexer": "r",
   "version": "3.6.1"
  }
 },
 "nbformat": 4,
 "nbformat_minor": 5
}
