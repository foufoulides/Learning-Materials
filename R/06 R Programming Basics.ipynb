{
 "cells": [
  {
   "cell_type": "markdown",
   "id": "bffa0084-1b19-4cbb-b405-f8cd4e61564b",
   "metadata": {},
   "source": [
    "### <center> R Programming Basics </center>\n",
    "\n",
    "#### <center> Logical Operators </center>\n",
    "\n",
    "| Operator | Description | \n",
    "| ---- | ---- | \n",
    "| **`&`** | AND | \n",
    "| **`\\|`** | OR |\n",
    "| **`!`** | NOT |"
   ]
  },
  {
   "cell_type": "code",
   "execution_count": 2,
   "id": "01552311-e71d-442b-8151-4f7e0899cf60",
   "metadata": {},
   "outputs": [],
   "source": [
    "x <- 10"
   ]
  },
  {
   "cell_type": "code",
   "execution_count": 3,
   "id": "74a264cf-eccb-4a01-b1ed-d6cfb550ab20",
   "metadata": {},
   "outputs": [
    {
     "data": {
      "text/html": [
       "TRUE"
      ],
      "text/latex": [
       "TRUE"
      ],
      "text/markdown": [
       "TRUE"
      ],
      "text/plain": [
       "[1] TRUE"
      ]
     },
     "metadata": {},
     "output_type": "display_data"
    }
   ],
   "source": [
    "x < 20"
   ]
  },
  {
   "cell_type": "markdown",
   "id": "c7634b95-7c73-4cf3-a79f-668fc60e9d53",
   "metadata": {},
   "source": [
    "Parentheses help improve readability and can also be used to determine order of operations."
   ]
  },
  {
   "cell_type": "code",
   "execution_count": 4,
   "id": "a07fc365-3365-45d5-9007-172d895d778f",
   "metadata": {},
   "outputs": [
    {
     "data": {
      "text/html": [
       "FALSE"
      ],
      "text/latex": [
       "FALSE"
      ],
      "text/markdown": [
       "FALSE"
      ],
      "text/plain": [
       "[1] FALSE"
      ]
     },
     "metadata": {},
     "output_type": "display_data"
    }
   ],
   "source": [
    "(x < 20) & (x > 10)"
   ]
  },
  {
   "cell_type": "code",
   "execution_count": 5,
   "id": "0972a321-7ea9-4365-a39b-8c7b8056df54",
   "metadata": {},
   "outputs": [
    {
     "data": {
      "text/html": [
       "TRUE"
      ],
      "text/latex": [
       "TRUE"
      ],
      "text/markdown": [
       "TRUE"
      ],
      "text/plain": [
       "[1] TRUE"
      ]
     },
     "metadata": {},
     "output_type": "display_data"
    }
   ],
   "source": [
    "(x < 20) & (x > 5) & (x == 10)"
   ]
  },
  {
   "cell_type": "markdown",
   "id": "6cad7bcb-6eee-4832-9a3c-41a0dda28bd8",
   "metadata": {},
   "source": [
    "**Logical Operators on Data Frames**\n",
    "\n",
    "We will often use such expressions to filter data we work on. Example: "
   ]
  },
  {
   "cell_type": "code",
   "execution_count": 6,
   "id": "e7c14939-3d63-4adb-87f7-b98baa037c53",
   "metadata": {},
   "outputs": [
    {
     "data": {
      "text/html": [
       "<table>\n",
       "<thead><tr><th></th><th scope=col>mpg</th><th scope=col>cyl</th><th scope=col>disp</th><th scope=col>hp</th><th scope=col>drat</th><th scope=col>wt</th><th scope=col>qsec</th><th scope=col>vs</th><th scope=col>am</th><th scope=col>gear</th><th scope=col>carb</th></tr></thead>\n",
       "<tbody>\n",
       "\t<tr><th scope=row>Mazda RX4</th><td>21.0 </td><td>6    </td><td>160  </td><td>110  </td><td>3.90 </td><td>2.620</td><td>16.46</td><td>0    </td><td>1    </td><td>4    </td><td>4    </td></tr>\n",
       "\t<tr><th scope=row>Mazda RX4 Wag</th><td>21.0 </td><td>6    </td><td>160  </td><td>110  </td><td>3.90 </td><td>2.875</td><td>17.02</td><td>0    </td><td>1    </td><td>4    </td><td>4    </td></tr>\n",
       "\t<tr><th scope=row>Datsun 710</th><td>22.8 </td><td>4    </td><td>108  </td><td> 93  </td><td>3.85 </td><td>2.320</td><td>18.61</td><td>1    </td><td>1    </td><td>4    </td><td>1    </td></tr>\n",
       "\t<tr><th scope=row>Hornet 4 Drive</th><td>21.4 </td><td>6    </td><td>258  </td><td>110  </td><td>3.08 </td><td>3.215</td><td>19.44</td><td>1    </td><td>0    </td><td>3    </td><td>1    </td></tr>\n",
       "\t<tr><th scope=row>Hornet Sportabout</th><td>18.7 </td><td>8    </td><td>360  </td><td>175  </td><td>3.15 </td><td>3.440</td><td>17.02</td><td>0    </td><td>0    </td><td>3    </td><td>2    </td></tr>\n",
       "\t<tr><th scope=row>Valiant</th><td>18.1 </td><td>6    </td><td>225  </td><td>105  </td><td>2.76 </td><td>3.460</td><td>20.22</td><td>1    </td><td>0    </td><td>3    </td><td>1    </td></tr>\n",
       "</tbody>\n",
       "</table>\n"
      ],
      "text/latex": [
       "\\begin{tabular}{r|lllllllllll}\n",
       "  & mpg & cyl & disp & hp & drat & wt & qsec & vs & am & gear & carb\\\\\n",
       "\\hline\n",
       "\tMazda RX4 & 21.0  & 6     & 160   & 110   & 3.90  & 2.620 & 16.46 & 0     & 1     & 4     & 4    \\\\\n",
       "\tMazda RX4 Wag & 21.0  & 6     & 160   & 110   & 3.90  & 2.875 & 17.02 & 0     & 1     & 4     & 4    \\\\\n",
       "\tDatsun 710 & 22.8  & 4     & 108   &  93   & 3.85  & 2.320 & 18.61 & 1     & 1     & 4     & 1    \\\\\n",
       "\tHornet 4 Drive & 21.4  & 6     & 258   & 110   & 3.08  & 3.215 & 19.44 & 1     & 0     & 3     & 1    \\\\\n",
       "\tHornet Sportabout & 18.7  & 8     & 360   & 175   & 3.15  & 3.440 & 17.02 & 0     & 0     & 3     & 2    \\\\\n",
       "\tValiant & 18.1  & 6     & 225   & 105   & 2.76  & 3.460 & 20.22 & 1     & 0     & 3     & 1    \\\\\n",
       "\\end{tabular}\n"
      ],
      "text/markdown": [
       "\n",
       "| <!--/--> | mpg | cyl | disp | hp | drat | wt | qsec | vs | am | gear | carb |\n",
       "|---|---|---|---|---|---|---|---|---|---|---|---|\n",
       "| Mazda RX4 | 21.0  | 6     | 160   | 110   | 3.90  | 2.620 | 16.46 | 0     | 1     | 4     | 4     |\n",
       "| Mazda RX4 Wag | 21.0  | 6     | 160   | 110   | 3.90  | 2.875 | 17.02 | 0     | 1     | 4     | 4     |\n",
       "| Datsun 710 | 22.8  | 4     | 108   |  93   | 3.85  | 2.320 | 18.61 | 1     | 1     | 4     | 1     |\n",
       "| Hornet 4 Drive | 21.4  | 6     | 258   | 110   | 3.08  | 3.215 | 19.44 | 1     | 0     | 3     | 1     |\n",
       "| Hornet Sportabout | 18.7  | 8     | 360   | 175   | 3.15  | 3.440 | 17.02 | 0     | 0     | 3     | 2     |\n",
       "| Valiant | 18.1  | 6     | 225   | 105   | 2.76  | 3.460 | 20.22 | 1     | 0     | 3     | 1     |\n",
       "\n"
      ],
      "text/plain": [
       "                  mpg  cyl disp hp  drat wt    qsec  vs am gear carb\n",
       "Mazda RX4         21.0 6   160  110 3.90 2.620 16.46 0  1  4    4   \n",
       "Mazda RX4 Wag     21.0 6   160  110 3.90 2.875 17.02 0  1  4    4   \n",
       "Datsun 710        22.8 4   108   93 3.85 2.320 18.61 1  1  4    1   \n",
       "Hornet 4 Drive    21.4 6   258  110 3.08 3.215 19.44 1  0  3    1   \n",
       "Hornet Sportabout 18.7 8   360  175 3.15 3.440 17.02 0  0  3    2   \n",
       "Valiant           18.1 6   225  105 2.76 3.460 20.22 1  0  3    1   "
      ]
     },
     "metadata": {},
     "output_type": "display_data"
    }
   ],
   "source": [
    "df <- mtcars\n",
    "head(df)"
   ]
  },
  {
   "cell_type": "code",
   "execution_count": 7,
   "id": "18ecb24d-2805-4940-b800-57742fa3ad6c",
   "metadata": {},
   "outputs": [
    {
     "data": {
      "text/html": [
       "<table>\n",
       "<thead><tr><th></th><th scope=col>mpg</th><th scope=col>cyl</th><th scope=col>disp</th><th scope=col>hp</th><th scope=col>drat</th><th scope=col>wt</th><th scope=col>qsec</th><th scope=col>vs</th><th scope=col>am</th><th scope=col>gear</th><th scope=col>carb</th></tr></thead>\n",
       "<tbody>\n",
       "\t<tr><th scope=row>Mazda RX4</th><td>21.0 </td><td>6    </td><td>160.0</td><td>110  </td><td>3.90 </td><td>2.620</td><td>16.46</td><td>0    </td><td>1    </td><td>4    </td><td>4    </td></tr>\n",
       "\t<tr><th scope=row>Mazda RX4 Wag</th><td>21.0 </td><td>6    </td><td>160.0</td><td>110  </td><td>3.90 </td><td>2.875</td><td>17.02</td><td>0    </td><td>1    </td><td>4    </td><td>4    </td></tr>\n",
       "\t<tr><th scope=row>Hornet 4 Drive</th><td>21.4 </td><td>6    </td><td>258.0</td><td>110  </td><td>3.08 </td><td>3.215</td><td>19.44</td><td>1    </td><td>0    </td><td>3    </td><td>1    </td></tr>\n",
       "\t<tr><th scope=row>Lotus Europa</th><td>30.4 </td><td>4    </td><td> 95.1</td><td>113  </td><td>3.77 </td><td>1.513</td><td>16.90</td><td>1    </td><td>1    </td><td>5    </td><td>2    </td></tr>\n",
       "\t<tr><th scope=row>Volvo 142E</th><td>21.4 </td><td>4    </td><td>121.0</td><td>109  </td><td>4.11 </td><td>2.780</td><td>18.60</td><td>1    </td><td>1    </td><td>4    </td><td>2    </td></tr>\n",
       "</tbody>\n",
       "</table>\n"
      ],
      "text/latex": [
       "\\begin{tabular}{r|lllllllllll}\n",
       "  & mpg & cyl & disp & hp & drat & wt & qsec & vs & am & gear & carb\\\\\n",
       "\\hline\n",
       "\tMazda RX4 & 21.0  & 6     & 160.0 & 110   & 3.90  & 2.620 & 16.46 & 0     & 1     & 4     & 4    \\\\\n",
       "\tMazda RX4 Wag & 21.0  & 6     & 160.0 & 110   & 3.90  & 2.875 & 17.02 & 0     & 1     & 4     & 4    \\\\\n",
       "\tHornet 4 Drive & 21.4  & 6     & 258.0 & 110   & 3.08  & 3.215 & 19.44 & 1     & 0     & 3     & 1    \\\\\n",
       "\tLotus Europa & 30.4  & 4     &  95.1 & 113   & 3.77  & 1.513 & 16.90 & 1     & 1     & 5     & 2    \\\\\n",
       "\tVolvo 142E & 21.4  & 4     & 121.0 & 109   & 4.11  & 2.780 & 18.60 & 1     & 1     & 4     & 2    \\\\\n",
       "\\end{tabular}\n"
      ],
      "text/markdown": [
       "\n",
       "| <!--/--> | mpg | cyl | disp | hp | drat | wt | qsec | vs | am | gear | carb |\n",
       "|---|---|---|---|---|---|---|---|---|---|---|---|\n",
       "| Mazda RX4 | 21.0  | 6     | 160.0 | 110   | 3.90  | 2.620 | 16.46 | 0     | 1     | 4     | 4     |\n",
       "| Mazda RX4 Wag | 21.0  | 6     | 160.0 | 110   | 3.90  | 2.875 | 17.02 | 0     | 1     | 4     | 4     |\n",
       "| Hornet 4 Drive | 21.4  | 6     | 258.0 | 110   | 3.08  | 3.215 | 19.44 | 1     | 0     | 3     | 1     |\n",
       "| Lotus Europa | 30.4  | 4     |  95.1 | 113   | 3.77  | 1.513 | 16.90 | 1     | 1     | 5     | 2     |\n",
       "| Volvo 142E | 21.4  | 4     | 121.0 | 109   | 4.11  | 2.780 | 18.60 | 1     | 1     | 4     | 2     |\n",
       "\n"
      ],
      "text/plain": [
       "               mpg  cyl disp  hp  drat wt    qsec  vs am gear carb\n",
       "Mazda RX4      21.0 6   160.0 110 3.90 2.620 16.46 0  1  4    4   \n",
       "Mazda RX4 Wag  21.0 6   160.0 110 3.90 2.875 17.02 0  1  4    4   \n",
       "Hornet 4 Drive 21.4 6   258.0 110 3.08 3.215 19.44 1  0  3    1   \n",
       "Lotus Europa   30.4 4    95.1 113 3.77 1.513 16.90 1  1  5    2   \n",
       "Volvo 142E     21.4 4   121.0 109 4.11 2.780 18.60 1  1  4    2   "
      ]
     },
     "metadata": {},
     "output_type": "display_data"
    }
   ],
   "source": [
    "df[(df[\"mpg\"] >= 20) & (df[\"hp\"] > 100),] # Don't foget the comma to get all columns!"
   ]
  },
  {
   "cell_type": "code",
   "execution_count": 8,
   "id": "b1f7ece4-7f22-4a4b-8231-7879cf433cf6",
   "metadata": {},
   "outputs": [
    {
     "data": {
      "text/html": [
       "<table>\n",
       "<thead><tr><th></th><th scope=col>mpg</th><th scope=col>cyl</th><th scope=col>disp</th><th scope=col>hp</th><th scope=col>drat</th><th scope=col>wt</th><th scope=col>qsec</th><th scope=col>vs</th><th scope=col>am</th><th scope=col>gear</th><th scope=col>carb</th></tr></thead>\n",
       "<tbody>\n",
       "\t<tr><th scope=row>Mazda RX4</th><td>21.0 </td><td>6    </td><td>160.0</td><td>110  </td><td>3.90 </td><td>2.620</td><td>16.46</td><td>0    </td><td>1    </td><td>4    </td><td>4    </td></tr>\n",
       "\t<tr><th scope=row>Mazda RX4 Wag</th><td>21.0 </td><td>6    </td><td>160.0</td><td>110  </td><td>3.90 </td><td>2.875</td><td>17.02</td><td>0    </td><td>1    </td><td>4    </td><td>4    </td></tr>\n",
       "\t<tr><th scope=row>Hornet 4 Drive</th><td>21.4 </td><td>6    </td><td>258.0</td><td>110  </td><td>3.08 </td><td>3.215</td><td>19.44</td><td>1    </td><td>0    </td><td>3    </td><td>1    </td></tr>\n",
       "\t<tr><th scope=row>Lotus Europa</th><td>30.4 </td><td>4    </td><td> 95.1</td><td>113  </td><td>3.77 </td><td>1.513</td><td>16.90</td><td>1    </td><td>1    </td><td>5    </td><td>2    </td></tr>\n",
       "\t<tr><th scope=row>Volvo 142E</th><td>21.4 </td><td>4    </td><td>121.0</td><td>109  </td><td>4.11 </td><td>2.780</td><td>18.60</td><td>1    </td><td>1    </td><td>4    </td><td>2    </td></tr>\n",
       "</tbody>\n",
       "</table>\n"
      ],
      "text/latex": [
       "\\begin{tabular}{r|lllllllllll}\n",
       "  & mpg & cyl & disp & hp & drat & wt & qsec & vs & am & gear & carb\\\\\n",
       "\\hline\n",
       "\tMazda RX4 & 21.0  & 6     & 160.0 & 110   & 3.90  & 2.620 & 16.46 & 0     & 1     & 4     & 4    \\\\\n",
       "\tMazda RX4 Wag & 21.0  & 6     & 160.0 & 110   & 3.90  & 2.875 & 17.02 & 0     & 1     & 4     & 4    \\\\\n",
       "\tHornet 4 Drive & 21.4  & 6     & 258.0 & 110   & 3.08  & 3.215 & 19.44 & 1     & 0     & 3     & 1    \\\\\n",
       "\tLotus Europa & 30.4  & 4     &  95.1 & 113   & 3.77  & 1.513 & 16.90 & 1     & 1     & 5     & 2    \\\\\n",
       "\tVolvo 142E & 21.4  & 4     & 121.0 & 109   & 4.11  & 2.780 & 18.60 & 1     & 1     & 4     & 2    \\\\\n",
       "\\end{tabular}\n"
      ],
      "text/markdown": [
       "\n",
       "| <!--/--> | mpg | cyl | disp | hp | drat | wt | qsec | vs | am | gear | carb |\n",
       "|---|---|---|---|---|---|---|---|---|---|---|---|\n",
       "| Mazda RX4 | 21.0  | 6     | 160.0 | 110   | 3.90  | 2.620 | 16.46 | 0     | 1     | 4     | 4     |\n",
       "| Mazda RX4 Wag | 21.0  | 6     | 160.0 | 110   | 3.90  | 2.875 | 17.02 | 0     | 1     | 4     | 4     |\n",
       "| Hornet 4 Drive | 21.4  | 6     | 258.0 | 110   | 3.08  | 3.215 | 19.44 | 1     | 0     | 3     | 1     |\n",
       "| Lotus Europa | 30.4  | 4     |  95.1 | 113   | 3.77  | 1.513 | 16.90 | 1     | 1     | 5     | 2     |\n",
       "| Volvo 142E | 21.4  | 4     | 121.0 | 109   | 4.11  | 2.780 | 18.60 | 1     | 1     | 4     | 2     |\n",
       "\n"
      ],
      "text/plain": [
       "               mpg  cyl disp  hp  drat wt    qsec  vs am gear carb\n",
       "Mazda RX4      21.0 6   160.0 110 3.90 2.620 16.46 0  1  4    4   \n",
       "Mazda RX4 Wag  21.0 6   160.0 110 3.90 2.875 17.02 0  1  4    4   \n",
       "Hornet 4 Drive 21.4 6   258.0 110 3.08 3.215 19.44 1  0  3    1   \n",
       "Lotus Europa   30.4 4    95.1 113 3.77 1.513 16.90 1  1  5    2   \n",
       "Volvo 142E     21.4 4   121.0 109 4.11 2.780 18.60 1  1  4    2   "
      ]
     },
     "metadata": {},
     "output_type": "display_data"
    }
   ],
   "source": [
    "subset(x=df, subset=(mpg>=20) & (hp>100)) # Subset function can do the same filtering"
   ]
  },
  {
   "cell_type": "markdown",
   "id": "19ec8587-dc38-43be-a6f4-c21511d5cce4",
   "metadata": {},
   "source": [
    "**Logical Operators with Vectors**\n",
    "\n",
    "* We can perform logical operations in two ways: \n",
    "    * Compare entire vector element by element `(&, |, !)` \n",
    "    * Compare the first elements of of the vectors `(&&, ||, !!)` "
   ]
  },
  {
   "cell_type": "code",
   "execution_count": 9,
   "id": "6c8b9d11-a161-449a-9571-f32c79ed12a7",
   "metadata": {},
   "outputs": [],
   "source": [
    "tf <- c(TRUE,FALSE)\n",
    "tt <- c(TRUE,TRUE)\n",
    "ft <- c(FALSE, TRUE)"
   ]
  },
  {
   "cell_type": "code",
   "execution_count": 10,
   "id": "77cde639-cccd-42bc-94c7-a0860d94152f",
   "metadata": {},
   "outputs": [
    {
     "data": {
      "text/html": [
       "<ol class=list-inline>\n",
       "\t<li>TRUE</li>\n",
       "\t<li>FALSE</li>\n",
       "</ol>\n"
      ],
      "text/latex": [
       "\\begin{enumerate*}\n",
       "\\item TRUE\n",
       "\\item FALSE\n",
       "\\end{enumerate*}\n"
      ],
      "text/markdown": [
       "1. TRUE\n",
       "2. FALSE\n",
       "\n",
       "\n"
      ],
      "text/plain": [
       "[1]  TRUE FALSE"
      ]
     },
     "metadata": {},
     "output_type": "display_data"
    }
   ],
   "source": [
    "tt & tf"
   ]
  },
  {
   "cell_type": "code",
   "execution_count": 11,
   "id": "ddbe65f4-f2d8-40a0-ba2f-bbbd53e0bcb1",
   "metadata": {},
   "outputs": [
    {
     "data": {
      "text/html": [
       "TRUE"
      ],
      "text/latex": [
       "TRUE"
      ],
      "text/markdown": [
       "TRUE"
      ],
      "text/plain": [
       "[1] TRUE"
      ]
     },
     "metadata": {},
     "output_type": "display_data"
    }
   ],
   "source": [
    "tt && tf"
   ]
  },
  {
   "cell_type": "markdown",
   "id": "c1e7cf97-fd17-4c73-bb53-eff9526affa8",
   "metadata": {
    "tags": []
   },
   "source": [
    "#### <center> `if-else` and `else-if` Statements </center>\n",
    "\n",
    "The if statement executes a block of code if the condition is true.\n",
    "\n",
    "General syntax of **`if`** statement.\n",
    "\n",
    "**`if (condition){`**\n",
    "\n",
    "**`            execute some code`**           \n",
    "**`}`**"
   ]
  },
  {
   "cell_type": "code",
   "execution_count": 12,
   "id": "856f8f07-b1da-42a4-95ce-35df208624f6",
   "metadata": {},
   "outputs": [],
   "source": [
    "hot <- FALSE \n",
    "temp <- 60 "
   ]
  },
  {
   "cell_type": "code",
   "execution_count": 13,
   "id": "2ed63085-3740-479d-b563-b6c54b84154b",
   "metadata": {},
   "outputs": [
    {
     "data": {
      "text/html": [
       "FALSE"
      ],
      "text/latex": [
       "FALSE"
      ],
      "text/markdown": [
       "FALSE"
      ],
      "text/plain": [
       "[1] FALSE"
      ]
     },
     "metadata": {},
     "output_type": "display_data"
    }
   ],
   "source": [
    "if (temp > 80){ \n",
    "    hot <- TRUE \n",
    "    } \n",
    "hot"
   ]
  },
  {
   "cell_type": "markdown",
   "id": "9cecd1a3-dc61-4233-8629-4af1ced1a727",
   "metadata": {},
   "source": [
    "The `if else` statement, executes the first block of code if the condition is TRUE, and the second block of code if the condition is FALSE.\n",
    "\n",
    "General syntax of **`if else`** statement\n",
    "\n",
    "**`if (condition) {`**\n",
    "\n",
    "**`  # Code to execute if true`**\n",
    "\n",
    "**`} else {`**\n",
    "\n",
    "**`  # Code to execute if above was not true`**\n",
    "\n",
    "**`}`**\n",
    "\n"
   ]
  },
  {
   "cell_type": "code",
   "execution_count": 14,
   "id": "f69a4b59-724e-459e-b774-91d43c50255e",
   "metadata": {},
   "outputs": [
    {
     "name": "stdout",
     "output_type": "stream",
     "text": [
      "[1] \"Not hot outside!\"\n"
     ]
    }
   ],
   "source": [
    "temp <- 30 \n",
    "\n",
    "if (temp > 90){\n",
    "    print(\"Hot outside!\")\n",
    "} else { \n",
    "    print(\"Not hot outside!\")\n",
    "} "
   ]
  },
  {
   "cell_type": "markdown",
   "id": "efc5dc9c-815f-4edd-b3b8-f32497c673f4",
   "metadata": {},
   "source": [
    "#### **`else if` Statement**\n",
    "\n",
    "The `else if` statement checks multiple conditions. Often it includes a final `else` statement to execute code if none of the conditions are TRUE."
   ]
  },
  {
   "cell_type": "code",
   "execution_count": null,
   "id": "44d6c797-e7fc-49df-839f-0561265b0c5e",
   "metadata": {},
   "outputs": [],
   "source": [
    "temp <- 30 \n",
    "\n",
    "if (temp > 80){ \n",
    "    print(\"Hot outside!\")\n",
    "} else if (temp<80 & temp>50){\n",
    "    print(\"It's nice outside!\")\n",
    "} else if (temp<50 & temp>32){\n",
    "    print(\"It's coller outside!\")\n",
    "} else{ \n",
    "    print(\"It's really cold outside!\")\n",
    "}"
   ]
  },
  {
   "cell_type": "markdown",
   "id": "a51a7dcd-5d9f-41a5-82d8-900243262920",
   "metadata": {},
   "source": [
    "### <center> Loops </center> \n",
    "\n",
    "**While Loops**\n",
    "\n",
    "* **`while`** loops repeatetly execute a block of code while a condition is true.\n",
    "* A major concern of a is that the condition at some point should become FALSE, otherwise the loop will run for ever (**infinite loop**)!\n",
    "* In such a case press **`Ctrl-C`** to kill a process in RStudio. \n",
    "* General syntax of a while loop: \n",
    "\n",
    "**`while (condition){`**\n",
    "\n",
    "**`    # execute executed here`**\n",
    "\n",
    "**`}`**\n",
    "\n",
    "An example: "
   ]
  },
  {
   "cell_type": "code",
   "execution_count": null,
   "id": "6f0b73a2-7091-4cff-b74d-abaffbdd7e32",
   "metadata": {},
   "outputs": [],
   "source": [
    "x <- 0 \n",
    "\n",
    "while(x < 5){\n",
    "    cat(\"x is currently: \", x)\n",
    "    print(\" x is still less than 5. Adding 1 to x\")\n",
    "    \n",
    "    x <- x+1\n",
    "    if(x==5){ \n",
    "        print(\"x is equal to 5. Terminating loop!\")\n",
    "        } \n",
    "    }"
   ]
  },
  {
   "cell_type": "markdown",
   "id": "c4d653c4-9c6a-45bb-92a3-9d75e7e31dc8",
   "metadata": {},
   "source": [
    "* You can also use **`break`** to break out of a loop."
   ]
  },
  {
   "cell_type": "code",
   "execution_count": null,
   "id": "41fdd0ad-88a2-490f-a6b8-57fd361a39be",
   "metadata": {},
   "outputs": [],
   "source": [
    "x <- 0 \n",
    "\n",
    "while(x < 5){\n",
    "    cat(\"x is currently: \", x)\n",
    "    print(\" x is still less than 5. Adding 1 to x\")\n",
    "    \n",
    "    x <- x+1\n",
    "    if(x==5){ \n",
    "        print(\"x is equal to 5. Terminating loop!\")\n",
    "        break\n",
    "        } \n",
    "    }   "
   ]
  },
  {
   "cell_type": "markdown",
   "id": "72ce8cad-8bfe-4697-a89b-4f7a211795cd",
   "metadata": {},
   "source": [
    "**For Loops**\n",
    "\n",
    "* For loops allow us to iterate over an object (e.g. vector) and we can then execute a block of code at every loop.\n",
    "* General syntax: \n",
    "\n",
    "**`for (temp_var in object){`**\n",
    "\n",
    "**`     # Execute block of code`**\n",
    "\n",
    "**`}`**\n",
    "\n",
    "**Loop over a vector**"
   ]
  },
  {
   "cell_type": "code",
   "execution_count": 1,
   "id": "9996923c-1b9c-4b09-b9a0-cab08dc6cdb1",
   "metadata": {},
   "outputs": [],
   "source": [
    "vec <- c(1,2,3,4,5)\n",
    "vec2 <- c(\"a\", \"b\", \"c\", \"d\", \"e\")"
   ]
  },
  {
   "cell_type": "code",
   "execution_count": 2,
   "id": "d1d70003-5550-4188-b0b3-67a8720866b1",
   "metadata": {},
   "outputs": [
    {
     "name": "stdout",
     "output_type": "stream",
     "text": [
      "[1] 1\n",
      "[1] 2\n",
      "[1] 3\n",
      "[1] 4\n",
      "[1] 5\n"
     ]
    }
   ],
   "source": [
    "# Print each element in vector\n",
    "for (temp in vec){\n",
    "    print(temp)\n",
    "    }"
   ]
  },
  {
   "cell_type": "code",
   "execution_count": null,
   "id": "95ff2e6d-a45b-4b4c-b48e-856723cdd0af",
   "metadata": {},
   "outputs": [],
   "source": [
    "# Print the element in index location\n",
    "for (i in 1:length(vec2)){\n",
    "    print(vec2[i])\n",
    "    }"
   ]
  },
  {
   "cell_type": "markdown",
   "id": "d0c31112-1a36-4898-b98a-1e13248ed2d7",
   "metadata": {},
   "source": [
    "**Loop over a list**"
   ]
  },
  {
   "cell_type": "code",
   "execution_count": null,
   "id": "3bc78ac7-10d0-405d-8a4f-175064ff14c4",
   "metadata": {},
   "outputs": [],
   "source": [
    "my.list <- list(1,2,3,4,5)"
   ]
  },
  {
   "cell_type": "code",
   "execution_count": 22,
   "id": "b4a8deef-b77d-4cf3-ae71-7d2694a982c4",
   "metadata": {},
   "outputs": [
    {
     "name": "stdout",
     "output_type": "stream",
     "text": [
      "[1] 1\n",
      "[1] 2\n",
      "[1] 3\n",
      "[1] 4\n",
      "[1] 5\n"
     ]
    }
   ],
   "source": [
    "for (i in my.list){ \n",
    "    print(i)\n",
    "    } "
   ]
  },
  {
   "cell_type": "code",
   "execution_count": 23,
   "id": "60fba2ac-5291-4d1e-9310-b93fcdfbae50",
   "metadata": {},
   "outputs": [
    {
     "name": "stdout",
     "output_type": "stream",
     "text": [
      "[1] 1\n",
      "[1] 2\n",
      "[1] 3\n",
      "[1] 4\n",
      "[1] 5\n"
     ]
    }
   ],
   "source": [
    "for (i in 1:length(my.list)){ \n",
    "    print(my.list[[i]]) # Remember the double brackets\n",
    "    } "
   ]
  },
  {
   "cell_type": "markdown",
   "id": "86c9ff49-4cc3-414b-a56c-a39b20f54210",
   "metadata": {},
   "source": [
    "**For loop over a Matrix**"
   ]
  },
  {
   "cell_type": "code",
   "execution_count": 24,
   "id": "5c870ad3-7f08-40e0-a0a2-ae159a29a8c8",
   "metadata": {},
   "outputs": [
    {
     "data": {
      "text/html": [
       "<table>\n",
       "<tbody>\n",
       "\t<tr><td>1</td><td>4</td><td>7</td></tr>\n",
       "\t<tr><td>2</td><td>5</td><td>8</td></tr>\n",
       "\t<tr><td>3</td><td>6</td><td>9</td></tr>\n",
       "</tbody>\n",
       "</table>\n"
      ],
      "text/latex": [
       "\\begin{tabular}{lll}\n",
       "\t 1 & 4 & 7\\\\\n",
       "\t 2 & 5 & 8\\\\\n",
       "\t 3 & 6 & 9\\\\\n",
       "\\end{tabular}\n"
      ],
      "text/markdown": [
       "\n",
       "| 1 | 4 | 7 |\n",
       "| 2 | 5 | 8 |\n",
       "| 3 | 6 | 9 |\n",
       "\n"
      ],
      "text/plain": [
       "     [,1] [,2] [,3]\n",
       "[1,] 1    4    7   \n",
       "[2,] 2    5    8   \n",
       "[3,] 3    6    9   "
      ]
     },
     "metadata": {},
     "output_type": "display_data"
    }
   ],
   "source": [
    "mat <- matrix(1:9, nrow=3)\n",
    "mat"
   ]
  },
  {
   "cell_type": "code",
   "execution_count": 25,
   "id": "bdb3ba3b-9cd8-40c8-bc35-774ab6e55f81",
   "metadata": {},
   "outputs": [
    {
     "name": "stdout",
     "output_type": "stream",
     "text": [
      "[1] 1\n",
      "[1] 2\n",
      "[1] 3\n",
      "[1] 4\n",
      "[1] 5\n",
      "[1] 6\n",
      "[1] 7\n",
      "[1] 8\n",
      "[1] 9\n"
     ]
    }
   ],
   "source": [
    "for (num in mat){ \n",
    "    print(num)\n",
    "    }"
   ]
  },
  {
   "cell_type": "markdown",
   "id": "7aa7769a-14e5-4c06-8f2a-956671a36f8e",
   "metadata": {},
   "source": [
    "**Nested for loops**"
   ]
  },
  {
   "cell_type": "code",
   "execution_count": 26,
   "id": "023667f8-9875-48f9-92b2-259b6ff3d83e",
   "metadata": {},
   "outputs": [
    {
     "name": "stdout",
     "output_type": "stream",
     "text": [
      "[1] \"The element at row 1 and col 1 is 1\"\n",
      "[1] \"The element at row 1 and col 2 is 4\"\n",
      "[1] \"The element at row 1 and col 3 is 7\"\n",
      "[1] \"The element at row 2 and col 1 is 2\"\n",
      "[1] \"The element at row 2 and col 2 is 5\"\n",
      "[1] \"The element at row 2 and col 3 is 8\"\n",
      "[1] \"The element at row 3 and col 1 is 3\"\n",
      "[1] \"The element at row 3 and col 2 is 6\"\n",
      "[1] \"The element at row 3 and col 3 is 9\"\n"
     ]
    }
   ],
   "source": [
    "for (row in 1:nrow(mat)){ \n",
    "    for (col in 1:ncol(mat)){ \n",
    "        print(paste(\"The element at row\", row, \"and col\", col, \"is\", mat[row,col]))\n",
    "        } \n",
    "    } "
   ]
  },
  {
   "cell_type": "markdown",
   "id": "5bc73b19-25e7-45dd-996c-8ac2ba093c5a",
   "metadata": {},
   "source": [
    "#### <center> R Functions </center>\n",
    "\n",
    "**Ex 1:** Simple function with no arguments."
   ]
  },
  {
   "cell_type": "code",
   "execution_count": 27,
   "id": "d05bd513-cd44-46c4-b9a0-2097ef342746",
   "metadata": {},
   "outputs": [],
   "source": [
    "hello <- function(){\n",
    "    print(\"Hello!\")\n",
    "    } "
   ]
  },
  {
   "cell_type": "code",
   "execution_count": 28,
   "id": "a0c96278-9c52-45b6-b16f-0828fc1a371f",
   "metadata": {},
   "outputs": [
    {
     "name": "stdout",
     "output_type": "stream",
     "text": [
      "[1] \"Hello!\"\n"
     ]
    }
   ],
   "source": [
    "hello()"
   ]
  },
  {
   "cell_type": "markdown",
   "id": "3105161f-b44f-4650-baec-8fe5a96a94eb",
   "metadata": {},
   "source": [
    "**Ex 2:** Simple function with one argument."
   ]
  },
  {
   "cell_type": "code",
   "execution_count": 29,
   "id": "ccc9dfc9-1b35-4149-9475-7042a9009ca6",
   "metadata": {},
   "outputs": [],
   "source": [
    "hello_you <- function(name){\n",
    "    print(paste(\"Hello \", name))\n",
    "    }"
   ]
  },
  {
   "cell_type": "code",
   "execution_count": 30,
   "id": "0c97fca8-9d23-4ed9-a96b-c8c14535caf1",
   "metadata": {},
   "outputs": [
    {
     "name": "stdout",
     "output_type": "stream",
     "text": [
      "[1] \"Hello  Chris\"\n"
     ]
    }
   ],
   "source": [
    "hello_you(\"Chris\")"
   ]
  },
  {
   "cell_type": "markdown",
   "id": "0bf4e64e-294e-41fa-94fd-d1c219a7c2d5",
   "metadata": {},
   "source": [
    "**Ex 3:**"
   ]
  },
  {
   "cell_type": "code",
   "execution_count": 31,
   "id": "a73cf18c-bed6-40f3-b015-bb176169d931",
   "metadata": {},
   "outputs": [],
   "source": [
    "add_nums <- function(num1, num2){ \n",
    "    print(num1 + num2)\n",
    "    } "
   ]
  },
  {
   "cell_type": "code",
   "execution_count": 32,
   "id": "43dca018-2192-4c77-ba6f-bf9496125a52",
   "metadata": {},
   "outputs": [
    {
     "name": "stdout",
     "output_type": "stream",
     "text": [
      "[1] 5\n"
     ]
    }
   ],
   "source": [
    "add_nums(2,3)"
   ]
  },
  {
   "cell_type": "markdown",
   "id": "7dc9692a-2877-4b9e-afce-5c5761483ff5",
   "metadata": {},
   "source": [
    "**Default Values**"
   ]
  },
  {
   "cell_type": "code",
   "execution_count": 33,
   "id": "10913588-060e-4e42-b71c-51fc00ef4553",
   "metadata": {},
   "outputs": [],
   "source": [
    "hello_someone <- function(name=\"Johny\"){\n",
    "    print(paste(\"Hello \", name))\n",
    "    } "
   ]
  },
  {
   "cell_type": "code",
   "execution_count": 34,
   "id": "02033b8d-68b8-4a81-b442-1e4a82088b95",
   "metadata": {},
   "outputs": [
    {
     "name": "stdout",
     "output_type": "stream",
     "text": [
      "[1] \"Hello  Johny\"\n"
     ]
    }
   ],
   "source": [
    "hello_someone()"
   ]
  },
  {
   "cell_type": "code",
   "execution_count": 35,
   "id": "e9e7660a-e740-47e1-aca7-fc5b89c4d7ee",
   "metadata": {},
   "outputs": [
    {
     "name": "stdout",
     "output_type": "stream",
     "text": [
      "[1] \"Hello  Chris\"\n"
     ]
    }
   ],
   "source": [
    "hello_someone(\"Chris\")"
   ]
  },
  {
   "cell_type": "markdown",
   "id": "5558798c-67b3-46ae-8ce8-b061b345cdfe",
   "metadata": {},
   "source": [
    "**Returning Values**\n",
    "\n",
    "* So far we've been printing our results. \n",
    "* If we wanted to **`return`** the results, so that we could assign them to a variable, we can use the keyword"
   ]
  },
  {
   "cell_type": "code",
   "execution_count": 36,
   "id": "2b6a116d-ad7f-40cb-88b3-ae3b85c8570d",
   "metadata": {},
   "outputs": [],
   "source": [
    "formal <- function(name=\"Sam\", title=\"Sir\"){\n",
    "    return(paste(title, \" \", name))\n",
    "    } "
   ]
  },
  {
   "cell_type": "code",
   "execution_count": 37,
   "id": "8d7f31d8-5d41-4065-879f-9c5fb5f556a1",
   "metadata": {},
   "outputs": [
    {
     "data": {
      "text/html": [
       "<span style=white-space:pre-wrap>'Sir   Sam'</span>"
      ],
      "text/latex": [
       "'Sir   Sam'"
      ],
      "text/markdown": [
       "<span style=white-space:pre-wrap>'Sir   Sam'</span>"
      ],
      "text/plain": [
       "[1] \"Sir   Sam\""
      ]
     },
     "metadata": {},
     "output_type": "display_data"
    }
   ],
   "source": [
    "formal()"
   ]
  },
  {
   "cell_type": "code",
   "execution_count": 38,
   "id": "2b00980d-cb51-4d8a-92c3-72b7f41f6095",
   "metadata": {},
   "outputs": [
    {
     "data": {
      "text/html": [
       "<span style=white-space:pre-wrap>'Sir   Isaac Newton'</span>"
      ],
      "text/latex": [
       "'Sir   Isaac Newton'"
      ],
      "text/markdown": [
       "<span style=white-space:pre-wrap>'Sir   Isaac Newton'</span>"
      ],
      "text/plain": [
       "[1] \"Sir   Isaac Newton\""
      ]
     },
     "metadata": {},
     "output_type": "display_data"
    }
   ],
   "source": [
    "formal(\"Isaac Newton\")"
   ]
  },
  {
   "cell_type": "code",
   "execution_count": 39,
   "id": "c63593eb-1ed5-4a38-81f6-c28929515b2a",
   "metadata": {},
   "outputs": [],
   "source": [
    "var <- formal(\"Marie Curie\", \"Ms\")"
   ]
  },
  {
   "cell_type": "code",
   "execution_count": 40,
   "id": "667dc962-6fd8-4c31-b829-12859906269f",
   "metadata": {},
   "outputs": [
    {
     "data": {
      "text/html": [
       "<span style=white-space:pre-wrap>'Ms   Marie Curie'</span>"
      ],
      "text/latex": [
       "'Ms   Marie Curie'"
      ],
      "text/markdown": [
       "<span style=white-space:pre-wrap>'Ms   Marie Curie'</span>"
      ],
      "text/plain": [
       "[1] \"Ms   Marie Curie\""
      ]
     },
     "metadata": {},
     "output_type": "display_data"
    }
   ],
   "source": [
    "var"
   ]
  }
 ],
 "metadata": {
  "kernelspec": {
   "display_name": "R",
   "language": "R",
   "name": "ir"
  },
  "language_info": {
   "codemirror_mode": "r",
   "file_extension": ".r",
   "mimetype": "text/x-r-source",
   "name": "R",
   "pygments_lexer": "r",
   "version": "3.6.1"
  }
 },
 "nbformat": 4,
 "nbformat_minor": 5
}
