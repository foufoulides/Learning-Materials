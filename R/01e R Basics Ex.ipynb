{
 "cells": [
  {
   "cell_type": "markdown",
   "id": "a25b76a9-7791-43c2-ade9-fa982fcb7f95",
   "metadata": {},
   "source": [
    "### <center> R Basics Exercise </center>"
   ]
  },
  {
   "cell_type": "markdown",
   "id": "ffa13779-ce5b-4f39-81e6-e47b409d65e9",
   "metadata": {},
   "source": [
    "What is two to the power of five? "
   ]
  },
  {
   "cell_type": "code",
   "execution_count": 1,
   "id": "b6fa9fd6-9759-4ad4-9dc8-812a29f1944d",
   "metadata": {},
   "outputs": [
    {
     "data": {
      "text/html": [
       "32"
      ],
      "text/latex": [
       "32"
      ],
      "text/markdown": [
       "32"
      ],
      "text/plain": [
       "[1] 32"
      ]
     },
     "metadata": {},
     "output_type": "display_data"
    }
   ],
   "source": [
    "2^5"
   ]
  },
  {
   "cell_type": "markdown",
   "id": "3ec8478d-fb51-4e84-99e5-d76382d2bd4d",
   "metadata": {},
   "source": [
    "Create vector named stock.proices with the following data points: 23, 27, 23, 21, 34."
   ]
  },
  {
   "cell_type": "code",
   "execution_count": 3,
   "id": "ca844b29-777c-4e42-ab75-c1bf8387d3b3",
   "metadata": {},
   "outputs": [
    {
     "data": {
      "text/html": [
       "<ol class=list-inline>\n",
       "\t<li>23</li>\n",
       "\t<li>27</li>\n",
       "\t<li>23</li>\n",
       "\t<li>21</li>\n",
       "\t<li>34</li>\n",
       "</ol>\n"
      ],
      "text/latex": [
       "\\begin{enumerate*}\n",
       "\\item 23\n",
       "\\item 27\n",
       "\\item 23\n",
       "\\item 21\n",
       "\\item 34\n",
       "\\end{enumerate*}\n"
      ],
      "text/markdown": [
       "1. 23\n",
       "2. 27\n",
       "3. 23\n",
       "4. 21\n",
       "5. 34\n",
       "\n",
       "\n"
      ],
      "text/plain": [
       "[1] 23 27 23 21 34"
      ]
     },
     "metadata": {},
     "output_type": "display_data"
    }
   ],
   "source": [
    "stock.prices <- c(23, 27, 23, 21, 34)\n",
    "stock.prices"
   ]
  },
  {
   "cell_type": "markdown",
   "id": "dc3ac479-61be-45c7-bb7b-567b2a1397e7",
   "metadata": {},
   "source": [
    "Assign to the price data points the names of the weekdays."
   ]
  },
  {
   "cell_type": "code",
   "execution_count": 4,
   "id": "8f9e4b33-9fd9-4dd1-bec8-d2c8a9aa71fc",
   "metadata": {},
   "outputs": [],
   "source": [
    "weekdays <- c(\"Mon\", \"Tue\", \"Wed\", \"Thu\", \"Fri\")"
   ]
  },
  {
   "cell_type": "code",
   "execution_count": 5,
   "id": "5836bfac-37cb-4f91-80c9-a60bfab4e41c",
   "metadata": {},
   "outputs": [],
   "source": [
    "names(stock.prices) <- weekdays"
   ]
  },
  {
   "cell_type": "code",
   "execution_count": 6,
   "id": "3abfa0db-b893-4b7d-8de9-924bf5297615",
   "metadata": {},
   "outputs": [
    {
     "data": {
      "text/html": [
       "<dl class=dl-horizontal>\n",
       "\t<dt>Mon</dt>\n",
       "\t\t<dd>23</dd>\n",
       "\t<dt>Tue</dt>\n",
       "\t\t<dd>27</dd>\n",
       "\t<dt>Wed</dt>\n",
       "\t\t<dd>23</dd>\n",
       "\t<dt>Thu</dt>\n",
       "\t\t<dd>21</dd>\n",
       "\t<dt>Fri</dt>\n",
       "\t\t<dd>34</dd>\n",
       "</dl>\n"
      ],
      "text/latex": [
       "\\begin{description*}\n",
       "\\item[Mon] 23\n",
       "\\item[Tue] 27\n",
       "\\item[Wed] 23\n",
       "\\item[Thu] 21\n",
       "\\item[Fri] 34\n",
       "\\end{description*}\n"
      ],
      "text/markdown": [
       "Mon\n",
       ":   23Tue\n",
       ":   27Wed\n",
       ":   23Thu\n",
       ":   21Fri\n",
       ":   34\n",
       "\n"
      ],
      "text/plain": [
       "Mon Tue Wed Thu Fri \n",
       " 23  27  23  21  34 "
      ]
     },
     "metadata": {},
     "output_type": "display_data"
    }
   ],
   "source": [
    "stock.prices"
   ]
  },
  {
   "cell_type": "markdown",
   "id": "90b07a60-0f29-4aa7-8b7f-830559846bde",
   "metadata": {},
   "source": [
    "What is the average stock prices of the week? "
   ]
  },
  {
   "cell_type": "code",
   "execution_count": 7,
   "id": "75e74805-9d36-4838-8383-266cd16b310f",
   "metadata": {},
   "outputs": [
    {
     "data": {
      "text/html": [
       "25.6"
      ],
      "text/latex": [
       "25.6"
      ],
      "text/markdown": [
       "25.6"
      ],
      "text/plain": [
       "[1] 25.6"
      ]
     },
     "metadata": {},
     "output_type": "display_data"
    }
   ],
   "source": [
    "mean(stock.prices)"
   ]
  },
  {
   "cell_type": "raw",
   "id": "d1087ea7-3cec-4713-be79-a918339cca28",
   "metadata": {},
   "source": [
    "Create a vector called **over.23** consisting of logicals that correspond to the days where the stock price is greater than 23."
   ]
  },
  {
   "cell_type": "code",
   "execution_count": 10,
   "id": "21d846ac-5125-4f33-b7d3-c86aa997aa42",
   "metadata": {},
   "outputs": [
    {
     "data": {
      "text/html": [
       "<dl class=dl-horizontal>\n",
       "\t<dt>Mon</dt>\n",
       "\t\t<dd>FALSE</dd>\n",
       "\t<dt>Tue</dt>\n",
       "\t\t<dd>TRUE</dd>\n",
       "\t<dt>Wed</dt>\n",
       "\t\t<dd>FALSE</dd>\n",
       "\t<dt>Thu</dt>\n",
       "\t\t<dd>FALSE</dd>\n",
       "\t<dt>Fri</dt>\n",
       "\t\t<dd>TRUE</dd>\n",
       "</dl>\n"
      ],
      "text/latex": [
       "\\begin{description*}\n",
       "\\item[Mon] FALSE\n",
       "\\item[Tue] TRUE\n",
       "\\item[Wed] FALSE\n",
       "\\item[Thu] FALSE\n",
       "\\item[Fri] TRUE\n",
       "\\end{description*}\n"
      ],
      "text/markdown": [
       "Mon\n",
       ":   FALSETue\n",
       ":   TRUEWed\n",
       ":   FALSEThu\n",
       ":   FALSEFri\n",
       ":   TRUE\n",
       "\n"
      ],
      "text/plain": [
       "  Mon   Tue   Wed   Thu   Fri \n",
       "FALSE  TRUE FALSE FALSE  TRUE "
      ]
     },
     "metadata": {},
     "output_type": "display_data"
    }
   ],
   "source": [
    "over.23 <- stock.prices>23\n",
    "over.23"
   ]
  },
  {
   "cell_type": "markdown",
   "id": "589432d3-8135-410b-80de-c753d5d16b98",
   "metadata": {},
   "source": [
    "Use logicals vector to return the days and prices when it is over 23"
   ]
  },
  {
   "cell_type": "code",
   "execution_count": 11,
   "id": "2374eb4d-b765-44dd-9c48-f2f17e450f97",
   "metadata": {},
   "outputs": [
    {
     "data": {
      "text/html": [
       "<dl class=dl-horizontal>\n",
       "\t<dt>Tue</dt>\n",
       "\t\t<dd>27</dd>\n",
       "\t<dt>Fri</dt>\n",
       "\t\t<dd>34</dd>\n",
       "</dl>\n"
      ],
      "text/latex": [
       "\\begin{description*}\n",
       "\\item[Tue] 27\n",
       "\\item[Fri] 34\n",
       "\\end{description*}\n"
      ],
      "text/markdown": [
       "Tue\n",
       ":   27Fri\n",
       ":   34\n",
       "\n"
      ],
      "text/plain": [
       "Tue Fri \n",
       " 27  34 "
      ]
     },
     "metadata": {},
     "output_type": "display_data"
    }
   ],
   "source": [
    "stock.prices[over.23]"
   ]
  },
  {
   "cell_type": "markdown",
   "id": "0709e5ba-a2be-43bc-85d2-8c781153efc8",
   "metadata": {},
   "source": [
    "Use a build-in function to find the day the price was the highest. "
   ]
  },
  {
   "cell_type": "code",
   "execution_count": 15,
   "id": "05aa7bcf-5e85-4844-86ca-1862c0ca52b2",
   "metadata": {},
   "outputs": [
    {
     "data": {
      "text/html": [
       "<strong>Fri:</strong> 34"
      ],
      "text/latex": [
       "\\textbf{Fri:} 34"
      ],
      "text/markdown": [
       "**Fri:** 34"
      ],
      "text/plain": [
       "Fri \n",
       " 34 "
      ]
     },
     "metadata": {},
     "output_type": "display_data"
    }
   ],
   "source": [
    "stock.prices[stock.prices == max(stock.prices)]"
   ]
  }
 ],
 "metadata": {
  "kernelspec": {
   "display_name": "R",
   "language": "R",
   "name": "ir"
  },
  "language_info": {
   "codemirror_mode": "r",
   "file_extension": ".r",
   "mimetype": "text/x-r-source",
   "name": "R",
   "pygments_lexer": "r",
   "version": "3.6.1"
  }
 },
 "nbformat": 4,
 "nbformat_minor": 5
}
