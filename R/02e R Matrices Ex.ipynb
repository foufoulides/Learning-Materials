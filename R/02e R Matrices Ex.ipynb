{
 "cells": [
  {
   "cell_type": "markdown",
   "id": "b3998a82-f7f6-4b96-879d-14955407699b",
   "metadata": {},
   "source": [
    "#### <center> R Matrices Exercises </center> "
   ]
  },
  {
   "cell_type": "markdown",
   "id": "242c026c-9454-4e02-b2eb-fd9ea73cf6ef",
   "metadata": {},
   "source": [
    "**Ex 1**: Create 2 vectors A and B, where A is (1,2,3) and B is (4,5,6). With these vectors, use the cbind() or rbind() function to create a 2 by 3 matrix from the vectors. You'll need to figure out which of these binding functions is the correct choice."
   ]
  },
  {
   "cell_type": "code",
   "execution_count": 1,
   "id": "28d8fb85-8ec1-4762-ab85-1e321344dd5a",
   "metadata": {},
   "outputs": [],
   "source": [
    "A <- c(1,2,3) \n",
    "B <- c(4,5,6)"
   ]
  },
  {
   "cell_type": "code",
   "execution_count": 4,
   "id": "6dc9ec4c-64c4-4f16-9ae2-2d2b3da70b00",
   "metadata": {},
   "outputs": [],
   "source": [
    "M1 <- rbind(A, B)"
   ]
  },
  {
   "cell_type": "code",
   "execution_count": 5,
   "id": "a6e33486-0b8f-4e4a-a651-c0d157c115cb",
   "metadata": {},
   "outputs": [
    {
     "data": {
      "text/html": [
       "<table>\n",
       "<tbody>\n",
       "\t<tr><th scope=row>A</th><td>1</td><td>2</td><td>3</td></tr>\n",
       "\t<tr><th scope=row>B</th><td>4</td><td>5</td><td>6</td></tr>\n",
       "</tbody>\n",
       "</table>\n"
      ],
      "text/latex": [
       "\\begin{tabular}{r|lll}\n",
       "\tA & 1 & 2 & 3\\\\\n",
       "\tB & 4 & 5 & 6\\\\\n",
       "\\end{tabular}\n"
      ],
      "text/markdown": [
       "\n",
       "| A | 1 | 2 | 3 |\n",
       "| B | 4 | 5 | 6 |\n",
       "\n"
      ],
      "text/plain": [
       "  [,1] [,2] [,3]\n",
       "A 1    2    3   \n",
       "B 4    5    6   "
      ]
     },
     "metadata": {},
     "output_type": "display_data"
    }
   ],
   "source": [
    "M1"
   ]
  },
  {
   "cell_type": "markdown",
   "id": "1880945c-04f7-4db6-b92b-a79eedffe12b",
   "metadata": {},
   "source": [
    "**Ex 2**: Create a 3 by 3 matrix consisting of the numbers 1-9. Create this matrix using the shortcut 1:9 and by specifying the nrow argument in the matrix() function call. Assign this matrix to the variable mat"
   ]
  },
  {
   "cell_type": "code",
   "execution_count": 20,
   "id": "f7a04c13-0cdc-4944-8270-cb0b51c4b6ce",
   "metadata": {},
   "outputs": [],
   "source": [
    "M1 <- matrix(data=1:9, nrow=3, byrow=TRUE)"
   ]
  },
  {
   "cell_type": "code",
   "execution_count": 21,
   "id": "12b9b8d1-916c-49e5-ba9a-4ed80d2aaf19",
   "metadata": {},
   "outputs": [
    {
     "data": {
      "text/html": [
       "<table>\n",
       "<tbody>\n",
       "\t<tr><td>1</td><td>2</td><td>3</td></tr>\n",
       "\t<tr><td>4</td><td>5</td><td>6</td></tr>\n",
       "\t<tr><td>7</td><td>8</td><td>9</td></tr>\n",
       "</tbody>\n",
       "</table>\n"
      ],
      "text/latex": [
       "\\begin{tabular}{lll}\n",
       "\t 1 & 2 & 3\\\\\n",
       "\t 4 & 5 & 6\\\\\n",
       "\t 7 & 8 & 9\\\\\n",
       "\\end{tabular}\n"
      ],
      "text/markdown": [
       "\n",
       "| 1 | 2 | 3 |\n",
       "| 4 | 5 | 6 |\n",
       "| 7 | 8 | 9 |\n",
       "\n"
      ],
      "text/plain": [
       "     [,1] [,2] [,3]\n",
       "[1,] 1    2    3   \n",
       "[2,] 4    5    6   \n",
       "[3,] 7    8    9   "
      ]
     },
     "metadata": {},
     "output_type": "display_data"
    }
   ],
   "source": [
    "M1"
   ]
  },
  {
   "cell_type": "markdown",
   "id": "794899d3-ffaa-47cf-aa99-cd902a63fd35",
   "metadata": {},
   "source": [
    "**Ex 3**: Confirm that mat is a matrix using is.matrix()"
   ]
  },
  {
   "cell_type": "code",
   "execution_count": 10,
   "id": "54a2190f-5c67-4a16-9c34-d3aef7641cb9",
   "metadata": {},
   "outputs": [
    {
     "data": {
      "text/html": [
       "TRUE"
      ],
      "text/latex": [
       "TRUE"
      ],
      "text/markdown": [
       "TRUE"
      ],
      "text/plain": [
       "[1] TRUE"
      ]
     },
     "metadata": {},
     "output_type": "display_data"
    }
   ],
   "source": [
    "is.matrix(M1)"
   ]
  },
  {
   "cell_type": "markdown",
   "id": "33d5bb19-0bb5-424a-9798-4eee81b864c5",
   "metadata": {},
   "source": [
    "**Ex 4**: Create a 5 by 5 matrix consisting of the numbers 1-25 and assign it to the variable mat2. The top row should be the numbers 1-5."
   ]
  },
  {
   "cell_type": "code",
   "execution_count": 13,
   "id": "5fb2569b-cab0-4191-8251-2f908cfde530",
   "metadata": {},
   "outputs": [],
   "source": [
    "M2 <- matrix(data=1:25, nrow=5, byrow=TRUE)"
   ]
  },
  {
   "cell_type": "code",
   "execution_count": 14,
   "id": "e8ee702a-970e-4bad-831f-282197f7b8b4",
   "metadata": {},
   "outputs": [
    {
     "data": {
      "text/html": [
       "<table>\n",
       "<tbody>\n",
       "\t<tr><td> 1</td><td> 2</td><td> 3</td><td> 4</td><td> 5</td></tr>\n",
       "\t<tr><td> 6</td><td> 7</td><td> 8</td><td> 9</td><td>10</td></tr>\n",
       "\t<tr><td>11</td><td>12</td><td>13</td><td>14</td><td>15</td></tr>\n",
       "\t<tr><td>16</td><td>17</td><td>18</td><td>19</td><td>20</td></tr>\n",
       "\t<tr><td>21</td><td>22</td><td>23</td><td>24</td><td>25</td></tr>\n",
       "</tbody>\n",
       "</table>\n"
      ],
      "text/latex": [
       "\\begin{tabular}{lllll}\n",
       "\t  1 &  2 &  3 &  4 &  5\\\\\n",
       "\t  6 &  7 &  8 &  9 & 10\\\\\n",
       "\t 11 & 12 & 13 & 14 & 15\\\\\n",
       "\t 16 & 17 & 18 & 19 & 20\\\\\n",
       "\t 21 & 22 & 23 & 24 & 25\\\\\n",
       "\\end{tabular}\n"
      ],
      "text/markdown": [
       "\n",
       "|  1 |  2 |  3 |  4 |  5 |\n",
       "|  6 |  7 |  8 |  9 | 10 |\n",
       "| 11 | 12 | 13 | 14 | 15 |\n",
       "| 16 | 17 | 18 | 19 | 20 |\n",
       "| 21 | 22 | 23 | 24 | 25 |\n",
       "\n"
      ],
      "text/plain": [
       "     [,1] [,2] [,3] [,4] [,5]\n",
       "[1,]  1    2    3    4    5  \n",
       "[2,]  6    7    8    9   10  \n",
       "[3,] 11   12   13   14   15  \n",
       "[4,] 16   17   18   19   20  \n",
       "[5,] 21   22   23   24   25  "
      ]
     },
     "metadata": {},
     "output_type": "display_data"
    }
   ],
   "source": [
    "M2"
   ]
  },
  {
   "cell_type": "markdown",
   "id": "ea5ec524-8c52-4aba-a8e0-962823329096",
   "metadata": {},
   "source": [
    "**Ex 5**: Using indexing notation, grab a sub-section of mat2 from the previous exercise that looks like this:\n",
    "\n",
    "[7,8]\n",
    "\n",
    "[12,13]"
   ]
  },
  {
   "cell_type": "code",
   "execution_count": 15,
   "id": "1266cd36-6235-4a6f-b73c-0efb031b2203",
   "metadata": {},
   "outputs": [
    {
     "data": {
      "text/html": [
       "<table>\n",
       "<tbody>\n",
       "\t<tr><td> 7</td><td> 8</td></tr>\n",
       "\t<tr><td>12</td><td>13</td></tr>\n",
       "</tbody>\n",
       "</table>\n"
      ],
      "text/latex": [
       "\\begin{tabular}{ll}\n",
       "\t  7 &  8\\\\\n",
       "\t 12 & 13\\\\\n",
       "\\end{tabular}\n"
      ],
      "text/markdown": [
       "\n",
       "|  7 |  8 |\n",
       "| 12 | 13 |\n",
       "\n"
      ],
      "text/plain": [
       "     [,1] [,2]\n",
       "[1,]  7    8  \n",
       "[2,] 12   13  "
      ]
     },
     "metadata": {},
     "output_type": "display_data"
    }
   ],
   "source": [
    "M2[2:3, 2:3]"
   ]
  },
  {
   "cell_type": "markdown",
   "id": "3d194503-5c93-4990-b462-8269d3604e00",
   "metadata": {},
   "source": [
    "**Ex 6**: Using indexing notation, grab a sub-section of mat2 from the previous exercise that looks like this:\n",
    "\n",
    "[19,20]\n",
    "\n",
    "[24,25]"
   ]
  },
  {
   "cell_type": "code",
   "execution_count": 16,
   "id": "a44b03ca-4268-4e46-8dd3-ace6ae143fe6",
   "metadata": {},
   "outputs": [
    {
     "data": {
      "text/html": [
       "<table>\n",
       "<tbody>\n",
       "\t<tr><td>19</td><td>20</td></tr>\n",
       "\t<tr><td>24</td><td>25</td></tr>\n",
       "</tbody>\n",
       "</table>\n"
      ],
      "text/latex": [
       "\\begin{tabular}{ll}\n",
       "\t 19 & 20\\\\\n",
       "\t 24 & 25\\\\\n",
       "\\end{tabular}\n"
      ],
      "text/markdown": [
       "\n",
       "| 19 | 20 |\n",
       "| 24 | 25 |\n",
       "\n"
      ],
      "text/plain": [
       "     [,1] [,2]\n",
       "[1,] 19   20  \n",
       "[2,] 24   25  "
      ]
     },
     "metadata": {},
     "output_type": "display_data"
    }
   ],
   "source": [
    "M2[4:5, 4:5]"
   ]
  },
  {
   "cell_type": "code",
   "execution_count": 17,
   "id": "1c1cf78b-9ca2-40fb-ab59-bd6b6d6edbe5",
   "metadata": {},
   "outputs": [
    {
     "data": {
      "text/html": [
       "325"
      ],
      "text/latex": [
       "325"
      ],
      "text/markdown": [
       "325"
      ],
      "text/plain": [
       "[1] 325"
      ]
     },
     "metadata": {},
     "output_type": "display_data"
    }
   ],
   "source": [
    "sum(M2)"
   ]
  },
  {
   "cell_type": "code",
   "execution_count": 19,
   "id": "77dadf88-bc60-40f6-8b21-3fe89b065fe7",
   "metadata": {},
   "outputs": [
    {
     "data": {
      "text/html": [
       "<table>\n",
       "<tbody>\n",
       "\t<tr><td>67.84433  </td><td> 0.8338548</td><td>21.20449  </td><td>65.205461 </td><td>70.24063  </td></tr>\n",
       "\t<tr><td>25.86894  </td><td>33.4526975</td><td>69.45021  </td><td> 5.941737 </td><td>92.64821  </td></tr>\n",
       "\t<tr><td>30.98798  </td><td>34.3439012</td><td>54.53055  </td><td>62.581596 </td><td>22.63815  </td></tr>\n",
       "\t<tr><td>38.33572  </td><td> 7.6453055</td><td>17.13887  </td><td>23.147826 </td><td>52.84528  </td></tr>\n",
       "</tbody>\n",
       "</table>\n"
      ],
      "text/latex": [
       "\\begin{tabular}{lllll}\n",
       "\t 67.84433   &  0.8338548 & 21.20449   & 65.205461  & 70.24063  \\\\\n",
       "\t 25.86894   & 33.4526975 & 69.45021   &  5.941737  & 92.64821  \\\\\n",
       "\t 30.98798   & 34.3439012 & 54.53055   & 62.581596  & 22.63815  \\\\\n",
       "\t 38.33572   &  7.6453055 & 17.13887   & 23.147826  & 52.84528  \\\\\n",
       "\\end{tabular}\n"
      ],
      "text/markdown": [
       "\n",
       "| 67.84433   |  0.8338548 | 21.20449   | 65.205461  | 70.24063   |\n",
       "| 25.86894   | 33.4526975 | 69.45021   |  5.941737  | 92.64821   |\n",
       "| 30.98798   | 34.3439012 | 54.53055   | 62.581596  | 22.63815   |\n",
       "| 38.33572   |  7.6453055 | 17.13887   | 23.147826  | 52.84528   |\n",
       "\n"
      ],
      "text/plain": [
       "     [,1]     [,2]       [,3]     [,4]      [,5]    \n",
       "[1,] 67.84433  0.8338548 21.20449 65.205461 70.24063\n",
       "[2,] 25.86894 33.4526975 69.45021  5.941737 92.64821\n",
       "[3,] 30.98798 34.3439012 54.53055 62.581596 22.63815\n",
       "[4,] 38.33572  7.6453055 17.13887 23.147826 52.84528"
      ]
     },
     "metadata": {},
     "output_type": "display_data"
    }
   ],
   "source": [
    "matrix(data=runif(n=20, min=0, max=100), nrow=4)"
   ]
  }
 ],
 "metadata": {
  "kernelspec": {
   "display_name": "R",
   "language": "R",
   "name": "ir"
  },
  "language_info": {
   "codemirror_mode": "r",
   "file_extension": ".r",
   "mimetype": "text/x-r-source",
   "name": "R",
   "pygments_lexer": "r",
   "version": "3.6.1"
  }
 },
 "nbformat": 4,
 "nbformat_minor": 5
}
