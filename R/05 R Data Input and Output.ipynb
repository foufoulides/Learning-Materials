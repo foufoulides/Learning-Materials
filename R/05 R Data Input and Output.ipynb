{
 "cells": [
  {
   "cell_type": "markdown",
   "id": "8a44a5cb-9d54-43f5-9321-5b6d7585c6d6",
   "metadata": {
    "tags": []
   },
   "source": [
    "### <center> Data Input and Output with R </center> \n",
    "\n",
    "#### CSV Input and Output \n",
    "\n",
    "* CSV stands for Comma Seperated Values and is one of the most common ways we will be working with data throughout this course. \n",
    "* The basic format of a csv file is the first line indicating the column names, and the rest lines/rows being data points seperated by commas. \n",
    "* One of the most basic ways to read in CSV files in R is to use **`read.csv()`** function which is build into R. \n",
    "* Later one, we'll also learn about **`fread()`**, which is a bit fasfter and more convenient. \n",
    "* When using **`read.csv()`**, you'll need to either pass the entire path of the file, or have the file in the same directory as your R script. \n",
    "* Make sure to account for possible **spaces in the file path** name, **you may need to use backslashes to account for this.**\n",
    "* This is often a point of confusion for people new to programming, so make sure you understand the above before continuing!"
   ]
  },
  {
   "cell_type": "markdown",
   "id": "64c1e0d8-1d80-4281-941d-1cd808a5dfac",
   "metadata": {},
   "source": [
    "**CSV Input**"
   ]
  },
  {
   "cell_type": "code",
   "execution_count": 15,
   "id": "290dbf02-debd-49c2-ab5f-576377b0aed7",
   "metadata": {},
   "outputs": [
    {
     "name": "stdout",
     "output_type": "stream",
     "text": [
      "package 'data.table' successfully unpacked and MD5 sums checked\n",
      "\n",
      "The downloaded binary packages are in\n",
      "\tC:\\Users\\foufo\\AppData\\Local\\Temp\\RtmpiApISr\\downloaded_packages\n"
     ]
    },
    {
     "name": "stderr",
     "output_type": "stream",
     "text": [
      "Warning message:\n",
      "\"package 'data.table' was built under R version 3.6.3\""
     ]
    }
   ],
   "source": [
    "install.packages(\"data.table\")\n",
    "library(\"data.table\")"
   ]
  },
  {
   "cell_type": "code",
   "execution_count": 4,
   "id": "0f0399ae-7b37-4a8d-8e17-17a713dd19e4",
   "metadata": {},
   "outputs": [
    {
     "data": {
      "text/html": [
       "<table>\n",
       "<thead><tr><th scope=col>Name</th><th scope=col>Orders</th><th scope=col>Date</th></tr></thead>\n",
       "<tbody>\n",
       "\t<tr><td>John      </td><td>12        </td><td>12/05/2016</td></tr>\n",
       "\t<tr><td>Charlie   </td><td>11        </td><td>12/06/2016</td></tr>\n",
       "\t<tr><td>Matilda   </td><td>10        </td><td>12/07/2016</td></tr>\n",
       "</tbody>\n",
       "</table>\n"
      ],
      "text/latex": [
       "\\begin{tabular}{r|lll}\n",
       " Name & Orders & Date\\\\\n",
       "\\hline\n",
       "\t John       & 12         & 12/05/2016\\\\\n",
       "\t Charlie    & 11         & 12/06/2016\\\\\n",
       "\t Matilda    & 10         & 12/07/2016\\\\\n",
       "\\end{tabular}\n"
      ],
      "text/markdown": [
       "\n",
       "| Name | Orders | Date |\n",
       "|---|---|---|\n",
       "| John       | 12         | 12/05/2016 |\n",
       "| Charlie    | 11         | 12/06/2016 |\n",
       "| Matilda    | 10         | 12/07/2016 |\n",
       "\n"
      ],
      "text/plain": [
       "  Name    Orders Date      \n",
       "1 John    12     12/05/2016\n",
       "2 Charlie 11     12/06/2016\n",
       "3 Matilda 10     12/07/2016"
      ]
     },
     "metadata": {},
     "output_type": "display_data"
    }
   ],
   "source": [
    "df <- read.csv(file=\"example.csv\")\n",
    "head(df)"
   ]
  },
  {
   "cell_type": "code",
   "execution_count": 2,
   "id": "a638c2d0-daab-4cfe-9b3b-0daf91ca134c",
   "metadata": {},
   "outputs": [
    {
     "name": "stdout",
     "output_type": "stream",
     "text": [
      "'data.frame':\t3 obs. of  3 variables:\n",
      " $ Name  : Factor w/ 3 levels \"Charlie\",\"John\",..: 2 1 3\n",
      " $ Orders: int  12 11 10\n",
      " $ Date  : Factor w/ 3 levels \"12/05/2016\",\"12/06/2016\",..: 1 2 3\n"
     ]
    }
   ],
   "source": [
    "str(df)"
   ]
  },
  {
   "cell_type": "code",
   "execution_count": 3,
   "id": "af444692-1516-44a4-9136-1264112387b5",
   "metadata": {},
   "outputs": [
    {
     "data": {
      "text/html": [
       "<ol class=list-inline>\n",
       "\t<li>'Name'</li>\n",
       "\t<li>'Orders'</li>\n",
       "\t<li>'Date'</li>\n",
       "</ol>\n"
      ],
      "text/latex": [
       "\\begin{enumerate*}\n",
       "\\item 'Name'\n",
       "\\item 'Orders'\n",
       "\\item 'Date'\n",
       "\\end{enumerate*}\n"
      ],
      "text/markdown": [
       "1. 'Name'\n",
       "2. 'Orders'\n",
       "3. 'Date'\n",
       "\n",
       "\n"
      ],
      "text/plain": [
       "[1] \"Name\"   \"Orders\" \"Date\"  "
      ]
     },
     "metadata": {},
     "output_type": "display_data"
    }
   ],
   "source": [
    "colnames(df)"
   ]
  },
  {
   "cell_type": "markdown",
   "id": "07704d8a-adb7-4d44-be0b-1d372236e554",
   "metadata": {},
   "source": [
    "* The **`read.table()`** function is the general form of **`read.csv`**. \n",
    "* In fact, **`read.csv()`** is actually just a thin wrapper around **`read.table()`**, which just makes it easier to use sometimes. "
   ]
  },
  {
   "cell_type": "code",
   "execution_count": 10,
   "id": "525ca57e-3126-44c1-8f1e-e64487579bfc",
   "metadata": {},
   "outputs": [
    {
     "data": {
      "text/html": [
       "<table>\n",
       "<thead><tr><th scope=col>V1</th></tr></thead>\n",
       "<tbody>\n",
       "\t<tr><td>Name,Orders,Date     </td></tr>\n",
       "\t<tr><td>John,12,12/05/2016   </td></tr>\n",
       "\t<tr><td>Charlie,11,12/06/2016</td></tr>\n",
       "\t<tr><td>Matilda,10,12/07/2016</td></tr>\n",
       "</tbody>\n",
       "</table>\n"
      ],
      "text/latex": [
       "\\begin{tabular}{r|l}\n",
       " V1\\\\\n",
       "\\hline\n",
       "\t Name,Orders,Date     \\\\\n",
       "\t John,12,12/05/2016   \\\\\n",
       "\t Charlie,11,12/06/2016\\\\\n",
       "\t Matilda,10,12/07/2016\\\\\n",
       "\\end{tabular}\n"
      ],
      "text/markdown": [
       "\n",
       "| V1 |\n",
       "|---|\n",
       "| Name,Orders,Date      |\n",
       "| John,12,12/05/2016    |\n",
       "| Charlie,11,12/06/2016 |\n",
       "| Matilda,10,12/07/2016 |\n",
       "\n"
      ],
      "text/plain": [
       "  V1                   \n",
       "1 Name,Orders,Date     \n",
       "2 John,12,12/05/2016   \n",
       "3 Charlie,11,12/06/2016\n",
       "4 Matilda,10,12/07/2016"
      ]
     },
     "metadata": {},
     "output_type": "display_data"
    }
   ],
   "source": [
    "df2 <- read.table(\"example.csv\") # Incorrect!\n",
    "df2"
   ]
  },
  {
   "cell_type": "markdown",
   "id": "ba36f179-836d-40ee-8578-4dd68d6f6bf1",
   "metadata": {},
   "source": [
    "* Note that we got an error here: \n",
    "    * The three columns were not seperated\n",
    "    * The columns names were not set as the headers "
   ]
  },
  {
   "cell_type": "code",
   "execution_count": 11,
   "id": "ba4c5523-4659-4d13-9596-24a3ff969450",
   "metadata": {},
   "outputs": [
    {
     "data": {
      "text/html": [
       "<table>\n",
       "<thead><tr><th scope=col>Name</th><th scope=col>Orders</th><th scope=col>Date</th></tr></thead>\n",
       "<tbody>\n",
       "\t<tr><td>John      </td><td>12        </td><td>12/05/2016</td></tr>\n",
       "\t<tr><td>Charlie   </td><td>11        </td><td>12/06/2016</td></tr>\n",
       "\t<tr><td>Matilda   </td><td>10        </td><td>12/07/2016</td></tr>\n",
       "</tbody>\n",
       "</table>\n"
      ],
      "text/latex": [
       "\\begin{tabular}{r|lll}\n",
       " Name & Orders & Date\\\\\n",
       "\\hline\n",
       "\t John       & 12         & 12/05/2016\\\\\n",
       "\t Charlie    & 11         & 12/06/2016\\\\\n",
       "\t Matilda    & 10         & 12/07/2016\\\\\n",
       "\\end{tabular}\n"
      ],
      "text/markdown": [
       "\n",
       "| Name | Orders | Date |\n",
       "|---|---|---|\n",
       "| John       | 12         | 12/05/2016 |\n",
       "| Charlie    | 11         | 12/06/2016 |\n",
       "| Matilda    | 10         | 12/07/2016 |\n",
       "\n"
      ],
      "text/plain": [
       "  Name    Orders Date      \n",
       "1 John    12     12/05/2016\n",
       "2 Charlie 11     12/06/2016\n",
       "3 Matilda 10     12/07/2016"
      ]
     },
     "metadata": {},
     "output_type": "display_data"
    }
   ],
   "source": [
    "df2 <- read.table(file=\"example.csv\", sep=\",\", header=TRUE)\n",
    "df2"
   ]
  },
  {
   "cell_type": "markdown",
   "id": "a27b19ec-4f10-40e5-9903-adef6429dfef",
   "metadata": {},
   "source": [
    "* **`fread()`** is similar but faster and more convenient. "
   ]
  },
  {
   "cell_type": "code",
   "execution_count": 17,
   "id": "cfe671a8-122a-4306-beda-49bbd0124d78",
   "metadata": {},
   "outputs": [
    {
     "data": {
      "text/html": [
       "<table>\n",
       "<thead><tr><th scope=col>Name</th><th scope=col>Orders</th><th scope=col>Date</th></tr></thead>\n",
       "<tbody>\n",
       "\t<tr><td>John      </td><td>12        </td><td>12/05/2016</td></tr>\n",
       "\t<tr><td>Charlie   </td><td>11        </td><td>12/06/2016</td></tr>\n",
       "\t<tr><td>Matilda   </td><td>10        </td><td>12/07/2016</td></tr>\n",
       "</tbody>\n",
       "</table>\n"
      ],
      "text/latex": [
       "\\begin{tabular}{r|lll}\n",
       " Name & Orders & Date\\\\\n",
       "\\hline\n",
       "\t John       & 12         & 12/05/2016\\\\\n",
       "\t Charlie    & 11         & 12/06/2016\\\\\n",
       "\t Matilda    & 10         & 12/07/2016\\\\\n",
       "\\end{tabular}\n"
      ],
      "text/markdown": [
       "\n",
       "| Name | Orders | Date |\n",
       "|---|---|---|\n",
       "| John       | 12         | 12/05/2016 |\n",
       "| Charlie    | 11         | 12/06/2016 |\n",
       "| Matilda    | 10         | 12/07/2016 |\n",
       "\n"
      ],
      "text/plain": [
       "  Name    Orders Date      \n",
       "1 John    12     12/05/2016\n",
       "2 Charlie 11     12/06/2016\n",
       "3 Matilda 10     12/07/2016"
      ]
     },
     "metadata": {},
     "output_type": "display_data"
    }
   ],
   "source": [
    "df = fread('example.csv')\n",
    "df"
   ]
  },
  {
   "cell_type": "markdown",
   "id": "b0bf82b1-b6fc-4694-9d3e-5fcd7f70236a",
   "metadata": {},
   "source": [
    "**CSV Output**"
   ]
  },
  {
   "cell_type": "code",
   "execution_count": 20,
   "id": "d5d58faa-cf91-4e72-b37e-8a6d7e16aa78",
   "metadata": {},
   "outputs": [],
   "source": [
    "write.csv(x=df, file=\"foo.csv\")"
   ]
  },
  {
   "cell_type": "code",
   "execution_count": 21,
   "id": "f2158ddc-b5e3-450d-9d60-54d469f4bea2",
   "metadata": {},
   "outputs": [
    {
     "data": {
      "text/html": [
       "<table>\n",
       "<thead><tr><th scope=col>V1</th><th scope=col>Name</th><th scope=col>Orders</th><th scope=col>Date</th></tr></thead>\n",
       "<tbody>\n",
       "\t<tr><td>1         </td><td>John      </td><td>12        </td><td>12/05/2016</td></tr>\n",
       "\t<tr><td>2         </td><td>Charlie   </td><td>11        </td><td>12/06/2016</td></tr>\n",
       "\t<tr><td>3         </td><td>Matilda   </td><td>10        </td><td>12/07/2016</td></tr>\n",
       "</tbody>\n",
       "</table>\n"
      ],
      "text/latex": [
       "\\begin{tabular}{r|llll}\n",
       " V1 & Name & Orders & Date\\\\\n",
       "\\hline\n",
       "\t 1          & John       & 12         & 12/05/2016\\\\\n",
       "\t 2          & Charlie    & 11         & 12/06/2016\\\\\n",
       "\t 3          & Matilda    & 10         & 12/07/2016\\\\\n",
       "\\end{tabular}\n"
      ],
      "text/markdown": [
       "\n",
       "| V1 | Name | Orders | Date |\n",
       "|---|---|---|---|\n",
       "| 1          | John       | 12         | 12/05/2016 |\n",
       "| 2          | Charlie    | 11         | 12/06/2016 |\n",
       "| 3          | Matilda    | 10         | 12/07/2016 |\n",
       "\n"
      ],
      "text/plain": [
       "  V1 Name    Orders Date      \n",
       "1 1  John    12     12/05/2016\n",
       "2 2  Charlie 11     12/06/2016\n",
       "3 3  Matilda 10     12/07/2016"
      ]
     },
     "metadata": {},
     "output_type": "display_data"
    }
   ],
   "source": [
    "fread(\"foo.csv\")"
   ]
  },
  {
   "cell_type": "code",
   "execution_count": 22,
   "id": "da0526fe-edec-4bee-bb98-b2ce0ca3d832",
   "metadata": {},
   "outputs": [],
   "source": [
    "write.csv(x=df, file=\"foo.csv\", row.names=FALSE) # write without row names"
   ]
  },
  {
   "cell_type": "code",
   "execution_count": 23,
   "id": "88c6d1e1-d21a-4f27-a45e-a27b3ef4234d",
   "metadata": {},
   "outputs": [
    {
     "data": {
      "text/html": [
       "<table>\n",
       "<thead><tr><th scope=col>Name</th><th scope=col>Orders</th><th scope=col>Date</th></tr></thead>\n",
       "<tbody>\n",
       "\t<tr><td>John      </td><td>12        </td><td>12/05/2016</td></tr>\n",
       "\t<tr><td>Charlie   </td><td>11        </td><td>12/06/2016</td></tr>\n",
       "\t<tr><td>Matilda   </td><td>10        </td><td>12/07/2016</td></tr>\n",
       "</tbody>\n",
       "</table>\n"
      ],
      "text/latex": [
       "\\begin{tabular}{r|lll}\n",
       " Name & Orders & Date\\\\\n",
       "\\hline\n",
       "\t John       & 12         & 12/05/2016\\\\\n",
       "\t Charlie    & 11         & 12/06/2016\\\\\n",
       "\t Matilda    & 10         & 12/07/2016\\\\\n",
       "\\end{tabular}\n"
      ],
      "text/markdown": [
       "\n",
       "| Name | Orders | Date |\n",
       "|---|---|---|\n",
       "| John       | 12         | 12/05/2016 |\n",
       "| Charlie    | 11         | 12/06/2016 |\n",
       "| Matilda    | 10         | 12/07/2016 |\n",
       "\n"
      ],
      "text/plain": [
       "  Name    Orders Date      \n",
       "1 John    12     12/05/2016\n",
       "2 Charlie 11     12/06/2016\n",
       "3 Matilda 10     12/07/2016"
      ]
     },
     "metadata": {},
     "output_type": "display_data"
    }
   ],
   "source": [
    "fread(\"foo.csv\")"
   ]
  },
  {
   "cell_type": "markdown",
   "id": "2dff7f41-0584-4d9d-97e7-7b1c1943690f",
   "metadata": {},
   "source": [
    "#### Excel Input and Output\n",
    "\n",
    "**Excel Input** \n",
    "\n",
    "* R has the ability to read and write to Excel, which makes it very convenient to work on the same datasets as business analysts or colleagues who only know Excel. \n",
    "* To do this you need the **`readxl`** package for R."
   ]
  },
  {
   "cell_type": "code",
   "execution_count": 51,
   "id": "352c5fe1-7c27-493e-a01c-fc1c302336f5",
   "metadata": {
    "tags": []
   },
   "outputs": [
    {
     "ename": "ERROR",
     "evalue": "Error in install.packages(packages = \"readxl\"): no packages were specified\n",
     "output_type": "error",
     "traceback": [
      "Error in install.packages(packages = \"readxl\"): no packages were specified\nTraceback:\n",
      "1. install.packages(packages = \"readxl\")",
      "2. stop(\"no packages were specified\")"
     ]
    }
   ],
   "source": [
    "install.packages(\"readxl\") # Install the readxl package"
   ]
  },
  {
   "cell_type": "code",
   "execution_count": 28,
   "id": "49cc3fdc-f199-4dfb-bdbb-a00c4e4aae00",
   "metadata": {},
   "outputs": [],
   "source": [
    "library(readxl) # Load package"
   ]
  },
  {
   "cell_type": "code",
   "execution_count": 29,
   "id": "f6cf8c90-9cd2-42f7-a4f9-ea715774872e",
   "metadata": {},
   "outputs": [
    {
     "data": {
      "text/html": [
       "'Sheet1'"
      ],
      "text/latex": [
       "'Sheet1'"
      ],
      "text/markdown": [
       "'Sheet1'"
      ],
      "text/plain": [
       "[1] \"Sheet1\""
      ]
     },
     "metadata": {},
     "output_type": "display_data"
    }
   ],
   "source": [
    "excel_sheets(\"Sample-Sales-Data.xlsx\") # List workbook worksheets"
   ]
  },
  {
   "cell_type": "code",
   "execution_count": 30,
   "id": "e5e4ae5c-3fe4-4024-855a-058a75862f6f",
   "metadata": {},
   "outputs": [],
   "source": [
    "df <- read_excel(path=\"Sample-Sales-Data.xlsx\", sheet=\"Sheet1\")"
   ]
  },
  {
   "cell_type": "code",
   "execution_count": 31,
   "id": "64343e72-3db4-4181-9201-4564371f15d3",
   "metadata": {},
   "outputs": [
    {
     "data": {
      "text/html": [
       "<table>\n",
       "<thead><tr><th scope=col>Postcode</th><th scope=col>Sales_Rep_ID</th><th scope=col>Sales_Rep_Name</th><th scope=col>Year</th><th scope=col>Value</th></tr></thead>\n",
       "<tbody>\n",
       "\t<tr><td>2121    </td><td>456     </td><td>Jane    </td><td>2011    </td><td>84219.50</td></tr>\n",
       "\t<tr><td>2092    </td><td>789     </td><td>Ashish  </td><td>2012    </td><td>28322.19</td></tr>\n",
       "\t<tr><td>2128    </td><td>456     </td><td>Jane    </td><td>2013    </td><td>81879.00</td></tr>\n",
       "\t<tr><td>2073    </td><td>123     </td><td>John    </td><td>2011    </td><td>44491.14</td></tr>\n",
       "\t<tr><td>2134    </td><td>789     </td><td>Ashish  </td><td>2012    </td><td>71837.72</td></tr>\n",
       "\t<tr><td>2162    </td><td>123     </td><td>John    </td><td>2013    </td><td>64531.55</td></tr>\n",
       "</tbody>\n",
       "</table>\n"
      ],
      "text/latex": [
       "\\begin{tabular}{r|lllll}\n",
       " Postcode & Sales\\_Rep\\_ID & Sales\\_Rep\\_Name & Year & Value\\\\\n",
       "\\hline\n",
       "\t 2121     & 456      & Jane     & 2011     & 84219.50\\\\\n",
       "\t 2092     & 789      & Ashish   & 2012     & 28322.19\\\\\n",
       "\t 2128     & 456      & Jane     & 2013     & 81879.00\\\\\n",
       "\t 2073     & 123      & John     & 2011     & 44491.14\\\\\n",
       "\t 2134     & 789      & Ashish   & 2012     & 71837.72\\\\\n",
       "\t 2162     & 123      & John     & 2013     & 64531.55\\\\\n",
       "\\end{tabular}\n"
      ],
      "text/markdown": [
       "\n",
       "| Postcode | Sales_Rep_ID | Sales_Rep_Name | Year | Value |\n",
       "|---|---|---|---|---|\n",
       "| 2121     | 456      | Jane     | 2011     | 84219.50 |\n",
       "| 2092     | 789      | Ashish   | 2012     | 28322.19 |\n",
       "| 2128     | 456      | Jane     | 2013     | 81879.00 |\n",
       "| 2073     | 123      | John     | 2011     | 44491.14 |\n",
       "| 2134     | 789      | Ashish   | 2012     | 71837.72 |\n",
       "| 2162     | 123      | John     | 2013     | 64531.55 |\n",
       "\n"
      ],
      "text/plain": [
       "  Postcode Sales_Rep_ID Sales_Rep_Name Year Value   \n",
       "1 2121     456          Jane           2011 84219.50\n",
       "2 2092     789          Ashish         2012 28322.19\n",
       "3 2128     456          Jane           2013 81879.00\n",
       "4 2073     123          John           2011 44491.14\n",
       "5 2134     789          Ashish         2012 71837.72\n",
       "6 2162     123          John           2013 64531.55"
      ]
     },
     "metadata": {},
     "output_type": "display_data"
    }
   ],
   "source": [
    "head(df)"
   ]
  },
  {
   "cell_type": "markdown",
   "id": "295483a3-bd41-4e2b-8ed8-d59b87cf1a29",
   "metadata": {},
   "source": [
    "* If you had multiple sheets that you wanted to import into a **`list`**, you could do this with **`lapply()`** function which applies a given function to every element of a list and obtains a **`list`** as a result."
   ]
  },
  {
   "cell_type": "code",
   "execution_count": 52,
   "id": "34192e3a-45a1-4aea-b92a-b212b94d42c6",
   "metadata": {},
   "outputs": [],
   "source": [
    "entire_workbook <- lapply(X=excel_sheets(\"Sample-Sales-Data.xlsx\"), \n",
    "                          FUN=read_excel,\n",
    "                          path=\"Sample-Sales-Data.xlsx\")"
   ]
  },
  {
   "cell_type": "markdown",
   "id": "909edb75-58ba-4cfb-89c3-477922d4e941",
   "metadata": {},
   "source": [
    "**Excel Output**"
   ]
  },
  {
   "cell_type": "code",
   "execution_count": 41,
   "id": "e519e1a2-e50d-4555-bed3-2fcce8208c36",
   "metadata": {
    "tags": []
   },
   "outputs": [
    {
     "name": "stdout",
     "output_type": "stream",
     "text": [
      "package 'writexl' successfully unpacked and MD5 sums checked\n",
      "\n",
      "The downloaded binary packages are in\n",
      "\tC:\\Users\\foufo\\AppData\\Local\\Temp\\RtmpiApISr\\downloaded_packages\n"
     ]
    }
   ],
   "source": [
    "install.packages(\"writexl\")"
   ]
  },
  {
   "cell_type": "code",
   "execution_count": 42,
   "id": "cc540a6d-54f2-47a1-b4f5-ab92278e6ded",
   "metadata": {
    "tags": []
   },
   "outputs": [
    {
     "name": "stderr",
     "output_type": "stream",
     "text": [
      "Warning message:\n",
      "\"package 'writexl' was built under R version 3.6.3\""
     ]
    }
   ],
   "source": [
    "library(writexl)"
   ]
  },
  {
   "cell_type": "code",
   "execution_count": 50,
   "id": "75c5649c-f992-4add-b6c9-33619e9c5525",
   "metadata": {},
   "outputs": [
    {
     "data": {
      "text/html": [
       "<table>\n",
       "<thead><tr><th scope=col>matrix.1.10.</th></tr></thead>\n",
       "<tbody>\n",
       "\t<tr><td>1</td></tr>\n",
       "\t<tr><td>2</td></tr>\n",
       "\t<tr><td>3</td></tr>\n",
       "\t<tr><td>4</td></tr>\n",
       "\t<tr><td>5</td></tr>\n",
       "\t<tr><td>6</td></tr>\n",
       "</tbody>\n",
       "</table>\n"
      ],
      "text/latex": [
       "\\begin{tabular}{r|l}\n",
       " matrix.1.10.\\\\\n",
       "\\hline\n",
       "\t 1\\\\\n",
       "\t 2\\\\\n",
       "\t 3\\\\\n",
       "\t 4\\\\\n",
       "\t 5\\\\\n",
       "\t 6\\\\\n",
       "\\end{tabular}\n"
      ],
      "text/markdown": [
       "\n",
       "| matrix.1.10. |\n",
       "|---|\n",
       "| 1 |\n",
       "| 2 |\n",
       "| 3 |\n",
       "| 4 |\n",
       "| 5 |\n",
       "| 6 |\n",
       "\n"
      ],
      "text/plain": [
       "  matrix.1.10.\n",
       "1 1           \n",
       "2 2           \n",
       "3 3           \n",
       "4 4           \n",
       "5 5           \n",
       "6 6           "
      ]
     },
     "metadata": {},
     "output_type": "display_data"
    }
   ],
   "source": [
    "df <- data.frame(matrix(1:10))\n",
    "head(df)"
   ]
  },
  {
   "cell_type": "code",
   "execution_count": 47,
   "id": "03e2c0b4-7a7d-4276-bed2-c6fe0341a5ea",
   "metadata": {},
   "outputs": [],
   "source": [
    "write_xlsx(x=df, path=\"output.xlsx\", col_names=TRUE)"
   ]
  },
  {
   "cell_type": "code",
   "execution_count": 48,
   "id": "2e31658a-8f82-4f70-ae31-aa72177635b8",
   "metadata": {},
   "outputs": [
    {
     "data": {
      "text/html": [
       "<table>\n",
       "<thead><tr><th scope=col>matrix.1.10.</th></tr></thead>\n",
       "<tbody>\n",
       "\t<tr><td> 1</td></tr>\n",
       "\t<tr><td> 2</td></tr>\n",
       "\t<tr><td> 3</td></tr>\n",
       "\t<tr><td> 4</td></tr>\n",
       "\t<tr><td> 5</td></tr>\n",
       "\t<tr><td> 6</td></tr>\n",
       "\t<tr><td> 7</td></tr>\n",
       "\t<tr><td> 8</td></tr>\n",
       "\t<tr><td> 9</td></tr>\n",
       "\t<tr><td>10</td></tr>\n",
       "</tbody>\n",
       "</table>\n"
      ],
      "text/latex": [
       "\\begin{tabular}{r|l}\n",
       " matrix.1.10.\\\\\n",
       "\\hline\n",
       "\t  1\\\\\n",
       "\t  2\\\\\n",
       "\t  3\\\\\n",
       "\t  4\\\\\n",
       "\t  5\\\\\n",
       "\t  6\\\\\n",
       "\t  7\\\\\n",
       "\t  8\\\\\n",
       "\t  9\\\\\n",
       "\t 10\\\\\n",
       "\\end{tabular}\n"
      ],
      "text/markdown": [
       "\n",
       "| matrix.1.10. |\n",
       "|---|\n",
       "|  1 |\n",
       "|  2 |\n",
       "|  3 |\n",
       "|  4 |\n",
       "|  5 |\n",
       "|  6 |\n",
       "|  7 |\n",
       "|  8 |\n",
       "|  9 |\n",
       "| 10 |\n",
       "\n"
      ],
      "text/plain": [
       "   matrix.1.10.\n",
       "1   1          \n",
       "2   2          \n",
       "3   3          \n",
       "4   4          \n",
       "5   5          \n",
       "6   6          \n",
       "7   7          \n",
       "8   8          \n",
       "9   9          \n",
       "10 10          "
      ]
     },
     "metadata": {},
     "output_type": "display_data"
    }
   ],
   "source": [
    "read_excel(\"output.xlsx\")"
   ]
  }
 ],
 "metadata": {
  "kernelspec": {
   "display_name": "R",
   "language": "R",
   "name": "ir"
  },
  "language_info": {
   "codemirror_mode": "r",
   "file_extension": ".r",
   "mimetype": "text/x-r-source",
   "name": "R",
   "pygments_lexer": "r",
   "version": "3.6.1"
  }
 },
 "nbformat": 4,
 "nbformat_minor": 5
}
