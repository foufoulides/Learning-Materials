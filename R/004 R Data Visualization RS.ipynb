{
 "cells": [
  {
   "cell_type": "markdown",
   "id": "f09dcf07-fd97-47e0-bdce-2afd277a41c3",
   "metadata": {
    "tags": []
   },
   "source": [
    "### <center> Data Visualization with R </center> \n",
    "\n",
    "* **`ggplot2`** is a declarative data visualization library which follows a distinct \"Grammar of Graphics\", which builds on the idea of adding layers on the visualization. \n",
    "* There are seven layers, of which the first three are needed to plot a graph.\n",
    "\n",
    "|Layer | Description | Essential| Example |\n",
    "| ---- | ---- | :----:| ---- |\n",
    "|**Data** | Pass the data frame that you are working with | Y | **`ggplot(x=mpg, y=hp)`** |\n",
    "|**Aesthetics** | Specify which columns you want to plot | Y | **`ggplot(x=mpg, y=hp)`** |\n",
    "|**Geometries** | The type of graph/mark you want to make | Y | **`+ geom_point`** |\n",
    "|**Facets** | Allow us to put multiple graphs in a single canvas | N | **`+ facet_grid(cyl~.)`** |\n",
    "|**Statistics** | Add statistical elements like a line fit through the data | N | **`+ stat_smooth()`** |\n",
    "|**Coordinates** | Control the axes of the graph | N | **`+ coord_cartesian(xlim=c(15,25))`** |\n",
    "|**Theme** | Allow us to apply a theme to the plot (fonts, colors, gridlines, etc.)| N | **`+ theme_bw()`** |"
   ]
  },
  {
   "cell_type": "code",
   "execution_count": 3,
   "id": "568bec1a-ed3a-4f1d-90cb-00e96a3d3534",
   "metadata": {
    "tags": []
   },
   "outputs": [
    {
     "ename": "ERROR",
     "evalue": "Error in library(plotly): there is no package called 'plotly'\n",
     "output_type": "error",
     "traceback": [
      "Error in library(plotly): there is no package called 'plotly'\nTraceback:\n",
      "1. library(plotly)"
     ]
    }
   ],
   "source": [
    "library(ggplot2)       # The ggplot library\n",
    "library(ggplot2movies) # The movies dataset\n",
    "library(repr)          # To resize a plot in Jupyter\n",
    "library(ggthemes)      # For additional graphic themes\n",
    "library(plotly)        # To use to convert ggplot graphs to interactive plotly ones"
   ]
  },
  {
   "cell_type": "code",
   "execution_count": 143,
   "id": "aa3b3d8a-f72c-41b0-a524-60a560e481a6",
   "metadata": {},
   "outputs": [],
   "source": [
    "# Set global options for size of ggplot charts\n",
    "options(repr.plot.width=3, repr.plot.height=3)"
   ]
  },
  {
   "cell_type": "code",
   "execution_count": 4,
   "id": "1ecc04db-3807-4d44-8cba-8f8a32d9f2c9",
   "metadata": {},
   "outputs": [
    {
     "data": {
      "text/html": [
       "<table>\n",
       "<thead><tr><th scope=col>title</th><th scope=col>year</th><th scope=col>length</th><th scope=col>budget</th><th scope=col>rating</th><th scope=col>votes</th><th scope=col>r1</th><th scope=col>r2</th><th scope=col>r3</th><th scope=col>r4</th><th scope=col>...</th><th scope=col>r9</th><th scope=col>r10</th><th scope=col>mpaa</th><th scope=col>Action</th><th scope=col>Animation</th><th scope=col>Comedy</th><th scope=col>Drama</th><th scope=col>Documentary</th><th scope=col>Romance</th><th scope=col>Short</th></tr></thead>\n",
       "<tbody>\n",
       "\t<tr><td>$                     </td><td>1971                  </td><td>121                   </td><td>NA                    </td><td>6.4                   </td><td>348                   </td><td>4.5                   </td><td> 4.5                  </td><td>4.5                   </td><td> 4.5                  </td><td>...                   </td><td> 4.5                  </td><td> 4.5                  </td><td>                      </td><td>0                     </td><td>0                     </td><td>1                     </td><td>1                     </td><td>0                     </td><td>0                     </td><td>0                     </td></tr>\n",
       "\t<tr><td>$1000 a Touchdown     </td><td>1939                  </td><td> 71                   </td><td>NA                    </td><td>6.0                   </td><td> 20                   </td><td>0.0                   </td><td>14.5                  </td><td>4.5                   </td><td>24.5                  </td><td>...                   </td><td> 4.5                  </td><td>14.5                  </td><td>                      </td><td>0                     </td><td>0                     </td><td>1                     </td><td>0                     </td><td>0                     </td><td>0                     </td><td>0                     </td></tr>\n",
       "\t<tr><td>$21 a Day Once a Month</td><td>1941                  </td><td>  7                   </td><td>NA                    </td><td>8.2                   </td><td>  5                   </td><td>0.0                   </td><td> 0.0                  </td><td>0.0                   </td><td> 0.0                  </td><td>...                   </td><td>24.5                  </td><td>24.5                  </td><td>                      </td><td>0                     </td><td>1                     </td><td>0                     </td><td>0                     </td><td>0                     </td><td>0                     </td><td>1                     </td></tr>\n",
       "</tbody>\n",
       "</table>\n"
      ],
      "text/latex": [
       "\\begin{tabular}{r|llllllllllllllllllllllll}\n",
       " title & year & length & budget & rating & votes & r1 & r2 & r3 & r4 & ... & r9 & r10 & mpaa & Action & Animation & Comedy & Drama & Documentary & Romance & Short\\\\\n",
       "\\hline\n",
       "\t \\$                      & 1971                     & 121                      & NA                       & 6.4                      & 348                      & 4.5                      &  4.5                     & 4.5                      &  4.5                     & ...                      &  4.5                     &  4.5                     &                          & 0                        & 0                        & 1                        & 1                        & 0                        & 0                        & 0                       \\\\\n",
       "\t \\$1000 a Touchdown      & 1939                     &  71                      & NA                       & 6.0                      &  20                      & 0.0                      & 14.5                     & 4.5                      & 24.5                     & ...                      &  4.5                     & 14.5                     &                          & 0                        & 0                        & 1                        & 0                        & 0                        & 0                        & 0                       \\\\\n",
       "\t \\$21 a Day Once a Month & 1941                     &   7                      & NA                       & 8.2                      &   5                      & 0.0                      &  0.0                     & 0.0                      &  0.0                     & ...                      & 24.5                     & 24.5                     &                          & 0                        & 1                        & 0                        & 0                        & 0                        & 0                        & 1                       \\\\\n",
       "\\end{tabular}\n"
      ],
      "text/markdown": [
       "\n",
       "| title | year | length | budget | rating | votes | r1 | r2 | r3 | r4 | ... | r9 | r10 | mpaa | Action | Animation | Comedy | Drama | Documentary | Romance | Short |\n",
       "|---|---|---|---|---|---|---|---|---|---|---|---|---|---|---|---|---|---|---|---|---|\n",
       "| $                      | 1971                   | 121                    | NA                     | 6.4                    | 348                    | 4.5                    |  4.5                   | 4.5                    |  4.5                   | ...                    |  4.5                   |  4.5                   |                        | 0                      | 0                      | 1                      | 1                      | 0                      | 0                      | 0                      |\n",
       "| $1000 a Touchdown      | 1939                   |  71                    | NA                     | 6.0                    |  20                    | 0.0                    | 14.5                   | 4.5                    | 24.5                   | ...                    |  4.5                   | 14.5                   |                        | 0                      | 0                      | 1                      | 0                      | 0                      | 0                      | 0                      |\n",
       "| $21 a Day Once a Month | 1941                   |   7                    | NA                     | 8.2                    |   5                    | 0.0                    |  0.0                   | 0.0                    |  0.0                   | ...                    | 24.5                   | 24.5                   |                        | 0                      | 1                      | 0                      | 0                      | 0                      | 0                      | 1                      |\n",
       "\n"
      ],
      "text/plain": [
       "  title                  year length budget rating votes r1  r2   r3  r4   ...\n",
       "1 $                      1971 121    NA     6.4    348   4.5  4.5 4.5  4.5 ...\n",
       "2 $1000 a Touchdown      1939  71    NA     6.0     20   0.0 14.5 4.5 24.5 ...\n",
       "3 $21 a Day Once a Month 1941   7    NA     8.2      5   0.0  0.0 0.0  0.0 ...\n",
       "  r9   r10  mpaa Action Animation Comedy Drama Documentary Romance Short\n",
       "1  4.5  4.5      0      0         1      1     0           0       0    \n",
       "2  4.5 14.5      0      0         1      0     0           0       0    \n",
       "3 24.5 24.5      0      1         0      0     0           0       1    "
      ]
     },
     "metadata": {},
     "output_type": "display_data"
    }
   ],
   "source": [
    "head(x=movies, n=3)"
   ]
  },
  {
   "cell_type": "markdown",
   "id": "339ef833-e850-4f23-9243-3fd924cae3b9",
   "metadata": {},
   "source": [
    "## Histogram\n",
    "\n",
    "* This is the minimum elements needed to create a histogram."
   ]
  },
  {
   "cell_type": "code",
   "execution_count": 32,
   "id": "39dc25fd-bb6a-4946-9990-a3e25d73038f",
   "metadata": {},
   "outputs": [
    {
     "name": "stderr",
     "output_type": "stream",
     "text": [
      "`stat_bin()` using `bins = 30`. Pick better value with `binwidth`.\n"
     ]
    },
    {
     "data": {
      "image/png": "[encoded data removed]",
      "text/plain": [
       "plot without title"
      ]
     },
     "metadata": {},
     "output_type": "display_data"
    }
   ],
   "source": [
    "hist <- ggplot(data=movies, aes(x=rating)) + # Data (data frame) and aesthetics (i.e. columns for x and y) layer\n",
    "        geom_histogram()                     # Geometries layer (specify graph/mark type) \n",
    "\n",
    "hist"
   ]
  },
  {
   "cell_type": "code",
   "execution_count": 119,
   "id": "bb075190-3957-42ba-aebb-485c6bb584aa",
   "metadata": {},
   "outputs": [
    {
     "data": {
      "image/png": "[encoded data removed]",
      "text/plain": [
       "plot without title"
      ]
     },
     "metadata": {},
     "output_type": "display_data"
    }
   ],
   "source": [
    "hist <- ggplot(data=movies, aes(x=rating)) +                                # Data (data frame) and aesthetics (columns for x and y)\n",
    "        geom_histogram(binwidth=0.1, color=\"grey\", fill=\"red\", alpha=0.5) + # Geometries layer with specified options\n",
    "        xlab(\"Rating\") + ylab(\"Count\") +                                    # Coordinates layer (?)\n",
    "        ggtitle(\"Movie Ratings Histogram\") +                                # Title and subtitle layer (?)\n",
    "        theme_classic()                                                     # Theme layer\n",
    "\n",
    "hist"
   ]
  },
  {
   "cell_type": "markdown",
   "id": "cb11e84f-d5c0-4c4c-a815-50a08dd21db8",
   "metadata": {},
   "source": [
    "## Scatterplots"
   ]
  },
  {
   "cell_type": "code",
   "execution_count": 28,
   "id": "d974072d-188b-4017-8ad5-5139b0cf1d57",
   "metadata": {},
   "outputs": [
    {
     "data": {
      "text/html": [
       "<table>\n",
       "<thead><tr><th></th><th scope=col>mpg</th><th scope=col>cyl</th><th scope=col>disp</th><th scope=col>hp</th><th scope=col>drat</th><th scope=col>wt</th><th scope=col>qsec</th><th scope=col>vs</th><th scope=col>am</th><th scope=col>gear</th><th scope=col>carb</th></tr></thead>\n",
       "<tbody>\n",
       "\t<tr><th scope=row>Mazda RX4</th><td>21.0 </td><td>6    </td><td>160  </td><td>110  </td><td>3.90 </td><td>2.620</td><td>16.46</td><td>0    </td><td>1    </td><td>4    </td><td>4    </td></tr>\n",
       "\t<tr><th scope=row>Mazda RX4 Wag</th><td>21.0 </td><td>6    </td><td>160  </td><td>110  </td><td>3.90 </td><td>2.875</td><td>17.02</td><td>0    </td><td>1    </td><td>4    </td><td>4    </td></tr>\n",
       "\t<tr><th scope=row>Datsun 710</th><td>22.8 </td><td>4    </td><td>108  </td><td> 93  </td><td>3.85 </td><td>2.320</td><td>18.61</td><td>1    </td><td>1    </td><td>4    </td><td>1    </td></tr>\n",
       "</tbody>\n",
       "</table>\n"
      ],
      "text/latex": [
       "\\begin{tabular}{r|lllllllllll}\n",
       "  & mpg & cyl & disp & hp & drat & wt & qsec & vs & am & gear & carb\\\\\n",
       "\\hline\n",
       "\tMazda RX4 & 21.0  & 6     & 160   & 110   & 3.90  & 2.620 & 16.46 & 0     & 1     & 4     & 4    \\\\\n",
       "\tMazda RX4 Wag & 21.0  & 6     & 160   & 110   & 3.90  & 2.875 & 17.02 & 0     & 1     & 4     & 4    \\\\\n",
       "\tDatsun 710 & 22.8  & 4     & 108   &  93   & 3.85  & 2.320 & 18.61 & 1     & 1     & 4     & 1    \\\\\n",
       "\\end{tabular}\n"
      ],
      "text/markdown": [
       "\n",
       "| <!--/--> | mpg | cyl | disp | hp | drat | wt | qsec | vs | am | gear | carb |\n",
       "|---|---|---|---|---|---|---|---|---|---|---|---|\n",
       "| Mazda RX4 | 21.0  | 6     | 160   | 110   | 3.90  | 2.620 | 16.46 | 0     | 1     | 4     | 4     |\n",
       "| Mazda RX4 Wag | 21.0  | 6     | 160   | 110   | 3.90  | 2.875 | 17.02 | 0     | 1     | 4     | 4     |\n",
       "| Datsun 710 | 22.8  | 4     | 108   |  93   | 3.85  | 2.320 | 18.61 | 1     | 1     | 4     | 1     |\n",
       "\n"
      ],
      "text/plain": [
       "              mpg  cyl disp hp  drat wt    qsec  vs am gear carb\n",
       "Mazda RX4     21.0 6   160  110 3.90 2.620 16.46 0  1  4    4   \n",
       "Mazda RX4 Wag 21.0 6   160  110 3.90 2.875 17.02 0  1  4    4   \n",
       "Datsun 710    22.8 4   108   93 3.85 2.320 18.61 1  1  4    1   "
      ]
     },
     "metadata": {},
     "output_type": "display_data"
    }
   ],
   "source": [
    "cars <- mtcars\n",
    "head(x=cars, n=3)"
   ]
  },
  {
   "cell_type": "markdown",
   "id": "6d4529ce-6e83-4f93-9978-13aa0e901830",
   "metadata": {},
   "source": [
    "* Minimum needed to plot a histogram"
   ]
  },
  {
   "cell_type": "code",
   "execution_count": 52,
   "id": "3f2f4701-8d02-430c-820e-7799795a2a03",
   "metadata": {},
   "outputs": [
    {
     "data": {
      "image/png": "[encoded data removed]",
      "text/plain": [
       "plot without title"
      ]
     },
     "metadata": {},
     "output_type": "display_data"
    }
   ],
   "source": [
    "options(repr.plot.width=3, repr.plot.height=2)\n",
    "scat <- ggplot(data=cars, aes(x=wt, y=mpg)) + # Data (data frame) and aesthetics (i.e. columns for x and y) layer\n",
    "              geom_point()                    # Geometries layer with specified options\n",
    "scat"
   ]
  },
  {
   "cell_type": "markdown",
   "id": "80017d67-5ade-45a2-aca4-786b7d810379",
   "metadata": {},
   "source": [
    "* **If we want things like shape, size, color to be based on data in our data frame, we must pass them inside the `aes()` function inside the geometry layer.**\n",
    "* Otherwise if we call them by some sort of standard integer value, we pass them by themselves inside the geometry layer. \n",
    "* Also we can define both color and shape based on a filed inside the **`aes()`** function."
   ]
  },
  {
   "cell_type": "code",
   "execution_count": 42,
   "id": "fbc11f50-eba8-4718-973f-e1ead17eea1a",
   "metadata": {},
   "outputs": [
    {
     "data": {
      "image/png": "[encoded data removed]",
      "text/plain": [
       "plot without title"
      ]
     },
     "metadata": {},
     "output_type": "display_data"
    }
   ],
   "source": [
    "options(repr.plot.width=4, repr.plot.height=3)\n",
    "scat <- ggplot(data=cars, aes(x=wt, y=mpg)) +                                        # Data (data frame) and aesthetics (i.e. columns for x and y) layer\n",
    "        geom_point(aes(shape=factor(cyl), color=factor(cyl), size=disp), alpha=0.5)  # Geometries layer with specified options\n",
    "\n",
    "scat"
   ]
  },
  {
   "cell_type": "markdown",
   "id": "1c0cb6b4-9c00-421b-9020-629407fed2ac",
   "metadata": {},
   "source": [
    "* More about color in the geometry layer. \n",
    "    * We can just say a simple statement like **`color=\"blue\"`**.\n",
    "    * We can also pass hex color codes, such as **`color=\"#43e8d8\"`** (this is teal).\n",
    "    * You can get hex color codes for your color **[here](https://www.color-hex.com/)**."
   ]
  },
  {
   "cell_type": "code",
   "execution_count": 48,
   "id": "ff32e150-2c67-4522-9554-50a080009e51",
   "metadata": {},
   "outputs": [
    {
     "data": {
      "image/png": "[encoded data removed]",
      "text/plain": [
       "plot without title"
      ]
     },
     "metadata": {},
     "output_type": "display_data"
    }
   ],
   "source": [
    "options(repr.plot.width=3, repr.plot.height=2)\n",
    "scat2 <- ggplot(data=cars, aes(x=wt, y=mpg)) + \n",
    "         geom_point(size=2, alpha=0.5, color=\"blue\")\n",
    "scat2"
   ]
  },
  {
   "cell_type": "markdown",
   "id": "d6378218-7e62-43bf-a4e6-e16448e51b90",
   "metadata": {},
   "source": [
    "* We can also control the scale color gradient  when we pass **`color()`** in the **`aes`**\n",
    "* The **`scale_color_gradient()`** is outside the **`aes()`**, but it works because we defined **`color()`** inside it."
   ]
  },
  {
   "cell_type": "code",
   "execution_count": 53,
   "id": "8c1366ff-6021-470c-b898-a2f4b63428d9",
   "metadata": {},
   "outputs": [
    {
     "data": {
      "image/png": "[encoded data removed]",
      "text/plain": [
       "plot without title"
      ]
     },
     "metadata": {},
     "output_type": "display_data"
    }
   ],
   "source": [
    "options(repr.plot.width=4, repr.plot.height=2)\n",
    "scat3 <- ggplot(data=cars, aes(x=wt, y=mpg)) + \n",
    "         geom_point(aes(color=hp), alpha=0.5) +\n",
    "         scale_color_gradient(low=\"green\", high=\"red\")\n",
    "scat3"
   ]
  },
  {
   "cell_type": "markdown",
   "id": "d212bb28-eb0c-40de-a5b5-232c84b06db9",
   "metadata": {},
   "source": [
    "## Barplots"
   ]
  },
  {
   "cell_type": "code",
   "execution_count": 57,
   "id": "ce55aefd-0370-4dd3-9391-ae00d7f10ea4",
   "metadata": {},
   "outputs": [
    {
     "data": {
      "text/html": [
       "<table>\n",
       "<thead><tr><th scope=col>manufacturer</th><th scope=col>model</th><th scope=col>displ</th><th scope=col>year</th><th scope=col>cyl</th><th scope=col>trans</th><th scope=col>drv</th><th scope=col>cty</th><th scope=col>hwy</th><th scope=col>fl</th><th scope=col>class</th></tr></thead>\n",
       "<tbody>\n",
       "\t<tr><td>audi      </td><td>a4        </td><td>1.8       </td><td>1999      </td><td>4         </td><td>auto(l5)  </td><td>f         </td><td>18        </td><td>29        </td><td>p         </td><td>compact   </td></tr>\n",
       "\t<tr><td>audi      </td><td>a4        </td><td>1.8       </td><td>1999      </td><td>4         </td><td>manual(m5)</td><td>f         </td><td>21        </td><td>29        </td><td>p         </td><td>compact   </td></tr>\n",
       "\t<tr><td>audi      </td><td>a4        </td><td>2.0       </td><td>2008      </td><td>4         </td><td>manual(m6)</td><td>f         </td><td>20        </td><td>31        </td><td>p         </td><td>compact   </td></tr>\n",
       "</tbody>\n",
       "</table>\n"
      ],
      "text/latex": [
       "\\begin{tabular}{r|lllllllllll}\n",
       " manufacturer & model & displ & year & cyl & trans & drv & cty & hwy & fl & class\\\\\n",
       "\\hline\n",
       "\t audi       & a4         & 1.8        & 1999       & 4          & auto(l5)   & f          & 18         & 29         & p          & compact   \\\\\n",
       "\t audi       & a4         & 1.8        & 1999       & 4          & manual(m5) & f          & 21         & 29         & p          & compact   \\\\\n",
       "\t audi       & a4         & 2.0        & 2008       & 4          & manual(m6) & f          & 20         & 31         & p          & compact   \\\\\n",
       "\\end{tabular}\n"
      ],
      "text/markdown": [
       "\n",
       "| manufacturer | model | displ | year | cyl | trans | drv | cty | hwy | fl | class |\n",
       "|---|---|---|---|---|---|---|---|---|---|---|\n",
       "| audi       | a4         | 1.8        | 1999       | 4          | auto(l5)   | f          | 18         | 29         | p          | compact    |\n",
       "| audi       | a4         | 1.8        | 1999       | 4          | manual(m5) | f          | 21         | 29         | p          | compact    |\n",
       "| audi       | a4         | 2.0        | 2008       | 4          | manual(m6) | f          | 20         | 31         | p          | compact    |\n",
       "\n"
      ],
      "text/plain": [
       "  manufacturer model displ year cyl trans      drv cty hwy fl class  \n",
       "1 audi         a4    1.8   1999 4   auto(l5)   f   18  29  p  compact\n",
       "2 audi         a4    1.8   1999 4   manual(m5) f   21  29  p  compact\n",
       "3 audi         a4    2.0   2008 4   manual(m6) f   20  31  p  compact"
      ]
     },
     "metadata": {},
     "output_type": "display_data"
    }
   ],
   "source": [
    "head(x=mpg, n=3)"
   ]
  },
  {
   "cell_type": "code",
   "execution_count": 55,
   "id": "e0d73a15-9f5c-4efb-9a7d-ec59e127c756",
   "metadata": {},
   "outputs": [
    {
     "data": {
      "image/png": "[encoded data removed]",
      "text/plain": [
       "plot without title"
      ]
     },
     "metadata": {},
     "output_type": "display_data"
    }
   ],
   "source": [
    "options(repr.plot.width=5, repr.plot.height=2)\n",
    "bar <- ggplot(data=mpg, aes(x=class)) +\n",
    "        geom_bar()\n",
    "bar"
   ]
  },
  {
   "cell_type": "markdown",
   "id": "1e00a888-fb4d-4be5-972d-f5df75e9f802",
   "metadata": {},
   "source": [
    "* The **`fill`** parameter inside the mark/chart creates a stacked bar chart. "
   ]
  },
  {
   "cell_type": "code",
   "execution_count": 120,
   "id": "fdca3857-d644-4a32-98b0-5d67c5543d7e",
   "metadata": {},
   "outputs": [
    {
     "data": {
      "image/png": "[encoded data removed]",
      "text/plain": [
       "plot without title"
      ]
     },
     "metadata": {},
     "output_type": "display_data"
    }
   ],
   "source": [
    "options(repr.plot.width=6, repr.plot.height=2)\n",
    "bar <- ggplot(data=mpg, aes(x=class)) +\n",
    "       geom_bar(aes(fill=drv))\n",
    "bar"
   ]
  },
  {
   "cell_type": "markdown",
   "id": "f22c15ff-510a-4577-a2ba-0af4eadd822b",
   "metadata": {},
   "source": [
    "* With **`position=\"dodge\"`** we make a culstered bar chart"
   ]
  },
  {
   "cell_type": "code",
   "execution_count": 65,
   "id": "e3730efa-9049-41fd-bd50-3a51eecf6fc0",
   "metadata": {},
   "outputs": [
    {
     "data": {
      "image/png": "[encoded data removed]",
      "text/plain": [
       "plot without title"
      ]
     },
     "metadata": {},
     "output_type": "display_data"
    }
   ],
   "source": [
    "options(repr.plot.width=6, repr.plot.height=2)\n",
    "bar <- ggplot(data=mpg, aes(x=class)) +\n",
    "       geom_bar(aes(fill=drv), position=\"dodge\")\n",
    "bar"
   ]
  },
  {
   "cell_type": "markdown",
   "id": "b93935ba-03a0-466b-9e29-26d72c71f1ca",
   "metadata": {},
   "source": [
    "* With **`position=\"fill\"`** we make a 100% stacked bar chart"
   ]
  },
  {
   "cell_type": "code",
   "execution_count": 66,
   "id": "4adaca8c-d5b6-42d1-9e15-ce22462ad87a",
   "metadata": {},
   "outputs": [
    {
     "data": {
      "image/png": "[encoded data removed]",
      "text/plain": [
       "plot without title"
      ]
     },
     "metadata": {},
     "output_type": "display_data"
    }
   ],
   "source": [
    "options(repr.plot.width=6, repr.plot.height=2)\n",
    "bar <- ggplot(data=mpg, aes(x=class)) +\n",
    "       geom_bar(aes(fill=drv), position=\"fill\")\n",
    "bar"
   ]
  },
  {
   "cell_type": "markdown",
   "id": "5118571f-6f0e-4009-a287-961e3538720a",
   "metadata": {},
   "source": [
    "## Box Plots\n",
    "\n",
    "* Note that the x axis of a box plot must be categorical, so we need to put **`x=factor(column)`**"
   ]
  },
  {
   "cell_type": "code",
   "execution_count": 73,
   "id": "c0742a93-06c9-46c1-8cff-0fbd01204a39",
   "metadata": {},
   "outputs": [
    {
     "data": {
      "image/png": "[encoded data removed]",
      "text/plain": [
       "plot without title"
      ]
     },
     "metadata": {},
     "output_type": "display_data"
    }
   ],
   "source": [
    "options(repr.plot.width=5, repr.plot.height=2)\n",
    "box <- ggplot(data=df, aes(x=factor(cyl), y=mpg)) + \n",
    "       geom_boxplot()\n",
    "\n",
    "box"
   ]
  },
  {
   "cell_type": "markdown",
   "id": "ea76fe4d-1f20-4210-ba93-99f24e45800b",
   "metadata": {},
   "source": [
    "* **`coord_flip()`** maxes the box plot horizontal"
   ]
  },
  {
   "cell_type": "code",
   "execution_count": 74,
   "id": "a8598f9a-7649-44cf-9897-78373a7e0b6c",
   "metadata": {},
   "outputs": [
    {
     "data": {
      "image/png": "[encoded data removed]",
      "text/plain": [
       "plot without title"
      ]
     },
     "metadata": {},
     "output_type": "display_data"
    }
   ],
   "source": [
    "options(repr.plot.width=5, repr.plot.height=2)\n",
    "box <- ggplot(data=df, aes(x=factor(cyl), y=mpg)) + \n",
    "       geom_boxplot() + \n",
    "       coord_flip()\n",
    "\n",
    "box"
   ]
  },
  {
   "cell_type": "markdown",
   "id": "6d301828-f420-409c-9047-e1258aa75cc2",
   "metadata": {},
   "source": [
    "* We can set coloring options in the geometry layer"
   ]
  },
  {
   "cell_type": "code",
   "execution_count": 112,
   "id": "f208505f-09bc-4b15-a39b-5cdc8b7241dd",
   "metadata": {},
   "outputs": [
    {
     "data": {
      "image/png": "[encoded data removed]",
      "text/plain": [
       "plot without title"
      ]
     },
     "metadata": {},
     "output_type": "display_data"
    }
   ],
   "source": [
    "options(repr.plot.width=5, repr.plot.height=2)\n",
    "box <- ggplot(data=df, aes(x=factor(cyl), y=mpg)) + \n",
    "       geom_boxplot(fill=\"blue\", color=\"darkgrey\") + \n",
    "       coord_flip()\n",
    "box"
   ]
  },
  {
   "cell_type": "markdown",
   "id": "d122df56-cad8-4312-84d2-cf88c970ce03",
   "metadata": {},
   "source": [
    "* Putting them in an aesthetics function, it can depend on column values.\n",
    "* With **theme_** if you press tab, you get all the available themes. \n",
    "* Installing library **`ggthemes`** gives you additional theme options."
   ]
  },
  {
   "cell_type": "code",
   "execution_count": 145,
   "id": "beeca43c-3f58-4170-8538-5a32d05e9059",
   "metadata": {},
   "outputs": [
    {
     "data": {
      "image/png": "[encoded data removed]",
      "text/plain": [
       "plot without title"
      ]
     },
     "metadata": {},
     "output_type": "display_data"
    }
   ],
   "source": [
    "options(repr.plot.width=5, repr.plot.height=2)\n",
    "box <- ggplot(data=df, aes(x=factor(cyl), y=mpg)) + \n",
    "       geom_boxplot(aes(fill=factor(cyl)), color=\"darkgrey\") + \n",
    "       coord_flip() + \n",
    "       theme_test()\n",
    "box"
   ]
  },
  {
   "cell_type": "markdown",
   "id": "ef8d11e3-c1fd-4833-9513-83e87ec29744",
   "metadata": {},
   "source": [
    "## Two-variable Plotting"
   ]
  },
  {
   "cell_type": "code",
   "execution_count": 90,
   "id": "ff13607f-fa13-4685-94b9-06e5c66813f9",
   "metadata": {},
   "outputs": [
    {
     "data": {
      "text/html": [
       "<table>\n",
       "<thead><tr><th scope=col>title</th><th scope=col>year</th><th scope=col>length</th><th scope=col>budget</th><th scope=col>rating</th><th scope=col>votes</th><th scope=col>r1</th><th scope=col>r2</th><th scope=col>r3</th><th scope=col>r4</th><th scope=col>...</th><th scope=col>r9</th><th scope=col>r10</th><th scope=col>mpaa</th><th scope=col>Action</th><th scope=col>Animation</th><th scope=col>Comedy</th><th scope=col>Drama</th><th scope=col>Documentary</th><th scope=col>Romance</th><th scope=col>Short</th></tr></thead>\n",
       "<tbody>\n",
       "\t<tr><td>$                     </td><td>1971                  </td><td>121                   </td><td>NA                    </td><td>6.4                   </td><td>348                   </td><td>4.5                   </td><td> 4.5                  </td><td>4.5                   </td><td> 4.5                  </td><td>...                   </td><td> 4.5                  </td><td> 4.5                  </td><td>                      </td><td>0                     </td><td>0                     </td><td>1                     </td><td>1                     </td><td>0                     </td><td>0                     </td><td>0                     </td></tr>\n",
       "\t<tr><td>$1000 a Touchdown     </td><td>1939                  </td><td> 71                   </td><td>NA                    </td><td>6.0                   </td><td> 20                   </td><td>0.0                   </td><td>14.5                  </td><td>4.5                   </td><td>24.5                  </td><td>...                   </td><td> 4.5                  </td><td>14.5                  </td><td>                      </td><td>0                     </td><td>0                     </td><td>1                     </td><td>0                     </td><td>0                     </td><td>0                     </td><td>0                     </td></tr>\n",
       "\t<tr><td>$21 a Day Once a Month</td><td>1941                  </td><td>  7                   </td><td>NA                    </td><td>8.2                   </td><td>  5                   </td><td>0.0                   </td><td> 0.0                  </td><td>0.0                   </td><td> 0.0                  </td><td>...                   </td><td>24.5                  </td><td>24.5                  </td><td>                      </td><td>0                     </td><td>1                     </td><td>0                     </td><td>0                     </td><td>0                     </td><td>0                     </td><td>1                     </td></tr>\n",
       "</tbody>\n",
       "</table>\n"
      ],
      "text/latex": [
       "\\begin{tabular}{r|llllllllllllllllllllllll}\n",
       " title & year & length & budget & rating & votes & r1 & r2 & r3 & r4 & ... & r9 & r10 & mpaa & Action & Animation & Comedy & Drama & Documentary & Romance & Short\\\\\n",
       "\\hline\n",
       "\t \\$                      & 1971                     & 121                      & NA                       & 6.4                      & 348                      & 4.5                      &  4.5                     & 4.5                      &  4.5                     & ...                      &  4.5                     &  4.5                     &                          & 0                        & 0                        & 1                        & 1                        & 0                        & 0                        & 0                       \\\\\n",
       "\t \\$1000 a Touchdown      & 1939                     &  71                      & NA                       & 6.0                      &  20                      & 0.0                      & 14.5                     & 4.5                      & 24.5                     & ...                      &  4.5                     & 14.5                     &                          & 0                        & 0                        & 1                        & 0                        & 0                        & 0                        & 0                       \\\\\n",
       "\t \\$21 a Day Once a Month & 1941                     &   7                      & NA                       & 8.2                      &   5                      & 0.0                      &  0.0                     & 0.0                      &  0.0                     & ...                      & 24.5                     & 24.5                     &                          & 0                        & 1                        & 0                        & 0                        & 0                        & 0                        & 1                       \\\\\n",
       "\\end{tabular}\n"
      ],
      "text/markdown": [
       "\n",
       "| title | year | length | budget | rating | votes | r1 | r2 | r3 | r4 | ... | r9 | r10 | mpaa | Action | Animation | Comedy | Drama | Documentary | Romance | Short |\n",
       "|---|---|---|---|---|---|---|---|---|---|---|---|---|---|---|---|---|---|---|---|---|\n",
       "| $                      | 1971                   | 121                    | NA                     | 6.4                    | 348                    | 4.5                    |  4.5                   | 4.5                    |  4.5                   | ...                    |  4.5                   |  4.5                   |                        | 0                      | 0                      | 1                      | 1                      | 0                      | 0                      | 0                      |\n",
       "| $1000 a Touchdown      | 1939                   |  71                    | NA                     | 6.0                    |  20                    | 0.0                    | 14.5                   | 4.5                    | 24.5                   | ...                    |  4.5                   | 14.5                   |                        | 0                      | 0                      | 1                      | 0                      | 0                      | 0                      | 0                      |\n",
       "| $21 a Day Once a Month | 1941                   |   7                    | NA                     | 8.2                    |   5                    | 0.0                    |  0.0                   | 0.0                    |  0.0                   | ...                    | 24.5                   | 24.5                   |                        | 0                      | 1                      | 0                      | 0                      | 0                      | 0                      | 1                      |\n",
       "\n"
      ],
      "text/plain": [
       "  title                  year length budget rating votes r1  r2   r3  r4   ...\n",
       "1 $                      1971 121    NA     6.4    348   4.5  4.5 4.5  4.5 ...\n",
       "2 $1000 a Touchdown      1939  71    NA     6.0     20   0.0 14.5 4.5 24.5 ...\n",
       "3 $21 a Day Once a Month 1941   7    NA     8.2      5   0.0  0.0 0.0  0.0 ...\n",
       "  r9   r10  mpaa Action Animation Comedy Drama Documentary Romance Short\n",
       "1  4.5  4.5      0      0         1      1     0           0       0    \n",
       "2  4.5 14.5      0      0         1      0     0           0       0    \n",
       "3 24.5 24.5      0      1         0      0     0           0       1    "
      ]
     },
     "metadata": {},
     "output_type": "display_data"
    }
   ],
   "source": [
    "head(x=movies, n=3)"
   ]
  },
  {
   "cell_type": "markdown",
   "id": "57dd778d-16c8-4a9f-97ff-41fcb17d9137",
   "metadata": {},
   "source": [
    "**Heatmap**"
   ]
  },
  {
   "cell_type": "code",
   "execution_count": 96,
   "id": "4e58a2ff-2f3a-40cd-97de-72f390528830",
   "metadata": {},
   "outputs": [
    {
     "data": {
      "image/png": "[encoded data removed]",
      "text/plain": [
       "plot without title"
      ]
     },
     "metadata": {},
     "output_type": "display_data"
    }
   ],
   "source": [
    "options(repr.plot.width=4, repr.plot.height=3)\n",
    "heat <- ggplot(data=movies, aes(x=year, y=rating))+\n",
    "        geom_bin2d(binwidth=c(3,1)) +                # Adding a binwidth, changes the default bin size\n",
    "        scale_fill_gradient(high=\"red\", low=\"green\") # Adding, changes the default gradient\n",
    "heat"
   ]
  },
  {
   "cell_type": "markdown",
   "id": "d8f2a779-3593-47b2-aa69-c350bb649d45",
   "metadata": {},
   "source": [
    "**Hexmap**"
   ]
  },
  {
   "cell_type": "code",
   "execution_count": 99,
   "id": "65679139-6e3f-4172-9d3b-330eef062018",
   "metadata": {},
   "outputs": [
    {
     "data": {
      "image/png": "[encoded data removed]",
      "text/plain": [
       "plot without title"
      ]
     },
     "metadata": {},
     "output_type": "display_data"
    }
   ],
   "source": [
    "options(repr.plot.width=4, repr.plot.height=3)\n",
    "heat <- ggplot(data=movies, aes(x=year, y=rating))+\n",
    "        geom_hex() +                                 # Adding a binwidth, changes the default bin size\n",
    "        scale_fill_gradient(high=\"red\", low=\"green\") # Adding, changes the default gradient\n",
    "heat"
   ]
  },
  {
   "cell_type": "markdown",
   "id": "9024e807-c0f1-4beb-92b6-2a66bc2e97c9",
   "metadata": {},
   "source": [
    "**Density Plot**"
   ]
  },
  {
   "cell_type": "code",
   "execution_count": 113,
   "id": "44b47ba0-9ee6-4aef-b6b0-889d20203da3",
   "metadata": {},
   "outputs": [
    {
     "data": {
      "image/png": "[encoded data removed]",
      "text/plain": [
       "plot without title"
      ]
     },
     "metadata": {},
     "output_type": "display_data"
    }
   ],
   "source": [
    "options(repr.plot.width=4, repr.plot.height=3)\n",
    "density <- ggplot(data=movies, aes(x=year, y=rating)) + \n",
    "           geom_density_2d()\n",
    "density"
   ]
  },
  {
   "cell_type": "code",
   "execution_count": 104,
   "id": "b8508058-7268-48da-be9f-6b234d694175",
   "metadata": {},
   "outputs": [
    {
     "data": {
      "image/png": "[encoded data removed]",
      "text/plain": [
       "plot without title"
      ]
     },
     "metadata": {},
     "output_type": "display_data"
    }
   ],
   "source": [
    "options(repr.plot.width=6, repr.plot.height=3)\n",
    "density <- ggplot(data=movies, aes(x=year, y=rating)) + \n",
    "           geom_density_2d_filled() + \n",
    "           theme_test()\n",
    "density"
   ]
  },
  {
   "cell_type": "markdown",
   "id": "94075c4a-4324-4dd3-8484-b604c5ea08ae",
   "metadata": {},
   "source": [
    "## Coordinates \n",
    "\n",
    "* They allow us to resize our plots correctly. "
   ]
  },
  {
   "cell_type": "code",
   "execution_count": 105,
   "id": "9a669e3f-0911-42d3-9b85-2770de4f6ab3",
   "metadata": {},
   "outputs": [
    {
     "data": {
      "text/html": [
       "<table>\n",
       "<thead><tr><th scope=col>manufacturer</th><th scope=col>model</th><th scope=col>displ</th><th scope=col>year</th><th scope=col>cyl</th><th scope=col>trans</th><th scope=col>drv</th><th scope=col>cty</th><th scope=col>hwy</th><th scope=col>fl</th><th scope=col>class</th></tr></thead>\n",
       "<tbody>\n",
       "\t<tr><td>audi      </td><td>a4        </td><td>1.8       </td><td>1999      </td><td>4         </td><td>auto(l5)  </td><td>f         </td><td>18        </td><td>29        </td><td>p         </td><td>compact   </td></tr>\n",
       "\t<tr><td>audi      </td><td>a4        </td><td>1.8       </td><td>1999      </td><td>4         </td><td>manual(m5)</td><td>f         </td><td>21        </td><td>29        </td><td>p         </td><td>compact   </td></tr>\n",
       "\t<tr><td>audi      </td><td>a4        </td><td>2.0       </td><td>2008      </td><td>4         </td><td>manual(m6)</td><td>f         </td><td>20        </td><td>31        </td><td>p         </td><td>compact   </td></tr>\n",
       "</tbody>\n",
       "</table>\n"
      ],
      "text/latex": [
       "\\begin{tabular}{r|lllllllllll}\n",
       " manufacturer & model & displ & year & cyl & trans & drv & cty & hwy & fl & class\\\\\n",
       "\\hline\n",
       "\t audi       & a4         & 1.8        & 1999       & 4          & auto(l5)   & f          & 18         & 29         & p          & compact   \\\\\n",
       "\t audi       & a4         & 1.8        & 1999       & 4          & manual(m5) & f          & 21         & 29         & p          & compact   \\\\\n",
       "\t audi       & a4         & 2.0        & 2008       & 4          & manual(m6) & f          & 20         & 31         & p          & compact   \\\\\n",
       "\\end{tabular}\n"
      ],
      "text/markdown": [
       "\n",
       "| manufacturer | model | displ | year | cyl | trans | drv | cty | hwy | fl | class |\n",
       "|---|---|---|---|---|---|---|---|---|---|---|\n",
       "| audi       | a4         | 1.8        | 1999       | 4          | auto(l5)   | f          | 18         | 29         | p          | compact    |\n",
       "| audi       | a4         | 1.8        | 1999       | 4          | manual(m5) | f          | 21         | 29         | p          | compact    |\n",
       "| audi       | a4         | 2.0        | 2008       | 4          | manual(m6) | f          | 20         | 31         | p          | compact    |\n",
       "\n"
      ],
      "text/plain": [
       "  manufacturer model displ year cyl trans      drv cty hwy fl class  \n",
       "1 audi         a4    1.8   1999 4   auto(l5)   f   18  29  p  compact\n",
       "2 audi         a4    1.8   1999 4   manual(m5) f   21  29  p  compact\n",
       "3 audi         a4    2.0   2008 4   manual(m6) f   20  31  p  compact"
      ]
     },
     "metadata": {},
     "output_type": "display_data"
    }
   ],
   "source": [
    "head(x=mpg, n=3)"
   ]
  },
  {
   "cell_type": "code",
   "execution_count": 110,
   "id": "a391096b-503e-49cd-af1b-51845846388a",
   "metadata": {},
   "outputs": [
    {
     "data": {
      "image/png": "[encoded data removed]",
      "text/plain": [
       "plot without title"
      ]
     },
     "metadata": {},
     "output_type": "display_data"
    }
   ],
   "source": [
    "options(repr.plot.width=5, repr.plot.height=3)\n",
    "sct <- ggplot(data=mpg, aes(x=displ, y=hwy)) + \n",
    "        geom_point() + \n",
    "        coord_cartesian(xlim=c(1,4), ylim=c(15, 30)) # Crop part of the graph by setting axis limits\n",
    "sct"
   ]
  },
  {
   "cell_type": "markdown",
   "id": "f472d753-74a4-4fb9-bbbd-40fc23e51110",
   "metadata": {},
   "source": [
    "* We can also control the graphs aspect ratio with **`coord_fixed()`**"
   ]
  },
  {
   "cell_type": "code",
   "execution_count": 111,
   "id": "b0df7d6f-9694-4152-9a20-025a97b62280",
   "metadata": {},
   "outputs": [
    {
     "data": {
      "image/png": "[encoded data removed]",
      "text/plain": [
       "plot without title"
      ]
     },
     "metadata": {},
     "output_type": "display_data"
    }
   ],
   "source": [
    "options(repr.plot.width=5, repr.plot.height=3)\n",
    "sct <- ggplot(data=mpg, aes(x=displ, y=hwy)) + \n",
    "        geom_point() + \n",
    "        coord_fixed(ratio=1/5, xlim=c(1,4), ylim=c(15, 30)) # Crop part of the graph by setting axis limits\n",
    "sct"
   ]
  },
  {
   "cell_type": "markdown",
   "id": "0d21f56b-e667-4974-a924-91a817506a7b",
   "metadata": {},
   "source": [
    "## Faceting \n",
    "\n",
    "* Faceting allows us to place several plots next to eachother.\n",
    "* The general faceting syntax is **`facet_grid(y_faceting ~ x_faceting)`**\n",
    "* If there is not x or y faceting, you enter period **`.`**"
   ]
  },
  {
   "cell_type": "code",
   "execution_count": 115,
   "id": "52b39ea1-afb3-4547-a4cd-cb45ccfea283",
   "metadata": {},
   "outputs": [
    {
     "data": {
      "image/png": "[encoded data removed]",
      "text/plain": [
       "plot without title"
      ]
     },
     "metadata": {},
     "output_type": "display_data"
    }
   ],
   "source": [
    "options(repr.plot.width=4, repr.plot.height=2)\n",
    "facet1d <- ggplot(data=mpg, aes(x=displ, y=hwy)) + \n",
    "           geom_point() +   \n",
    "           # coord_fixed(ratio=1/4) + \n",
    "           facet_grid(. ~ cyl)\n",
    "\n",
    "facet1d"
   ]
  },
  {
   "cell_type": "code",
   "execution_count": 116,
   "id": "d94cebe2-d78f-4451-b229-9e0f706dd46f",
   "metadata": {},
   "outputs": [
    {
     "data": {
      "image/png": "[encoded data removed]",
      "text/plain": [
       "plot without title"
      ]
     },
     "metadata": {},
     "output_type": "display_data"
    }
   ],
   "source": [
    "options(repr.plot.width=4, repr.plot.height=4)\n",
    "facet2d <- ggplot(data=mpg, aes(x=displ, y=hwy)) + \n",
    "           geom_point() +   \n",
    "           coord_fixed(ratio=1/4) + \n",
    "           facet_grid(drv ~ cyl)\n",
    "\n",
    "facet2d"
   ]
  },
  {
   "cell_type": "markdown",
   "id": "d63c572e-2edf-4afd-9b0c-e8e9078ff1a7",
   "metadata": {},
   "source": [
    "## Interactive Visualizations with **`plotly`** \n",
    "\n",
    "* By using the **`ggplotly()`** function we can convert any ggplot graph to an interactive plotly graph!"
   ]
  },
  {
   "cell_type": "code",
   "execution_count": 148,
   "id": "29834013-6fd8-42d8-84ae-2c627dcf97bf",
   "metadata": {},
   "outputs": [
    {
     "ename": "ERROR",
     "evalue": "Error in ggplotly(scat): could not find function \"ggplotly\"\n",
     "output_type": "error",
     "traceback": [
      "Error in ggplotly(scat): could not find function \"ggplotly\"\nTraceback:\n"
     ]
    }
   ],
   "source": [
    "options(repr.plot.width=4, repr.plot.height=3)\n",
    "scat <- ggplot(data=cars, aes(x=wt, y=mpg)) +                                        # Data (data frame) and aesthetics (i.e. columns for x and y) layer\n",
    "        geom_point(aes(shape=factor(cyl), color=factor(cyl), size=disp), alpha=0.5)  # Geometries layer with specified options\n",
    "\n",
    "scat <- ggplotly(scat)"
   ]
  }
 ],
 "metadata": {
  "kernelspec": {
   "display_name": "R",
   "language": "R",
   "name": "ir"
  },
  "language_info": {
   "codemirror_mode": "r",
   "file_extension": ".r",
   "mimetype": "text/x-r-source",
   "name": "R",
   "pygments_lexer": "r",
   "version": "3.6.1"
  }
 },
 "nbformat": 4,
 "nbformat_minor": 5
}
