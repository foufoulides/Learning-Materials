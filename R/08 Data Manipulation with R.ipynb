{
 "cells": [
  {
   "cell_type": "markdown",
   "id": "e4e34b92-31aa-4f85-b950-9863bc0f46e7",
   "metadata": {},
   "source": [
    "### <center> Data Manipulation with R </center>\n",
    "\n",
    "* In this section we will be focusing on simplifying the syntax to perform data operations we are already familiar with.\n",
    "* We will do this by learning: \n",
    "    * **`dplyr` for manipulating data**\n",
    "    * **`tidyr` for clearning data** \n",
    "    * **`%>%` (Piper Oprerator) to further simplify our syntax**"
   ]
  },
  {
   "cell_type": "markdown",
   "id": "6dd3cd31-52d9-4bcf-9d95-33751de8515c",
   "metadata": {},
   "source": [
    "### **`dplyr()` library**\n",
    "\n",
    "**Installing**"
   ]
  },
  {
   "cell_type": "code",
   "execution_count": 1,
   "id": "3d8dcdc6-afcc-4d95-8f29-9d845d7dd051",
   "metadata": {
    "collapsed": true,
    "jupyter": {
     "outputs_hidden": true
    },
    "tags": []
   },
   "outputs": [
    {
     "name": "stderr",
     "output_type": "stream",
     "text": [
      "also installing the dependencies 'ellipsis', 'glue', 'lifecycle', 'rlang', 'tibble', 'tidyselect', 'vctrs', 'pillar'\n",
      "\n"
     ]
    },
    {
     "name": "stdout",
     "output_type": "stream",
     "text": [
      "\n",
      "  There are binary versions available but the source versions are later:\n",
      "       binary source needs_compilation\n",
      "tibble  3.1.1  3.1.4              TRUE\n",
      "pillar  1.6.0  1.6.2             FALSE\n",
      "dplyr   1.0.6  1.0.7              TRUE\n",
      "\n",
      "  Binaries will be installed\n",
      "package 'ellipsis' successfully unpacked and MD5 sums checked\n",
      "package 'glue' successfully unpacked and MD5 sums checked\n",
      "package 'lifecycle' successfully unpacked and MD5 sums checked\n",
      "package 'rlang' successfully unpacked and MD5 sums checked\n",
      "package 'tibble' successfully unpacked and MD5 sums checked\n",
      "package 'tidyselect' successfully unpacked and MD5 sums checked\n",
      "package 'vctrs' successfully unpacked and MD5 sums checked\n",
      "package 'dplyr' successfully unpacked and MD5 sums checked\n",
      "\n",
      "The downloaded binary packages are in\n",
      "\tC:\\Users\\foufo\\AppData\\Local\\Temp\\RtmpY3PGmr\\downloaded_packages\n"
     ]
    },
    {
     "name": "stderr",
     "output_type": "stream",
     "text": [
      "installing the source package 'pillar'\n",
      "\n"
     ]
    }
   ],
   "source": [
    "install.packages(\"dplyr\")"
   ]
  },
  {
   "cell_type": "markdown",
   "id": "e1c4ca5e-e8bf-42e5-a945-b455ee41b6b1",
   "metadata": {},
   "source": [
    "**Run the package**"
   ]
  },
  {
   "cell_type": "code",
   "execution_count": 2,
   "id": "30bc1e39-eb7a-43be-b675-ae73cb0ee381",
   "metadata": {
    "collapsed": true,
    "jupyter": {
     "outputs_hidden": true
    },
    "tags": []
   },
   "outputs": [
    {
     "name": "stderr",
     "output_type": "stream",
     "text": [
      "Warning message:\n",
      "\"package 'dplyr' was built under R version 3.6.3\"\n",
      "Attaching package: 'dplyr'\n",
      "\n",
      "The following objects are masked from 'package:stats':\n",
      "\n",
      "    filter, lag\n",
      "\n",
      "The following objects are masked from 'package:base':\n",
      "\n",
      "    intersect, setdiff, setequal, union\n",
      "\n"
     ]
    }
   ],
   "source": [
    "library(dplyr)"
   ]
  },
  {
   "cell_type": "markdown",
   "id": "0c31f4cc-4048-40bf-853c-dea299caa923",
   "metadata": {},
   "source": [
    "**Install Example Data**\n",
    "* Let's use some flight data for our examples. We will download the \"nycflights13\" data package."
   ]
  },
  {
   "cell_type": "code",
   "execution_count": 4,
   "id": "132f341d-3125-4c8c-a1b3-a728aba83013",
   "metadata": {},
   "outputs": [
    {
     "name": "stdout",
     "output_type": "stream",
     "text": [
      "package 'nycflights13' successfully unpacked and MD5 sums checked\n",
      "\n",
      "The downloaded binary packages are in\n",
      "\tC:\\Users\\foufo\\AppData\\Local\\Temp\\RtmpY3PGmr\\downloaded_packages\n"
     ]
    }
   ],
   "source": [
    "install.packages('nycflights13', repos = 'http://cran.us.r-project.org')"
   ]
  },
  {
   "cell_type": "code",
   "execution_count": 7,
   "id": "b6df7a13-fbe5-403d-aff8-1e472bdeabbd",
   "metadata": {},
   "outputs": [],
   "source": [
    "library(nycflights13)"
   ]
  },
  {
   "cell_type": "markdown",
   "id": "fc84d657-6634-4a2d-bec5-a9925b9193ba",
   "metadata": {},
   "source": [
    "**Note that when you get the message \"The following objects are masked\". In this case `filter`, `lag`, `intersect`, etc. What this means is that these dplyr functions are going to overwrite the default functions for R.** "
   ]
  },
  {
   "cell_type": "code",
   "execution_count": 11,
   "id": "b5ac4cac-d281-4db8-a45f-3847dd4645c2",
   "metadata": {},
   "outputs": [
    {
     "data": {
      "text/html": [
       "336776"
      ],
      "text/latex": [
       "336776"
      ],
      "text/markdown": [
       "336776"
      ],
      "text/plain": [
       "[1] 336776"
      ]
     },
     "metadata": {},
     "output_type": "display_data"
    }
   ],
   "source": [
    "nrow(flights)"
   ]
  },
  {
   "cell_type": "code",
   "execution_count": 9,
   "id": "85d825f2-b531-44ae-8cfd-07766169b968",
   "metadata": {
    "scrolled": true
   },
   "outputs": [
    {
     "data": {
      "text/html": [
       "<table>\n",
       "<thead><tr><th scope=col>year</th><th scope=col>month</th><th scope=col>day</th><th scope=col>dep_time</th><th scope=col>sched_dep_time</th><th scope=col>dep_delay</th><th scope=col>arr_time</th><th scope=col>sched_arr_time</th><th scope=col>arr_delay</th><th scope=col>carrier</th><th scope=col>flight</th><th scope=col>tailnum</th><th scope=col>origin</th><th scope=col>dest</th><th scope=col>air_time</th><th scope=col>distance</th><th scope=col>hour</th><th scope=col>minute</th><th scope=col>time_hour</th></tr></thead>\n",
       "<tbody>\n",
       "\t<tr><td>2013               </td><td>1                  </td><td>1                  </td><td>517                </td><td>515                </td><td> 2                 </td><td> 830               </td><td> 819               </td><td> 11                </td><td>UA                 </td><td>1545               </td><td>N14228             </td><td>EWR                </td><td>IAH                </td><td>227                </td><td>1400               </td><td>5                  </td><td>15                 </td><td>2013-01-01 05:00:00</td></tr>\n",
       "\t<tr><td>2013               </td><td>1                  </td><td>1                  </td><td>533                </td><td>529                </td><td> 4                 </td><td> 850               </td><td> 830               </td><td> 20                </td><td>UA                 </td><td>1714               </td><td>N24211             </td><td>LGA                </td><td>IAH                </td><td>227                </td><td>1416               </td><td>5                  </td><td>29                 </td><td>2013-01-01 05:00:00</td></tr>\n",
       "\t<tr><td>2013               </td><td>1                  </td><td>1                  </td><td>542                </td><td>540                </td><td> 2                 </td><td> 923               </td><td> 850               </td><td> 33                </td><td>AA                 </td><td>1141               </td><td>N619AA             </td><td>JFK                </td><td>MIA                </td><td>160                </td><td>1089               </td><td>5                  </td><td>40                 </td><td>2013-01-01 05:00:00</td></tr>\n",
       "\t<tr><td>2013               </td><td>1                  </td><td>1                  </td><td>544                </td><td>545                </td><td>-1                 </td><td>1004               </td><td>1022               </td><td>-18                </td><td>B6                 </td><td> 725               </td><td>N804JB             </td><td>JFK                </td><td>BQN                </td><td>183                </td><td>1576               </td><td>5                  </td><td>45                 </td><td>2013-01-01 05:00:00</td></tr>\n",
       "\t<tr><td>2013               </td><td>1                  </td><td>1                  </td><td>554                </td><td>600                </td><td>-6                 </td><td> 812               </td><td> 837               </td><td>-25                </td><td>DL                 </td><td> 461               </td><td>N668DN             </td><td>LGA                </td><td>ATL                </td><td>116                </td><td> 762               </td><td>6                  </td><td> 0                 </td><td>2013-01-01 06:00:00</td></tr>\n",
       "\t<tr><td>2013               </td><td>1                  </td><td>1                  </td><td>554                </td><td>558                </td><td>-4                 </td><td> 740               </td><td> 728               </td><td> 12                </td><td>UA                 </td><td>1696               </td><td>N39463             </td><td>EWR                </td><td>ORD                </td><td>150                </td><td> 719               </td><td>5                  </td><td>58                 </td><td>2013-01-01 05:00:00</td></tr>\n",
       "</tbody>\n",
       "</table>\n"
      ],
      "text/latex": [
       "\\begin{tabular}{r|lllllllllllllllllll}\n",
       " year & month & day & dep\\_time & sched\\_dep\\_time & dep\\_delay & arr\\_time & sched\\_arr\\_time & arr\\_delay & carrier & flight & tailnum & origin & dest & air\\_time & distance & hour & minute & time\\_hour\\\\\n",
       "\\hline\n",
       "\t 2013                & 1                   & 1                   & 517                 & 515                 &  2                  &  830                &  819                &  11                 & UA                  & 1545                & N14228              & EWR                 & IAH                 & 227                 & 1400                & 5                   & 15                  & 2013-01-01 05:00:00\\\\\n",
       "\t 2013                & 1                   & 1                   & 533                 & 529                 &  4                  &  850                &  830                &  20                 & UA                  & 1714                & N24211              & LGA                 & IAH                 & 227                 & 1416                & 5                   & 29                  & 2013-01-01 05:00:00\\\\\n",
       "\t 2013                & 1                   & 1                   & 542                 & 540                 &  2                  &  923                &  850                &  33                 & AA                  & 1141                & N619AA              & JFK                 & MIA                 & 160                 & 1089                & 5                   & 40                  & 2013-01-01 05:00:00\\\\\n",
       "\t 2013                & 1                   & 1                   & 544                 & 545                 & -1                  & 1004                & 1022                & -18                 & B6                  &  725                & N804JB              & JFK                 & BQN                 & 183                 & 1576                & 5                   & 45                  & 2013-01-01 05:00:00\\\\\n",
       "\t 2013                & 1                   & 1                   & 554                 & 600                 & -6                  &  812                &  837                & -25                 & DL                  &  461                & N668DN              & LGA                 & ATL                 & 116                 &  762                & 6                   &  0                  & 2013-01-01 06:00:00\\\\\n",
       "\t 2013                & 1                   & 1                   & 554                 & 558                 & -4                  &  740                &  728                &  12                 & UA                  & 1696                & N39463              & EWR                 & ORD                 & 150                 &  719                & 5                   & 58                  & 2013-01-01 05:00:00\\\\\n",
       "\\end{tabular}\n"
      ],
      "text/markdown": [
       "\n",
       "| year | month | day | dep_time | sched_dep_time | dep_delay | arr_time | sched_arr_time | arr_delay | carrier | flight | tailnum | origin | dest | air_time | distance | hour | minute | time_hour |\n",
       "|---|---|---|---|---|---|---|---|---|---|---|---|---|---|---|---|---|---|---|\n",
       "| 2013                | 1                   | 1                   | 517                 | 515                 |  2                  |  830                |  819                |  11                 | UA                  | 1545                | N14228              | EWR                 | IAH                 | 227                 | 1400                | 5                   | 15                  | 2013-01-01 05:00:00 |\n",
       "| 2013                | 1                   | 1                   | 533                 | 529                 |  4                  |  850                |  830                |  20                 | UA                  | 1714                | N24211              | LGA                 | IAH                 | 227                 | 1416                | 5                   | 29                  | 2013-01-01 05:00:00 |\n",
       "| 2013                | 1                   | 1                   | 542                 | 540                 |  2                  |  923                |  850                |  33                 | AA                  | 1141                | N619AA              | JFK                 | MIA                 | 160                 | 1089                | 5                   | 40                  | 2013-01-01 05:00:00 |\n",
       "| 2013                | 1                   | 1                   | 544                 | 545                 | -1                  | 1004                | 1022                | -18                 | B6                  |  725                | N804JB              | JFK                 | BQN                 | 183                 | 1576                | 5                   | 45                  | 2013-01-01 05:00:00 |\n",
       "| 2013                | 1                   | 1                   | 554                 | 600                 | -6                  |  812                |  837                | -25                 | DL                  |  461                | N668DN              | LGA                 | ATL                 | 116                 |  762                | 6                   |  0                  | 2013-01-01 06:00:00 |\n",
       "| 2013                | 1                   | 1                   | 554                 | 558                 | -4                  |  740                |  728                |  12                 | UA                  | 1696                | N39463              | EWR                 | ORD                 | 150                 |  719                | 5                   | 58                  | 2013-01-01 05:00:00 |\n",
       "\n"
      ],
      "text/plain": [
       "  year month day dep_time sched_dep_time dep_delay arr_time sched_arr_time\n",
       "1 2013 1     1   517      515             2         830      819          \n",
       "2 2013 1     1   533      529             4         850      830          \n",
       "3 2013 1     1   542      540             2         923      850          \n",
       "4 2013 1     1   544      545            -1        1004     1022          \n",
       "5 2013 1     1   554      600            -6         812      837          \n",
       "6 2013 1     1   554      558            -4         740      728          \n",
       "  arr_delay carrier flight tailnum origin dest air_time distance hour minute\n",
       "1  11       UA      1545   N14228  EWR    IAH  227      1400     5    15    \n",
       "2  20       UA      1714   N24211  LGA    IAH  227      1416     5    29    \n",
       "3  33       AA      1141   N619AA  JFK    MIA  160      1089     5    40    \n",
       "4 -18       B6       725   N804JB  JFK    BQN  183      1576     5    45    \n",
       "5 -25       DL       461   N668DN  LGA    ATL  116       762     6     0    \n",
       "6  12       UA      1696   N39463  EWR    ORD  150       719     5    58    \n",
       "  time_hour          \n",
       "1 2013-01-01 05:00:00\n",
       "2 2013-01-01 05:00:00\n",
       "3 2013-01-01 05:00:00\n",
       "4 2013-01-01 05:00:00\n",
       "5 2013-01-01 06:00:00\n",
       "6 2013-01-01 05:00:00"
      ]
     },
     "metadata": {},
     "output_type": "display_data"
    }
   ],
   "source": [
    "head(flights)"
   ]
  },
  {
   "cell_type": "code",
   "execution_count": 13,
   "id": "1436243e-2974-49ed-a2f4-41e2fa39ee41",
   "metadata": {},
   "outputs": [],
   "source": [
    "# summary(flights)"
   ]
  },
  {
   "cell_type": "markdown",
   "id": "6cec3029-1c40-4731-9f9e-9320823ea924",
   "metadata": {},
   "source": [
    "* With **`dplyr`** we are going to focus on a few key functions that allow us to easily manipulate our data.\n",
    "\n",
    "| Function | Description | Example |\n",
    "| ---- | ---- | ---- |\n",
    "|**`filter()`**| Select a subset of rows, by expressions that filter the data frame. You can also use logical operators **`(&, \\|, !)`** inside. |`filter(flights, month==11, day==3, carrier==\"AA\")` |\n",
    "|**`slice()`** | Select rows by position in a data frame | `slice(flights, 1:3)` |\n",
    "|**`arrange()`** | Sort a data frame based on a set of column names | `arrange(flights, year, month, day, air_time)` |\n",
    "|**`desc()`** | Can be used inside the `arrange()` to sort a column in descending order| `arrange(flights, desc(dep_delay), 3)` |\n",
    "|**`select()`** | Select specific columns of a data frame | `select(flights, carrier)` |\n",
    "|**`rename()`** | Rename columns in a data frame.  **This is not in-place!** | `rename(flights, airline_carrier = carrier)` |\n",
    "|**`distinct()`** | Returns the distinct values in a data frame.  Often used with `select()` to select specific column | `distinct(select(flights, carrier))` |\n",
    "|**`mutate()`** | Create new columns that are functions of existing columns |`mutate(flights, total_delay = arr_delay+dep_delay)` |\n",
    "|**`transmute()`** |Use transmuate when you only want the new columns |`transmute(flights, total_delay = arr_delay+dep_delay)` |\n",
    "|**`summarise()`** |Use aggregate results of data frames into single rows. Remember `na.rm=TRUE` to remove NA values. | `summarise(flights, avg_air_time=mean(air_time, na.rm=TRUE))`|\n",
    "|**`sample_n()`** | Get a random sample of n rows from data frame | `sample_n(flights, 3)` | \n",
    "|**`sample_frac()`**| Get a random sample of a percentage of a data frame (expressed as decimal)| `sample_frac(flights, 0.000005)` |\n",
    "\n",
    "* Full documentation of **`dplyr`** can be found **[here](https://cran.r-project.org/web/packages/dplyr/dplyr.pdf)**.\n",
    "\n",
    "* Below are some examples: "
   ]
  },
  {
   "cell_type": "markdown",
   "id": "35dc1db3-693f-4aea-bd66-f9bb01a1b973",
   "metadata": {},
   "source": [
    "* You can also use logical operators **`(&, |, !)`** inside **`filter()`**"
   ]
  },
  {
   "cell_type": "code",
   "execution_count": 15,
   "id": "268d90fb-2c70-4361-bf7c-12f72984246e",
   "metadata": {},
   "outputs": [
    {
     "data": {
      "text/html": [
       "<table>\n",
       "<thead><tr><th scope=col>year</th><th scope=col>month</th><th scope=col>day</th><th scope=col>dep_time</th><th scope=col>sched_dep_time</th><th scope=col>dep_delay</th><th scope=col>arr_time</th><th scope=col>sched_arr_time</th><th scope=col>arr_delay</th><th scope=col>carrier</th><th scope=col>flight</th><th scope=col>tailnum</th><th scope=col>origin</th><th scope=col>dest</th><th scope=col>air_time</th><th scope=col>distance</th><th scope=col>hour</th><th scope=col>minute</th><th scope=col>time_hour</th></tr></thead>\n",
       "<tbody>\n",
       "\t<tr><td>2013               </td><td>11                 </td><td>3                  </td><td>538                </td><td>545                </td><td>-7                 </td><td>824                </td><td>855                </td><td>-31                </td><td>AA                 </td><td>2243               </td><td>N5DWAA             </td><td>JFK                </td><td>MIA                </td><td>144                </td><td>1089               </td><td>5                  </td><td>45                 </td><td>2013-11-03 05:00:00</td></tr>\n",
       "\t<tr><td>2013               </td><td>11                 </td><td>3                  </td><td>556                </td><td>600                </td><td>-4                 </td><td>900                </td><td>905                </td><td> -5                </td><td>AA                 </td><td>1175               </td><td>N3CSAA             </td><td>LGA                </td><td>MIA                </td><td>148                </td><td>1096               </td><td>6                  </td><td> 0                 </td><td>2013-11-03 06:00:00</td></tr>\n",
       "\t<tr><td>2013               </td><td>11                 </td><td>3                  </td><td>604                </td><td>610                </td><td>-6                 </td><td>844                </td><td>855                </td><td>-11                </td><td>AA                 </td><td>1103               </td><td>N3KDAA             </td><td>LGA                </td><td>DFW                </td><td>192                </td><td>1389               </td><td>6                  </td><td>10                 </td><td>2013-11-03 06:00:00</td></tr>\n",
       "</tbody>\n",
       "</table>\n"
      ],
      "text/latex": [
       "\\begin{tabular}{r|lllllllllllllllllll}\n",
       " year & month & day & dep\\_time & sched\\_dep\\_time & dep\\_delay & arr\\_time & sched\\_arr\\_time & arr\\_delay & carrier & flight & tailnum & origin & dest & air\\_time & distance & hour & minute & time\\_hour\\\\\n",
       "\\hline\n",
       "\t 2013                & 11                  & 3                   & 538                 & 545                 & -7                  & 824                 & 855                 & -31                 & AA                  & 2243                & N5DWAA              & JFK                 & MIA                 & 144                 & 1089                & 5                   & 45                  & 2013-11-03 05:00:00\\\\\n",
       "\t 2013                & 11                  & 3                   & 556                 & 600                 & -4                  & 900                 & 905                 &  -5                 & AA                  & 1175                & N3CSAA              & LGA                 & MIA                 & 148                 & 1096                & 6                   &  0                  & 2013-11-03 06:00:00\\\\\n",
       "\t 2013                & 11                  & 3                   & 604                 & 610                 & -6                  & 844                 & 855                 & -11                 & AA                  & 1103                & N3KDAA              & LGA                 & DFW                 & 192                 & 1389                & 6                   & 10                  & 2013-11-03 06:00:00\\\\\n",
       "\\end{tabular}\n"
      ],
      "text/markdown": [
       "\n",
       "| year | month | day | dep_time | sched_dep_time | dep_delay | arr_time | sched_arr_time | arr_delay | carrier | flight | tailnum | origin | dest | air_time | distance | hour | minute | time_hour |\n",
       "|---|---|---|---|---|---|---|---|---|---|---|---|---|---|---|---|---|---|---|\n",
       "| 2013                | 11                  | 3                   | 538                 | 545                 | -7                  | 824                 | 855                 | -31                 | AA                  | 2243                | N5DWAA              | JFK                 | MIA                 | 144                 | 1089                | 5                   | 45                  | 2013-11-03 05:00:00 |\n",
       "| 2013                | 11                  | 3                   | 556                 | 600                 | -4                  | 900                 | 905                 |  -5                 | AA                  | 1175                | N3CSAA              | LGA                 | MIA                 | 148                 | 1096                | 6                   |  0                  | 2013-11-03 06:00:00 |\n",
       "| 2013                | 11                  | 3                   | 604                 | 610                 | -6                  | 844                 | 855                 | -11                 | AA                  | 1103                | N3KDAA              | LGA                 | DFW                 | 192                 | 1389                | 6                   | 10                  | 2013-11-03 06:00:00 |\n",
       "\n"
      ],
      "text/plain": [
       "  year month day dep_time sched_dep_time dep_delay arr_time sched_arr_time\n",
       "1 2013 11    3   538      545            -7        824      855           \n",
       "2 2013 11    3   556      600            -4        900      905           \n",
       "3 2013 11    3   604      610            -6        844      855           \n",
       "  arr_delay carrier flight tailnum origin dest air_time distance hour minute\n",
       "1 -31       AA      2243   N5DWAA  JFK    MIA  144      1089     5    45    \n",
       "2  -5       AA      1175   N3CSAA  LGA    MIA  148      1096     6     0    \n",
       "3 -11       AA      1103   N3KDAA  LGA    DFW  192      1389     6    10    \n",
       "  time_hour          \n",
       "1 2013-11-03 05:00:00\n",
       "2 2013-11-03 06:00:00\n",
       "3 2013-11-03 06:00:00"
      ]
     },
     "metadata": {},
     "output_type": "display_data"
    }
   ],
   "source": [
    "head(filter(flights, month==11, day==3, carrier==\"AA\"), 3)"
   ]
  },
  {
   "cell_type": "markdown",
   "id": "7068432d-d4e6-49f3-b1df-eccb0e386dde",
   "metadata": {},
   "source": [
    "* This is simpler command format than the data frame way: "
   ]
  },
  {
   "cell_type": "code",
   "execution_count": 16,
   "id": "e03cceaf-3843-41fa-964e-85d7ae185c10",
   "metadata": {},
   "outputs": [
    {
     "data": {
      "text/html": [
       "<table>\n",
       "<thead><tr><th scope=col>year</th><th scope=col>month</th><th scope=col>day</th><th scope=col>dep_time</th><th scope=col>sched_dep_time</th><th scope=col>dep_delay</th><th scope=col>arr_time</th><th scope=col>sched_arr_time</th><th scope=col>arr_delay</th><th scope=col>carrier</th><th scope=col>flight</th><th scope=col>tailnum</th><th scope=col>origin</th><th scope=col>dest</th><th scope=col>air_time</th><th scope=col>distance</th><th scope=col>hour</th><th scope=col>minute</th><th scope=col>time_hour</th></tr></thead>\n",
       "<tbody>\n",
       "\t<tr><td>2013               </td><td>11                 </td><td>3                  </td><td>538                </td><td>545                </td><td>-7                 </td><td>824                </td><td>855                </td><td>-31                </td><td>AA                 </td><td>2243               </td><td>N5DWAA             </td><td>JFK                </td><td>MIA                </td><td>144                </td><td>1089               </td><td>5                  </td><td>45                 </td><td>2013-11-03 05:00:00</td></tr>\n",
       "\t<tr><td>2013               </td><td>11                 </td><td>3                  </td><td>556                </td><td>600                </td><td>-4                 </td><td>900                </td><td>905                </td><td> -5                </td><td>AA                 </td><td>1175               </td><td>N3CSAA             </td><td>LGA                </td><td>MIA                </td><td>148                </td><td>1096               </td><td>6                  </td><td> 0                 </td><td>2013-11-03 06:00:00</td></tr>\n",
       "\t<tr><td>2013               </td><td>11                 </td><td>3                  </td><td>604                </td><td>610                </td><td>-6                 </td><td>844                </td><td>855                </td><td>-11                </td><td>AA                 </td><td>1103               </td><td>N3KDAA             </td><td>LGA                </td><td>DFW                </td><td>192                </td><td>1389               </td><td>6                  </td><td>10                 </td><td>2013-11-03 06:00:00</td></tr>\n",
       "</tbody>\n",
       "</table>\n"
      ],
      "text/latex": [
       "\\begin{tabular}{r|lllllllllllllllllll}\n",
       " year & month & day & dep\\_time & sched\\_dep\\_time & dep\\_delay & arr\\_time & sched\\_arr\\_time & arr\\_delay & carrier & flight & tailnum & origin & dest & air\\_time & distance & hour & minute & time\\_hour\\\\\n",
       "\\hline\n",
       "\t 2013                & 11                  & 3                   & 538                 & 545                 & -7                  & 824                 & 855                 & -31                 & AA                  & 2243                & N5DWAA              & JFK                 & MIA                 & 144                 & 1089                & 5                   & 45                  & 2013-11-03 05:00:00\\\\\n",
       "\t 2013                & 11                  & 3                   & 556                 & 600                 & -4                  & 900                 & 905                 &  -5                 & AA                  & 1175                & N3CSAA              & LGA                 & MIA                 & 148                 & 1096                & 6                   &  0                  & 2013-11-03 06:00:00\\\\\n",
       "\t 2013                & 11                  & 3                   & 604                 & 610                 & -6                  & 844                 & 855                 & -11                 & AA                  & 1103                & N3KDAA              & LGA                 & DFW                 & 192                 & 1389                & 6                   & 10                  & 2013-11-03 06:00:00\\\\\n",
       "\\end{tabular}\n"
      ],
      "text/markdown": [
       "\n",
       "| year | month | day | dep_time | sched_dep_time | dep_delay | arr_time | sched_arr_time | arr_delay | carrier | flight | tailnum | origin | dest | air_time | distance | hour | minute | time_hour |\n",
       "|---|---|---|---|---|---|---|---|---|---|---|---|---|---|---|---|---|---|---|\n",
       "| 2013                | 11                  | 3                   | 538                 | 545                 | -7                  | 824                 | 855                 | -31                 | AA                  | 2243                | N5DWAA              | JFK                 | MIA                 | 144                 | 1089                | 5                   | 45                  | 2013-11-03 05:00:00 |\n",
       "| 2013                | 11                  | 3                   | 556                 | 600                 | -4                  | 900                 | 905                 |  -5                 | AA                  | 1175                | N3CSAA              | LGA                 | MIA                 | 148                 | 1096                | 6                   |  0                  | 2013-11-03 06:00:00 |\n",
       "| 2013                | 11                  | 3                   | 604                 | 610                 | -6                  | 844                 | 855                 | -11                 | AA                  | 1103                | N3KDAA              | LGA                 | DFW                 | 192                 | 1389                | 6                   | 10                  | 2013-11-03 06:00:00 |\n",
       "\n"
      ],
      "text/plain": [
       "  year month day dep_time sched_dep_time dep_delay arr_time sched_arr_time\n",
       "1 2013 11    3   538      545            -7        824      855           \n",
       "2 2013 11    3   556      600            -4        900      905           \n",
       "3 2013 11    3   604      610            -6        844      855           \n",
       "  arr_delay carrier flight tailnum origin dest air_time distance hour minute\n",
       "1 -31       AA      2243   N5DWAA  JFK    MIA  144      1089     5    45    \n",
       "2  -5       AA      1175   N3CSAA  LGA    MIA  148      1096     6     0    \n",
       "3 -11       AA      1103   N3KDAA  LGA    DFW  192      1389     6    10    \n",
       "  time_hour          \n",
       "1 2013-11-03 05:00:00\n",
       "2 2013-11-03 06:00:00\n",
       "3 2013-11-03 06:00:00"
      ]
     },
     "metadata": {},
     "output_type": "display_data"
    }
   ],
   "source": [
    "head(flights[flights$month == 11 & flights$day == 3 & flights$carrier == 'AA', ], 3)"
   ]
  },
  {
   "cell_type": "code",
   "execution_count": 17,
   "id": "d565bab7-a9d8-4464-931a-7747a617b154",
   "metadata": {},
   "outputs": [
    {
     "data": {
      "text/html": [
       "<table>\n",
       "<thead><tr><th scope=col>year</th><th scope=col>month</th><th scope=col>day</th><th scope=col>dep_time</th><th scope=col>sched_dep_time</th><th scope=col>dep_delay</th><th scope=col>arr_time</th><th scope=col>sched_arr_time</th><th scope=col>arr_delay</th><th scope=col>carrier</th><th scope=col>flight</th><th scope=col>tailnum</th><th scope=col>origin</th><th scope=col>dest</th><th scope=col>air_time</th><th scope=col>distance</th><th scope=col>hour</th><th scope=col>minute</th><th scope=col>time_hour</th></tr></thead>\n",
       "<tbody>\n",
       "\t<tr><td>2013               </td><td>1                  </td><td>1                  </td><td>517                </td><td>515                </td><td>2                  </td><td>830                </td><td>819                </td><td>11                 </td><td>UA                 </td><td>1545               </td><td>N14228             </td><td>EWR                </td><td>IAH                </td><td>227                </td><td>1400               </td><td>5                  </td><td>15                 </td><td>2013-01-01 05:00:00</td></tr>\n",
       "\t<tr><td>2013               </td><td>1                  </td><td>1                  </td><td>533                </td><td>529                </td><td>4                  </td><td>850                </td><td>830                </td><td>20                 </td><td>UA                 </td><td>1714               </td><td>N24211             </td><td>LGA                </td><td>IAH                </td><td>227                </td><td>1416               </td><td>5                  </td><td>29                 </td><td>2013-01-01 05:00:00</td></tr>\n",
       "\t<tr><td>2013               </td><td>1                  </td><td>1                  </td><td>542                </td><td>540                </td><td>2                  </td><td>923                </td><td>850                </td><td>33                 </td><td>AA                 </td><td>1141               </td><td>N619AA             </td><td>JFK                </td><td>MIA                </td><td>160                </td><td>1089               </td><td>5                  </td><td>40                 </td><td>2013-01-01 05:00:00</td></tr>\n",
       "</tbody>\n",
       "</table>\n"
      ],
      "text/latex": [
       "\\begin{tabular}{r|lllllllllllllllllll}\n",
       " year & month & day & dep\\_time & sched\\_dep\\_time & dep\\_delay & arr\\_time & sched\\_arr\\_time & arr\\_delay & carrier & flight & tailnum & origin & dest & air\\_time & distance & hour & minute & time\\_hour\\\\\n",
       "\\hline\n",
       "\t 2013                & 1                   & 1                   & 517                 & 515                 & 2                   & 830                 & 819                 & 11                  & UA                  & 1545                & N14228              & EWR                 & IAH                 & 227                 & 1400                & 5                   & 15                  & 2013-01-01 05:00:00\\\\\n",
       "\t 2013                & 1                   & 1                   & 533                 & 529                 & 4                   & 850                 & 830                 & 20                  & UA                  & 1714                & N24211              & LGA                 & IAH                 & 227                 & 1416                & 5                   & 29                  & 2013-01-01 05:00:00\\\\\n",
       "\t 2013                & 1                   & 1                   & 542                 & 540                 & 2                   & 923                 & 850                 & 33                  & AA                  & 1141                & N619AA              & JFK                 & MIA                 & 160                 & 1089                & 5                   & 40                  & 2013-01-01 05:00:00\\\\\n",
       "\\end{tabular}\n"
      ],
      "text/markdown": [
       "\n",
       "| year | month | day | dep_time | sched_dep_time | dep_delay | arr_time | sched_arr_time | arr_delay | carrier | flight | tailnum | origin | dest | air_time | distance | hour | minute | time_hour |\n",
       "|---|---|---|---|---|---|---|---|---|---|---|---|---|---|---|---|---|---|---|\n",
       "| 2013                | 1                   | 1                   | 517                 | 515                 | 2                   | 830                 | 819                 | 11                  | UA                  | 1545                | N14228              | EWR                 | IAH                 | 227                 | 1400                | 5                   | 15                  | 2013-01-01 05:00:00 |\n",
       "| 2013                | 1                   | 1                   | 533                 | 529                 | 4                   | 850                 | 830                 | 20                  | UA                  | 1714                | N24211              | LGA                 | IAH                 | 227                 | 1416                | 5                   | 29                  | 2013-01-01 05:00:00 |\n",
       "| 2013                | 1                   | 1                   | 542                 | 540                 | 2                   | 923                 | 850                 | 33                  | AA                  | 1141                | N619AA              | JFK                 | MIA                 | 160                 | 1089                | 5                   | 40                  | 2013-01-01 05:00:00 |\n",
       "\n"
      ],
      "text/plain": [
       "  year month day dep_time sched_dep_time dep_delay arr_time sched_arr_time\n",
       "1 2013 1     1   517      515            2         830      819           \n",
       "2 2013 1     1   533      529            4         850      830           \n",
       "3 2013 1     1   542      540            2         923      850           \n",
       "  arr_delay carrier flight tailnum origin dest air_time distance hour minute\n",
       "1 11        UA      1545   N14228  EWR    IAH  227      1400     5    15    \n",
       "2 20        UA      1714   N24211  LGA    IAH  227      1416     5    29    \n",
       "3 33        AA      1141   N619AA  JFK    MIA  160      1089     5    40    \n",
       "  time_hour          \n",
       "1 2013-01-01 05:00:00\n",
       "2 2013-01-01 05:00:00\n",
       "3 2013-01-01 05:00:00"
      ]
     },
     "metadata": {},
     "output_type": "display_data"
    }
   ],
   "source": [
    "slice(flights, 1:3)"
   ]
  },
  {
   "cell_type": "code",
   "execution_count": 19,
   "id": "e44330d2-1e96-42e2-a294-a7524bd5bb36",
   "metadata": {},
   "outputs": [
    {
     "data": {
      "text/html": [
       "<table>\n",
       "<thead><tr><th scope=col>year</th><th scope=col>month</th><th scope=col>day</th><th scope=col>dep_time</th><th scope=col>sched_dep_time</th><th scope=col>dep_delay</th><th scope=col>arr_time</th><th scope=col>sched_arr_time</th><th scope=col>arr_delay</th><th scope=col>carrier</th><th scope=col>flight</th><th scope=col>tailnum</th><th scope=col>origin</th><th scope=col>dest</th><th scope=col>air_time</th><th scope=col>distance</th><th scope=col>hour</th><th scope=col>minute</th><th scope=col>time_hour</th></tr></thead>\n",
       "<tbody>\n",
       "\t<tr><td>2013               </td><td>1                  </td><td>1                  </td><td>2302               </td><td>2200               </td><td>62                 </td><td>2342               </td><td>2253               </td><td> 49                </td><td>EV                 </td><td>4276               </td><td>N13903             </td><td>EWR                </td><td>BDL                </td><td>24                 </td><td>116                </td><td>22                 </td><td> 0                 </td><td>2013-01-01 22:00:00</td></tr>\n",
       "\t<tr><td>2013               </td><td>1                  </td><td>1                  </td><td>1318               </td><td>1322               </td><td>-4                 </td><td>1358               </td><td>1416               </td><td>-18                </td><td>EV                 </td><td>4106               </td><td>N19554             </td><td>EWR                </td><td>BDL                </td><td>25                 </td><td>116                </td><td>13                 </td><td>22                 </td><td>2013-01-01 13:00:00</td></tr>\n",
       "\t<tr><td>2013               </td><td>1                  </td><td>1                  </td><td>2116               </td><td>2110               </td><td> 6                 </td><td>2202               </td><td>2212               </td><td>-10                </td><td>EV                 </td><td>4404               </td><td>N15912             </td><td>EWR                </td><td>PVD                </td><td>28                 </td><td>160                </td><td>21                 </td><td>10                 </td><td>2013-01-01 21:00:00</td></tr>\n",
       "</tbody>\n",
       "</table>\n"
      ],
      "text/latex": [
       "\\begin{tabular}{r|lllllllllllllllllll}\n",
       " year & month & day & dep\\_time & sched\\_dep\\_time & dep\\_delay & arr\\_time & sched\\_arr\\_time & arr\\_delay & carrier & flight & tailnum & origin & dest & air\\_time & distance & hour & minute & time\\_hour\\\\\n",
       "\\hline\n",
       "\t 2013                & 1                   & 1                   & 2302                & 2200                & 62                  & 2342                & 2253                &  49                 & EV                  & 4276                & N13903              & EWR                 & BDL                 & 24                  & 116                 & 22                  &  0                  & 2013-01-01 22:00:00\\\\\n",
       "\t 2013                & 1                   & 1                   & 1318                & 1322                & -4                  & 1358                & 1416                & -18                 & EV                  & 4106                & N19554              & EWR                 & BDL                 & 25                  & 116                 & 13                  & 22                  & 2013-01-01 13:00:00\\\\\n",
       "\t 2013                & 1                   & 1                   & 2116                & 2110                &  6                  & 2202                & 2212                & -10                 & EV                  & 4404                & N15912              & EWR                 & PVD                 & 28                  & 160                 & 21                  & 10                  & 2013-01-01 21:00:00\\\\\n",
       "\\end{tabular}\n"
      ],
      "text/markdown": [
       "\n",
       "| year | month | day | dep_time | sched_dep_time | dep_delay | arr_time | sched_arr_time | arr_delay | carrier | flight | tailnum | origin | dest | air_time | distance | hour | minute | time_hour |\n",
       "|---|---|---|---|---|---|---|---|---|---|---|---|---|---|---|---|---|---|---|\n",
       "| 2013                | 1                   | 1                   | 2302                | 2200                | 62                  | 2342                | 2253                |  49                 | EV                  | 4276                | N13903              | EWR                 | BDL                 | 24                  | 116                 | 22                  |  0                  | 2013-01-01 22:00:00 |\n",
       "| 2013                | 1                   | 1                   | 1318                | 1322                | -4                  | 1358                | 1416                | -18                 | EV                  | 4106                | N19554              | EWR                 | BDL                 | 25                  | 116                 | 13                  | 22                  | 2013-01-01 13:00:00 |\n",
       "| 2013                | 1                   | 1                   | 2116                | 2110                |  6                  | 2202                | 2212                | -10                 | EV                  | 4404                | N15912              | EWR                 | PVD                 | 28                  | 160                 | 21                  | 10                  | 2013-01-01 21:00:00 |\n",
       "\n"
      ],
      "text/plain": [
       "  year month day dep_time sched_dep_time dep_delay arr_time sched_arr_time\n",
       "1 2013 1     1   2302     2200           62        2342     2253          \n",
       "2 2013 1     1   1318     1322           -4        1358     1416          \n",
       "3 2013 1     1   2116     2110            6        2202     2212          \n",
       "  arr_delay carrier flight tailnum origin dest air_time distance hour minute\n",
       "1  49       EV      4276   N13903  EWR    BDL  24       116      22    0    \n",
       "2 -18       EV      4106   N19554  EWR    BDL  25       116      13   22    \n",
       "3 -10       EV      4404   N15912  EWR    PVD  28       160      21   10    \n",
       "  time_hour          \n",
       "1 2013-01-01 22:00:00\n",
       "2 2013-01-01 13:00:00\n",
       "3 2013-01-01 21:00:00"
      ]
     },
     "metadata": {},
     "output_type": "display_data"
    }
   ],
   "source": [
    "head(arrange(flights, year, month, day, air_time), 3)"
   ]
  },
  {
   "cell_type": "code",
   "execution_count": 21,
   "id": "ffa82999-57ee-4c1b-a82d-f948eeb3aa6c",
   "metadata": {},
   "outputs": [
    {
     "data": {
      "text/html": [
       "<table>\n",
       "<thead><tr><th scope=col>year</th><th scope=col>month</th><th scope=col>day</th><th scope=col>dep_time</th><th scope=col>sched_dep_time</th><th scope=col>dep_delay</th><th scope=col>arr_time</th><th scope=col>sched_arr_time</th><th scope=col>arr_delay</th><th scope=col>carrier</th><th scope=col>flight</th><th scope=col>tailnum</th><th scope=col>origin</th><th scope=col>dest</th><th scope=col>air_time</th><th scope=col>distance</th><th scope=col>hour</th><th scope=col>minute</th><th scope=col>time_hour</th></tr></thead>\n",
       "<tbody>\n",
       "\t<tr><td>2013               </td><td>1                  </td><td> 9                 </td><td> 641               </td><td> 900               </td><td>1301               </td><td>1242               </td><td>1530               </td><td>1272               </td><td>HA                 </td><td>  51               </td><td>N384HA             </td><td>JFK                </td><td>HNL                </td><td>640                </td><td>4983               </td><td> 9                 </td><td> 0                 </td><td>2013-01-09 09:00:00</td></tr>\n",
       "\t<tr><td>2013               </td><td>6                  </td><td>15                 </td><td>1432               </td><td>1935               </td><td>1137               </td><td>1607               </td><td>2120               </td><td>1127               </td><td>MQ                 </td><td>3535               </td><td>N504MQ             </td><td>JFK                </td><td>CMH                </td><td> 74                </td><td> 483               </td><td>19                 </td><td>35                 </td><td>2013-06-15 19:00:00</td></tr>\n",
       "\t<tr><td>2013               </td><td>1                  </td><td>10                 </td><td>1121               </td><td>1635               </td><td>1126               </td><td>1239               </td><td>1810               </td><td>1109               </td><td>MQ                 </td><td>3695               </td><td>N517MQ             </td><td>EWR                </td><td>ORD                </td><td>111                </td><td> 719               </td><td>16                 </td><td>35                 </td><td>2013-01-10 16:00:00</td></tr>\n",
       "\t<tr><td>2013               </td><td>9                  </td><td>20                 </td><td>1139               </td><td>1845               </td><td>1014               </td><td>1457               </td><td>2210               </td><td>1007               </td><td>AA                 </td><td> 177               </td><td>N338AA             </td><td>JFK                </td><td>SFO                </td><td>354                </td><td>2586               </td><td>18                 </td><td>45                 </td><td>2013-09-20 18:00:00</td></tr>\n",
       "\t<tr><td>2013               </td><td>7                  </td><td>22                 </td><td> 845               </td><td>1600               </td><td>1005               </td><td>1044               </td><td>1815               </td><td> 989               </td><td>MQ                 </td><td>3075               </td><td>N665MQ             </td><td>JFK                </td><td>CVG                </td><td> 96                </td><td> 589               </td><td>16                 </td><td> 0                 </td><td>2013-07-22 16:00:00</td></tr>\n",
       "\t<tr><td>2013               </td><td>4                  </td><td>10                 </td><td>1100               </td><td>1900               </td><td> 960               </td><td>1342               </td><td>2211               </td><td> 931               </td><td>DL                 </td><td>2391               </td><td>N959DL             </td><td>JFK                </td><td>TPA                </td><td>139                </td><td>1005               </td><td>19                 </td><td> 0                 </td><td>2013-04-10 19:00:00</td></tr>\n",
       "</tbody>\n",
       "</table>\n"
      ],
      "text/latex": [
       "\\begin{tabular}{r|lllllllllllllllllll}\n",
       " year & month & day & dep\\_time & sched\\_dep\\_time & dep\\_delay & arr\\_time & sched\\_arr\\_time & arr\\_delay & carrier & flight & tailnum & origin & dest & air\\_time & distance & hour & minute & time\\_hour\\\\\n",
       "\\hline\n",
       "\t 2013                & 1                   &  9                  &  641                &  900                & 1301                & 1242                & 1530                & 1272                & HA                  &   51                & N384HA              & JFK                 & HNL                 & 640                 & 4983                &  9                  &  0                  & 2013-01-09 09:00:00\\\\\n",
       "\t 2013                & 6                   & 15                  & 1432                & 1935                & 1137                & 1607                & 2120                & 1127                & MQ                  & 3535                & N504MQ              & JFK                 & CMH                 &  74                 &  483                & 19                  & 35                  & 2013-06-15 19:00:00\\\\\n",
       "\t 2013                & 1                   & 10                  & 1121                & 1635                & 1126                & 1239                & 1810                & 1109                & MQ                  & 3695                & N517MQ              & EWR                 & ORD                 & 111                 &  719                & 16                  & 35                  & 2013-01-10 16:00:00\\\\\n",
       "\t 2013                & 9                   & 20                  & 1139                & 1845                & 1014                & 1457                & 2210                & 1007                & AA                  &  177                & N338AA              & JFK                 & SFO                 & 354                 & 2586                & 18                  & 45                  & 2013-09-20 18:00:00\\\\\n",
       "\t 2013                & 7                   & 22                  &  845                & 1600                & 1005                & 1044                & 1815                &  989                & MQ                  & 3075                & N665MQ              & JFK                 & CVG                 &  96                 &  589                & 16                  &  0                  & 2013-07-22 16:00:00\\\\\n",
       "\t 2013                & 4                   & 10                  & 1100                & 1900                &  960                & 1342                & 2211                &  931                & DL                  & 2391                & N959DL              & JFK                 & TPA                 & 139                 & 1005                & 19                  &  0                  & 2013-04-10 19:00:00\\\\\n",
       "\\end{tabular}\n"
      ],
      "text/markdown": [
       "\n",
       "| year | month | day | dep_time | sched_dep_time | dep_delay | arr_time | sched_arr_time | arr_delay | carrier | flight | tailnum | origin | dest | air_time | distance | hour | minute | time_hour |\n",
       "|---|---|---|---|---|---|---|---|---|---|---|---|---|---|---|---|---|---|---|\n",
       "| 2013                | 1                   |  9                  |  641                |  900                | 1301                | 1242                | 1530                | 1272                | HA                  |   51                | N384HA              | JFK                 | HNL                 | 640                 | 4983                |  9                  |  0                  | 2013-01-09 09:00:00 |\n",
       "| 2013                | 6                   | 15                  | 1432                | 1935                | 1137                | 1607                | 2120                | 1127                | MQ                  | 3535                | N504MQ              | JFK                 | CMH                 |  74                 |  483                | 19                  | 35                  | 2013-06-15 19:00:00 |\n",
       "| 2013                | 1                   | 10                  | 1121                | 1635                | 1126                | 1239                | 1810                | 1109                | MQ                  | 3695                | N517MQ              | EWR                 | ORD                 | 111                 |  719                | 16                  | 35                  | 2013-01-10 16:00:00 |\n",
       "| 2013                | 9                   | 20                  | 1139                | 1845                | 1014                | 1457                | 2210                | 1007                | AA                  |  177                | N338AA              | JFK                 | SFO                 | 354                 | 2586                | 18                  | 45                  | 2013-09-20 18:00:00 |\n",
       "| 2013                | 7                   | 22                  |  845                | 1600                | 1005                | 1044                | 1815                |  989                | MQ                  | 3075                | N665MQ              | JFK                 | CVG                 |  96                 |  589                | 16                  |  0                  | 2013-07-22 16:00:00 |\n",
       "| 2013                | 4                   | 10                  | 1100                | 1900                |  960                | 1342                | 2211                |  931                | DL                  | 2391                | N959DL              | JFK                 | TPA                 | 139                 | 1005                | 19                  |  0                  | 2013-04-10 19:00:00 |\n",
       "\n"
      ],
      "text/plain": [
       "  year month day dep_time sched_dep_time dep_delay arr_time sched_arr_time\n",
       "1 2013 1      9   641      900           1301      1242     1530          \n",
       "2 2013 6     15  1432     1935           1137      1607     2120          \n",
       "3 2013 1     10  1121     1635           1126      1239     1810          \n",
       "4 2013 9     20  1139     1845           1014      1457     2210          \n",
       "5 2013 7     22   845     1600           1005      1044     1815          \n",
       "6 2013 4     10  1100     1900            960      1342     2211          \n",
       "  arr_delay carrier flight tailnum origin dest air_time distance hour minute\n",
       "1 1272      HA        51   N384HA  JFK    HNL  640      4983      9    0    \n",
       "2 1127      MQ      3535   N504MQ  JFK    CMH   74       483     19   35    \n",
       "3 1109      MQ      3695   N517MQ  EWR    ORD  111       719     16   35    \n",
       "4 1007      AA       177   N338AA  JFK    SFO  354      2586     18   45    \n",
       "5  989      MQ      3075   N665MQ  JFK    CVG   96       589     16    0    \n",
       "6  931      DL      2391   N959DL  JFK    TPA  139      1005     19    0    \n",
       "  time_hour          \n",
       "1 2013-01-09 09:00:00\n",
       "2 2013-06-15 19:00:00\n",
       "3 2013-01-10 16:00:00\n",
       "4 2013-09-20 18:00:00\n",
       "5 2013-07-22 16:00:00\n",
       "6 2013-04-10 19:00:00"
      ]
     },
     "metadata": {},
     "output_type": "display_data"
    }
   ],
   "source": [
    "head(arrange(flights, desc(dep_delay), 3))"
   ]
  },
  {
   "cell_type": "code",
   "execution_count": 22,
   "id": "48bef099-3e12-4e6e-955a-86e8b3091ce6",
   "metadata": {},
   "outputs": [
    {
     "data": {
      "text/html": [
       "<table>\n",
       "<thead><tr><th scope=col>carrier</th></tr></thead>\n",
       "<tbody>\n",
       "\t<tr><td>UA</td></tr>\n",
       "\t<tr><td>UA</td></tr>\n",
       "\t<tr><td>AA</td></tr>\n",
       "</tbody>\n",
       "</table>\n"
      ],
      "text/latex": [
       "\\begin{tabular}{r|l}\n",
       " carrier\\\\\n",
       "\\hline\n",
       "\t UA\\\\\n",
       "\t UA\\\\\n",
       "\t AA\\\\\n",
       "\\end{tabular}\n"
      ],
      "text/markdown": [
       "\n",
       "| carrier |\n",
       "|---|\n",
       "| UA |\n",
       "| UA |\n",
       "| AA |\n",
       "\n"
      ],
      "text/plain": [
       "  carrier\n",
       "1 UA     \n",
       "2 UA     \n",
       "3 AA     "
      ]
     },
     "metadata": {},
     "output_type": "display_data"
    }
   ],
   "source": [
    "head(select(flights, carrier), 3)"
   ]
  },
  {
   "cell_type": "code",
   "execution_count": 24,
   "id": "3ec768ed-6c58-4d5d-87db-8026597c5063",
   "metadata": {},
   "outputs": [
    {
     "data": {
      "text/html": [
       "<table>\n",
       "<thead><tr><th scope=col>year</th><th scope=col>month</th><th scope=col>day</th><th scope=col>dep_time</th><th scope=col>sched_dep_time</th><th scope=col>dep_delay</th><th scope=col>arr_time</th><th scope=col>sched_arr_time</th><th scope=col>arr_delay</th><th scope=col>airline_carrier</th><th scope=col>flight</th><th scope=col>tailnum</th><th scope=col>origin</th><th scope=col>dest</th><th scope=col>air_time</th><th scope=col>distance</th><th scope=col>hour</th><th scope=col>minute</th><th scope=col>time_hour</th></tr></thead>\n",
       "<tbody>\n",
       "\t<tr><td>2013               </td><td>1                  </td><td>1                  </td><td>517                </td><td>515                </td><td>2                  </td><td>830                </td><td>819                </td><td>11                 </td><td>UA                 </td><td>1545               </td><td>N14228             </td><td>EWR                </td><td>IAH                </td><td>227                </td><td>1400               </td><td>5                  </td><td>15                 </td><td>2013-01-01 05:00:00</td></tr>\n",
       "\t<tr><td>2013               </td><td>1                  </td><td>1                  </td><td>533                </td><td>529                </td><td>4                  </td><td>850                </td><td>830                </td><td>20                 </td><td>UA                 </td><td>1714               </td><td>N24211             </td><td>LGA                </td><td>IAH                </td><td>227                </td><td>1416               </td><td>5                  </td><td>29                 </td><td>2013-01-01 05:00:00</td></tr>\n",
       "\t<tr><td>2013               </td><td>1                  </td><td>1                  </td><td>542                </td><td>540                </td><td>2                  </td><td>923                </td><td>850                </td><td>33                 </td><td>AA                 </td><td>1141               </td><td>N619AA             </td><td>JFK                </td><td>MIA                </td><td>160                </td><td>1089               </td><td>5                  </td><td>40                 </td><td>2013-01-01 05:00:00</td></tr>\n",
       "</tbody>\n",
       "</table>\n"
      ],
      "text/latex": [
       "\\begin{tabular}{r|lllllllllllllllllll}\n",
       " year & month & day & dep\\_time & sched\\_dep\\_time & dep\\_delay & arr\\_time & sched\\_arr\\_time & arr\\_delay & airline\\_carrier & flight & tailnum & origin & dest & air\\_time & distance & hour & minute & time\\_hour\\\\\n",
       "\\hline\n",
       "\t 2013                & 1                   & 1                   & 517                 & 515                 & 2                   & 830                 & 819                 & 11                  & UA                  & 1545                & N14228              & EWR                 & IAH                 & 227                 & 1400                & 5                   & 15                  & 2013-01-01 05:00:00\\\\\n",
       "\t 2013                & 1                   & 1                   & 533                 & 529                 & 4                   & 850                 & 830                 & 20                  & UA                  & 1714                & N24211              & LGA                 & IAH                 & 227                 & 1416                & 5                   & 29                  & 2013-01-01 05:00:00\\\\\n",
       "\t 2013                & 1                   & 1                   & 542                 & 540                 & 2                   & 923                 & 850                 & 33                  & AA                  & 1141                & N619AA              & JFK                 & MIA                 & 160                 & 1089                & 5                   & 40                  & 2013-01-01 05:00:00\\\\\n",
       "\\end{tabular}\n"
      ],
      "text/markdown": [
       "\n",
       "| year | month | day | dep_time | sched_dep_time | dep_delay | arr_time | sched_arr_time | arr_delay | airline_carrier | flight | tailnum | origin | dest | air_time | distance | hour | minute | time_hour |\n",
       "|---|---|---|---|---|---|---|---|---|---|---|---|---|---|---|---|---|---|---|\n",
       "| 2013                | 1                   | 1                   | 517                 | 515                 | 2                   | 830                 | 819                 | 11                  | UA                  | 1545                | N14228              | EWR                 | IAH                 | 227                 | 1400                | 5                   | 15                  | 2013-01-01 05:00:00 |\n",
       "| 2013                | 1                   | 1                   | 533                 | 529                 | 4                   | 850                 | 830                 | 20                  | UA                  | 1714                | N24211              | LGA                 | IAH                 | 227                 | 1416                | 5                   | 29                  | 2013-01-01 05:00:00 |\n",
       "| 2013                | 1                   | 1                   | 542                 | 540                 | 2                   | 923                 | 850                 | 33                  | AA                  | 1141                | N619AA              | JFK                 | MIA                 | 160                 | 1089                | 5                   | 40                  | 2013-01-01 05:00:00 |\n",
       "\n"
      ],
      "text/plain": [
       "  year month day dep_time sched_dep_time dep_delay arr_time sched_arr_time\n",
       "1 2013 1     1   517      515            2         830      819           \n",
       "2 2013 1     1   533      529            4         850      830           \n",
       "3 2013 1     1   542      540            2         923      850           \n",
       "  arr_delay airline_carrier flight tailnum origin dest air_time distance hour\n",
       "1 11        UA              1545   N14228  EWR    IAH  227      1400     5   \n",
       "2 20        UA              1714   N24211  LGA    IAH  227      1416     5   \n",
       "3 33        AA              1141   N619AA  JFK    MIA  160      1089     5   \n",
       "  minute time_hour          \n",
       "1 15     2013-01-01 05:00:00\n",
       "2 29     2013-01-01 05:00:00\n",
       "3 40     2013-01-01 05:00:00"
      ]
     },
     "metadata": {},
     "output_type": "display_data"
    }
   ],
   "source": [
    "head(rename(flights, airline_carrier = carrier), 3)"
   ]
  },
  {
   "cell_type": "code",
   "execution_count": 26,
   "id": "7068f46c-d976-47db-b879-c21cccd9db7a",
   "metadata": {},
   "outputs": [
    {
     "data": {
      "text/html": [
       "<table>\n",
       "<thead><tr><th scope=col>carrier</th></tr></thead>\n",
       "<tbody>\n",
       "\t<tr><td>UA</td></tr>\n",
       "\t<tr><td>AA</td></tr>\n",
       "\t<tr><td>B6</td></tr>\n",
       "\t<tr><td>DL</td></tr>\n",
       "\t<tr><td>EV</td></tr>\n",
       "\t<tr><td>MQ</td></tr>\n",
       "\t<tr><td>US</td></tr>\n",
       "\t<tr><td>WN</td></tr>\n",
       "\t<tr><td>VX</td></tr>\n",
       "\t<tr><td>FL</td></tr>\n",
       "\t<tr><td>AS</td></tr>\n",
       "\t<tr><td>9E</td></tr>\n",
       "\t<tr><td>F9</td></tr>\n",
       "\t<tr><td>HA</td></tr>\n",
       "\t<tr><td>YV</td></tr>\n",
       "\t<tr><td>OO</td></tr>\n",
       "</tbody>\n",
       "</table>\n"
      ],
      "text/latex": [
       "\\begin{tabular}{r|l}\n",
       " carrier\\\\\n",
       "\\hline\n",
       "\t UA\\\\\n",
       "\t AA\\\\\n",
       "\t B6\\\\\n",
       "\t DL\\\\\n",
       "\t EV\\\\\n",
       "\t MQ\\\\\n",
       "\t US\\\\\n",
       "\t WN\\\\\n",
       "\t VX\\\\\n",
       "\t FL\\\\\n",
       "\t AS\\\\\n",
       "\t 9E\\\\\n",
       "\t F9\\\\\n",
       "\t HA\\\\\n",
       "\t YV\\\\\n",
       "\t OO\\\\\n",
       "\\end{tabular}\n"
      ],
      "text/markdown": [
       "\n",
       "| carrier |\n",
       "|---|\n",
       "| UA |\n",
       "| AA |\n",
       "| B6 |\n",
       "| DL |\n",
       "| EV |\n",
       "| MQ |\n",
       "| US |\n",
       "| WN |\n",
       "| VX |\n",
       "| FL |\n",
       "| AS |\n",
       "| 9E |\n",
       "| F9 |\n",
       "| HA |\n",
       "| YV |\n",
       "| OO |\n",
       "\n"
      ],
      "text/plain": [
       "   carrier\n",
       "1  UA     \n",
       "2  AA     \n",
       "3  B6     \n",
       "4  DL     \n",
       "5  EV     \n",
       "6  MQ     \n",
       "7  US     \n",
       "8  WN     \n",
       "9  VX     \n",
       "10 FL     \n",
       "11 AS     \n",
       "12 9E     \n",
       "13 F9     \n",
       "14 HA     \n",
       "15 YV     \n",
       "16 OO     "
      ]
     },
     "metadata": {},
     "output_type": "display_data"
    }
   ],
   "source": [
    "distinct(select(flights, carrier)) # Returns distinct carriers in data set"
   ]
  },
  {
   "cell_type": "code",
   "execution_count": 27,
   "id": "22946f43-e39a-4470-9892-404d25551778",
   "metadata": {},
   "outputs": [
    {
     "data": {
      "text/html": [
       "<table>\n",
       "<thead><tr><th scope=col>year</th><th scope=col>month</th><th scope=col>day</th><th scope=col>dep_time</th><th scope=col>sched_dep_time</th><th scope=col>dep_delay</th><th scope=col>arr_time</th><th scope=col>sched_arr_time</th><th scope=col>arr_delay</th><th scope=col>carrier</th><th scope=col>flight</th><th scope=col>tailnum</th><th scope=col>origin</th><th scope=col>dest</th><th scope=col>air_time</th><th scope=col>distance</th><th scope=col>hour</th><th scope=col>minute</th><th scope=col>time_hour</th><th scope=col>total_delay</th></tr></thead>\n",
       "<tbody>\n",
       "\t<tr><td>2013               </td><td>1                  </td><td>1                  </td><td>517                </td><td>515                </td><td>2                  </td><td>830                </td><td>819                </td><td>11                 </td><td>UA                 </td><td>1545               </td><td>N14228             </td><td>EWR                </td><td>IAH                </td><td>227                </td><td>1400               </td><td>5                  </td><td>15                 </td><td>2013-01-01 05:00:00</td><td>13                 </td></tr>\n",
       "\t<tr><td>2013               </td><td>1                  </td><td>1                  </td><td>533                </td><td>529                </td><td>4                  </td><td>850                </td><td>830                </td><td>20                 </td><td>UA                 </td><td>1714               </td><td>N24211             </td><td>LGA                </td><td>IAH                </td><td>227                </td><td>1416               </td><td>5                  </td><td>29                 </td><td>2013-01-01 05:00:00</td><td>24                 </td></tr>\n",
       "\t<tr><td>2013               </td><td>1                  </td><td>1                  </td><td>542                </td><td>540                </td><td>2                  </td><td>923                </td><td>850                </td><td>33                 </td><td>AA                 </td><td>1141               </td><td>N619AA             </td><td>JFK                </td><td>MIA                </td><td>160                </td><td>1089               </td><td>5                  </td><td>40                 </td><td>2013-01-01 05:00:00</td><td>35                 </td></tr>\n",
       "</tbody>\n",
       "</table>\n"
      ],
      "text/latex": [
       "\\begin{tabular}{r|llllllllllllllllllll}\n",
       " year & month & day & dep\\_time & sched\\_dep\\_time & dep\\_delay & arr\\_time & sched\\_arr\\_time & arr\\_delay & carrier & flight & tailnum & origin & dest & air\\_time & distance & hour & minute & time\\_hour & total\\_delay\\\\\n",
       "\\hline\n",
       "\t 2013                & 1                   & 1                   & 517                 & 515                 & 2                   & 830                 & 819                 & 11                  & UA                  & 1545                & N14228              & EWR                 & IAH                 & 227                 & 1400                & 5                   & 15                  & 2013-01-01 05:00:00 & 13                 \\\\\n",
       "\t 2013                & 1                   & 1                   & 533                 & 529                 & 4                   & 850                 & 830                 & 20                  & UA                  & 1714                & N24211              & LGA                 & IAH                 & 227                 & 1416                & 5                   & 29                  & 2013-01-01 05:00:00 & 24                 \\\\\n",
       "\t 2013                & 1                   & 1                   & 542                 & 540                 & 2                   & 923                 & 850                 & 33                  & AA                  & 1141                & N619AA              & JFK                 & MIA                 & 160                 & 1089                & 5                   & 40                  & 2013-01-01 05:00:00 & 35                 \\\\\n",
       "\\end{tabular}\n"
      ],
      "text/markdown": [
       "\n",
       "| year | month | day | dep_time | sched_dep_time | dep_delay | arr_time | sched_arr_time | arr_delay | carrier | flight | tailnum | origin | dest | air_time | distance | hour | minute | time_hour | total_delay |\n",
       "|---|---|---|---|---|---|---|---|---|---|---|---|---|---|---|---|---|---|---|---|\n",
       "| 2013                | 1                   | 1                   | 517                 | 515                 | 2                   | 830                 | 819                 | 11                  | UA                  | 1545                | N14228              | EWR                 | IAH                 | 227                 | 1400                | 5                   | 15                  | 2013-01-01 05:00:00 | 13                  |\n",
       "| 2013                | 1                   | 1                   | 533                 | 529                 | 4                   | 850                 | 830                 | 20                  | UA                  | 1714                | N24211              | LGA                 | IAH                 | 227                 | 1416                | 5                   | 29                  | 2013-01-01 05:00:00 | 24                  |\n",
       "| 2013                | 1                   | 1                   | 542                 | 540                 | 2                   | 923                 | 850                 | 33                  | AA                  | 1141                | N619AA              | JFK                 | MIA                 | 160                 | 1089                | 5                   | 40                  | 2013-01-01 05:00:00 | 35                  |\n",
       "\n"
      ],
      "text/plain": [
       "  year month day dep_time sched_dep_time dep_delay arr_time sched_arr_time\n",
       "1 2013 1     1   517      515            2         830      819           \n",
       "2 2013 1     1   533      529            4         850      830           \n",
       "3 2013 1     1   542      540            2         923      850           \n",
       "  arr_delay carrier flight tailnum origin dest air_time distance hour minute\n",
       "1 11        UA      1545   N14228  EWR    IAH  227      1400     5    15    \n",
       "2 20        UA      1714   N24211  LGA    IAH  227      1416     5    29    \n",
       "3 33        AA      1141   N619AA  JFK    MIA  160      1089     5    40    \n",
       "  time_hour           total_delay\n",
       "1 2013-01-01 05:00:00 13         \n",
       "2 2013-01-01 05:00:00 24         \n",
       "3 2013-01-01 05:00:00 35         "
      ]
     },
     "metadata": {},
     "output_type": "display_data"
    }
   ],
   "source": [
    "head(mutate(flights, total_delay = arr_delay+dep_delay), 3)"
   ]
  },
  {
   "cell_type": "code",
   "execution_count": 28,
   "id": "30690d6e-93a0-474c-adf5-2cdd05616857",
   "metadata": {},
   "outputs": [
    {
     "data": {
      "text/html": [
       "<table>\n",
       "<thead><tr><th scope=col>total_delay</th></tr></thead>\n",
       "<tbody>\n",
       "\t<tr><td>13</td></tr>\n",
       "\t<tr><td>24</td></tr>\n",
       "\t<tr><td>35</td></tr>\n",
       "</tbody>\n",
       "</table>\n"
      ],
      "text/latex": [
       "\\begin{tabular}{r|l}\n",
       " total\\_delay\\\\\n",
       "\\hline\n",
       "\t 13\\\\\n",
       "\t 24\\\\\n",
       "\t 35\\\\\n",
       "\\end{tabular}\n"
      ],
      "text/markdown": [
       "\n",
       "| total_delay |\n",
       "|---|\n",
       "| 13 |\n",
       "| 24 |\n",
       "| 35 |\n",
       "\n"
      ],
      "text/plain": [
       "  total_delay\n",
       "1 13         \n",
       "2 24         \n",
       "3 35         "
      ]
     },
     "metadata": {},
     "output_type": "display_data"
    }
   ],
   "source": [
    "head(transmute(flights, total_delay = arr_delay+dep_delay), 3)"
   ]
  },
  {
   "cell_type": "code",
   "execution_count": 30,
   "id": "84dae9c4-d13a-4c80-8b8d-2cfce00d7822",
   "metadata": {},
   "outputs": [
    {
     "data": {
      "text/html": [
       "<table>\n",
       "<thead><tr><th scope=col>avg_air_time</th></tr></thead>\n",
       "<tbody>\n",
       "\t<tr><td>150.6865</td></tr>\n",
       "</tbody>\n",
       "</table>\n"
      ],
      "text/latex": [
       "\\begin{tabular}{r|l}\n",
       " avg\\_air\\_time\\\\\n",
       "\\hline\n",
       "\t 150.6865\\\\\n",
       "\\end{tabular}\n"
      ],
      "text/markdown": [
       "\n",
       "| avg_air_time |\n",
       "|---|\n",
       "| 150.6865 |\n",
       "\n"
      ],
      "text/plain": [
       "  avg_air_time\n",
       "1 150.6865    "
      ]
     },
     "metadata": {},
     "output_type": "display_data"
    }
   ],
   "source": [
    "summarise(flights, avg_air_time=mean(air_time, na.rm=TRUE))"
   ]
  },
  {
   "cell_type": "code",
   "execution_count": 31,
   "id": "dd4b8bdc-0291-48e7-94cb-f229a246a87c",
   "metadata": {},
   "outputs": [
    {
     "data": {
      "text/html": [
       "<table>\n",
       "<thead><tr><th scope=col>year</th><th scope=col>month</th><th scope=col>day</th><th scope=col>dep_time</th><th scope=col>sched_dep_time</th><th scope=col>dep_delay</th><th scope=col>arr_time</th><th scope=col>sched_arr_time</th><th scope=col>arr_delay</th><th scope=col>carrier</th><th scope=col>flight</th><th scope=col>tailnum</th><th scope=col>origin</th><th scope=col>dest</th><th scope=col>air_time</th><th scope=col>distance</th><th scope=col>hour</th><th scope=col>minute</th><th scope=col>time_hour</th></tr></thead>\n",
       "<tbody>\n",
       "\t<tr><td>2013               </td><td>11                 </td><td>15                 </td><td>2101               </td><td>2105               </td><td>-4                 </td><td>2351               </td><td>  10               </td><td>-19                </td><td>UA                 </td><td> 371               </td><td>N403UA             </td><td>EWR                </td><td>FLL                </td><td>155                </td><td>1065               </td><td>21                 </td><td> 5                 </td><td>2013-11-15 21:00:00</td></tr>\n",
       "\t<tr><td>2013               </td><td> 8                 </td><td> 8                 </td><td> 959               </td><td>1000               </td><td>-1                 </td><td>1232               </td><td>1235               </td><td> -3                </td><td>DL                 </td><td>1847               </td><td>N914DL             </td><td>LGA                </td><td>ATL                </td><td>104                </td><td> 762               </td><td>10                 </td><td> 0                 </td><td>2013-08-08 10:00:00</td></tr>\n",
       "\t<tr><td>2013               </td><td>11                 </td><td> 2                 </td><td> 907               </td><td> 910               </td><td>-3                 </td><td>1153               </td><td>1204               </td><td>-11                </td><td>UA                 </td><td> 997               </td><td>N539UA             </td><td>EWR                </td><td>LAX                </td><td>316                </td><td>2454               </td><td> 9                 </td><td>10                 </td><td>2013-11-02 09:00:00</td></tr>\n",
       "</tbody>\n",
       "</table>\n"
      ],
      "text/latex": [
       "\\begin{tabular}{r|lllllllllllllllllll}\n",
       " year & month & day & dep\\_time & sched\\_dep\\_time & dep\\_delay & arr\\_time & sched\\_arr\\_time & arr\\_delay & carrier & flight & tailnum & origin & dest & air\\_time & distance & hour & minute & time\\_hour\\\\\n",
       "\\hline\n",
       "\t 2013                & 11                  & 15                  & 2101                & 2105                & -4                  & 2351                &   10                & -19                 & UA                  &  371                & N403UA              & EWR                 & FLL                 & 155                 & 1065                & 21                  &  5                  & 2013-11-15 21:00:00\\\\\n",
       "\t 2013                &  8                  &  8                  &  959                & 1000                & -1                  & 1232                & 1235                &  -3                 & DL                  & 1847                & N914DL              & LGA                 & ATL                 & 104                 &  762                & 10                  &  0                  & 2013-08-08 10:00:00\\\\\n",
       "\t 2013                & 11                  &  2                  &  907                &  910                & -3                  & 1153                & 1204                & -11                 & UA                  &  997                & N539UA              & EWR                 & LAX                 & 316                 & 2454                &  9                  & 10                  & 2013-11-02 09:00:00\\\\\n",
       "\\end{tabular}\n"
      ],
      "text/markdown": [
       "\n",
       "| year | month | day | dep_time | sched_dep_time | dep_delay | arr_time | sched_arr_time | arr_delay | carrier | flight | tailnum | origin | dest | air_time | distance | hour | minute | time_hour |\n",
       "|---|---|---|---|---|---|---|---|---|---|---|---|---|---|---|---|---|---|---|\n",
       "| 2013                | 11                  | 15                  | 2101                | 2105                | -4                  | 2351                |   10                | -19                 | UA                  |  371                | N403UA              | EWR                 | FLL                 | 155                 | 1065                | 21                  |  5                  | 2013-11-15 21:00:00 |\n",
       "| 2013                |  8                  |  8                  |  959                | 1000                | -1                  | 1232                | 1235                |  -3                 | DL                  | 1847                | N914DL              | LGA                 | ATL                 | 104                 |  762                | 10                  |  0                  | 2013-08-08 10:00:00 |\n",
       "| 2013                | 11                  |  2                  |  907                |  910                | -3                  | 1153                | 1204                | -11                 | UA                  |  997                | N539UA              | EWR                 | LAX                 | 316                 | 2454                |  9                  | 10                  | 2013-11-02 09:00:00 |\n",
       "\n"
      ],
      "text/plain": [
       "  year month day dep_time sched_dep_time dep_delay arr_time sched_arr_time\n",
       "1 2013 11    15  2101     2105           -4        2351       10          \n",
       "2 2013  8     8   959     1000           -1        1232     1235          \n",
       "3 2013 11     2   907      910           -3        1153     1204          \n",
       "  arr_delay carrier flight tailnum origin dest air_time distance hour minute\n",
       "1 -19       UA       371   N403UA  EWR    FLL  155      1065     21    5    \n",
       "2  -3       DL      1847   N914DL  LGA    ATL  104       762     10    0    \n",
       "3 -11       UA       997   N539UA  EWR    LAX  316      2454      9   10    \n",
       "  time_hour          \n",
       "1 2013-11-15 21:00:00\n",
       "2 2013-08-08 10:00:00\n",
       "3 2013-11-02 09:00:00"
      ]
     },
     "metadata": {},
     "output_type": "display_data"
    }
   ],
   "source": [
    "sample_n(flights, 3)"
   ]
  },
  {
   "cell_type": "code",
   "execution_count": 33,
   "id": "d1a1b804-aa81-49de-b664-7fa692515b20",
   "metadata": {},
   "outputs": [
    {
     "data": {
      "text/html": [
       "<table>\n",
       "<thead><tr><th scope=col>year</th><th scope=col>month</th><th scope=col>day</th><th scope=col>dep_time</th><th scope=col>sched_dep_time</th><th scope=col>dep_delay</th><th scope=col>arr_time</th><th scope=col>sched_arr_time</th><th scope=col>arr_delay</th><th scope=col>carrier</th><th scope=col>flight</th><th scope=col>tailnum</th><th scope=col>origin</th><th scope=col>dest</th><th scope=col>air_time</th><th scope=col>distance</th><th scope=col>hour</th><th scope=col>minute</th><th scope=col>time_hour</th></tr></thead>\n",
       "<tbody>\n",
       "\t<tr><td>2013               </td><td>12                 </td><td>11                 </td><td>1536               </td><td>1545               </td><td>-9                 </td><td>1912               </td><td>1905               </td><td>  7                </td><td>AA                 </td><td>1156               </td><td>N3FDAA             </td><td>LGA                </td><td>DFW                </td><td>232                </td><td>1389               </td><td>15                 </td><td>45                 </td><td>2013-12-11 15:00:00</td></tr>\n",
       "\t<tr><td>2013               </td><td>10                 </td><td>31                 </td><td>2052               </td><td>2100               </td><td>-8                 </td><td>2321               </td><td>2345               </td><td>-24                </td><td>B6                 </td><td> 499               </td><td>N606JB             </td><td>LGA                </td><td>MCO                </td><td>130                </td><td> 950               </td><td>21                 </td><td> 0                 </td><td>2013-10-31 21:00:00</td></tr>\n",
       "</tbody>\n",
       "</table>\n"
      ],
      "text/latex": [
       "\\begin{tabular}{r|lllllllllllllllllll}\n",
       " year & month & day & dep\\_time & sched\\_dep\\_time & dep\\_delay & arr\\_time & sched\\_arr\\_time & arr\\_delay & carrier & flight & tailnum & origin & dest & air\\_time & distance & hour & minute & time\\_hour\\\\\n",
       "\\hline\n",
       "\t 2013                & 12                  & 11                  & 1536                & 1545                & -9                  & 1912                & 1905                &   7                 & AA                  & 1156                & N3FDAA              & LGA                 & DFW                 & 232                 & 1389                & 15                  & 45                  & 2013-12-11 15:00:00\\\\\n",
       "\t 2013                & 10                  & 31                  & 2052                & 2100                & -8                  & 2321                & 2345                & -24                 & B6                  &  499                & N606JB              & LGA                 & MCO                 & 130                 &  950                & 21                  &  0                  & 2013-10-31 21:00:00\\\\\n",
       "\\end{tabular}\n"
      ],
      "text/markdown": [
       "\n",
       "| year | month | day | dep_time | sched_dep_time | dep_delay | arr_time | sched_arr_time | arr_delay | carrier | flight | tailnum | origin | dest | air_time | distance | hour | minute | time_hour |\n",
       "|---|---|---|---|---|---|---|---|---|---|---|---|---|---|---|---|---|---|---|\n",
       "| 2013                | 12                  | 11                  | 1536                | 1545                | -9                  | 1912                | 1905                |   7                 | AA                  | 1156                | N3FDAA              | LGA                 | DFW                 | 232                 | 1389                | 15                  | 45                  | 2013-12-11 15:00:00 |\n",
       "| 2013                | 10                  | 31                  | 2052                | 2100                | -8                  | 2321                | 2345                | -24                 | B6                  |  499                | N606JB              | LGA                 | MCO                 | 130                 |  950                | 21                  |  0                  | 2013-10-31 21:00:00 |\n",
       "\n"
      ],
      "text/plain": [
       "  year month day dep_time sched_dep_time dep_delay arr_time sched_arr_time\n",
       "1 2013 12    11  1536     1545           -9        1912     1905          \n",
       "2 2013 10    31  2052     2100           -8        2321     2345          \n",
       "  arr_delay carrier flight tailnum origin dest air_time distance hour minute\n",
       "1   7       AA      1156   N3FDAA  LGA    DFW  232      1389     15   45    \n",
       "2 -24       B6       499   N606JB  LGA    MCO  130       950     21    0    \n",
       "  time_hour          \n",
       "1 2013-12-11 15:00:00\n",
       "2 2013-10-31 21:00:00"
      ]
     },
     "metadata": {},
     "output_type": "display_data"
    }
   ],
   "source": [
    "sample_frac(flights, 0.000005)"
   ]
  },
  {
   "cell_type": "markdown",
   "id": "e85e129b-d0bf-4f67-9382-22eedced6680",
   "metadata": {},
   "source": [
    "### Pipe Operator **`%>%`**\n",
    "\n",
    "* The pipe operator is very useful when you are working with the `dplyr` or `tidyr` libraries, as it allows us to chain together multiple operations/functions on a dataset.\n",
    "* This helps avoid long nested operations or doing multiple assignments."
   ]
  },
  {
   "cell_type": "code",
   "execution_count": 34,
   "id": "3ccdde06-a416-4a9a-93ad-1cef2e360b33",
   "metadata": {},
   "outputs": [],
   "source": [
    "df <- mtcars"
   ]
  },
  {
   "cell_type": "markdown",
   "id": "ef05b293-4995-40fd-aa48-4e7547fd5966",
   "metadata": {},
   "source": [
    "* Let's do multiple operations using nesting and multiple assignments first, to see the motivation behind nexting"
   ]
  },
  {
   "cell_type": "code",
   "execution_count": 35,
   "id": "5f203c03-d69c-4ef6-bf5d-66aa62f4fdf9",
   "metadata": {},
   "outputs": [],
   "source": [
    "result = arrange(sample_n(filter(df, mpg>20), 5), desc(mpg))"
   ]
  },
  {
   "cell_type": "code",
   "execution_count": 36,
   "id": "7175d8b1-5829-4960-aaa2-e7efd9cf6342",
   "metadata": {},
   "outputs": [
    {
     "data": {
      "text/html": [
       "<table>\n",
       "<thead><tr><th></th><th scope=col>mpg</th><th scope=col>cyl</th><th scope=col>disp</th><th scope=col>hp</th><th scope=col>drat</th><th scope=col>wt</th><th scope=col>qsec</th><th scope=col>vs</th><th scope=col>am</th><th scope=col>gear</th><th scope=col>carb</th></tr></thead>\n",
       "<tbody>\n",
       "\t<tr><th scope=row>Honda Civic</th><td>30.4 </td><td>4    </td><td> 75.7</td><td> 52  </td><td>4.93 </td><td>1.615</td><td>18.52</td><td>1    </td><td>1    </td><td>4    </td><td>2    </td></tr>\n",
       "\t<tr><th scope=row>Lotus Europa</th><td>30.4 </td><td>4    </td><td> 95.1</td><td>113  </td><td>3.77 </td><td>1.513</td><td>16.90</td><td>1    </td><td>1    </td><td>5    </td><td>2    </td></tr>\n",
       "\t<tr><th scope=row>Porsche 914-2</th><td>26.0 </td><td>4    </td><td>120.3</td><td> 91  </td><td>4.43 </td><td>2.140</td><td>16.70</td><td>0    </td><td>1    </td><td>5    </td><td>2    </td></tr>\n",
       "\t<tr><th scope=row>Volvo 142E</th><td>21.4 </td><td>4    </td><td>121.0</td><td>109  </td><td>4.11 </td><td>2.780</td><td>18.60</td><td>1    </td><td>1    </td><td>4    </td><td>2    </td></tr>\n",
       "\t<tr><th scope=row>Mazda RX4 Wag</th><td>21.0 </td><td>6    </td><td>160.0</td><td>110  </td><td>3.90 </td><td>2.875</td><td>17.02</td><td>0    </td><td>1    </td><td>4    </td><td>4    </td></tr>\n",
       "</tbody>\n",
       "</table>\n"
      ],
      "text/latex": [
       "\\begin{tabular}{r|lllllllllll}\n",
       "  & mpg & cyl & disp & hp & drat & wt & qsec & vs & am & gear & carb\\\\\n",
       "\\hline\n",
       "\tHonda Civic & 30.4  & 4     &  75.7 &  52   & 4.93  & 1.615 & 18.52 & 1     & 1     & 4     & 2    \\\\\n",
       "\tLotus Europa & 30.4  & 4     &  95.1 & 113   & 3.77  & 1.513 & 16.90 & 1     & 1     & 5     & 2    \\\\\n",
       "\tPorsche 914-2 & 26.0  & 4     & 120.3 &  91   & 4.43  & 2.140 & 16.70 & 0     & 1     & 5     & 2    \\\\\n",
       "\tVolvo 142E & 21.4  & 4     & 121.0 & 109   & 4.11  & 2.780 & 18.60 & 1     & 1     & 4     & 2    \\\\\n",
       "\tMazda RX4 Wag & 21.0  & 6     & 160.0 & 110   & 3.90  & 2.875 & 17.02 & 0     & 1     & 4     & 4    \\\\\n",
       "\\end{tabular}\n"
      ],
      "text/markdown": [
       "\n",
       "| <!--/--> | mpg | cyl | disp | hp | drat | wt | qsec | vs | am | gear | carb |\n",
       "|---|---|---|---|---|---|---|---|---|---|---|---|\n",
       "| Honda Civic | 30.4  | 4     |  75.7 |  52   | 4.93  | 1.615 | 18.52 | 1     | 1     | 4     | 2     |\n",
       "| Lotus Europa | 30.4  | 4     |  95.1 | 113   | 3.77  | 1.513 | 16.90 | 1     | 1     | 5     | 2     |\n",
       "| Porsche 914-2 | 26.0  | 4     | 120.3 |  91   | 4.43  | 2.140 | 16.70 | 0     | 1     | 5     | 2     |\n",
       "| Volvo 142E | 21.4  | 4     | 121.0 | 109   | 4.11  | 2.780 | 18.60 | 1     | 1     | 4     | 2     |\n",
       "| Mazda RX4 Wag | 21.0  | 6     | 160.0 | 110   | 3.90  | 2.875 | 17.02 | 0     | 1     | 4     | 4     |\n",
       "\n"
      ],
      "text/plain": [
       "              mpg  cyl disp  hp  drat wt    qsec  vs am gear carb\n",
       "Honda Civic   30.4 4    75.7  52 4.93 1.615 18.52 1  1  4    2   \n",
       "Lotus Europa  30.4 4    95.1 113 3.77 1.513 16.90 1  1  5    2   \n",
       "Porsche 914-2 26.0 4   120.3  91 4.43 2.140 16.70 0  1  5    2   \n",
       "Volvo 142E    21.4 4   121.0 109 4.11 2.780 18.60 1  1  4    2   \n",
       "Mazda RX4 Wag 21.0 6   160.0 110 3.90 2.875 17.02 0  1  4    4   "
      ]
     },
     "metadata": {},
     "output_type": "display_data"
    }
   ],
   "source": [
    "result"
   ]
  },
  {
   "cell_type": "code",
   "execution_count": 37,
   "id": "1d114090-60f4-4fca-baa6-2be2a1a1b47c",
   "metadata": {
    "scrolled": true
   },
   "outputs": [
    {
     "data": {
      "text/html": [
       "<table>\n",
       "<thead><tr><th></th><th scope=col>mpg</th><th scope=col>cyl</th><th scope=col>disp</th><th scope=col>hp</th><th scope=col>drat</th><th scope=col>wt</th><th scope=col>qsec</th><th scope=col>vs</th><th scope=col>am</th><th scope=col>gear</th><th scope=col>carb</th></tr></thead>\n",
       "<tbody>\n",
       "\t<tr><th scope=row>Toyota Corolla</th><td>33.9 </td><td>4    </td><td> 71.1</td><td> 65  </td><td>4.22 </td><td>1.835</td><td>19.90</td><td>1    </td><td>1    </td><td>4    </td><td>1    </td></tr>\n",
       "\t<tr><th scope=row>Merc 240D</th><td>24.4 </td><td>4    </td><td>146.7</td><td> 62  </td><td>3.69 </td><td>3.190</td><td>20.00</td><td>1    </td><td>0    </td><td>4    </td><td>2    </td></tr>\n",
       "\t<tr><th scope=row>Datsun 710</th><td>22.8 </td><td>4    </td><td>108.0</td><td> 93  </td><td>3.85 </td><td>2.320</td><td>18.61</td><td>1    </td><td>1    </td><td>4    </td><td>1    </td></tr>\n",
       "\t<tr><th scope=row>Toyota Corona</th><td>21.5 </td><td>4    </td><td>120.1</td><td> 97  </td><td>3.70 </td><td>2.465</td><td>20.01</td><td>1    </td><td>0    </td><td>3    </td><td>1    </td></tr>\n",
       "\t<tr><th scope=row>Hornet 4 Drive</th><td>21.4 </td><td>6    </td><td>258.0</td><td>110  </td><td>3.08 </td><td>3.215</td><td>19.44</td><td>1    </td><td>0    </td><td>3    </td><td>1    </td></tr>\n",
       "</tbody>\n",
       "</table>\n"
      ],
      "text/latex": [
       "\\begin{tabular}{r|lllllllllll}\n",
       "  & mpg & cyl & disp & hp & drat & wt & qsec & vs & am & gear & carb\\\\\n",
       "\\hline\n",
       "\tToyota Corolla & 33.9  & 4     &  71.1 &  65   & 4.22  & 1.835 & 19.90 & 1     & 1     & 4     & 1    \\\\\n",
       "\tMerc 240D & 24.4  & 4     & 146.7 &  62   & 3.69  & 3.190 & 20.00 & 1     & 0     & 4     & 2    \\\\\n",
       "\tDatsun 710 & 22.8  & 4     & 108.0 &  93   & 3.85  & 2.320 & 18.61 & 1     & 1     & 4     & 1    \\\\\n",
       "\tToyota Corona & 21.5  & 4     & 120.1 &  97   & 3.70  & 2.465 & 20.01 & 1     & 0     & 3     & 1    \\\\\n",
       "\tHornet 4 Drive & 21.4  & 6     & 258.0 & 110   & 3.08  & 3.215 & 19.44 & 1     & 0     & 3     & 1    \\\\\n",
       "\\end{tabular}\n"
      ],
      "text/markdown": [
       "\n",
       "| <!--/--> | mpg | cyl | disp | hp | drat | wt | qsec | vs | am | gear | carb |\n",
       "|---|---|---|---|---|---|---|---|---|---|---|---|\n",
       "| Toyota Corolla | 33.9  | 4     |  71.1 |  65   | 4.22  | 1.835 | 19.90 | 1     | 1     | 4     | 1     |\n",
       "| Merc 240D | 24.4  | 4     | 146.7 |  62   | 3.69  | 3.190 | 20.00 | 1     | 0     | 4     | 2     |\n",
       "| Datsun 710 | 22.8  | 4     | 108.0 |  93   | 3.85  | 2.320 | 18.61 | 1     | 1     | 4     | 1     |\n",
       "| Toyota Corona | 21.5  | 4     | 120.1 |  97   | 3.70  | 2.465 | 20.01 | 1     | 0     | 3     | 1     |\n",
       "| Hornet 4 Drive | 21.4  | 6     | 258.0 | 110   | 3.08  | 3.215 | 19.44 | 1     | 0     | 3     | 1     |\n",
       "\n"
      ],
      "text/plain": [
       "               mpg  cyl disp  hp  drat wt    qsec  vs am gear carb\n",
       "Toyota Corolla 33.9 4    71.1  65 4.22 1.835 19.90 1  1  4    1   \n",
       "Merc 240D      24.4 4   146.7  62 3.69 3.190 20.00 1  0  4    2   \n",
       "Datsun 710     22.8 4   108.0  93 3.85 2.320 18.61 1  1  4    1   \n",
       "Toyota Corona  21.5 4   120.1  97 3.70 2.465 20.01 1  0  3    1   \n",
       "Hornet 4 Drive 21.4 6   258.0 110 3.08 3.215 19.44 1  0  3    1   "
      ]
     },
     "metadata": {},
     "output_type": "display_data"
    }
   ],
   "source": [
    "a <- filter(df, mpg>20)\n",
    "b <- sample_n(a, size=5)\n",
    "c <- arrange(b, desc(mpg))\n",
    "c"
   ]
  },
  {
   "cell_type": "markdown",
   "id": "c4e555ed-0b86-4792-a144-b519a5659eb2",
   "metadata": {},
   "source": [
    "**Using the Pipe Operator**\n",
    "\n",
    "* So it is creating a pipeline where all these operations are chained in order to get the desired final result.\n",
    "* Since we are stating the dataset in the begining, you don't need to state the dataset in the dplyr operations in the pipeline. "
   ]
  },
  {
   "cell_type": "code",
   "execution_count": 47,
   "id": "ef9853ff-8c34-41ad-bfd5-787247cdcdc1",
   "metadata": {
    "scrolled": true
   },
   "outputs": [
    {
     "data": {
      "text/html": [
       "<table>\n",
       "<thead><tr><th></th><th scope=col>mpg</th><th scope=col>cyl</th><th scope=col>disp</th><th scope=col>hp</th><th scope=col>drat</th><th scope=col>wt</th><th scope=col>qsec</th><th scope=col>vs</th><th scope=col>am</th><th scope=col>gear</th><th scope=col>carb</th></tr></thead>\n",
       "<tbody>\n",
       "\t<tr><th scope=row>Fiat 128</th><td>32.4 </td><td>4    </td><td> 78.7</td><td> 66  </td><td>4.08 </td><td>2.200</td><td>19.47</td><td>1    </td><td>1    </td><td>4    </td><td>1    </td></tr>\n",
       "\t<tr><th scope=row>Fiat X1-9</th><td>27.3 </td><td>4    </td><td> 79.0</td><td> 66  </td><td>4.08 </td><td>1.935</td><td>18.90</td><td>1    </td><td>1    </td><td>4    </td><td>1    </td></tr>\n",
       "\t<tr><th scope=row>Porsche 914-2</th><td>26.0 </td><td>4    </td><td>120.3</td><td> 91  </td><td>4.43 </td><td>2.140</td><td>16.70</td><td>0    </td><td>1    </td><td>5    </td><td>2    </td></tr>\n",
       "\t<tr><th scope=row>Hornet 4 Drive</th><td>21.4 </td><td>6    </td><td>258.0</td><td>110  </td><td>3.08 </td><td>3.215</td><td>19.44</td><td>1    </td><td>0    </td><td>3    </td><td>1    </td></tr>\n",
       "\t<tr><th scope=row>Mazda RX4 Wag</th><td>21.0 </td><td>6    </td><td>160.0</td><td>110  </td><td>3.90 </td><td>2.875</td><td>17.02</td><td>0    </td><td>1    </td><td>4    </td><td>4    </td></tr>\n",
       "</tbody>\n",
       "</table>\n"
      ],
      "text/latex": [
       "\\begin{tabular}{r|lllllllllll}\n",
       "  & mpg & cyl & disp & hp & drat & wt & qsec & vs & am & gear & carb\\\\\n",
       "\\hline\n",
       "\tFiat 128 & 32.4  & 4     &  78.7 &  66   & 4.08  & 2.200 & 19.47 & 1     & 1     & 4     & 1    \\\\\n",
       "\tFiat X1-9 & 27.3  & 4     &  79.0 &  66   & 4.08  & 1.935 & 18.90 & 1     & 1     & 4     & 1    \\\\\n",
       "\tPorsche 914-2 & 26.0  & 4     & 120.3 &  91   & 4.43  & 2.140 & 16.70 & 0     & 1     & 5     & 2    \\\\\n",
       "\tHornet 4 Drive & 21.4  & 6     & 258.0 & 110   & 3.08  & 3.215 & 19.44 & 1     & 0     & 3     & 1    \\\\\n",
       "\tMazda RX4 Wag & 21.0  & 6     & 160.0 & 110   & 3.90  & 2.875 & 17.02 & 0     & 1     & 4     & 4    \\\\\n",
       "\\end{tabular}\n"
      ],
      "text/markdown": [
       "\n",
       "| <!--/--> | mpg | cyl | disp | hp | drat | wt | qsec | vs | am | gear | carb |\n",
       "|---|---|---|---|---|---|---|---|---|---|---|---|\n",
       "| Fiat 128 | 32.4  | 4     |  78.7 |  66   | 4.08  | 2.200 | 19.47 | 1     | 1     | 4     | 1     |\n",
       "| Fiat X1-9 | 27.3  | 4     |  79.0 |  66   | 4.08  | 1.935 | 18.90 | 1     | 1     | 4     | 1     |\n",
       "| Porsche 914-2 | 26.0  | 4     | 120.3 |  91   | 4.43  | 2.140 | 16.70 | 0     | 1     | 5     | 2     |\n",
       "| Hornet 4 Drive | 21.4  | 6     | 258.0 | 110   | 3.08  | 3.215 | 19.44 | 1     | 0     | 3     | 1     |\n",
       "| Mazda RX4 Wag | 21.0  | 6     | 160.0 | 110   | 3.90  | 2.875 | 17.02 | 0     | 1     | 4     | 4     |\n",
       "\n"
      ],
      "text/plain": [
       "               mpg  cyl disp  hp  drat wt    qsec  vs am gear carb\n",
       "Fiat 128       32.4 4    78.7  66 4.08 2.200 19.47 1  1  4    1   \n",
       "Fiat X1-9      27.3 4    79.0  66 4.08 1.935 18.90 1  1  4    1   \n",
       "Porsche 914-2  26.0 4   120.3  91 4.43 2.140 16.70 0  1  5    2   \n",
       "Hornet 4 Drive 21.4 6   258.0 110 3.08 3.215 19.44 1  0  3    1   \n",
       "Mazda RX4 Wag  21.0 6   160.0 110 3.90 2.875 17.02 0  1  4    4   "
      ]
     },
     "metadata": {},
     "output_type": "display_data"
    }
   ],
   "source": [
    "df %>% filter(mpg > 20) %>% sample_n(size = 5) %>% arrange(desc(mpg))"
   ]
  },
  {
   "cell_type": "markdown",
   "id": "ef840662-011f-4753-81ca-babf30daf669",
   "metadata": {},
   "source": [
    "### **`tidyr()`** library"
   ]
  },
  {
   "cell_type": "markdown",
   "id": "6d434ada-37fa-414d-9754-c96d1bf85a89",
   "metadata": {},
   "source": [
    "* **`tidyr()`** is a complementary package that helps us creade *\"tidy data\"*. \n",
    "* *\"Tidy data\"* is when we have a data set where every row is an onservation, and every column is a variable. \n",
    "* This way, the data is organized in such a way where every cell is a value for a specific variable of a specific observation. \n",
    "* Having your data in this format will help you build an understanding of your data and allow you to analyze and visualize it quickly and efficiently. \n",
    "* After viewing this lecture, you can regerence this handy cheatsheet on **[Data Wrangling](https://www.rstudio.com/wp-content/uploads/2015/02/data-wrangling-cheatsheet.pdf)**."
   ]
  },
  {
   "cell_type": "code",
   "execution_count": 48,
   "id": "27374c87-c5b0-4782-8f96-415379c17e46",
   "metadata": {},
   "outputs": [
    {
     "name": "stderr",
     "output_type": "stream",
     "text": [
      "also installing the dependency 'cpp11'\n",
      "\n"
     ]
    },
    {
     "name": "stdout",
     "output_type": "stream",
     "text": [
      "\n",
      "  There is a binary version available but the source version is later:\n",
      "      binary source needs_compilation\n",
      "cpp11  0.2.7  0.3.1             FALSE\n",
      "\n",
      "package 'tidyr' successfully unpacked and MD5 sums checked\n",
      "\n",
      "The downloaded binary packages are in\n",
      "\tC:\\Users\\foufo\\AppData\\Local\\Temp\\RtmpY3PGmr\\downloaded_packages\n"
     ]
    },
    {
     "name": "stderr",
     "output_type": "stream",
     "text": [
      "installing the source package 'cpp11'\n",
      "\n"
     ]
    }
   ],
   "source": [
    "install.packages(\"tidyr\", repos='http://cran.us.r-project.org')"
   ]
  },
  {
   "cell_type": "markdown",
   "id": "19e87665-8d23-4b2d-bbe2-dd0ca2673a79",
   "metadata": {},
   "source": [
    "**`Data.frames` versus `data.tables`**"
   ]
  },
  {
   "cell_type": "code",
   "execution_count": 49,
   "id": "6905c224-1711-4f2e-86db-85cfd8368a7e",
   "metadata": {},
   "outputs": [
    {
     "name": "stderr",
     "output_type": "stream",
     "text": [
      "Warning message:\n",
      "\"package 'tidyr' was built under R version 3.6.3\"Warning message:\n",
      "\"package 'data.table' was built under R version 3.6.3\"\n",
      "Attaching package: 'data.table'\n",
      "\n",
      "The following objects are masked from 'package:dplyr':\n",
      "\n",
      "    between, first, last\n",
      "\n"
     ]
    }
   ],
   "source": [
    "library(tidyr)\n",
    "library(data.table)"
   ]
  },
  {
   "cell_type": "markdown",
   "id": "5229556f-908c-40f4-944c-78d7afbc3e13",
   "metadata": {},
   "source": [
    "* All **`data.tables`** are also **`data.frames`**. \n",
    "* Loosely speaking, you can think of **`data.tables`** as **`data.frames`** with extra features. \n",
    "* **`data.frame`** is part of base R. \n",
    "* **`data.table`** is a package that extends **`data.frames`**. \n",
    "* Two of its most notable features are **speed** and **cleaner syntax**. "
   ]
  },
  {
   "cell_type": "markdown",
   "id": "0b9bab5c-4580-4002-bd1d-c46c6ee1c743",
   "metadata": {},
   "source": [
    "* However, the syntax of **`data.table`** is different from the standard R syntax for **`data.frame`**, while being hard for the untrained eye to distinguish at a glance. \n",
    "* Therefore, if you read a code snippet and there is no other context to indicate you are woking with **`data.tables`**, and try to apply the code to a **`data.frame`** it may fail or produce unexpected results."
   ]
  },
  {
   "cell_type": "markdown",
   "id": "383e6f90-b9f5-4181-a687-7351f0da891e",
   "metadata": {},
   "source": [
    "* So what are some of the practical differences? Here are a few: \n",
    "    * Much faster and very intuitive **`by`** operations\n",
    "    * You won't accidentally print out a huge **`data.frame`** with the need to press **`Ctrl + C`**. **`data.table`** prevents this soft of accident. \n",
    "    * Faster and better file reading with **`fread`**\n",
    "    * The package also provides a number of other utility functions, like **`%between%`** or **`rbinglist`** that make life better. \n",
    "    * Pretty much faster for a lot of basic operations, since a lot of **`data.frame`** operations copy the entire thing needlessly. "
   ]
  },
  {
   "cell_type": "markdown",
   "id": "a279f1d8-5afe-4f51-8efc-060d5b5a421d",
   "metadata": {},
   "source": [
    "* We'll comver some of the most useful functions in **`tidyr`** \n",
    "\n",
    "|Function | Description | Example |\n",
    "| ---- | ---- | ---- |\n",
    "| **`gather()`** | Collapse multiple columns into key-pair values (unpivot) | `df %>% gather(key=Quarter, value=Revenue,Qrt1:Qrt4)`, `gather(df,Quarter,Revenue,Qtr1:Qtr4)`| \n",
    "| **`spread()`** | Seperate one column into multiple ones (pivot) | |\n",
    "| **`seperate()`** | Split one column into multiple ones | | \n",
    "|**`unite()`**| Unite multiple columns into one| |\n",
    "\n",
    "#### **`gather()` function**"
   ]
  },
  {
   "cell_type": "code",
   "execution_count": 66,
   "id": "e482df65-b6b0-4f45-8e76-18c76d8f6c31",
   "metadata": {},
   "outputs": [],
   "source": [
    "comp <- c(1,1,1,2,2,2,3,3,3)\n",
    "yr <- c(1998,1999,2000,1998,1999,2000,1998,1999,2000)\n",
    "q1 <- runif(9, min=0, max=100)\n",
    "q2 <- runif(9, min=0, max=100)\n",
    "q3 <- runif(9, min=0, max=100)\n",
    "q4 <- runif(9, min=0, max=100)\n",
    "\n",
    "df <- data.frame(comp=comp, year=yr, Qrt1=q1, Qrt2=q2, Qrt3=q3, Qrt4=q4)"
   ]
  },
  {
   "cell_type": "code",
   "execution_count": 51,
   "id": "acc7b3d3-0374-4efe-924a-a9af440a0211",
   "metadata": {},
   "outputs": [
    {
     "data": {
      "text/html": [
       "<table>\n",
       "<thead><tr><th scope=col>comp</th><th scope=col>year</th><th scope=col>Qrt1</th><th scope=col>Qrt2</th><th scope=col>Qrt3</th><th scope=col>Qrt4</th></tr></thead>\n",
       "<tbody>\n",
       "\t<tr><td>1        </td><td>1998     </td><td>85.50928 </td><td>84.40820 </td><td>77.752912</td><td>84.31126 </td></tr>\n",
       "\t<tr><td>1        </td><td>1999     </td><td>84.30749 </td><td>85.55785 </td><td>29.643110</td><td>87.67710 </td></tr>\n",
       "\t<tr><td>1        </td><td>2000     </td><td>83.68712 </td><td>55.80034 </td><td>82.335990</td><td>30.10332 </td></tr>\n",
       "\t<tr><td>2        </td><td>1998     </td><td>16.37559 </td><td>34.91886 </td><td>85.610310</td><td>90.07933 </td></tr>\n",
       "\t<tr><td>2        </td><td>1999     </td><td>45.87771 </td><td>95.55847 </td><td>87.409489</td><td>35.51604 </td></tr>\n",
       "\t<tr><td>2        </td><td>2000     </td><td>99.96862 </td><td>83.82891 </td><td>67.277887</td><td>75.19430 </td></tr>\n",
       "\t<tr><td>3        </td><td>1998     </td><td>52.52276 </td><td>95.43179 </td><td>67.680642</td><td>95.14699 </td></tr>\n",
       "\t<tr><td>3        </td><td>1999     </td><td>66.53692 </td><td>55.13297 </td><td> 5.464076</td><td>47.12855 </td></tr>\n",
       "\t<tr><td>3        </td><td>2000     </td><td>34.80356 </td><td>79.97779 </td><td>51.583958</td><td>97.45794 </td></tr>\n",
       "</tbody>\n",
       "</table>\n"
      ],
      "text/latex": [
       "\\begin{tabular}{r|llllll}\n",
       " comp & year & Qrt1 & Qrt2 & Qrt3 & Qrt4\\\\\n",
       "\\hline\n",
       "\t 1         & 1998      & 85.50928  & 84.40820  & 77.752912 & 84.31126 \\\\\n",
       "\t 1         & 1999      & 84.30749  & 85.55785  & 29.643110 & 87.67710 \\\\\n",
       "\t 1         & 2000      & 83.68712  & 55.80034  & 82.335990 & 30.10332 \\\\\n",
       "\t 2         & 1998      & 16.37559  & 34.91886  & 85.610310 & 90.07933 \\\\\n",
       "\t 2         & 1999      & 45.87771  & 95.55847  & 87.409489 & 35.51604 \\\\\n",
       "\t 2         & 2000      & 99.96862  & 83.82891  & 67.277887 & 75.19430 \\\\\n",
       "\t 3         & 1998      & 52.52276  & 95.43179  & 67.680642 & 95.14699 \\\\\n",
       "\t 3         & 1999      & 66.53692  & 55.13297  &  5.464076 & 47.12855 \\\\\n",
       "\t 3         & 2000      & 34.80356  & 79.97779  & 51.583958 & 97.45794 \\\\\n",
       "\\end{tabular}\n"
      ],
      "text/markdown": [
       "\n",
       "| comp | year | Qrt1 | Qrt2 | Qrt3 | Qrt4 |\n",
       "|---|---|---|---|---|---|\n",
       "| 1         | 1998      | 85.50928  | 84.40820  | 77.752912 | 84.31126  |\n",
       "| 1         | 1999      | 84.30749  | 85.55785  | 29.643110 | 87.67710  |\n",
       "| 1         | 2000      | 83.68712  | 55.80034  | 82.335990 | 30.10332  |\n",
       "| 2         | 1998      | 16.37559  | 34.91886  | 85.610310 | 90.07933  |\n",
       "| 2         | 1999      | 45.87771  | 95.55847  | 87.409489 | 35.51604  |\n",
       "| 2         | 2000      | 99.96862  | 83.82891  | 67.277887 | 75.19430  |\n",
       "| 3         | 1998      | 52.52276  | 95.43179  | 67.680642 | 95.14699  |\n",
       "| 3         | 1999      | 66.53692  | 55.13297  |  5.464076 | 47.12855  |\n",
       "| 3         | 2000      | 34.80356  | 79.97779  | 51.583958 | 97.45794  |\n",
       "\n"
      ],
      "text/plain": [
       "  comp year Qrt1     Qrt2     Qrt3      Qrt4    \n",
       "1 1    1998 85.50928 84.40820 77.752912 84.31126\n",
       "2 1    1999 84.30749 85.55785 29.643110 87.67710\n",
       "3 1    2000 83.68712 55.80034 82.335990 30.10332\n",
       "4 2    1998 16.37559 34.91886 85.610310 90.07933\n",
       "5 2    1999 45.87771 95.55847 87.409489 35.51604\n",
       "6 2    2000 99.96862 83.82891 67.277887 75.19430\n",
       "7 3    1998 52.52276 95.43179 67.680642 95.14699\n",
       "8 3    1999 66.53692 55.13297  5.464076 47.12855\n",
       "9 3    2000 34.80356 79.97779 51.583958 97.45794"
      ]
     },
     "metadata": {},
     "output_type": "display_data"
    }
   ],
   "source": [
    "df"
   ]
  },
  {
   "cell_type": "code",
   "execution_count": 62,
   "id": "cc7e648f-4983-426c-88b0-da375fef6e50",
   "metadata": {},
   "outputs": [
    {
     "data": {
      "text/html": [
       "<table>\n",
       "<thead><tr><th scope=col>comp</th><th scope=col>year</th><th scope=col>Quarter</th><th scope=col>Revenue</th></tr></thead>\n",
       "<tbody>\n",
       "\t<tr><td>1       </td><td>1998    </td><td>Qrt1    </td><td>85.50928</td></tr>\n",
       "\t<tr><td>1       </td><td>1999    </td><td>Qrt1    </td><td>84.30749</td></tr>\n",
       "\t<tr><td>1       </td><td>2000    </td><td>Qrt1    </td><td>83.68712</td></tr>\n",
       "\t<tr><td>2       </td><td>1998    </td><td>Qrt1    </td><td>16.37559</td></tr>\n",
       "\t<tr><td>2       </td><td>1999    </td><td>Qrt1    </td><td>45.87771</td></tr>\n",
       "\t<tr><td>2       </td><td>2000    </td><td>Qrt1    </td><td>99.96862</td></tr>\n",
       "</tbody>\n",
       "</table>\n"
      ],
      "text/latex": [
       "\\begin{tabular}{r|llll}\n",
       " comp & year & Quarter & Revenue\\\\\n",
       "\\hline\n",
       "\t 1        & 1998     & Qrt1     & 85.50928\\\\\n",
       "\t 1        & 1999     & Qrt1     & 84.30749\\\\\n",
       "\t 1        & 2000     & Qrt1     & 83.68712\\\\\n",
       "\t 2        & 1998     & Qrt1     & 16.37559\\\\\n",
       "\t 2        & 1999     & Qrt1     & 45.87771\\\\\n",
       "\t 2        & 2000     & Qrt1     & 99.96862\\\\\n",
       "\\end{tabular}\n"
      ],
      "text/markdown": [
       "\n",
       "| comp | year | Quarter | Revenue |\n",
       "|---|---|---|---|\n",
       "| 1        | 1998     | Qrt1     | 85.50928 |\n",
       "| 1        | 1999     | Qrt1     | 84.30749 |\n",
       "| 1        | 2000     | Qrt1     | 83.68712 |\n",
       "| 2        | 1998     | Qrt1     | 16.37559 |\n",
       "| 2        | 1999     | Qrt1     | 45.87771 |\n",
       "| 2        | 2000     | Qrt1     | 99.96862 |\n",
       "\n"
      ],
      "text/plain": [
       "  comp year Quarter Revenue \n",
       "1 1    1998 Qrt1    85.50928\n",
       "2 1    1999 Qrt1    84.30749\n",
       "3 1    2000 Qrt1    83.68712\n",
       "4 2    1998 Qrt1    16.37559\n",
       "5 2    1999 Qrt1    45.87771\n",
       "6 2    2000 Qrt1    99.96862"
      ]
     },
     "metadata": {},
     "output_type": "display_data"
    }
   ],
   "source": [
    "head(df %>% gather(key=Quarter, value=Revenue, Qrt1:Qrt4))"
   ]
  },
  {
   "cell_type": "code",
   "execution_count": 65,
   "id": "381cdddb-8721-46d0-bf01-2047cfb20e12",
   "metadata": {},
   "outputs": [
    {
     "data": {
      "text/html": [
       "<table>\n",
       "<thead><tr><th scope=col>comp</th><th scope=col>year</th><th scope=col>Quarter</th><th scope=col>Revenue</th></tr></thead>\n",
       "<tbody>\n",
       "\t<tr><td>1       </td><td>1998    </td><td>Qrt1    </td><td>85.50928</td></tr>\n",
       "\t<tr><td>1       </td><td>1999    </td><td>Qrt1    </td><td>84.30749</td></tr>\n",
       "\t<tr><td>1       </td><td>2000    </td><td>Qrt1    </td><td>83.68712</td></tr>\n",
       "\t<tr><td>2       </td><td>1998    </td><td>Qrt1    </td><td>16.37559</td></tr>\n",
       "\t<tr><td>2       </td><td>1999    </td><td>Qrt1    </td><td>45.87771</td></tr>\n",
       "\t<tr><td>2       </td><td>2000    </td><td>Qrt1    </td><td>99.96862</td></tr>\n",
       "</tbody>\n",
       "</table>\n"
      ],
      "text/latex": [
       "\\begin{tabular}{r|llll}\n",
       " comp & year & Quarter & Revenue\\\\\n",
       "\\hline\n",
       "\t 1        & 1998     & Qrt1     & 85.50928\\\\\n",
       "\t 1        & 1999     & Qrt1     & 84.30749\\\\\n",
       "\t 1        & 2000     & Qrt1     & 83.68712\\\\\n",
       "\t 2        & 1998     & Qrt1     & 16.37559\\\\\n",
       "\t 2        & 1999     & Qrt1     & 45.87771\\\\\n",
       "\t 2        & 2000     & Qrt1     & 99.96862\\\\\n",
       "\\end{tabular}\n"
      ],
      "text/markdown": [
       "\n",
       "| comp | year | Quarter | Revenue |\n",
       "|---|---|---|---|\n",
       "| 1        | 1998     | Qrt1     | 85.50928 |\n",
       "| 1        | 1999     | Qrt1     | 84.30749 |\n",
       "| 1        | 2000     | Qrt1     | 83.68712 |\n",
       "| 2        | 1998     | Qrt1     | 16.37559 |\n",
       "| 2        | 1999     | Qrt1     | 45.87771 |\n",
       "| 2        | 2000     | Qrt1     | 99.96862 |\n",
       "\n"
      ],
      "text/plain": [
       "  comp year Quarter Revenue \n",
       "1 1    1998 Qrt1    85.50928\n",
       "2 1    1999 Qrt1    84.30749\n",
       "3 1    2000 Qrt1    83.68712\n",
       "4 2    1998 Qrt1    16.37559\n",
       "5 2    1999 Qrt1    45.87771\n",
       "6 2    2000 Qrt1    99.96862"
      ]
     },
     "metadata": {},
     "output_type": "display_data"
    }
   ],
   "source": [
    "head(gather(df, Quarter, Revenue, Qrt1:Qrt4)) # With just a function, rather than a pipeline."
   ]
  },
  {
   "cell_type": "markdown",
   "id": "fe92b98c-e5f0-482d-b879-7a9e3f6b3d66",
   "metadata": {},
   "source": [
    "#### **`spread()` function**"
   ]
  },
  {
   "cell_type": "code",
   "execution_count": 68,
   "id": "e44cc57c-ace2-449a-a38e-2d784b7208e8",
   "metadata": {
    "scrolled": true
   },
   "outputs": [
    {
     "data": {
      "text/html": [
       "<table>\n",
       "<thead><tr><th scope=col>time</th><th scope=col>X</th><th scope=col>Y</th><th scope=col>Z</th></tr></thead>\n",
       "<tbody>\n",
       "\t<tr><td>2000-01-01  </td><td> 1.8353833  </td><td>-1.881009320</td><td> 3.7109639  </td></tr>\n",
       "\t<tr><td>2000-01-02  </td><td>-0.0589313  </td><td>-0.009171763</td><td>-4.4105676  </td></tr>\n",
       "\t<tr><td>2000-01-03  </td><td>-1.0664810  </td><td> 0.282509861</td><td> 3.1070467  </td></tr>\n",
       "\t<tr><td>2000-01-04  </td><td>-0.1053815  </td><td>-2.774872171</td><td> 1.8875408  </td></tr>\n",
       "\t<tr><td>2000-01-05  </td><td> 0.1035560  </td><td> 1.252048406</td><td>-0.6745682  </td></tr>\n",
       "\t<tr><td>2000-01-06  </td><td> 0.7490998  </td><td> 2.499377063</td><td> 0.4645009  </td></tr>\n",
       "\t<tr><td>2000-01-07  </td><td> 0.5936635  </td><td>-1.461826485</td><td>-3.5594234  </td></tr>\n",
       "\t<tr><td>2000-01-08  </td><td> 0.4976469  </td><td> 1.269312880</td><td>-5.9076872  </td></tr>\n",
       "\t<tr><td>2000-01-09  </td><td>-1.4314654  </td><td> 1.353422450</td><td> 0.3840952  </td></tr>\n",
       "\t<tr><td>2000-01-10  </td><td> 2.3589538  </td><td> 2.723883166</td><td> 2.9850815  </td></tr>\n",
       "</tbody>\n",
       "</table>\n"
      ],
      "text/latex": [
       "\\begin{tabular}{r|llll}\n",
       " time & X & Y & Z\\\\\n",
       "\\hline\n",
       "\t 2000-01-01   &  1.8353833   & -1.881009320 &  3.7109639  \\\\\n",
       "\t 2000-01-02   & -0.0589313   & -0.009171763 & -4.4105676  \\\\\n",
       "\t 2000-01-03   & -1.0664810   &  0.282509861 &  3.1070467  \\\\\n",
       "\t 2000-01-04   & -0.1053815   & -2.774872171 &  1.8875408  \\\\\n",
       "\t 2000-01-05   &  0.1035560   &  1.252048406 & -0.6745682  \\\\\n",
       "\t 2000-01-06   &  0.7490998   &  2.499377063 &  0.4645009  \\\\\n",
       "\t 2000-01-07   &  0.5936635   & -1.461826485 & -3.5594234  \\\\\n",
       "\t 2000-01-08   &  0.4976469   &  1.269312880 & -5.9076872  \\\\\n",
       "\t 2000-01-09   & -1.4314654   &  1.353422450 &  0.3840952  \\\\\n",
       "\t 2000-01-10   &  2.3589538   &  2.723883166 &  2.9850815  \\\\\n",
       "\\end{tabular}\n"
      ],
      "text/markdown": [
       "\n",
       "| time | X | Y | Z |\n",
       "|---|---|---|---|\n",
       "| 2000-01-01   |  1.8353833   | -1.881009320 |  3.7109639   |\n",
       "| 2000-01-02   | -0.0589313   | -0.009171763 | -4.4105676   |\n",
       "| 2000-01-03   | -1.0664810   |  0.282509861 |  3.1070467   |\n",
       "| 2000-01-04   | -0.1053815   | -2.774872171 |  1.8875408   |\n",
       "| 2000-01-05   |  0.1035560   |  1.252048406 | -0.6745682   |\n",
       "| 2000-01-06   |  0.7490998   |  2.499377063 |  0.4645009   |\n",
       "| 2000-01-07   |  0.5936635   | -1.461826485 | -3.5594234   |\n",
       "| 2000-01-08   |  0.4976469   |  1.269312880 | -5.9076872   |\n",
       "| 2000-01-09   | -1.4314654   |  1.353422450 |  0.3840952   |\n",
       "| 2000-01-10   |  2.3589538   |  2.723883166 |  2.9850815   |\n",
       "\n"
      ],
      "text/plain": [
       "   time       X          Y            Z         \n",
       "1  2000-01-01  1.8353833 -1.881009320  3.7109639\n",
       "2  2000-01-02 -0.0589313 -0.009171763 -4.4105676\n",
       "3  2000-01-03 -1.0664810  0.282509861  3.1070467\n",
       "4  2000-01-04 -0.1053815 -2.774872171  1.8875408\n",
       "5  2000-01-05  0.1035560  1.252048406 -0.6745682\n",
       "6  2000-01-06  0.7490998  2.499377063  0.4645009\n",
       "7  2000-01-07  0.5936635 -1.461826485 -3.5594234\n",
       "8  2000-01-08  0.4976469  1.269312880 -5.9076872\n",
       "9  2000-01-09 -1.4314654  1.353422450  0.3840952\n",
       "10 2000-01-10  2.3589538  2.723883166  2.9850815"
      ]
     },
     "metadata": {},
     "output_type": "display_data"
    }
   ],
   "source": [
    "stocks <- data.frame(\n",
    "    time = as.Date(\"2000-01-01\") + 0:9,\n",
    "    X = rnorm(10, 0, 1),\n",
    "    Y = rnorm(10, 0, 2),\n",
    "    Z = rnorm(10, 0, 4)\n",
    "    ) \n",
    "stocks"
   ]
  },
  {
   "cell_type": "code",
   "execution_count": 71,
   "id": "5c3f6552-e36b-4758-96db-651b97afc7d1",
   "metadata": {},
   "outputs": [],
   "source": [
    "stocks.gathered <- stocks %>% gather(key=stock, value=price, -time) # all columns except time!"
   ]
  },
  {
   "cell_type": "code",
   "execution_count": 72,
   "id": "983bfd41-0b2a-43eb-9584-08dde3c152bb",
   "metadata": {},
   "outputs": [
    {
     "data": {
      "text/html": [
       "<table>\n",
       "<thead><tr><th scope=col>time</th><th scope=col>stock</th><th scope=col>price</th></tr></thead>\n",
       "<tbody>\n",
       "\t<tr><td>2000-01-01  </td><td>X           </td><td> 1.835383289</td></tr>\n",
       "\t<tr><td>2000-01-02  </td><td>X           </td><td>-0.058931298</td></tr>\n",
       "\t<tr><td>2000-01-03  </td><td>X           </td><td>-1.066480981</td></tr>\n",
       "\t<tr><td>2000-01-04  </td><td>X           </td><td>-0.105381486</td></tr>\n",
       "\t<tr><td>2000-01-05  </td><td>X           </td><td> 0.103556012</td></tr>\n",
       "\t<tr><td>2000-01-06  </td><td>X           </td><td> 0.749099814</td></tr>\n",
       "\t<tr><td>2000-01-07  </td><td>X           </td><td> 0.593663544</td></tr>\n",
       "\t<tr><td>2000-01-08  </td><td>X           </td><td> 0.497646885</td></tr>\n",
       "\t<tr><td>2000-01-09  </td><td>X           </td><td>-1.431465395</td></tr>\n",
       "\t<tr><td>2000-01-10  </td><td>X           </td><td> 2.358953840</td></tr>\n",
       "\t<tr><td>2000-01-01  </td><td>Y           </td><td>-1.881009320</td></tr>\n",
       "\t<tr><td>2000-01-02  </td><td>Y           </td><td>-0.009171763</td></tr>\n",
       "\t<tr><td>2000-01-03  </td><td>Y           </td><td> 0.282509861</td></tr>\n",
       "\t<tr><td>2000-01-04  </td><td>Y           </td><td>-2.774872171</td></tr>\n",
       "\t<tr><td>2000-01-05  </td><td>Y           </td><td> 1.252048406</td></tr>\n",
       "\t<tr><td>2000-01-06  </td><td>Y           </td><td> 2.499377063</td></tr>\n",
       "\t<tr><td>2000-01-07  </td><td>Y           </td><td>-1.461826485</td></tr>\n",
       "\t<tr><td>2000-01-08  </td><td>Y           </td><td> 1.269312880</td></tr>\n",
       "\t<tr><td>2000-01-09  </td><td>Y           </td><td> 1.353422450</td></tr>\n",
       "\t<tr><td>2000-01-10  </td><td>Y           </td><td> 2.723883166</td></tr>\n",
       "\t<tr><td>2000-01-01  </td><td>Z           </td><td> 3.710963907</td></tr>\n",
       "\t<tr><td>2000-01-02  </td><td>Z           </td><td>-4.410567594</td></tr>\n",
       "\t<tr><td>2000-01-03  </td><td>Z           </td><td> 3.107046719</td></tr>\n",
       "\t<tr><td>2000-01-04  </td><td>Z           </td><td> 1.887540771</td></tr>\n",
       "\t<tr><td>2000-01-05  </td><td>Z           </td><td>-0.674568224</td></tr>\n",
       "\t<tr><td>2000-01-06  </td><td>Z           </td><td> 0.464500859</td></tr>\n",
       "\t<tr><td>2000-01-07  </td><td>Z           </td><td>-3.559423405</td></tr>\n",
       "\t<tr><td>2000-01-08  </td><td>Z           </td><td>-5.907687212</td></tr>\n",
       "\t<tr><td>2000-01-09  </td><td>Z           </td><td> 0.384095198</td></tr>\n",
       "\t<tr><td>2000-01-10  </td><td>Z           </td><td> 2.985081519</td></tr>\n",
       "</tbody>\n",
       "</table>\n"
      ],
      "text/latex": [
       "\\begin{tabular}{r|lll}\n",
       " time & stock & price\\\\\n",
       "\\hline\n",
       "\t 2000-01-01   & X            &  1.835383289\\\\\n",
       "\t 2000-01-02   & X            & -0.058931298\\\\\n",
       "\t 2000-01-03   & X            & -1.066480981\\\\\n",
       "\t 2000-01-04   & X            & -0.105381486\\\\\n",
       "\t 2000-01-05   & X            &  0.103556012\\\\\n",
       "\t 2000-01-06   & X            &  0.749099814\\\\\n",
       "\t 2000-01-07   & X            &  0.593663544\\\\\n",
       "\t 2000-01-08   & X            &  0.497646885\\\\\n",
       "\t 2000-01-09   & X            & -1.431465395\\\\\n",
       "\t 2000-01-10   & X            &  2.358953840\\\\\n",
       "\t 2000-01-01   & Y            & -1.881009320\\\\\n",
       "\t 2000-01-02   & Y            & -0.009171763\\\\\n",
       "\t 2000-01-03   & Y            &  0.282509861\\\\\n",
       "\t 2000-01-04   & Y            & -2.774872171\\\\\n",
       "\t 2000-01-05   & Y            &  1.252048406\\\\\n",
       "\t 2000-01-06   & Y            &  2.499377063\\\\\n",
       "\t 2000-01-07   & Y            & -1.461826485\\\\\n",
       "\t 2000-01-08   & Y            &  1.269312880\\\\\n",
       "\t 2000-01-09   & Y            &  1.353422450\\\\\n",
       "\t 2000-01-10   & Y            &  2.723883166\\\\\n",
       "\t 2000-01-01   & Z            &  3.710963907\\\\\n",
       "\t 2000-01-02   & Z            & -4.410567594\\\\\n",
       "\t 2000-01-03   & Z            &  3.107046719\\\\\n",
       "\t 2000-01-04   & Z            &  1.887540771\\\\\n",
       "\t 2000-01-05   & Z            & -0.674568224\\\\\n",
       "\t 2000-01-06   & Z            &  0.464500859\\\\\n",
       "\t 2000-01-07   & Z            & -3.559423405\\\\\n",
       "\t 2000-01-08   & Z            & -5.907687212\\\\\n",
       "\t 2000-01-09   & Z            &  0.384095198\\\\\n",
       "\t 2000-01-10   & Z            &  2.985081519\\\\\n",
       "\\end{tabular}\n"
      ],
      "text/markdown": [
       "\n",
       "| time | stock | price |\n",
       "|---|---|---|\n",
       "| 2000-01-01   | X            |  1.835383289 |\n",
       "| 2000-01-02   | X            | -0.058931298 |\n",
       "| 2000-01-03   | X            | -1.066480981 |\n",
       "| 2000-01-04   | X            | -0.105381486 |\n",
       "| 2000-01-05   | X            |  0.103556012 |\n",
       "| 2000-01-06   | X            |  0.749099814 |\n",
       "| 2000-01-07   | X            |  0.593663544 |\n",
       "| 2000-01-08   | X            |  0.497646885 |\n",
       "| 2000-01-09   | X            | -1.431465395 |\n",
       "| 2000-01-10   | X            |  2.358953840 |\n",
       "| 2000-01-01   | Y            | -1.881009320 |\n",
       "| 2000-01-02   | Y            | -0.009171763 |\n",
       "| 2000-01-03   | Y            |  0.282509861 |\n",
       "| 2000-01-04   | Y            | -2.774872171 |\n",
       "| 2000-01-05   | Y            |  1.252048406 |\n",
       "| 2000-01-06   | Y            |  2.499377063 |\n",
       "| 2000-01-07   | Y            | -1.461826485 |\n",
       "| 2000-01-08   | Y            |  1.269312880 |\n",
       "| 2000-01-09   | Y            |  1.353422450 |\n",
       "| 2000-01-10   | Y            |  2.723883166 |\n",
       "| 2000-01-01   | Z            |  3.710963907 |\n",
       "| 2000-01-02   | Z            | -4.410567594 |\n",
       "| 2000-01-03   | Z            |  3.107046719 |\n",
       "| 2000-01-04   | Z            |  1.887540771 |\n",
       "| 2000-01-05   | Z            | -0.674568224 |\n",
       "| 2000-01-06   | Z            |  0.464500859 |\n",
       "| 2000-01-07   | Z            | -3.559423405 |\n",
       "| 2000-01-08   | Z            | -5.907687212 |\n",
       "| 2000-01-09   | Z            |  0.384095198 |\n",
       "| 2000-01-10   | Z            |  2.985081519 |\n",
       "\n"
      ],
      "text/plain": [
       "   time       stock price       \n",
       "1  2000-01-01 X      1.835383289\n",
       "2  2000-01-02 X     -0.058931298\n",
       "3  2000-01-03 X     -1.066480981\n",
       "4  2000-01-04 X     -0.105381486\n",
       "5  2000-01-05 X      0.103556012\n",
       "6  2000-01-06 X      0.749099814\n",
       "7  2000-01-07 X      0.593663544\n",
       "8  2000-01-08 X      0.497646885\n",
       "9  2000-01-09 X     -1.431465395\n",
       "10 2000-01-10 X      2.358953840\n",
       "11 2000-01-01 Y     -1.881009320\n",
       "12 2000-01-02 Y     -0.009171763\n",
       "13 2000-01-03 Y      0.282509861\n",
       "14 2000-01-04 Y     -2.774872171\n",
       "15 2000-01-05 Y      1.252048406\n",
       "16 2000-01-06 Y      2.499377063\n",
       "17 2000-01-07 Y     -1.461826485\n",
       "18 2000-01-08 Y      1.269312880\n",
       "19 2000-01-09 Y      1.353422450\n",
       "20 2000-01-10 Y      2.723883166\n",
       "21 2000-01-01 Z      3.710963907\n",
       "22 2000-01-02 Z     -4.410567594\n",
       "23 2000-01-03 Z      3.107046719\n",
       "24 2000-01-04 Z      1.887540771\n",
       "25 2000-01-05 Z     -0.674568224\n",
       "26 2000-01-06 Z      0.464500859\n",
       "27 2000-01-07 Z     -3.559423405\n",
       "28 2000-01-08 Z     -5.907687212\n",
       "29 2000-01-09 Z      0.384095198\n",
       "30 2000-01-10 Z      2.985081519"
      ]
     },
     "metadata": {},
     "output_type": "display_data"
    }
   ],
   "source": [
    "stocks.gathered"
   ]
  },
  {
   "cell_type": "code",
   "execution_count": 73,
   "id": "1ab448b7-15f2-4371-a9aa-6e65aef131bd",
   "metadata": {},
   "outputs": [
    {
     "data": {
      "text/html": [
       "<table>\n",
       "<thead><tr><th scope=col>time</th><th scope=col>X</th><th scope=col>Y</th><th scope=col>Z</th></tr></thead>\n",
       "<tbody>\n",
       "\t<tr><td>2000-01-01  </td><td> 1.8353833  </td><td>-1.881009320</td><td> 3.7109639  </td></tr>\n",
       "\t<tr><td>2000-01-02  </td><td>-0.0589313  </td><td>-0.009171763</td><td>-4.4105676  </td></tr>\n",
       "\t<tr><td>2000-01-03  </td><td>-1.0664810  </td><td> 0.282509861</td><td> 3.1070467  </td></tr>\n",
       "\t<tr><td>2000-01-04  </td><td>-0.1053815  </td><td>-2.774872171</td><td> 1.8875408  </td></tr>\n",
       "\t<tr><td>2000-01-05  </td><td> 0.1035560  </td><td> 1.252048406</td><td>-0.6745682  </td></tr>\n",
       "\t<tr><td>2000-01-06  </td><td> 0.7490998  </td><td> 2.499377063</td><td> 0.4645009  </td></tr>\n",
       "\t<tr><td>2000-01-07  </td><td> 0.5936635  </td><td>-1.461826485</td><td>-3.5594234  </td></tr>\n",
       "\t<tr><td>2000-01-08  </td><td> 0.4976469  </td><td> 1.269312880</td><td>-5.9076872  </td></tr>\n",
       "\t<tr><td>2000-01-09  </td><td>-1.4314654  </td><td> 1.353422450</td><td> 0.3840952  </td></tr>\n",
       "\t<tr><td>2000-01-10  </td><td> 2.3589538  </td><td> 2.723883166</td><td> 2.9850815  </td></tr>\n",
       "</tbody>\n",
       "</table>\n"
      ],
      "text/latex": [
       "\\begin{tabular}{r|llll}\n",
       " time & X & Y & Z\\\\\n",
       "\\hline\n",
       "\t 2000-01-01   &  1.8353833   & -1.881009320 &  3.7109639  \\\\\n",
       "\t 2000-01-02   & -0.0589313   & -0.009171763 & -4.4105676  \\\\\n",
       "\t 2000-01-03   & -1.0664810   &  0.282509861 &  3.1070467  \\\\\n",
       "\t 2000-01-04   & -0.1053815   & -2.774872171 &  1.8875408  \\\\\n",
       "\t 2000-01-05   &  0.1035560   &  1.252048406 & -0.6745682  \\\\\n",
       "\t 2000-01-06   &  0.7490998   &  2.499377063 &  0.4645009  \\\\\n",
       "\t 2000-01-07   &  0.5936635   & -1.461826485 & -3.5594234  \\\\\n",
       "\t 2000-01-08   &  0.4976469   &  1.269312880 & -5.9076872  \\\\\n",
       "\t 2000-01-09   & -1.4314654   &  1.353422450 &  0.3840952  \\\\\n",
       "\t 2000-01-10   &  2.3589538   &  2.723883166 &  2.9850815  \\\\\n",
       "\\end{tabular}\n"
      ],
      "text/markdown": [
       "\n",
       "| time | X | Y | Z |\n",
       "|---|---|---|---|\n",
       "| 2000-01-01   |  1.8353833   | -1.881009320 |  3.7109639   |\n",
       "| 2000-01-02   | -0.0589313   | -0.009171763 | -4.4105676   |\n",
       "| 2000-01-03   | -1.0664810   |  0.282509861 |  3.1070467   |\n",
       "| 2000-01-04   | -0.1053815   | -2.774872171 |  1.8875408   |\n",
       "| 2000-01-05   |  0.1035560   |  1.252048406 | -0.6745682   |\n",
       "| 2000-01-06   |  0.7490998   |  2.499377063 |  0.4645009   |\n",
       "| 2000-01-07   |  0.5936635   | -1.461826485 | -3.5594234   |\n",
       "| 2000-01-08   |  0.4976469   |  1.269312880 | -5.9076872   |\n",
       "| 2000-01-09   | -1.4314654   |  1.353422450 |  0.3840952   |\n",
       "| 2000-01-10   |  2.3589538   |  2.723883166 |  2.9850815   |\n",
       "\n"
      ],
      "text/plain": [
       "   time       X          Y            Z         \n",
       "1  2000-01-01  1.8353833 -1.881009320  3.7109639\n",
       "2  2000-01-02 -0.0589313 -0.009171763 -4.4105676\n",
       "3  2000-01-03 -1.0664810  0.282509861  3.1070467\n",
       "4  2000-01-04 -0.1053815 -2.774872171  1.8875408\n",
       "5  2000-01-05  0.1035560  1.252048406 -0.6745682\n",
       "6  2000-01-06  0.7490998  2.499377063  0.4645009\n",
       "7  2000-01-07  0.5936635 -1.461826485 -3.5594234\n",
       "8  2000-01-08  0.4976469  1.269312880 -5.9076872\n",
       "9  2000-01-09 -1.4314654  1.353422450  0.3840952\n",
       "10 2000-01-10  2.3589538  2.723883166  2.9850815"
      ]
     },
     "metadata": {},
     "output_type": "display_data"
    }
   ],
   "source": [
    "stocks.gathered %>% spread(key=stock, value=price)"
   ]
  },
  {
   "cell_type": "code",
   "execution_count": 74,
   "id": "567dd0ea-f541-49df-ad1e-4f4a492b8ae1",
   "metadata": {},
   "outputs": [
    {
     "data": {
      "text/html": [
       "<table>\n",
       "<thead><tr><th scope=col>stock</th><th scope=col>2000-01-01</th><th scope=col>2000-01-02</th><th scope=col>2000-01-03</th><th scope=col>2000-01-04</th><th scope=col>2000-01-05</th><th scope=col>2000-01-06</th><th scope=col>2000-01-07</th><th scope=col>2000-01-08</th><th scope=col>2000-01-09</th><th scope=col>2000-01-10</th></tr></thead>\n",
       "<tbody>\n",
       "\t<tr><td>X           </td><td> 1.835383   </td><td>-0.058931298</td><td>-1.0664810  </td><td>-0.1053815  </td><td> 0.1035560  </td><td>0.7490998   </td><td> 0.5936635  </td><td> 0.4976469  </td><td>-1.4314654  </td><td>2.358954    </td></tr>\n",
       "\t<tr><td>Y           </td><td>-1.881009   </td><td>-0.009171763</td><td> 0.2825099  </td><td>-2.7748722  </td><td> 1.2520484  </td><td>2.4993771   </td><td>-1.4618265  </td><td> 1.2693129  </td><td> 1.3534224  </td><td>2.723883    </td></tr>\n",
       "\t<tr><td>Z           </td><td> 3.710964   </td><td>-4.410567594</td><td> 3.1070467  </td><td> 1.8875408  </td><td>-0.6745682  </td><td>0.4645009   </td><td>-3.5594234  </td><td>-5.9076872  </td><td> 0.3840952  </td><td>2.985082    </td></tr>\n",
       "</tbody>\n",
       "</table>\n"
      ],
      "text/latex": [
       "\\begin{tabular}{r|lllllllllll}\n",
       " stock & 2000-01-01 & 2000-01-02 & 2000-01-03 & 2000-01-04 & 2000-01-05 & 2000-01-06 & 2000-01-07 & 2000-01-08 & 2000-01-09 & 2000-01-10\\\\\n",
       "\\hline\n",
       "\t X            &  1.835383    & -0.058931298 & -1.0664810   & -0.1053815   &  0.1035560   & 0.7490998    &  0.5936635   &  0.4976469   & -1.4314654   & 2.358954    \\\\\n",
       "\t Y            & -1.881009    & -0.009171763 &  0.2825099   & -2.7748722   &  1.2520484   & 2.4993771    & -1.4618265   &  1.2693129   &  1.3534224   & 2.723883    \\\\\n",
       "\t Z            &  3.710964    & -4.410567594 &  3.1070467   &  1.8875408   & -0.6745682   & 0.4645009    & -3.5594234   & -5.9076872   &  0.3840952   & 2.985082    \\\\\n",
       "\\end{tabular}\n"
      ],
      "text/markdown": [
       "\n",
       "| stock | 2000-01-01 | 2000-01-02 | 2000-01-03 | 2000-01-04 | 2000-01-05 | 2000-01-06 | 2000-01-07 | 2000-01-08 | 2000-01-09 | 2000-01-10 |\n",
       "|---|---|---|---|---|---|---|---|---|---|---|\n",
       "| X            |  1.835383    | -0.058931298 | -1.0664810   | -0.1053815   |  0.1035560   | 0.7490998    |  0.5936635   |  0.4976469   | -1.4314654   | 2.358954     |\n",
       "| Y            | -1.881009    | -0.009171763 |  0.2825099   | -2.7748722   |  1.2520484   | 2.4993771    | -1.4618265   |  1.2693129   |  1.3534224   | 2.723883     |\n",
       "| Z            |  3.710964    | -4.410567594 |  3.1070467   |  1.8875408   | -0.6745682   | 0.4645009    | -3.5594234   | -5.9076872   |  0.3840952   | 2.985082     |\n",
       "\n"
      ],
      "text/plain": [
       "  stock 2000-01-01 2000-01-02   2000-01-03 2000-01-04 2000-01-05 2000-01-06\n",
       "1 X      1.835383  -0.058931298 -1.0664810 -0.1053815  0.1035560 0.7490998 \n",
       "2 Y     -1.881009  -0.009171763  0.2825099 -2.7748722  1.2520484 2.4993771 \n",
       "3 Z      3.710964  -4.410567594  3.1070467  1.8875408 -0.6745682 0.4645009 \n",
       "  2000-01-07 2000-01-08 2000-01-09 2000-01-10\n",
       "1  0.5936635  0.4976469 -1.4314654 2.358954  \n",
       "2 -1.4618265  1.2693129  1.3534224 2.723883  \n",
       "3 -3.5594234 -5.9076872  0.3840952 2.985082  "
      ]
     },
     "metadata": {},
     "output_type": "display_data"
    }
   ],
   "source": [
    "stocks.gathered %>% spread(key=time, value=price)"
   ]
  },
  {
   "cell_type": "markdown",
   "id": "a08dc4d2-52ca-40f4-8296-29ef20bad602",
   "metadata": {},
   "source": [
    "#### **`seperate()` function**"
   ]
  },
  {
   "cell_type": "code",
   "execution_count": 80,
   "id": "9ec1589d-d5ff-4bd8-8785-b4451a065e89",
   "metadata": {},
   "outputs": [
    {
     "data": {
      "text/html": [
       "<table>\n",
       "<thead><tr><th scope=col>x</th></tr></thead>\n",
       "<tbody>\n",
       "\t<tr><td>NA </td></tr>\n",
       "\t<tr><td>a-x</td></tr>\n",
       "\t<tr><td>b-y</td></tr>\n",
       "\t<tr><td>c-z</td></tr>\n",
       "</tbody>\n",
       "</table>\n"
      ],
      "text/latex": [
       "\\begin{tabular}{r|l}\n",
       " x\\\\\n",
       "\\hline\n",
       "\t NA \\\\\n",
       "\t a-x\\\\\n",
       "\t b-y\\\\\n",
       "\t c-z\\\\\n",
       "\\end{tabular}\n"
      ],
      "text/markdown": [
       "\n",
       "| x |\n",
       "|---|\n",
       "| NA  |\n",
       "| a-x |\n",
       "| b-y |\n",
       "| c-z |\n",
       "\n"
      ],
      "text/plain": [
       "  x  \n",
       "1 NA \n",
       "2 a-x\n",
       "3 b-y\n",
       "4 c-z"
      ]
     },
     "metadata": {},
     "output_type": "display_data"
    }
   ],
   "source": [
    "df <- data.frame(x=c(NA, \"a-x\", \"b-y\", \"c-z\"))\n",
    "df"
   ]
  },
  {
   "cell_type": "markdown",
   "id": "a066417f-0e97-495d-89ab-d9f076c82397",
   "metadata": {},
   "source": [
    "* If the seperator is a non alphanumeric character, the `seperate` function will automatically detect it without having to specify `sep=`, which can be a character, or a regural expression."
   ]
  },
  {
   "cell_type": "code",
   "execution_count": 89,
   "id": "85c76104-feaf-44e0-862c-755535bc764c",
   "metadata": {},
   "outputs": [
    {
     "data": {
      "text/html": [
       "<table>\n",
       "<thead><tr><th scope=col>x1</th><th scope=col>x2</th></tr></thead>\n",
       "<tbody>\n",
       "\t<tr><td>NA</td><td>NA</td></tr>\n",
       "\t<tr><td>a </td><td>x </td></tr>\n",
       "\t<tr><td>b </td><td>y </td></tr>\n",
       "\t<tr><td>c </td><td>z </td></tr>\n",
       "</tbody>\n",
       "</table>\n"
      ],
      "text/latex": [
       "\\begin{tabular}{r|ll}\n",
       " x1 & x2\\\\\n",
       "\\hline\n",
       "\t NA & NA\\\\\n",
       "\t a  & x \\\\\n",
       "\t b  & y \\\\\n",
       "\t c  & z \\\\\n",
       "\\end{tabular}\n"
      ],
      "text/markdown": [
       "\n",
       "| x1 | x2 |\n",
       "|---|---|\n",
       "| NA | NA |\n",
       "| a  | x  |\n",
       "| b  | y  |\n",
       "| c  | z  |\n",
       "\n"
      ],
      "text/plain": [
       "  x1 x2\n",
       "1 NA NA\n",
       "2 a  x \n",
       "3 b  y \n",
       "4 c  z "
      ]
     },
     "metadata": {},
     "output_type": "display_data"
    }
   ],
   "source": [
    "# If we enter the `sep=\".\"` argument, for some reason it doesn't work.\n",
    "df.seperated = df %>% separate(col=x, into=c(\"x1\", \"x2\")) \n",
    "df.seperated"
   ]
  },
  {
   "cell_type": "code",
   "execution_count": 90,
   "id": "710cdbe2-c9e9-4f7f-8732-26d14d38a067",
   "metadata": {},
   "outputs": [
    {
     "data": {
      "text/html": [
       "<table>\n",
       "<thead><tr><th scope=col>X12</th></tr></thead>\n",
       "<tbody>\n",
       "\t<tr><td>NA.NA</td></tr>\n",
       "\t<tr><td>a.x  </td></tr>\n",
       "\t<tr><td>b.y  </td></tr>\n",
       "\t<tr><td>c.z  </td></tr>\n",
       "</tbody>\n",
       "</table>\n"
      ],
      "text/latex": [
       "\\begin{tabular}{r|l}\n",
       " X12\\\\\n",
       "\\hline\n",
       "\t NA.NA\\\\\n",
       "\t a.x  \\\\\n",
       "\t b.y  \\\\\n",
       "\t c.z  \\\\\n",
       "\\end{tabular}\n"
      ],
      "text/markdown": [
       "\n",
       "| X12 |\n",
       "|---|\n",
       "| NA.NA |\n",
       "| a.x   |\n",
       "| b.y   |\n",
       "| c.z   |\n",
       "\n"
      ],
      "text/plain": [
       "  X12  \n",
       "1 NA.NA\n",
       "2 a.x  \n",
       "3 b.y  \n",
       "4 c.z  "
      ]
     },
     "metadata": {},
     "output_type": "display_data"
    }
   ],
   "source": [
    "unite(data=df.seperated, col=\"X12\", c(\"x1\", \"x2\"), sep=\".\")"
   ]
  }
 ],
 "metadata": {
  "kernelspec": {
   "display_name": "R",
   "language": "R",
   "name": "ir"
  },
  "language_info": {
   "codemirror_mode": "r",
   "file_extension": ".r",
   "mimetype": "text/x-r-source",
   "name": "R",
   "pygments_lexer": "r",
   "version": "3.6.1"
  }
 },
 "nbformat": 4,
 "nbformat_minor": 5
}
