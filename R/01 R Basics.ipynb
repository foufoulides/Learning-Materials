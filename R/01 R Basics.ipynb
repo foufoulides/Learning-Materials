{
 "cells": [
  {
   "cell_type": "markdown",
   "id": "01769d4c-ac5a-470f-b6ec-6c752e880cb6",
   "metadata": {},
   "source": [
    "### <center> **R Basics** </center>\n",
    "\n",
    "* Use spacing around operators for increased readability.\n",
    "\n",
    "#### **Arithmetic with R**\n",
    "\n",
    "Addition"
   ]
  },
  {
   "cell_type": "code",
   "execution_count": 1,
   "id": "b47236db-b8bf-49a2-9b12-d5f93d1d8275",
   "metadata": {},
   "outputs": [
    {
     "data": {
      "text/html": [
       "3"
      ],
      "text/latex": [
       "3"
      ],
      "text/markdown": [
       "3"
      ],
      "text/plain": [
       "[1] 3"
      ]
     },
     "metadata": {},
     "output_type": "display_data"
    }
   ],
   "source": [
    "1 + 2"
   ]
  },
  {
   "cell_type": "markdown",
   "id": "e7770404-1813-46e4-8a57-5908cb6bdba0",
   "metadata": {},
   "source": [
    "Subtraction"
   ]
  },
  {
   "cell_type": "code",
   "execution_count": 3,
   "id": "ee908ac5-fb5a-4cf3-81df-42beb098fc14",
   "metadata": {},
   "outputs": [
    {
     "data": {
      "text/html": [
       "2"
      ],
      "text/latex": [
       "2"
      ],
      "text/markdown": [
       "2"
      ],
      "text/plain": [
       "[1] 2"
      ]
     },
     "metadata": {},
     "output_type": "display_data"
    }
   ],
   "source": [
    "5 - 3"
   ]
  },
  {
   "cell_type": "markdown",
   "id": "404e3309-f75e-4cef-bbdc-18b0ed200d21",
   "metadata": {},
   "source": [
    "Multiplication"
   ]
  },
  {
   "cell_type": "code",
   "execution_count": 4,
   "id": "5afa569b-97bc-4aef-8659-9afedb6959eb",
   "metadata": {},
   "outputs": [
    {
     "data": {
      "text/html": [
       "6"
      ],
      "text/latex": [
       "6"
      ],
      "text/markdown": [
       "6"
      ],
      "text/plain": [
       "[1] 6"
      ]
     },
     "metadata": {},
     "output_type": "display_data"
    }
   ],
   "source": [
    "2*3"
   ]
  },
  {
   "cell_type": "markdown",
   "id": "aea116fc-9a8a-4922-b1e2-7666d8d79ab5",
   "metadata": {},
   "source": [
    "Division"
   ]
  },
  {
   "cell_type": "code",
   "execution_count": 4,
   "id": "4bbdb7b1-5f62-440f-9fcc-984ef5e8d943",
   "metadata": {},
   "outputs": [
    {
     "data": {
      "text/html": [
       "0.5"
      ],
      "text/latex": [
       "0.5"
      ],
      "text/markdown": [
       "0.5"
      ],
      "text/plain": [
       "[1] 0.5"
      ]
     },
     "metadata": {},
     "output_type": "display_data"
    }
   ],
   "source": [
    "1/2"
   ]
  },
  {
   "cell_type": "markdown",
   "id": "2c041ec5-5274-4dc3-b47c-54cccad29b96",
   "metadata": {},
   "source": [
    "Exponents"
   ]
  },
  {
   "cell_type": "code",
   "execution_count": 5,
   "id": "999f4c36-3d8e-4bfa-8122-f58a44c1dc1b",
   "metadata": {},
   "outputs": [
    {
     "data": {
      "text/html": [
       "8"
      ],
      "text/latex": [
       "8"
      ],
      "text/markdown": [
       "8"
      ],
      "text/plain": [
       "[1] 8"
      ]
     },
     "metadata": {},
     "output_type": "display_data"
    }
   ],
   "source": [
    "2^3"
   ]
  },
  {
   "cell_type": "markdown",
   "id": "7679ba11-d093-4201-847f-7528838ac684",
   "metadata": {},
   "source": [
    "Integer Division"
   ]
  },
  {
   "cell_type": "code",
   "execution_count": 3,
   "id": "6094fcab-f4a6-4261-9b66-4c35b8ebdb2f",
   "metadata": {},
   "outputs": [
    {
     "data": {
      "text/html": [
       "3"
      ],
      "text/latex": [
       "3"
      ],
      "text/markdown": [
       "3"
      ],
      "text/plain": [
       "[1] 3"
      ]
     },
     "metadata": {},
     "output_type": "display_data"
    }
   ],
   "source": [
    "10 %/% 3"
   ]
  },
  {
   "cell_type": "markdown",
   "id": "36984801-7767-461d-9cb3-021775df75ed",
   "metadata": {},
   "source": [
    "Modulo (Remainder)"
   ]
  },
  {
   "cell_type": "code",
   "execution_count": 2,
   "id": "0d6176f9-e6ae-406f-bacd-6e7d4bbb5ecb",
   "metadata": {},
   "outputs": [
    {
     "data": {
      "text/html": [
       "1"
      ],
      "text/latex": [
       "1"
      ],
      "text/markdown": [
       "1"
      ],
      "text/plain": [
       "[1] 1"
      ]
     },
     "metadata": {},
     "output_type": "display_data"
    }
   ],
   "source": [
    "10%%3"
   ]
  },
  {
   "cell_type": "markdown",
   "id": "4e2b96d0-b98a-451c-9cd1-988666f4a511",
   "metadata": {},
   "source": [
    "Order of Operations\n",
    "* Done normally as in mathematics "
   ]
  },
  {
   "cell_type": "code",
   "execution_count": 9,
   "id": "3c438a3e-6c0a-47a8-b078-5e2c6fdf77a1",
   "metadata": {},
   "outputs": [
    {
     "data": {
      "text/html": [
       "225"
      ],
      "text/latex": [
       "225"
      ],
      "text/markdown": [
       "225"
      ],
      "text/plain": [
       "[1] 225"
      ]
     },
     "metadata": {},
     "output_type": "display_data"
    }
   ],
   "source": [
    "(100 * 2) + (50 / 2)"
   ]
  },
  {
   "cell_type": "markdown",
   "id": "c3e2bc47-bb45-4379-a601-6534e482e7b7",
   "metadata": {},
   "source": [
    "#### **Variables**\n",
    "\n",
    "* Variables are assigned with the **`<-`** operator, which stands for *goes into*.\n",
    "* The operator works on both directions **`->`**"
   ]
  },
  {
   "cell_type": "markdown",
   "id": "824e6734-8670-45f7-9cdc-1707cbd114da",
   "metadata": {},
   "source": [
    "* Variable naming convensions:\n",
    "    * Variable names begin with a lower case\n",
    "    * By convension multi-word variable names are seperated by a perdiod (e.g. bank.account), that is **dot case**.\n",
    "    * Also **camel case** is consider good style in R (e.g. bankAccount), but **not snake case** (e.g. bank_account)"
   ]
  },
  {
   "cell_type": "code",
   "execution_count": 11,
   "id": "b438d26d-f312-4e6a-9cea-ea14a054d859",
   "metadata": {},
   "outputs": [
    {
     "data": {
      "text/html": [
       "1000"
      ],
      "text/latex": [
       "1000"
      ],
      "text/markdown": [
       "1000"
      ],
      "text/plain": [
       "[1] 1000"
      ]
     },
     "metadata": {},
     "output_type": "display_data"
    }
   ],
   "source": [
    "bank.account <- 1000\n",
    "bank.account"
   ]
  },
  {
   "cell_type": "code",
   "execution_count": 12,
   "id": "10dc6669-0ec2-4fdd-b263-180e47f01532",
   "metadata": {},
   "outputs": [
    {
     "data": {
      "text/html": [
       "100"
      ],
      "text/latex": [
       "100"
      ],
      "text/markdown": [
       "100"
      ],
      "text/plain": [
       "[1] 100"
      ]
     },
     "metadata": {},
     "output_type": "display_data"
    }
   ],
   "source": [
    "my.deposit <- 100\n",
    "my.deposit"
   ]
  },
  {
   "cell_type": "code",
   "execution_count": 13,
   "id": "20026746-3328-400b-bff1-3dbeb52228aa",
   "metadata": {},
   "outputs": [
    {
     "data": {
      "text/html": [
       "1100"
      ],
      "text/latex": [
       "1100"
      ],
      "text/markdown": [
       "1100"
      ],
      "text/plain": [
       "[1] 1100"
      ]
     },
     "metadata": {},
     "output_type": "display_data"
    }
   ],
   "source": [
    "bank.account <- bank.account + my.deposit\n",
    "bank.account"
   ]
  },
  {
   "cell_type": "markdown",
   "id": "0fa9e150-a9ee-4878-b850-279957ff710d",
   "metadata": {},
   "source": [
    "#### **Basic Data Types**"
   ]
  },
  {
   "cell_type": "markdown",
   "id": "fee8d8c9-b672-417f-ae04-5c950da0a7b5",
   "metadata": {},
   "source": [
    "| Class | Data Type | Description | \n",
    "| ---- | ---- | ---- |\n",
    "| Numeric | Decimal | Floating point values are in numeric class | \n",
    "| Numeric | Integer | Whole numbers are also in numeric class |\n",
    "| Logical | Boolean | Boolean values are part of the logical class |\n",
    "| Character | Strings | String values are in the character class | \n"
   ]
  },
  {
   "cell_type": "code",
   "execution_count": 1,
   "id": "b274adf1-39b7-427b-ab7e-b3d20eee2581",
   "metadata": {},
   "outputs": [],
   "source": [
    "x <- 2.2   # Decimal \n",
    "n <- 5     # Integer \n",
    "t <- TRUE  # Boolean\n",
    "f <- FALSE # The values have to be written in capitals\n",
    "t1 <- T    # The values can also be written in capital T, F \n",
    "f1 <- F\n",
    "char <- 'Hello World'\n",
    "greet <- \"How's you?\"  # By convension we use double quotes"
   ]
  },
  {
   "cell_type": "markdown",
   "id": "39fc7094-475b-4ec3-97db-d1d64db9f4a4",
   "metadata": {},
   "source": [
    "#### **Checking Data Types**\n",
    "* The **`class()`** function returns a variable's data type."
   ]
  },
  {
   "cell_type": "code",
   "execution_count": 4,
   "id": "bba07b4f-dba7-436e-9dda-4db11feab81b",
   "metadata": {},
   "outputs": [
    {
     "data": {
      "text/html": [
       "'numeric'"
      ],
      "text/latex": [
       "'numeric'"
      ],
      "text/markdown": [
       "'numeric'"
      ],
      "text/plain": [
       "[1] \"numeric\""
      ]
     },
     "metadata": {},
     "output_type": "display_data"
    }
   ],
   "source": [
    "class(x)"
   ]
  },
  {
   "cell_type": "code",
   "execution_count": 5,
   "id": "b8e105ed-ef30-410a-939f-241e2614820d",
   "metadata": {},
   "outputs": [
    {
     "data": {
      "text/html": [
       "'numeric'"
      ],
      "text/latex": [
       "'numeric'"
      ],
      "text/markdown": [
       "'numeric'"
      ],
      "text/plain": [
       "[1] \"numeric\""
      ]
     },
     "metadata": {},
     "output_type": "display_data"
    }
   ],
   "source": [
    "class(n)"
   ]
  },
  {
   "cell_type": "code",
   "execution_count": 8,
   "id": "4236f263-4b57-4f7f-9004-934d5eaf6d5d",
   "metadata": {},
   "outputs": [
    {
     "data": {
      "text/html": [
       "'logical'"
      ],
      "text/latex": [
       "'logical'"
      ],
      "text/markdown": [
       "'logical'"
      ],
      "text/plain": [
       "[1] \"logical\""
      ]
     },
     "metadata": {},
     "output_type": "display_data"
    }
   ],
   "source": [
    "class(t)"
   ]
  },
  {
   "cell_type": "code",
   "execution_count": 9,
   "id": "0f686584-65d9-482e-9c5d-9146355389b8",
   "metadata": {},
   "outputs": [
    {
     "data": {
      "text/html": [
       "'character'"
      ],
      "text/latex": [
       "'character'"
      ],
      "text/markdown": [
       "'character'"
      ],
      "text/plain": [
       "[1] \"character\""
      ]
     },
     "metadata": {},
     "output_type": "display_data"
    }
   ],
   "source": [
    "class(greet)"
   ]
  },
  {
   "cell_type": "markdown",
   "id": "633da4a7-f233-4d84-a4e0-8713d0f35589",
   "metadata": {},
   "source": [
    "#### **Vector Basics**\n",
    "\n",
    "* Vector is the main data building block of R. \n",
    "* So it is one of the key data structures we will be using. \n",
    "* It is a 1-dimensional array that **can hold, character, numeric, or logical data elements**. \n",
    "* Important to note that **vectors cannot mix data types**. If we do, R will convert them to make them the same data type.\n",
    "* Vectors are created using the **combine function `c()`**"
   ]
  },
  {
   "cell_type": "code",
   "execution_count": 10,
   "id": "639fbc66-b31c-46e6-9464-abd7042d0526",
   "metadata": {},
   "outputs": [],
   "source": [
    "num.vec <- c(1,2,3,4,5)"
   ]
  },
  {
   "cell_type": "code",
   "execution_count": 11,
   "id": "7dcb9d7e-48dd-4a18-aef6-37d1de928231",
   "metadata": {},
   "outputs": [
    {
     "data": {
      "text/html": [
       "'numeric'"
      ],
      "text/latex": [
       "'numeric'"
      ],
      "text/markdown": [
       "'numeric'"
      ],
      "text/plain": [
       "[1] \"numeric\""
      ]
     },
     "metadata": {},
     "output_type": "display_data"
    }
   ],
   "source": [
    "class(num.vec)"
   ]
  },
  {
   "cell_type": "code",
   "execution_count": 14,
   "id": "445eccc9-c88c-4b0b-9409-611c46a80085",
   "metadata": {},
   "outputs": [
    {
     "data": {
      "text/html": [
       "<ol class=list-inline>\n",
       "\t<li>1</li>\n",
       "\t<li>2</li>\n",
       "\t<li>3</li>\n",
       "\t<li>4</li>\n",
       "\t<li>5</li>\n",
       "</ol>\n"
      ],
      "text/latex": [
       "\\begin{enumerate*}\n",
       "\\item 1\n",
       "\\item 2\n",
       "\\item 3\n",
       "\\item 4\n",
       "\\item 5\n",
       "\\end{enumerate*}\n"
      ],
      "text/markdown": [
       "1. 1\n",
       "2. 2\n",
       "3. 3\n",
       "4. 4\n",
       "5. 5\n",
       "\n",
       "\n"
      ],
      "text/plain": [
       "[1] 1 2 3 4 5"
      ]
     },
     "metadata": {},
     "output_type": "display_data"
    }
   ],
   "source": [
    "num.vec"
   ]
  },
  {
   "cell_type": "code",
   "execution_count": 15,
   "id": "962a0809-66c5-45ba-aa0b-200f72d4b68d",
   "metadata": {},
   "outputs": [],
   "source": [
    "char.vec <- c(\"a\", \"b\", \"c\", \"d\", \"e\")"
   ]
  },
  {
   "cell_type": "code",
   "execution_count": 16,
   "id": "1477b8af-8e1d-4eb0-b91d-acd64c66706f",
   "metadata": {},
   "outputs": [
    {
     "data": {
      "text/html": [
       "'character'"
      ],
      "text/latex": [
       "'character'"
      ],
      "text/markdown": [
       "'character'"
      ],
      "text/plain": [
       "[1] \"character\""
      ]
     },
     "metadata": {},
     "output_type": "display_data"
    }
   ],
   "source": [
    "class(char.vec)"
   ]
  },
  {
   "cell_type": "code",
   "execution_count": 18,
   "id": "c7877350-ada8-4a3f-98f5-34da312fd790",
   "metadata": {},
   "outputs": [],
   "source": [
    "log.vec <- c(T, F, F, T, F)"
   ]
  },
  {
   "cell_type": "code",
   "execution_count": 19,
   "id": "26003cce-167e-4e28-ae22-9323871437ea",
   "metadata": {},
   "outputs": [
    {
     "data": {
      "text/html": [
       "'logical'"
      ],
      "text/latex": [
       "'logical'"
      ],
      "text/markdown": [
       "'logical'"
      ],
      "text/plain": [
       "[1] \"logical\""
      ]
     },
     "metadata": {},
     "output_type": "display_data"
    }
   ],
   "source": [
    "class(log.vec)"
   ]
  },
  {
   "cell_type": "markdown",
   "id": "e01c0ccc-6c33-47c9-b630-47bd16beda98",
   "metadata": {},
   "source": [
    "* If you mix data types in a vector, R will convert other elements in an array to make them of the same data types. \n",
    "* Later, we will learn about **lists** which can have multiple data types. "
   ]
  },
  {
   "cell_type": "code",
   "execution_count": 20,
   "id": "f38f311a-117d-4824-964c-0579ce635d01",
   "metadata": {},
   "outputs": [],
   "source": [
    "mix.vec1 <- c(F, 2)\n",
    "mix.vec2 <- c(2, F)"
   ]
  },
  {
   "cell_type": "code",
   "execution_count": 60,
   "id": "b7e6a11b-bb1f-4354-b8e8-e517cf9e5314",
   "metadata": {},
   "outputs": [
    {
     "data": {
      "text/html": [
       "<ol class=list-inline>\n",
       "\t<li>0</li>\n",
       "\t<li>2</li>\n",
       "</ol>\n"
      ],
      "text/latex": [
       "\\begin{enumerate*}\n",
       "\\item 0\n",
       "\\item 2\n",
       "\\end{enumerate*}\n"
      ],
      "text/markdown": [
       "1. 0\n",
       "2. 2\n",
       "\n",
       "\n"
      ],
      "text/plain": [
       "[1] 0 2"
      ]
     },
     "metadata": {},
     "output_type": "display_data"
    },
    {
     "data": {
      "text/html": [
       "<ol class=list-inline>\n",
       "\t<li>2</li>\n",
       "\t<li>0</li>\n",
       "</ol>\n"
      ],
      "text/latex": [
       "\\begin{enumerate*}\n",
       "\\item 2\n",
       "\\item 0\n",
       "\\end{enumerate*}\n"
      ],
      "text/markdown": [
       "1. 2\n",
       "2. 0\n",
       "\n",
       "\n"
      ],
      "text/plain": [
       "[1] 2 0"
      ]
     },
     "metadata": {},
     "output_type": "display_data"
    }
   ],
   "source": [
    "# In both cases F is converted to 0, so all elements are numeric\n",
    "mix.vec1\n",
    "mix.vec2"
   ]
  },
  {
   "cell_type": "code",
   "execution_count": 24,
   "id": "2ac18bf9-aa09-40ca-8ad8-cbf714ba4dd1",
   "metadata": {},
   "outputs": [
    {
     "data": {
      "text/html": [
       "'numeric'"
      ],
      "text/latex": [
       "'numeric'"
      ],
      "text/markdown": [
       "'numeric'"
      ],
      "text/plain": [
       "[1] \"numeric\""
      ]
     },
     "metadata": {},
     "output_type": "display_data"
    },
    {
     "data": {
      "text/html": [
       "'numeric'"
      ],
      "text/latex": [
       "'numeric'"
      ],
      "text/markdown": [
       "'numeric'"
      ],
      "text/plain": [
       "[1] \"numeric\""
      ]
     },
     "metadata": {},
     "output_type": "display_data"
    }
   ],
   "source": [
    "class(mix.vec1)\n",
    "class(mix.vec2)"
   ]
  },
  {
   "cell_type": "code",
   "execution_count": 27,
   "id": "2a4faddc-c3c5-4d26-8293-2d9bdf8817b6",
   "metadata": {},
   "outputs": [],
   "source": [
    "# Number 1, is turned to character \"1\", so all elements are character\n",
    "mix.vec3 <- c(\"a\", 1)"
   ]
  },
  {
   "cell_type": "code",
   "execution_count": 26,
   "id": "3f051b57-bf4b-40d1-ad13-ddb0f00f2484",
   "metadata": {},
   "outputs": [
    {
     "data": {
      "text/html": [
       "<ol class=list-inline>\n",
       "\t<li>'a'</li>\n",
       "\t<li>'1'</li>\n",
       "</ol>\n"
      ],
      "text/latex": [
       "\\begin{enumerate*}\n",
       "\\item 'a'\n",
       "\\item '1'\n",
       "\\end{enumerate*}\n"
      ],
      "text/markdown": [
       "1. 'a'\n",
       "2. '1'\n",
       "\n",
       "\n"
      ],
      "text/plain": [
       "[1] \"a\" \"1\""
      ]
     },
     "metadata": {},
     "output_type": "display_data"
    }
   ],
   "source": [
    "mix.vec3"
   ]
  },
  {
   "cell_type": "code",
   "execution_count": 28,
   "id": "93ae12f5-b7e0-4d6a-bfa6-cd5a7179d929",
   "metadata": {},
   "outputs": [
    {
     "data": {
      "text/html": [
       "'character'"
      ],
      "text/latex": [
       "'character'"
      ],
      "text/markdown": [
       "'character'"
      ],
      "text/plain": [
       "[1] \"character\""
      ]
     },
     "metadata": {},
     "output_type": "display_data"
    }
   ],
   "source": [
    "class(mix.vec3)"
   ]
  },
  {
   "cell_type": "markdown",
   "id": "edc7b40b-9a8b-4872-a888-6e71033b395a",
   "metadata": {},
   "source": [
    "#### **Vector Element Names**\n",
    "\n",
    "* The **`names()`** function assigns names to each element of a vector.\n",
    "* Example: High temperatures of a week: "
   ]
  },
  {
   "cell_type": "code",
   "execution_count": 30,
   "id": "d2c3093d-a583-4f39-8d8e-205e60e3dd4f",
   "metadata": {},
   "outputs": [
    {
     "data": {
      "text/html": [
       "<ol class=list-inline>\n",
       "\t<li>72</li>\n",
       "\t<li>71</li>\n",
       "\t<li>68</li>\n",
       "\t<li>73</li>\n",
       "\t<li>69</li>\n",
       "\t<li>75</li>\n",
       "\t<li>71</li>\n",
       "</ol>\n"
      ],
      "text/latex": [
       "\\begin{enumerate*}\n",
       "\\item 72\n",
       "\\item 71\n",
       "\\item 68\n",
       "\\item 73\n",
       "\\item 69\n",
       "\\item 75\n",
       "\\item 71\n",
       "\\end{enumerate*}\n"
      ],
      "text/markdown": [
       "1. 72\n",
       "2. 71\n",
       "3. 68\n",
       "4. 73\n",
       "5. 69\n",
       "6. 75\n",
       "7. 71\n",
       "\n",
       "\n"
      ],
      "text/plain": [
       "[1] 72 71 68 73 69 75 71"
      ]
     },
     "metadata": {},
     "output_type": "display_data"
    }
   ],
   "source": [
    "temps <- c(72, 71, 68, 73, 69, 75, 71)\n",
    "temps"
   ]
  },
  {
   "cell_type": "code",
   "execution_count": 31,
   "id": "136b3858-c7e2-46ca-ae65-e90faac6b330",
   "metadata": {},
   "outputs": [
    {
     "data": {
      "text/html": [
       "<ol class=list-inline>\n",
       "\t<li>'Mon'</li>\n",
       "\t<li>'Tue'</li>\n",
       "\t<li>'Wed'</li>\n",
       "\t<li>'Thu'</li>\n",
       "\t<li>'Fri'</li>\n",
       "\t<li>'Sat'</li>\n",
       "\t<li>'Sun'</li>\n",
       "</ol>\n"
      ],
      "text/latex": [
       "\\begin{enumerate*}\n",
       "\\item 'Mon'\n",
       "\\item 'Tue'\n",
       "\\item 'Wed'\n",
       "\\item 'Thu'\n",
       "\\item 'Fri'\n",
       "\\item 'Sat'\n",
       "\\item 'Sun'\n",
       "\\end{enumerate*}\n"
      ],
      "text/markdown": [
       "1. 'Mon'\n",
       "2. 'Tue'\n",
       "3. 'Wed'\n",
       "4. 'Thu'\n",
       "5. 'Fri'\n",
       "6. 'Sat'\n",
       "7. 'Sun'\n",
       "\n",
       "\n"
      ],
      "text/plain": [
       "[1] \"Mon\" \"Tue\" \"Wed\" \"Thu\" \"Fri\" \"Sat\" \"Sun\""
      ]
     },
     "metadata": {},
     "output_type": "display_data"
    }
   ],
   "source": [
    "days <- c('Mon','Tue','Wed','Thu','Fri','Sat','Sun')\n",
    "days"
   ]
  },
  {
   "cell_type": "code",
   "execution_count": 32,
   "id": "fe0cdd91-764e-407f-b323-1f85482716a9",
   "metadata": {},
   "outputs": [],
   "source": [
    "names(temps) <- days"
   ]
  },
  {
   "cell_type": "markdown",
   "id": "026d2fb4-681b-4a0f-bb93-4442b9e8e07a",
   "metadata": {},
   "source": [
    "The default, numeric index has been replaced by the named days one."
   ]
  },
  {
   "cell_type": "code",
   "execution_count": 33,
   "id": "6c7b0be9-cdbb-4be0-a166-d76e3478b330",
   "metadata": {},
   "outputs": [
    {
     "data": {
      "text/html": [
       "<dl class=dl-horizontal>\n",
       "\t<dt>Mon</dt>\n",
       "\t\t<dd>72</dd>\n",
       "\t<dt>Tue</dt>\n",
       "\t\t<dd>71</dd>\n",
       "\t<dt>Wed</dt>\n",
       "\t\t<dd>68</dd>\n",
       "\t<dt>Thu</dt>\n",
       "\t\t<dd>73</dd>\n",
       "\t<dt>Fri</dt>\n",
       "\t\t<dd>69</dd>\n",
       "\t<dt>Sat</dt>\n",
       "\t\t<dd>75</dd>\n",
       "\t<dt>Sun</dt>\n",
       "\t\t<dd>71</dd>\n",
       "</dl>\n"
      ],
      "text/latex": [
       "\\begin{description*}\n",
       "\\item[Mon] 72\n",
       "\\item[Tue] 71\n",
       "\\item[Wed] 68\n",
       "\\item[Thu] 73\n",
       "\\item[Fri] 69\n",
       "\\item[Sat] 75\n",
       "\\item[Sun] 71\n",
       "\\end{description*}\n"
      ],
      "text/markdown": [
       "Mon\n",
       ":   72Tue\n",
       ":   71Wed\n",
       ":   68Thu\n",
       ":   73Fri\n",
       ":   69Sat\n",
       ":   75Sun\n",
       ":   71\n",
       "\n"
      ],
      "text/plain": [
       "Mon Tue Wed Thu Fri Sat Sun \n",
       " 72  71  68  73  69  75  71 "
      ]
     },
     "metadata": {},
     "output_type": "display_data"
    }
   ],
   "source": [
    "temps"
   ]
  },
  {
   "cell_type": "markdown",
   "id": "499c4e42-dd7d-457d-9eb7-6fc03a937916",
   "metadata": {},
   "source": [
    "#### **Vector Operations**\n",
    "\n",
    "* Basic arithmetic and operations occur element by element basis"
   ]
  },
  {
   "cell_type": "code",
   "execution_count": 34,
   "id": "1e6a21b5-30a2-41ea-b1a1-67533fa3e3ca",
   "metadata": {},
   "outputs": [],
   "source": [
    "v1 <- c(1,2,3)\n",
    "v2 <- c(5,6,7)"
   ]
  },
  {
   "cell_type": "code",
   "execution_count": 35,
   "id": "86a33c9d-5ed2-475a-be86-8b38097b013e",
   "metadata": {},
   "outputs": [
    {
     "data": {
      "text/html": [
       "<ol class=list-inline>\n",
       "\t<li>6</li>\n",
       "\t<li>8</li>\n",
       "\t<li>10</li>\n",
       "</ol>\n"
      ],
      "text/latex": [
       "\\begin{enumerate*}\n",
       "\\item 6\n",
       "\\item 8\n",
       "\\item 10\n",
       "\\end{enumerate*}\n"
      ],
      "text/markdown": [
       "1. 6\n",
       "2. 8\n",
       "3. 10\n",
       "\n",
       "\n"
      ],
      "text/plain": [
       "[1]  6  8 10"
      ]
     },
     "metadata": {},
     "output_type": "display_data"
    }
   ],
   "source": [
    "v1 + v2 # Addition"
   ]
  },
  {
   "cell_type": "code",
   "execution_count": 36,
   "id": "18041af7-9cc8-45ca-abe2-1b5693f578b7",
   "metadata": {},
   "outputs": [
    {
     "data": {
      "text/html": [
       "<ol class=list-inline>\n",
       "\t<li>-4</li>\n",
       "\t<li>-4</li>\n",
       "\t<li>-4</li>\n",
       "</ol>\n"
      ],
      "text/latex": [
       "\\begin{enumerate*}\n",
       "\\item -4\n",
       "\\item -4\n",
       "\\item -4\n",
       "\\end{enumerate*}\n"
      ],
      "text/markdown": [
       "1. -4\n",
       "2. -4\n",
       "3. -4\n",
       "\n",
       "\n"
      ],
      "text/plain": [
       "[1] -4 -4 -4"
      ]
     },
     "metadata": {},
     "output_type": "display_data"
    }
   ],
   "source": [
    "v1 - v2 # Substraction"
   ]
  },
  {
   "cell_type": "code",
   "execution_count": 37,
   "id": "bc3bb3ea-22f6-4302-81db-aa163fa141fc",
   "metadata": {},
   "outputs": [
    {
     "data": {
      "text/html": [
       "<ol class=list-inline>\n",
       "\t<li>5</li>\n",
       "\t<li>12</li>\n",
       "\t<li>21</li>\n",
       "</ol>\n"
      ],
      "text/latex": [
       "\\begin{enumerate*}\n",
       "\\item 5\n",
       "\\item 12\n",
       "\\item 21\n",
       "\\end{enumerate*}\n"
      ],
      "text/markdown": [
       "1. 5\n",
       "2. 12\n",
       "3. 21\n",
       "\n",
       "\n"
      ],
      "text/plain": [
       "[1]  5 12 21"
      ]
     },
     "metadata": {},
     "output_type": "display_data"
    }
   ],
   "source": [
    "v1 * v2 # Multiplication"
   ]
  },
  {
   "cell_type": "code",
   "execution_count": 40,
   "id": "1e13a68b-94ca-4b77-b7ad-47d9b87931a1",
   "metadata": {},
   "outputs": [
    {
     "data": {
      "text/html": [
       "<ol class=list-inline>\n",
       "\t<li>0.2</li>\n",
       "\t<li>0.333333333333333</li>\n",
       "\t<li>0.428571428571429</li>\n",
       "</ol>\n"
      ],
      "text/latex": [
       "\\begin{enumerate*}\n",
       "\\item 0.2\n",
       "\\item 0.333333333333333\n",
       "\\item 0.428571428571429\n",
       "\\end{enumerate*}\n"
      ],
      "text/markdown": [
       "1. 0.2\n",
       "2. 0.333333333333333\n",
       "3. 0.428571428571429\n",
       "\n",
       "\n"
      ],
      "text/plain": [
       "[1] 0.2000000 0.3333333 0.4285714"
      ]
     },
     "metadata": {},
     "output_type": "display_data"
    }
   ],
   "source": [
    "v1 / v2 # Division"
   ]
  },
  {
   "cell_type": "markdown",
   "id": "e27f025f-2db3-4684-8169-92bb1f9c4203",
   "metadata": {
    "tags": []
   },
   "source": [
    "#### **Functions with Vectors**\n",
    "\n",
    "* Some useful build-in functions in R on vectors \n",
    "* Later in the course we will also learn how to create our own functions."
   ]
  },
  {
   "cell_type": "markdown",
   "id": "3d3e89f3-d350-4fb3-b119-b7bec9fcc642",
   "metadata": {},
   "source": [
    "| Aggregte Function | Description | \n",
    "| ---- | :---- | \n",
    "|**`sum()`** | Adds up all the elements in a vector|\n",
    "|**`sd()`** | Calculates the standard deviation of the vector elements | \n",
    "|**`var()`** | Calculates the variance of the vector elements |\n",
    "|**`max()`** | Returns the largest element in the vector | \n",
    "|**`min()`** | Returns the smallest element in the vector | \n",
    "|**`prod()`**| Returns the multiplication of the vector elements |\n",
    "\n",
    "* There are a lot more functions. An **R reference card is [here](https://cran.r-project.org/doc/contrib/Short-refcard.pdf)**."
   ]
  },
  {
   "cell_type": "code",
   "execution_count": 49,
   "id": "679d763f-267d-4eb3-afcf-1b58dd5f5b6e",
   "metadata": {},
   "outputs": [
    {
     "data": {
      "text/html": [
       "6"
      ],
      "text/latex": [
       "6"
      ],
      "text/markdown": [
       "6"
      ],
      "text/plain": [
       "[1] 6"
      ]
     },
     "metadata": {},
     "output_type": "display_data"
    }
   ],
   "source": [
    "sum(v1)"
   ]
  },
  {
   "cell_type": "code",
   "execution_count": 46,
   "id": "12613195-1b76-4530-80b4-b9d73a84324e",
   "metadata": {},
   "outputs": [
    {
     "data": {
      "text/html": [
       "1"
      ],
      "text/latex": [
       "1"
      ],
      "text/markdown": [
       "1"
      ],
      "text/plain": [
       "[1] 1"
      ]
     },
     "metadata": {},
     "output_type": "display_data"
    }
   ],
   "source": [
    "sd(v2)"
   ]
  },
  {
   "cell_type": "code",
   "execution_count": 48,
   "id": "2ad55880-835c-41ed-9b0b-0698c6ec5039",
   "metadata": {},
   "outputs": [
    {
     "data": {
      "text/html": [
       "7"
      ],
      "text/latex": [
       "7"
      ],
      "text/markdown": [
       "7"
      ],
      "text/plain": [
       "[1] 7"
      ]
     },
     "metadata": {},
     "output_type": "display_data"
    }
   ],
   "source": [
    "max(v2)"
   ]
  },
  {
   "cell_type": "code",
   "execution_count": 47,
   "id": "ef2256ad-986a-49ef-b4c1-f04ba32ba0dc",
   "metadata": {},
   "outputs": [
    {
     "data": {
      "text/html": [
       "210"
      ],
      "text/latex": [
       "210"
      ],
      "text/markdown": [
       "210"
      ],
      "text/plain": [
       "[1] 210"
      ]
     },
     "metadata": {},
     "output_type": "display_data"
    }
   ],
   "source": [
    "prod(v2)"
   ]
  },
  {
   "cell_type": "markdown",
   "id": "3c12ee94-d1ed-41fb-b8df-9f8b59510fe6",
   "metadata": {},
   "source": [
    "**Comparisson Operators** \n",
    "\n",
    "| Operator | Description| \n",
    "| :----: | ---- |\n",
    "|**`>`** | Greater than | \n",
    "|**`<`** | Less than |\n",
    "|**`>=`** | Greater than or equal to | \n",
    "|**`<=`** | Less than or equal to | \n",
    "|**`==`** | Equal to |\n",
    "|**`!=`** | Not equal to |"
   ]
  },
  {
   "cell_type": "code",
   "execution_count": 50,
   "id": "3cc078c3-a0fe-463e-8436-1cdae3a2ca1a",
   "metadata": {},
   "outputs": [
    {
     "data": {
      "text/html": [
       "FALSE"
      ],
      "text/latex": [
       "FALSE"
      ],
      "text/markdown": [
       "FALSE"
      ],
      "text/plain": [
       "[1] FALSE"
      ]
     },
     "metadata": {},
     "output_type": "display_data"
    }
   ],
   "source": [
    "5 > 6"
   ]
  },
  {
   "cell_type": "code",
   "execution_count": 51,
   "id": "578766c3-50de-4491-a713-e4b9f871e443",
   "metadata": {},
   "outputs": [
    {
     "data": {
      "text/html": [
       "TRUE"
      ],
      "text/latex": [
       "TRUE"
      ],
      "text/markdown": [
       "TRUE"
      ],
      "text/plain": [
       "[1] TRUE"
      ]
     },
     "metadata": {},
     "output_type": "display_data"
    }
   ],
   "source": [
    "5 < 6"
   ]
  },
  {
   "cell_type": "markdown",
   "id": "51d6d220-b790-4617-a9a8-02a9952b80fd",
   "metadata": {},
   "source": [
    "* On vector comparisson operations work element by element\n",
    "* Later we will see how we can **use comparissons on a vector to select parts of a vector**."
   ]
  },
  {
   "cell_type": "code",
   "execution_count": 52,
   "id": "63d1cbef-c473-4f59-89d5-3f7d16d304f4",
   "metadata": {},
   "outputs": [],
   "source": [
    "v1 <- c(1,2,3)\n",
    "v2 <- c(10,20,30)"
   ]
  },
  {
   "cell_type": "code",
   "execution_count": 55,
   "id": "f854fb21-3c37-4405-b150-52ed3af1011f",
   "metadata": {},
   "outputs": [
    {
     "data": {
      "text/html": [
       "<ol class=list-inline>\n",
       "\t<li>FALSE</li>\n",
       "\t<li>FALSE</li>\n",
       "\t<li>FALSE</li>\n",
       "</ol>\n"
      ],
      "text/latex": [
       "\\begin{enumerate*}\n",
       "\\item FALSE\n",
       "\\item FALSE\n",
       "\\item FALSE\n",
       "\\end{enumerate*}\n"
      ],
      "text/markdown": [
       "1. FALSE\n",
       "2. FALSE\n",
       "3. FALSE\n",
       "\n",
       "\n"
      ],
      "text/plain": [
       "[1] FALSE FALSE FALSE"
      ]
     },
     "metadata": {},
     "output_type": "display_data"
    }
   ],
   "source": [
    "v1 > v2"
   ]
  },
  {
   "cell_type": "code",
   "execution_count": 54,
   "id": "c8e54a49-e937-468a-bb3a-46b26d2c7432",
   "metadata": {},
   "outputs": [
    {
     "data": {
      "text/html": [
       "<ol class=list-inline>\n",
       "\t<li>TRUE</li>\n",
       "\t<li>TRUE</li>\n",
       "\t<li>TRUE</li>\n",
       "</ol>\n"
      ],
      "text/latex": [
       "\\begin{enumerate*}\n",
       "\\item TRUE\n",
       "\\item TRUE\n",
       "\\item TRUE\n",
       "\\end{enumerate*}\n"
      ],
      "text/markdown": [
       "1. TRUE\n",
       "2. TRUE\n",
       "3. TRUE\n",
       "\n",
       "\n"
      ],
      "text/plain": [
       "[1] TRUE TRUE TRUE"
      ]
     },
     "metadata": {},
     "output_type": "display_data"
    }
   ],
   "source": [
    "v1 != v2"
   ]
  },
  {
   "cell_type": "code",
   "execution_count": 59,
   "id": "302f68c7-0701-477e-aa76-da54a2adc1af",
   "metadata": {
    "scrolled": true
   },
   "outputs": [
    {
     "data": {
      "text/html": [
       "<ol class=list-inline>\n",
       "\t<li>FALSE</li>\n",
       "\t<li>FALSE</li>\n",
       "\t<li>TRUE</li>\n",
       "</ol>\n"
      ],
      "text/latex": [
       "\\begin{enumerate*}\n",
       "\\item FALSE\n",
       "\\item FALSE\n",
       "\\item TRUE\n",
       "\\end{enumerate*}\n"
      ],
      "text/markdown": [
       "1. FALSE\n",
       "2. FALSE\n",
       "3. TRUE\n",
       "\n",
       "\n"
      ],
      "text/plain": [
       "[1] FALSE FALSE  TRUE"
      ]
     },
     "metadata": {},
     "output_type": "display_data"
    }
   ],
   "source": [
    "v1 == 3"
   ]
  },
  {
   "cell_type": "markdown",
   "id": "8454f039-b418-489c-96aa-9e463fb6e0ed",
   "metadata": {},
   "source": [
    "**Note: Be carefull with spacing comparisson operator and negative numbers!**"
   ]
  },
  {
   "cell_type": "code",
   "execution_count": 57,
   "id": "97fabc77-f988-47e3-93ee-79b1496ea083",
   "metadata": {},
   "outputs": [
    {
     "data": {
      "text/html": [
       "1"
      ],
      "text/latex": [
       "1"
      ],
      "text/markdown": [
       "1"
      ],
      "text/plain": [
       "[1] 1"
      ]
     },
     "metadata": {},
     "output_type": "display_data"
    }
   ],
   "source": [
    "var <- 1 # Assigns 1 to var\n",
    "var"
   ]
  },
  {
   "cell_type": "code",
   "execution_count": 58,
   "id": "a2707efa-fc7b-4b7d-9fb1-565ceb3763c2",
   "metadata": {},
   "outputs": [
    {
     "data": {
      "text/html": [
       "FALSE"
      ],
      "text/latex": [
       "FALSE"
      ],
      "text/markdown": [
       "FALSE"
      ],
      "text/plain": [
       "[1] FALSE"
      ]
     },
     "metadata": {},
     "output_type": "display_data"
    }
   ],
   "source": [
    "var < -1 # Compared var if less than -1"
   ]
  },
  {
   "cell_type": "markdown",
   "id": "9e561a5a-3abe-4051-9fda-09dcd5df75e7",
   "metadata": {},
   "source": [
    "### **Vector Indexing and Slicing**"
   ]
  },
  {
   "cell_type": "code",
   "execution_count": 67,
   "id": "3ca867c9-61b1-4e6b-bc57-17fab222f521",
   "metadata": {},
   "outputs": [],
   "source": [
    "v1 <- c(100, 200, 300) \n",
    "v2 <- c(\"a\", \"b\", \"c\")"
   ]
  },
  {
   "cell_type": "markdown",
   "id": "80d5f7c7-f704-4ead-a9ec-6593558d80b9",
   "metadata": {},
   "source": [
    "**Indexing**\n",
    "* Single indexing works using square brackets **`[]`**. \n",
    "* Note that R index starts at 1 (in many programming languages it starts at 0)\n",
    "* Multiple index selection is done by passing a vector of index positions in the square brackets."
   ]
  },
  {
   "cell_type": "code",
   "execution_count": 65,
   "id": "06d17a23-583e-4815-af6a-96a0ba78b249",
   "metadata": {},
   "outputs": [
    {
     "data": {
      "text/html": [
       "200"
      ],
      "text/latex": [
       "200"
      ],
      "text/markdown": [
       "200"
      ],
      "text/plain": [
       "[1] 200"
      ]
     },
     "metadata": {},
     "output_type": "display_data"
    }
   ],
   "source": [
    "v1[2]"
   ]
  },
  {
   "cell_type": "code",
   "execution_count": 63,
   "id": "43f3a558-ed43-4880-bd3a-6f5af51a53ad",
   "metadata": {},
   "outputs": [
    {
     "data": {
      "text/html": [
       "'b'"
      ],
      "text/latex": [
       "'b'"
      ],
      "text/markdown": [
       "'b'"
      ],
      "text/plain": [
       "[1] \"b\""
      ]
     },
     "metadata": {},
     "output_type": "display_data"
    }
   ],
   "source": [
    "v2[2]"
   ]
  },
  {
   "cell_type": "code",
   "execution_count": 64,
   "id": "3b49cfe3-dab1-4d59-adb7-1e8774353423",
   "metadata": {},
   "outputs": [
    {
     "data": {
      "text/html": [
       "<ol class=list-inline>\n",
       "\t<li>100</li>\n",
       "\t<li>300</li>\n",
       "</ol>\n"
      ],
      "text/latex": [
       "\\begin{enumerate*}\n",
       "\\item 100\n",
       "\\item 300\n",
       "\\end{enumerate*}\n"
      ],
      "text/markdown": [
       "1. 100\n",
       "2. 300\n",
       "\n",
       "\n"
      ],
      "text/plain": [
       "[1] 100 300"
      ]
     },
     "metadata": {},
     "output_type": "display_data"
    }
   ],
   "source": [
    "v1[c(1,3)]"
   ]
  },
  {
   "cell_type": "code",
   "execution_count": 66,
   "id": "10db555f-9027-4716-bb43-de32cedec098",
   "metadata": {},
   "outputs": [
    {
     "data": {
      "text/html": [
       "<ol class=list-inline>\n",
       "\t<li>'a'</li>\n",
       "\t<li>'c'</li>\n",
       "</ol>\n"
      ],
      "text/latex": [
       "\\begin{enumerate*}\n",
       "\\item 'a'\n",
       "\\item 'c'\n",
       "\\end{enumerate*}\n"
      ],
      "text/markdown": [
       "1. 'a'\n",
       "2. 'c'\n",
       "\n",
       "\n"
      ],
      "text/plain": [
       "[1] \"a\" \"c\""
      ]
     },
     "metadata": {},
     "output_type": "display_data"
    }
   ],
   "source": [
    "v2[c(1,3)]"
   ]
  },
  {
   "cell_type": "markdown",
   "id": "8ee0a0eb-f192-4093-9e2a-df8177bd30f2",
   "metadata": {},
   "source": [
    "**Slicing**\n",
    "* Slicing is done using a colon (**`[start_index:end_index]`**)\n",
    "* Both the **starting and ending indexes are inclusive!**"
   ]
  },
  {
   "cell_type": "code",
   "execution_count": 68,
   "id": "f5f0de56-e37f-4d4d-9031-07796040b5c0",
   "metadata": {},
   "outputs": [
    {
     "data": {
      "text/html": [
       "<ol class=list-inline>\n",
       "\t<li>200</li>\n",
       "\t<li>300</li>\n",
       "</ol>\n"
      ],
      "text/latex": [
       "\\begin{enumerate*}\n",
       "\\item 200\n",
       "\\item 300\n",
       "\\end{enumerate*}\n"
      ],
      "text/markdown": [
       "1. 200\n",
       "2. 300\n",
       "\n",
       "\n"
      ],
      "text/plain": [
       "[1] 200 300"
      ]
     },
     "metadata": {},
     "output_type": "display_data"
    }
   ],
   "source": [
    "v1[2:3]"
   ]
  },
  {
   "cell_type": "markdown",
   "id": "60f84fc0-ae0d-4750-ae3e-21842b9d815f",
   "metadata": {},
   "source": [
    "**Indexing with Names**"
   ]
  },
  {
   "cell_type": "code",
   "execution_count": 69,
   "id": "bdebd4c8-5b58-4813-ae32-52bb59ac9b5d",
   "metadata": {},
   "outputs": [
    {
     "data": {
      "text/html": [
       "<dl class=dl-horizontal>\n",
       "\t<dt>a</dt>\n",
       "\t\t<dd>100</dd>\n",
       "\t<dt>b</dt>\n",
       "\t\t<dd>200</dd>\n",
       "\t<dt>c</dt>\n",
       "\t\t<dd>300</dd>\n",
       "</dl>\n"
      ],
      "text/latex": [
       "\\begin{description*}\n",
       "\\item[a] 100\n",
       "\\item[b] 200\n",
       "\\item[c] 300\n",
       "\\end{description*}\n"
      ],
      "text/markdown": [
       "a\n",
       ":   100b\n",
       ":   200c\n",
       ":   300\n",
       "\n"
      ],
      "text/plain": [
       "  a   b   c \n",
       "100 200 300 "
      ]
     },
     "metadata": {},
     "output_type": "display_data"
    }
   ],
   "source": [
    "names(v1) <- v2\n",
    "v1"
   ]
  },
  {
   "cell_type": "code",
   "execution_count": 72,
   "id": "172cb6c6-615f-492b-bdea-8abce2d14a46",
   "metadata": {},
   "outputs": [
    {
     "data": {
      "text/html": [
       "<strong>b:</strong> 200"
      ],
      "text/latex": [
       "\\textbf{b:} 200"
      ],
      "text/markdown": [
       "**b:** 200"
      ],
      "text/plain": [
       "  b \n",
       "200 "
      ]
     },
     "metadata": {},
     "output_type": "display_data"
    }
   ],
   "source": [
    "v1[\"b\"]"
   ]
  },
  {
   "cell_type": "code",
   "execution_count": 74,
   "id": "e149d093-df4f-4fb7-808a-3031d958e1ca",
   "metadata": {},
   "outputs": [
    {
     "data": {
      "text/html": [
       "<dl class=dl-horizontal>\n",
       "\t<dt>a</dt>\n",
       "\t\t<dd>100</dd>\n",
       "\t<dt>c</dt>\n",
       "\t\t<dd>300</dd>\n",
       "</dl>\n"
      ],
      "text/latex": [
       "\\begin{description*}\n",
       "\\item[a] 100\n",
       "\\item[c] 300\n",
       "\\end{description*}\n"
      ],
      "text/markdown": [
       "a\n",
       ":   100c\n",
       ":   300\n",
       "\n"
      ],
      "text/plain": [
       "  a   c \n",
       "100 300 "
      ]
     },
     "metadata": {},
     "output_type": "display_data"
    }
   ],
   "source": [
    "v1[c(\"a\", \"c\")]"
   ]
  },
  {
   "cell_type": "markdown",
   "id": "b77d7dfe-f867-4e90-99c1-335acdc42ce3",
   "metadata": {},
   "source": [
    "#### **Comparisson Operators and Selection** \n",
    "\n",
    "* We can use comparisson operators seen earlier to filter out elements from a vector. \n",
    "* This is sometimes referred to as **boolean/logical masking**, because you create a vector of logicals/booleans to filter out results you want. "
   ]
  },
  {
   "cell_type": "code",
   "execution_count": 76,
   "id": "ceefd56b-2aef-4280-b2b6-19c7d91aa6b1",
   "metadata": {},
   "outputs": [
    {
     "data": {
      "text/html": [
       "<strong>c:</strong> 300"
      ],
      "text/latex": [
       "\\textbf{c:} 300"
      ],
      "text/markdown": [
       "**c:** 300"
      ],
      "text/plain": [
       "  c \n",
       "300 "
      ]
     },
     "metadata": {},
     "output_type": "display_data"
    }
   ],
   "source": [
    "v1[v1>200]"
   ]
  },
  {
   "cell_type": "code",
   "execution_count": 77,
   "id": "1462ef52-38a7-46d5-8e92-d38c66a91fe7",
   "metadata": {},
   "outputs": [],
   "source": [
    "filter <- v1>200"
   ]
  },
  {
   "cell_type": "code",
   "execution_count": 78,
   "id": "a9bd81ca-3e81-4823-8758-ed4986c41157",
   "metadata": {},
   "outputs": [
    {
     "data": {
      "text/html": [
       "<strong>c:</strong> 300"
      ],
      "text/latex": [
       "\\textbf{c:} 300"
      ],
      "text/markdown": [
       "**c:** 300"
      ],
      "text/plain": [
       "  c \n",
       "300 "
      ]
     },
     "metadata": {},
     "output_type": "display_data"
    }
   ],
   "source": [
    "v1[filter]"
   ]
  },
  {
   "cell_type": "markdown",
   "id": "125199de-e433-4de0-b202-a1b349faa75d",
   "metadata": {},
   "source": [
    "#### **Getting Helpt with R**\n",
    "\n",
    "* Aside from Google Search and visiting [StackOverflow](www.stackoverflow.com), there are build-in ways to get help with R. \n",
    "* Most R functions have online documentation.\n",
    "\n",
    "| Method | Description | \n",
    "| ---- | ---- | \n",
    "|**`help(topic)`** | Returns documentation on topic | \n",
    "|**`help.search(\"topic\")`** | Search the help system. Pops up a help window | \n",
    "|**`apropos(\"topic\")`** | The names of all object in the search list matching the regular expression \"topic\"|\n",
    "|**`help.start()`**| Start the HTML version of help |\n",
    "|**`str(a)`**| Display the internal structure of an R object | \n",
    "|**`summary(a)`** | Gives a \"summary\" of a. |"
   ]
  },
  {
   "cell_type": "code",
   "execution_count": 85,
   "id": "cf3efac6-1c28-43a5-accc-dc469bc69529",
   "metadata": {},
   "outputs": [],
   "source": [
    "help.search(\"numeric\") # Pops up a help window/tab"
   ]
  },
  {
   "cell_type": "code",
   "execution_count": 83,
   "id": "99b9131e-502b-4097-a38d-28070eb2653f",
   "metadata": {},
   "outputs": [
    {
     "data": {
      "text/html": [
       "\n",
       "<table width=\"100%\" summary=\"page for vector {base}\"><tr><td>vector {base}</td><td style=\"text-align: right;\">R Documentation</td></tr></table>\n",
       "\n",
       "<h2>Vectors</h2>\n",
       "\n",
       "<h3>Description</h3>\n",
       "\n",
       "<p><code>vector</code> produces a vector of the given length and mode.\n",
       "</p>\n",
       "<p><code>as.vector</code>, a generic, attempts to coerce its argument into a\n",
       "vector of mode <code>mode</code> (the default is to coerce to whichever\n",
       "vector mode is most convenient): if the result is atomic all\n",
       "attributes are removed.\n",
       "</p>\n",
       "<p><code>is.vector</code> returns <code>TRUE</code> if <code>x</code> is a vector of the\n",
       "specified mode having no attributes <em>other than names</em>.  It returns\n",
       "<code>FALSE</code> otherwise.\n",
       "</p>\n",
       "\n",
       "\n",
       "<h3>Usage</h3>\n",
       "\n",
       "<pre>\n",
       "vector(mode = \"logical\", length = 0)\n",
       "as.vector(x, mode = \"any\")\n",
       "is.vector(x, mode = \"any\")\n",
       "</pre>\n",
       "\n",
       "\n",
       "<h3>Arguments</h3>\n",
       "\n",
       "<table summary=\"R argblock\">\n",
       "<tr valign=\"top\"><td><code>mode</code></td>\n",
       "<td>\n",
       "<p>character string naming an atomic mode or\n",
       "<code>\"list\"</code> or <code>\"expression\"</code> or (except for <code>vector</code>)\n",
       "<code>\"any\"</code>.  Currently, <code>is.vector()</code> allows any type (see\n",
       "<code>typeof</code>) for <code>mode</code>, and when mode is not\n",
       "<code>\"any\"</code>, <code>is.vector(x, mode)</code> is almost the same as\n",
       "<code>typeof(x) == mode</code>.</p>\n",
       "</td></tr></table>\n",
       "\n",
       "<table summary=\"R argblock\">\n",
       "<tr valign=\"top\"><td><code>length</code></td>\n",
       "<td>\n",
       "<p>a non-negative integer specifying the desired length.\n",
       "For a long vector, i.e., <code>length &gt; .Machine$integer.max</code>, it\n",
       "has to be of type <code>\"double\"</code>.  Supplying an argument of length\n",
       "other than one is an error.</p>\n",
       "</td></tr>\n",
       "<tr valign=\"top\"><td><code>x</code></td>\n",
       "<td>\n",
       "<p>an <span style=\"font-family: Courier New, Courier; color: #666666;\"><b>R</b></span> object.</p>\n",
       "</td></tr>\n",
       "</table>\n",
       "\n",
       "\n",
       "<h3>Details</h3>\n",
       "\n",
       "<p>The atomic modes are <code>\"logical\"</code>, <code>\"integer\"</code>,\n",
       "<code>\"numeric\"</code> (synonym <code>\"double\"</code>), <code>\"complex\"</code>,\n",
       "<code>\"character\"</code> and <code>\"raw\"</code>.\n",
       "</p>\n",
       "<p>If <code>mode = \"any\"</code>, <code>is.vector</code> may return <code>TRUE</code> for\n",
       "the atomic modes, <code>list</code> and <code>expression</code>.\n",
       "For any <code>mode</code>, it will return <code>FALSE</code> if <code>x</code> has any\n",
       "attributes except names.  (This is incompatible with S.)  On the other\n",
       "hand, <code>as.vector</code> removes <em>all</em> attributes including names\n",
       "for results of atomic mode (but not those of mode <code>\"list\"</code> nor\n",
       "<code>\"expression\"</code>).\n",
       "</p>\n",
       "<p>Note that factors are <em>not</em> vectors; <code>is.vector</code> returns\n",
       "<code>FALSE</code> and <code>as.vector</code> converts a factor to a character\n",
       "vector for <code>mode = \"any\"</code>.\n",
       "</p>\n",
       "\n",
       "\n",
       "<h3>Value</h3>\n",
       "\n",
       "<p>For <code>vector</code>, a vector of the given length and mode.  Logical\n",
       "vector elements are initialized to <code>FALSE</code>, numeric vector\n",
       "elements to <code>0</code>, character vector elements to <code>\"\"</code>, raw\n",
       "vector elements to <code>nul</code> bytes and list/expression elements to\n",
       "<code>NULL</code>.\n",
       "</p>\n",
       "<p>For <code>as.vector</code>, a vector (atomic or of type list or expression).\n",
       "All attributes are removed from the result if it is of an atomic mode,\n",
       "but not in general for a list result.  The default method handles 24\n",
       "input types and 12 values of <code>type</code>: the details of most\n",
       "coercions are undocumented and subject to change.\n",
       "</p>\n",
       "<p>For <code>is.vector</code>, <code>TRUE</code> or <code>FALSE</code>.\n",
       "<code>is.vector(x, mode = \"numeric\")</code> can be true for vectors of types\n",
       "<code>\"integer\"</code> or <code>\"double\"</code> whereas <code>is.vector(x, mode =\n",
       "  \"double\")</code> can only be true for those of type <code>\"double\"</code>.\n",
       "</p>\n",
       "\n",
       "\n",
       "<h3>Methods for <code>as.vector()</code></h3>\n",
       "\n",
       "<p>Writers of methods for <code>as.vector</code> need to take care to\n",
       "follow the conventions of the default method.  In particular\n",
       "</p>\n",
       "\n",
       "<ul>\n",
       "<li><p> Argument <code>mode</code> can be <code>\"any\"</code>, any of the atomic\n",
       "modes, <code>\"list\"</code>, <code>\"expression\"</code>, <code>\"symbol\"</code>,\n",
       "<code>\"pairlist\"</code> or one of the aliases <code>\"double\"</code> and <code>\"name\"</code>.\n",
       "</p>\n",
       "</li>\n",
       "<li><p> The return value should be of the appropriate mode.  For\n",
       "<code>mode = \"any\"</code> this means an atomic vector or list.\n",
       "</p>\n",
       "</li>\n",
       "<li><p> Attributes should be treated appropriately: in particular when\n",
       "the result is an atomic vector there should be no attributes, not\n",
       "even names.\n",
       "</p>\n",
       "</li>\n",
       "<li> <p><code>is.vector(as.vector(x, m), m)</code> should be true for any\n",
       "mode <code>m</code>, including the default <code>\"any\"</code>.\n",
       "</p>\n",
       "</li></ul>\n",
       "\n",
       "\n",
       "\n",
       "<h3>Note</h3>\n",
       "\n",
       "<p><code>as.vector</code> and <code>is.vector</code> are quite distinct from the\n",
       "meaning of the formal class <code>\"vector\"</code> in the <span class=\"pkg\">methods</span>\n",
       "package, and hence <code>as(x, \"vector\")</code> and\n",
       "<code>is(x, \"vector\")</code>.\n",
       "</p>\n",
       "<p>Note that <code>as.vector(x)</code> is not necessarily a null operation if\n",
       "<code>is.vector(x)</code> is true: any names will be removed from an atomic\n",
       "vector.\n",
       "</p>\n",
       "<p>Non-vector <code>mode</code>s <code>\"symbol\"</code> (synonym <code>\"name\"</code>) and\n",
       "<code>\"pairlist\"</code> are accepted but have long been undocumented: they\n",
       "are used to implement <code>as.name</code> and\n",
       "<code>as.pairlist</code>, and those functions should preferably be\n",
       "used directly.  None of the description here applies to those\n",
       "<code>mode</code>s: see the help for the preferred forms.\n",
       "</p>\n",
       "\n",
       "\n",
       "<h3>References</h3>\n",
       "\n",
       "<p>Becker, R. A., Chambers, J. M. and Wilks, A. R. (1988)\n",
       "<em>The New S Language</em>.\n",
       "Wadsworth &amp; Brooks/Cole.\n",
       "</p>\n",
       "\n",
       "\n",
       "<h3>See Also</h3>\n",
       "\n",
       "<p><code>c</code>, <code>is.numeric</code>, <code>is.list</code>, etc.\n",
       "</p>\n",
       "\n",
       "\n",
       "<h3>Examples</h3>\n",
       "\n",
       "<pre>\n",
       "df &lt;- data.frame(x = 1:3, y = 5:7)\n",
       "## Error:\n",
       "try(as.vector(data.frame(x = 1:3, y = 5:7), mode = \"numeric\"))\n",
       "\n",
       "x &lt;- c(a = 1, b = 2)\n",
       "is.vector(x)\n",
       "as.vector(x)\n",
       "all.equal(x, as.vector(x)) ## FALSE\n",
       "\n",
       "\n",
       "###-- All the following are TRUE:\n",
       "is.list(df)\n",
       "! is.vector(df)\n",
       "! is.vector(df, mode = \"list\")\n",
       "\n",
       "is.vector(list(), mode = \"list\")\n",
       "</pre>\n",
       "\n",
       "<hr /><div style=\"text-align: center;\">[Package <em>base</em> version 3.6.1 ]</div>"
      ],
      "text/latex": [
       "\\inputencoding{utf8}\n",
       "\\HeaderA{vector}{Vectors}{vector}\n",
       "\\aliasA{as.vector}{vector}{as.vector}\n",
       "\\methaliasA{as.vector.factor}{vector}{as.vector.factor}\n",
       "\\aliasA{atomic}{vector}{atomic}\n",
       "\\aliasA{is.vector}{vector}{is.vector}\n",
       "\\keyword{classes}{vector}\n",
       "%\n",
       "\\begin{Description}\\relax\n",
       "\\code{vector} produces a vector of the given length and mode.\n",
       "\n",
       "\\code{as.vector}, a generic, attempts to coerce its argument into a\n",
       "vector of mode \\code{mode} (the default is to coerce to whichever\n",
       "vector mode is most convenient): if the result is atomic all\n",
       "attributes are removed.\n",
       "\n",
       "\\code{is.vector} returns \\code{TRUE} if \\code{x} is a vector of the\n",
       "specified mode having no attributes \\emph{other than names}.  It returns\n",
       "\\code{FALSE} otherwise.\n",
       "\\end{Description}\n",
       "%\n",
       "\\begin{Usage}\n",
       "\\begin{verbatim}\n",
       "vector(mode = \"logical\", length = 0)\n",
       "as.vector(x, mode = \"any\")\n",
       "is.vector(x, mode = \"any\")\n",
       "\\end{verbatim}\n",
       "\\end{Usage}\n",
       "%\n",
       "\\begin{Arguments}\n",
       "\\begin{ldescription}\n",
       "\\item[\\code{mode}] character string naming an atomic mode or\n",
       "\\code{\"list\"} or \\code{\"expression\"} or (except for \\code{vector})\n",
       "\\code{\"any\"}.  Currently, \\code{is.vector()} allows any type (see\n",
       "\\code{\\LinkA{typeof}{typeof}}) for \\code{mode}, and when mode is not\n",
       "\\code{\"any\"}, \\code{is.vector(x, mode)} is almost the same as\n",
       "\\code{typeof(x) == mode}.\n",
       "\\item[\\code{length}] a non-negative integer specifying the desired length.\n",
       "For a long vector, i.e., \\code{length > .Machine\\$integer.max}, it\n",
       "has to be of type \\code{\"double\"}.  Supplying an argument of length\n",
       "other than one is an error.\n",
       "\\item[\\code{x}] an \\R{} object.\n",
       "\\end{ldescription}\n",
       "\\end{Arguments}\n",
       "%\n",
       "\\begin{Details}\\relax\n",
       "The atomic modes are \\code{\"logical\"}, \\code{\"integer\"},\n",
       "\\code{\"numeric\"} (synonym \\code{\"double\"}), \\code{\"complex\"},\n",
       "\\code{\"character\"} and \\code{\"raw\"}.\n",
       "\n",
       "If \\code{mode = \"any\"}, \\code{is.vector} may return \\code{TRUE} for\n",
       "the atomic modes, \\code{\\LinkA{list}{list}} and \\code{\\LinkA{expression}{expression}}.\n",
       "For any \\code{mode}, it will return \\code{FALSE} if \\code{x} has any\n",
       "attributes except names.  (This is incompatible with S.)  On the other\n",
       "hand, \\code{as.vector} removes \\emph{all} attributes including names\n",
       "for results of atomic mode (but not those of mode \\code{\"list\"} nor\n",
       "\\code{\"expression\"}).\n",
       "\n",
       "Note that factors are \\emph{not} vectors; \\code{is.vector} returns\n",
       "\\code{FALSE} and \\code{as.vector} converts a factor to a character\n",
       "vector for \\code{mode = \"any\"}.\n",
       "\\end{Details}\n",
       "%\n",
       "\\begin{Value}\n",
       "For \\code{vector}, a vector of the given length and mode.  Logical\n",
       "vector elements are initialized to \\code{FALSE}, numeric vector\n",
       "elements to \\code{0}, character vector elements to \\code{\"\"}, raw\n",
       "vector elements to \\code{nul} bytes and list/expression elements to\n",
       "\\code{NULL}.\n",
       "\n",
       "For \\code{as.vector}, a vector (atomic or of type list or expression).\n",
       "All attributes are removed from the result if it is of an atomic mode,\n",
       "but not in general for a list result.  The default method handles 24\n",
       "input types and 12 values of \\code{type}: the details of most\n",
       "coercions are undocumented and subject to change.\n",
       "\n",
       "For \\code{is.vector}, \\code{TRUE} or \\code{FALSE}.\n",
       "\\code{is.vector(x, mode = \"numeric\")} can be true for vectors of types\n",
       "\\code{\"integer\"} or \\code{\"double\"} whereas \\code{is.vector(x, mode =\n",
       "  \"double\")} can only be true for those of type \\code{\"double\"}.\n",
       "\\end{Value}\n",
       "%\n",
       "\\begin{Section}{Methods for \\code{as.vector()}}\n",
       "Writers of methods for \\code{as.vector} need to take care to\n",
       "follow the conventions of the default method.  In particular\n",
       "\\begin{itemize}\n",
       "\n",
       "\\item{} Argument \\code{mode} can be \\code{\"any\"}, any of the atomic\n",
       "modes, \\code{\"list\"}, \\code{\"expression\"}, \\code{\"symbol\"},\n",
       "\\code{\"pairlist\"} or one of the aliases \\code{\"double\"} and \\code{\"name\"}.\n",
       "\n",
       "\\item{} The return value should be of the appropriate mode.  For\n",
       "\\code{mode = \"any\"} this means an atomic vector or list.\n",
       "\n",
       "\\item{} Attributes should be treated appropriately: in particular when\n",
       "the result is an atomic vector there should be no attributes, not\n",
       "even names.\n",
       "\n",
       "\\item{} \\code{is.vector(as.vector(x, m), m)} should be true for any\n",
       "mode \\code{m}, including the default \\code{\"any\"}.\n",
       "\n",
       "\\end{itemize}\n",
       "\n",
       "\\end{Section}\n",
       "%\n",
       "\\begin{Note}\\relax\n",
       "\\code{as.vector} and \\code{is.vector} are quite distinct from the\n",
       "meaning of the formal class \\code{\"vector\"} in the \\pkg{methods}\n",
       "package, and hence \\code{\\LinkA{as}{as}(x, \"vector\")} and\n",
       "\\code{\\LinkA{is}{is}(x, \"vector\")}.\n",
       "\n",
       "Note that \\code{as.vector(x)} is not necessarily a null operation if\n",
       "\\code{is.vector(x)} is true: any names will be removed from an atomic\n",
       "vector.\n",
       "\n",
       "Non-vector \\code{mode}s \\code{\"symbol\"} (synonym \\code{\"name\"}) and\n",
       "\\code{\"pairlist\"} are accepted but have long been undocumented: they\n",
       "are used to implement \\code{\\LinkA{as.name}{as.name}} and\n",
       "\\code{\\LinkA{as.pairlist}{as.pairlist}}, and those functions should preferably be\n",
       "used directly.  None of the description here applies to those\n",
       "\\code{mode}s: see the help for the preferred forms.\n",
       "\\end{Note}\n",
       "%\n",
       "\\begin{References}\\relax\n",
       "Becker, R. A., Chambers, J. M. and Wilks, A. R. (1988)\n",
       "\\emph{The New S Language}.\n",
       "Wadsworth \\& Brooks/Cole.\n",
       "\\end{References}\n",
       "%\n",
       "\\begin{SeeAlso}\\relax\n",
       "\\code{\\LinkA{c}{c}}, \\code{\\LinkA{is.numeric}{is.numeric}}, \\code{\\LinkA{is.list}{is.list}}, etc.\n",
       "\\end{SeeAlso}\n",
       "%\n",
       "\\begin{Examples}\n",
       "\\begin{ExampleCode}\n",
       "df <- data.frame(x = 1:3, y = 5:7)\n",
       "## Error:\n",
       "try(as.vector(data.frame(x = 1:3, y = 5:7), mode = \"numeric\"))\n",
       "\n",
       "x <- c(a = 1, b = 2)\n",
       "is.vector(x)\n",
       "as.vector(x)\n",
       "all.equal(x, as.vector(x)) ## FALSE\n",
       "\n",
       "\n",
       "###-- All the following are TRUE:\n",
       "is.list(df)\n",
       "! is.vector(df)\n",
       "! is.vector(df, mode = \"list\")\n",
       "\n",
       "is.vector(list(), mode = \"list\")\n",
       "\\end{ExampleCode}\n",
       "\\end{Examples}"
      ],
      "text/plain": [
       "vector                  package:base                   R Documentation\n",
       "\n",
       "_\bV_\be_\bc_\bt_\bo_\br_\bs\n",
       "\n",
       "_\bD_\be_\bs_\bc_\br_\bi_\bp_\bt_\bi_\bo_\bn:\n",
       "\n",
       "     'vector' produces a vector of the given length and mode.\n",
       "\n",
       "     'as.vector', a generic, attempts to coerce its argument into a\n",
       "     vector of mode 'mode' (the default is to coerce to whichever\n",
       "     vector mode is most convenient): if the result is atomic all\n",
       "     attributes are removed.\n",
       "\n",
       "     'is.vector' returns 'TRUE' if 'x' is a vector of the specified\n",
       "     mode having no attributes _other than names_.  It returns 'FALSE'\n",
       "     otherwise.\n",
       "\n",
       "_\bU_\bs_\ba_\bg_\be:\n",
       "\n",
       "     vector(mode = \"logical\", length = 0)\n",
       "     as.vector(x, mode = \"any\")\n",
       "     is.vector(x, mode = \"any\")\n",
       "     \n",
       "_\bA_\br_\bg_\bu_\bm_\be_\bn_\bt_\bs:\n",
       "\n",
       "    mode: character string naming an atomic mode or '\"list\"' or\n",
       "          '\"expression\"' or (except for 'vector') '\"any\"'.  Currently,\n",
       "          'is.vector()' allows any type (see 'typeof') for 'mode', and\n",
       "          when mode is not '\"any\"', 'is.vector(x, mode)' is almost the\n",
       "          same as 'typeof(x) == mode'.\n",
       "\n",
       "  length: a non-negative integer specifying the desired length.  For a\n",
       "          long vector, i.e., 'length > .Machine$integer.max', it has to\n",
       "          be of type '\"double\"'.  Supplying an argument of length other\n",
       "          than one is an error.\n",
       "\n",
       "       x: an R object.\n",
       "\n",
       "_\bD_\be_\bt_\ba_\bi_\bl_\bs:\n",
       "\n",
       "     The atomic modes are '\"logical\"', '\"integer\"', '\"numeric\"'\n",
       "     (synonym '\"double\"'), '\"complex\"', '\"character\"' and '\"raw\"'.\n",
       "\n",
       "     If 'mode = \"any\"', 'is.vector' may return 'TRUE' for the atomic\n",
       "     modes, 'list' and 'expression'.  For any 'mode', it will return\n",
       "     'FALSE' if 'x' has any attributes except names.  (This is\n",
       "     incompatible with S.)  On the other hand, 'as.vector' removes\n",
       "     _all_ attributes including names for results of atomic mode (but\n",
       "     not those of mode '\"list\"' nor '\"expression\"').\n",
       "\n",
       "     Note that factors are _not_ vectors; 'is.vector' returns 'FALSE'\n",
       "     and 'as.vector' converts a factor to a character vector for 'mode\n",
       "     = \"any\"'.\n",
       "\n",
       "_\bV_\ba_\bl_\bu_\be:\n",
       "\n",
       "     For 'vector', a vector of the given length and mode.  Logical\n",
       "     vector elements are initialized to 'FALSE', numeric vector\n",
       "     elements to '0', character vector elements to '\"\"', raw vector\n",
       "     elements to 'nul' bytes and list/expression elements to 'NULL'.\n",
       "\n",
       "     For 'as.vector', a vector (atomic or of type list or expression).\n",
       "     All attributes are removed from the result if it is of an atomic\n",
       "     mode, but not in general for a list result.  The default method\n",
       "     handles 24 input types and 12 values of 'type': the details of\n",
       "     most coercions are undocumented and subject to change.\n",
       "\n",
       "     For 'is.vector', 'TRUE' or 'FALSE'.  'is.vector(x, mode =\n",
       "     \"numeric\")' can be true for vectors of types '\"integer\"' or\n",
       "     '\"double\"' whereas 'is.vector(x, mode = \"double\")' can only be\n",
       "     true for those of type '\"double\"'.\n",
       "\n",
       "_\bM_\be_\bt_\bh_\bo_\bd_\bs _\bf_\bo_\br '_\ba_\bs._\bv_\be_\bc_\bt_\bo_\br()':\n",
       "\n",
       "     Writers of methods for 'as.vector' need to take care to follow the\n",
       "     conventions of the default method.  In particular\n",
       "\n",
       "        â€¢ Argument 'mode' can be '\"any\"', any of the atomic modes,\n",
       "          '\"list\"', '\"expression\"', '\"symbol\"', '\"pairlist\"' or one of\n",
       "          the aliases '\"double\"' and '\"name\"'.\n",
       "\n",
       "        â€¢ The return value should be of the appropriate mode.  For\n",
       "          'mode = \"any\"' this means an atomic vector or list.\n",
       "\n",
       "        â€¢ Attributes should be treated appropriately: in particular\n",
       "          when the result is an atomic vector there should be no\n",
       "          attributes, not even names.\n",
       "\n",
       "        â€¢ 'is.vector(as.vector(x, m), m)' should be true for any mode\n",
       "          'm', including the default '\"any\"'.\n",
       "\n",
       "_\bN_\bo_\bt_\be:\n",
       "\n",
       "     'as.vector' and 'is.vector' are quite distinct from the meaning of\n",
       "     the formal class '\"vector\"' in the 'methods' package, and hence\n",
       "     'as(x, \"vector\")' and 'is(x, \"vector\")'.\n",
       "\n",
       "     Note that 'as.vector(x)' is not necessarily a null operation if\n",
       "     'is.vector(x)' is true: any names will be removed from an atomic\n",
       "     vector.\n",
       "\n",
       "     Non-vector 'mode's '\"symbol\"' (synonym '\"name\"') and '\"pairlist\"'\n",
       "     are accepted but have long been undocumented: they are used to\n",
       "     implement 'as.name' and 'as.pairlist', and those functions should\n",
       "     preferably be used directly.  None of the description here applies\n",
       "     to those 'mode's: see the help for the preferred forms.\n",
       "\n",
       "_\bR_\be_\bf_\be_\br_\be_\bn_\bc_\be_\bs:\n",
       "\n",
       "     Becker, R. A., Chambers, J. M. and Wilks, A. R. (1988) _The New S\n",
       "     Language_.  Wadsworth & Brooks/Cole.\n",
       "\n",
       "_\bS_\be_\be _\bA_\bl_\bs_\bo:\n",
       "\n",
       "     'c', 'is.numeric', 'is.list', etc.\n",
       "\n",
       "_\bE_\bx_\ba_\bm_\bp_\bl_\be_\bs:\n",
       "\n",
       "     df <- data.frame(x = 1:3, y = 5:7)\n",
       "     ## Error:\n",
       "     try(as.vector(data.frame(x = 1:3, y = 5:7), mode = \"numeric\"))\n",
       "     \n",
       "     x <- c(a = 1, b = 2)\n",
       "     is.vector(x)\n",
       "     as.vector(x)\n",
       "     all.equal(x, as.vector(x)) ## FALSE\n",
       "     \n",
       "     \n",
       "     ###-- All the following are TRUE:\n",
       "     is.list(df)\n",
       "     ! is.vector(df)\n",
       "     ! is.vector(df, mode = \"list\")\n",
       "     \n",
       "     is.vector(list(), mode = \"list\")\n",
       "     "
      ]
     },
     "metadata": {},
     "output_type": "display_data"
    }
   ],
   "source": [
    "help(vector)"
   ]
  }
 ],
 "metadata": {
  "kernelspec": {
   "display_name": "R",
   "language": "R",
   "name": "ir"
  },
  "language_info": {
   "codemirror_mode": "r",
   "file_extension": ".r",
   "mimetype": "text/x-r-source",
   "name": "R",
   "pygments_lexer": "r",
   "version": "3.6.1"
  }
 },
 "nbformat": 4,
 "nbformat_minor": 5
}
