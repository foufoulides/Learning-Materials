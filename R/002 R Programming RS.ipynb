{
 "cells": [
  {
   "cell_type": "markdown",
   "id": "fcfb7451-78f5-46f0-9f5b-7b97dac8cc44",
   "metadata": {},
   "source": [
    "## <center> R Programming Reference Sheet </center> \n",
    "---\n",
    "\n",
    "### <center> Conditional Statements </center>\n",
    "\n",
    "To execute or not execute a block of code based on conditions (logical tests)"
   ]
  },
  {
   "cell_type": "markdown",
   "id": "dc0402e9-8aec-4a44-8094-465031d4dfac",
   "metadata": {},
   "source": [
    "#### **`if`** Statement\n",
    "\n",
    "`if(condition){`\n",
    "    \n",
    "`execute block of code`\n",
    "    \n",
    "`}`"
   ]
  },
  {
   "cell_type": "code",
   "execution_count": 6,
   "id": "28657e6f-9039-4a6d-a959-85cad2d73f8d",
   "metadata": {},
   "outputs": [
    {
     "data": {
      "text/html": [
       "FALSE"
      ],
      "text/latex": [
       "FALSE"
      ],
      "text/markdown": [
       "FALSE"
      ],
      "text/plain": [
       "[1] FALSE"
      ]
     },
     "metadata": {},
     "output_type": "display_data"
    }
   ],
   "source": [
    "hot <- FALSE\n",
    "temp <- 21\n",
    "\n",
    "if (temp > 26){\n",
    "    hot <- TRUE\n",
    "}\n",
    "\n",
    "hot"
   ]
  },
  {
   "cell_type": "markdown",
   "id": "7c82186d-07c9-4673-aad2-7a116bf7cd20",
   "metadata": {},
   "source": [
    "#### **`if-else`** Statement\n",
    "\n",
    "`if(condition){`\n",
    "    \n",
    "`execute block of code`\n",
    "    \n",
    "`} else{` \n",
    "\n",
    "`execute block of code`\n",
    "\n",
    "`}`"
   ]
  },
  {
   "cell_type": "code",
   "execution_count": 3,
   "id": "f81b5490-df10-4d36-9ef6-5ed0bd6b301a",
   "metadata": {},
   "outputs": [
    {
     "data": {
      "text/html": [
       "FALSE"
      ],
      "text/latex": [
       "FALSE"
      ],
      "text/markdown": [
       "FALSE"
      ],
      "text/plain": [
       "[1] FALSE"
      ]
     },
     "metadata": {},
     "output_type": "display_data"
    }
   ],
   "source": [
    "temp <- 21\n",
    "\n",
    "if (temp > 26){\n",
    "    hot <- TRUE\n",
    "} else{ \n",
    "    hot <- FALSE\n",
    "}\n",
    "\n",
    "hot"
   ]
  },
  {
   "cell_type": "markdown",
   "id": "ca4bedbe-98da-4e9a-940d-7c24416815f4",
   "metadata": {},
   "source": [
    "#### **`if - else if - else`** Statement\n",
    "\n",
    "`if(condition){`\n",
    "    \n",
    "`execute block of code`\n",
    "    \n",
    "`} else if{` \n",
    "\n",
    "`execute block of code`\n",
    "\n",
    "`}`\n",
    "\n",
    "`else{`\n",
    "\n",
    "`execute block of code`\n",
    "\n",
    "`}`"
   ]
  },
  {
   "cell_type": "code",
   "execution_count": 5,
   "id": "a95ee89b-a627-4a09-b7a8-d9441cda8922",
   "metadata": {},
   "outputs": [
    {
     "name": "stdout",
     "output_type": "stream",
     "text": [
      "[1] \"It's warm\"\n"
     ]
    }
   ],
   "source": [
    "temp <- 21 \n",
    "\n",
    "if (temp <= 0){ \n",
    "    print(\"It's very cold\")\n",
    "} else if (temp > 0 & temp <= 10){ \n",
    "    print(\"It's cold\")\n",
    "} else if (temp > 10 & temp <= 20){ \n",
    "    print(\"It's cool\")\n",
    "} else if (temp > 20 & temp < 30){ \n",
    "    print(\"It's warm\")\n",
    "} else{\n",
    "    print(\"It's hot\")\n",
    "}"
   ]
  },
  {
   "cell_type": "markdown",
   "id": "5cbdc8a8-1e74-4b03-a2f2-46b1aa532167",
   "metadata": {},
   "source": [
    "---\n",
    "### <center> Loops </center> \n",
    "\n",
    "**While Loop**\n",
    "* Repetately executes a block of code while a condition is true.\n",
    "* If condition never becomes false, you get an infinite loop! Press **`Ctrl-C`** to kill process.\n",
    "* Also, **`break`** statement by itself, allows you to break out of a loop."
   ]
  },
  {
   "cell_type": "markdown",
   "id": "03906f2e-a885-4e4a-811c-60440ef397de",
   "metadata": {},
   "source": [
    "`while (condition){`\n",
    "\n",
    "`execute block of code`\n",
    "\n",
    "`if(condition){`\n",
    "\n",
    "`break`\n",
    "\n",
    "`}`\n",
    "\n",
    "`}`"
   ]
  },
  {
   "cell_type": "code",
   "execution_count": 73,
   "id": "b06b3b91-4355-4b9b-9973-baffd731ae83",
   "metadata": {},
   "outputs": [
    {
     "name": "stdout",
     "output_type": "stream",
     "text": [
      "Temperature is: 21 \n",
      "[1] \"It's too cold, increment themostat by 1 degree.\"\n",
      "Temperature is: 21 \n",
      "[1] \"It's too cold, increment themostat by 1 degree.\"\n",
      "Temperature is: 21 \n",
      "[1] \"It's too cold, increment themostat by 1 degree.\"\n",
      "Temperature is: 21 \n",
      "[1] \"The temperature is perfect!\"\n"
     ]
    }
   ],
   "source": [
    "t <- 18 \n",
    "\n",
    "while (t < 21){\n",
    "    cat(\"Temperature is:\", x, \"\\n\")\n",
    "    print(\"It's too cold, increment themostat by 1 degree.\") \n",
    "    t <- t+1\n",
    "} \n",
    "cat(\"Temperature is:\", t, \"\\n\")\n",
    "print(\"The temperature is perfect!\")"
   ]
  },
  {
   "cell_type": "markdown",
   "id": "3279a550-3d49-47e5-8bc8-6aa47030d946",
   "metadata": {},
   "source": [
    "**For Loop**\n",
    "* For loopes iterate over an object (e.g. vector, matrix, list) and execute a block of code at each loop."
   ]
  },
  {
   "cell_type": "markdown",
   "id": "584e344d-5262-4bdc-a333-09e5edd64cad",
   "metadata": {},
   "source": [
    "`for (element in iterable_object){`\n",
    "\n",
    "`execute block of code`\n",
    "\n",
    "`}`"
   ]
  },
  {
   "cell_type": "code",
   "execution_count": 11,
   "id": "18c81785-88bb-4ec3-b210-a777e01eb7b4",
   "metadata": {},
   "outputs": [],
   "source": [
    "days <- c(\"M\", \"T\", \"W\", \"R\", \"F\", \"S\", \"U\")\n",
    "temp <- c(18, 17, 16, 17, 17, 19, 18)"
   ]
  },
  {
   "cell_type": "code",
   "execution_count": 12,
   "id": "a753c876-6a34-42b4-92c2-8a9795de2d08",
   "metadata": {},
   "outputs": [
    {
     "name": "stdout",
     "output_type": "stream",
     "text": [
      "[1] 18\n",
      "[1] 17\n",
      "[1] 16\n",
      "[1] 17\n",
      "[1] 17\n",
      "[1] 19\n",
      "[1] 18\n"
     ]
    }
   ],
   "source": [
    "for (t in temp){ \n",
    "    print(t)\n",
    "}"
   ]
  },
  {
   "cell_type": "code",
   "execution_count": 16,
   "id": "97d68ac7-c31d-4750-a02c-55ff989f7bb6",
   "metadata": {},
   "outputs": [],
   "source": [
    "# Altenrative basted on index\n",
    "for (i in 1:length(temp)){ \n",
    "    print(temp[i])\n",
    "} "
   ]
  },
  {
   "cell_type": "markdown",
   "id": "faca4f3f-2371-4d8d-935c-094b8d1b58e1",
   "metadata": {},
   "source": [
    "**Nested Loops**"
   ]
  },
  {
   "cell_type": "code",
   "execution_count": 22,
   "id": "979e4f54-cf63-4d4f-8621-845c3da8ee69",
   "metadata": {},
   "outputs": [
    {
     "data": {
      "text/html": [
       "<table>\n",
       "<tbody>\n",
       "\t<tr><td>1</td><td>2</td></tr>\n",
       "\t<tr><td>3</td><td>4</td></tr>\n",
       "</tbody>\n",
       "</table>\n"
      ],
      "text/latex": [
       "\\begin{tabular}{ll}\n",
       "\t 1 & 2\\\\\n",
       "\t 3 & 4\\\\\n",
       "\\end{tabular}\n"
      ],
      "text/markdown": [
       "\n",
       "| 1 | 2 |\n",
       "| 3 | 4 |\n",
       "\n"
      ],
      "text/plain": [
       "     [,1] [,2]\n",
       "[1,] 1    2   \n",
       "[2,] 3    4   "
      ]
     },
     "metadata": {},
     "output_type": "display_data"
    }
   ],
   "source": [
    "mtx <- matrix(data=1:4, nrow=2, byrow=TRUE)\n",
    "mtx"
   ]
  },
  {
   "cell_type": "code",
   "execution_count": 24,
   "id": "94943388-5943-4d21-9d91-57991ff25ecd",
   "metadata": {},
   "outputs": [
    {
     "name": "stdout",
     "output_type": "stream",
     "text": [
      "[1] 1\n",
      "[1] 2\n",
      "[1] 3\n",
      "[1] 4\n"
     ]
    }
   ],
   "source": [
    "for (row in 1:nrow(mtx)){ \n",
    "    for (col in 1:ncol(mtx)){ \n",
    "        print(mtx[row, col])\n",
    "    } \n",
    "} "
   ]
  },
  {
   "cell_type": "markdown",
   "id": "43b08991-de6a-4739-8d9c-c094af1c701d",
   "metadata": {},
   "source": [
    "---\n",
    "### <center> R Functions </center>\n",
    "\n",
    "* A function could just output some result without a `return` statement, but typically we pass the function result into a variable, in which case we must use `return`. \n",
    "* Functions typically have arguments, but they don't technically have to. \n",
    "* We can give default values to the arguments if we want to. "
   ]
  },
  {
   "cell_type": "markdown",
   "id": "3ef3d896-02e4-4bc1-af68-3376b611d1aa",
   "metadata": {},
   "source": [
    "`func.name <-function(var1=def1,...,varn=defn){`\n",
    "\n",
    "`execute block of code`\n",
    "\n",
    "`return(variable)`\n",
    "\n",
    "`}`"
   ]
  },
  {
   "cell_type": "code",
   "execution_count": 49,
   "id": "e3650770-8f24-4979-92ff-8c7f8821b439",
   "metadata": {},
   "outputs": [],
   "source": [
    "fahr_to_cels <- function(temp_f=32){ \n",
    "    temp_c <- (temp_f-32)*(5/9)\n",
    "    return(temp_c)\n",
    "}"
   ]
  },
  {
   "cell_type": "code",
   "execution_count": 35,
   "id": "84e80971-d165-4ffe-a579-d52c9c153941",
   "metadata": {},
   "outputs": [
    {
     "data": {
      "text/html": [
       "0"
      ],
      "text/latex": [
       "0"
      ],
      "text/markdown": [
       "0"
      ],
      "text/plain": [
       "[1] 0"
      ]
     },
     "metadata": {},
     "output_type": "display_data"
    }
   ],
   "source": [
    "fahr_to_cels() # Returns result for default"
   ]
  },
  {
   "cell_type": "code",
   "execution_count": 34,
   "id": "4837f962-d9a1-4674-aa9b-5d592ec189f5",
   "metadata": {},
   "outputs": [
    {
     "data": {
      "text/html": [
       "26.67"
      ],
      "text/latex": [
       "26.67"
      ],
      "text/markdown": [
       "26.67"
      ],
      "text/plain": [
       "[1] 26.67"
      ]
     },
     "metadata": {},
     "output_type": "display_data"
    }
   ],
   "source": [
    "round(fahr_to_cels(80),2)"
   ]
  },
  {
   "cell_type": "markdown",
   "id": "3ac4277f-a9ae-416d-a4c9-f25294c256bd",
   "metadata": {},
   "source": [
    "---\n",
    "### <center> Build-in R Features </center> "
   ]
  },
  {
   "cell_type": "markdown",
   "id": "34df6070-bf7a-4b9c-909d-095cbf95ec76",
   "metadata": {},
   "source": [
    "| Function | Description | Example | \n",
    "| ---- | ---- | ---- |\n",
    "| **`seq(from, to, by)`** | Returns a vector with a number sequence | **`vec <- seq(from=0, to=5, by=2) --> 0, 2, 4`** |\n",
    "| **`sort(x, decreasing)`** | Sorts a vector in ascenting or descending order | **`sort(x=vec, descreasing=TRUE)`**|\n",
    "| **`rev(x, decreasing)`** | Reverses its argument's order | **`rev(x=vec, decreasing=TRUE)`** |\n",
    "| **`str(object)`** | Returns the strucure of the object | **`str(object=vec)`** | \n",
    "| **`append(x, values, after)`** | Adds elements to a vector at end or specified index | **`append(vec1, vec2)`** |\n",
    "| **`is.objectType(x)`** | Returns TRUE if x is a vector, and FALSE otherwise | **`is.vector(vec) --> TRUE`** |\n",
    "| **`as.objectType(x)`** | Casts argument to defined object type | **`as.matrix(vec)`** |\n",
    "| **`sample(x, size, replace)`** | Creates a random sample from x of size n with or without replacement | **`sample(x=vec, size=5, replace=FALSE)`** |\n",
    "| **`lapply(x, FUN)`** | Returns a list of FUN(x) having the same length as x. l is for list. | **`lapply(temps, fahr_to_cels)`** |\n",
    "| **`sapply(x, FUN)`** | Simpler version that returns a vector or matrix of FUN(x) with same length as x. s is for simple. | **`sapply(temps, fahr_to_cels)`** |\n",
    "|**`function(x){f(x)}`** | Anonymous function (**`lambda function`** in Python) for simple, one use cases. Essentially strips extra elements of full function definition. | **`sapply(temps, function(x){(x-32)*(5/9)})`** |\n",
    "| **`grep(pattern, x)`** | Regular expression - returns number of instances of pattern in string, index locations if vector. | **`grep(\"hello\", some_string)`** | \n",
    "| **`grepl(pattern, x)`** | Regular expression - returns TRUE if pattern found in string. logical vector if input is a vector. l for logical. | **`grepl(\"hello\", some_string)`** |\n",
    "| **`Sys.Date()`** | Returns the system's idea of the current date. | **`Sys.Date()`** | \n",
    "| **`Sys.Time()`** | Returns the system's idea of the current time. | **`Sys.Time()`** | \n",
    "| **`as.Date(x, format)`** | Converts a string of a date, to a date class, given the string's date format. | **`as.Date(x=\"Nov-03-90\", format=\"%b-%d-%y\")`** |\n",
    "| **`strptime(x, format, tz)`** | Converts a string of a date, to a time class given the string's time format. | **`strptime(\"11:02:03\", format=\"%H:%M:%S\")`** |"
   ]
  },
  {
   "cell_type": "code",
   "execution_count": 67,
   "id": "ed80f89b-1555-4f06-8bf3-ad1b5618bbb2",
   "metadata": {},
   "outputs": [
    {
     "data": {
      "text/html": [
       "<table>\n",
       "<thead><tr><th scope=col>Mon</th><th scope=col>Tue</th><th scope=col>Wed</th><th scope=col>Thu</th><th scope=col>Fri</th><th scope=col>Sat</th><th scope=col>Sun</th></tr></thead>\n",
       "<tbody>\n",
       "\t<tr><td>22.22222</td><td>21.66667</td><td>20      </td><td>22.77778</td><td>20.55556</td><td>23.88889</td><td>21.66667</td></tr>\n",
       "</tbody>\n",
       "</table>\n"
      ],
      "text/latex": [
       "\\begin{tabular}{lllllll}\n",
       " Mon & Tue & Wed & Thu & Fri & Sat & Sun\\\\\n",
       "\\hline\n",
       "\t 22.22222 & 21.66667 & 20       & 22.77778 & 20.55556 & 23.88889 & 21.66667\\\\\n",
       "\\end{tabular}\n"
      ],
      "text/markdown": [
       "\n",
       "| Mon | Tue | Wed | Thu | Fri | Sat | Sun |\n",
       "|---|---|---|---|---|---|---|\n",
       "| 22.22222 | 21.66667 | 20       | 22.77778 | 20.55556 | 23.88889 | 21.66667 |\n",
       "\n"
      ],
      "text/plain": [
       "     Mon      Tue      Wed Thu      Fri      Sat      Sun     \n",
       "[1,] 22.22222 21.66667 20  22.77778 20.55556 23.88889 21.66667"
      ]
     },
     "metadata": {},
     "output_type": "display_data"
    }
   ],
   "source": [
    "# lapply and sapply example\n",
    "f_temps = lapply(temps, fahr_to_cels)\n",
    "t(as.matrix(f_temps)) # transpose matrix result to save space"
   ]
  },
  {
   "cell_type": "markdown",
   "id": "4325f0b7-d561-416e-9b79-ba9257b041c3",
   "metadata": {},
   "source": [
    "**Format codes for the **`as.Date()`** and **`strptime()`** functions**\n",
    "    \n",
    "| Code | Description | \n",
    "| ---- | ---- | \n",
    "| | **Date** |\n",
    "|**`%d`** | Day of the month (decimal number) |\n",
    "|**`%m`**| Month (decimal nuber)|\n",
    "|**`%b`**| Month (abbreviated) |\n",
    "|**`%B`**| Month (full name) |\n",
    "|**`%y`**| Year (2 digit) |\n",
    "|**`%Y`**| Year (4 digit) |\n",
    "| | **Time** |\n",
    "|**`%H`** | Hours as a decimal number (00-23) | \n",
    "|**`%I`** | Hours as a decimal number (01-12) | \n",
    "|**`%M`** | Minute as a decimal number (00-59) | \n",
    "|**`%S`** | Second as an integer number (00-61) allowing up to two leap seconds) | \n",
    "|**`%p`** | AM/PM indicator, for %I only | \n",
    "|**`%r`** | Shorthand, equivalent to `%I:%M:%S %p` | \n",
    "|**`%R`** | Shorthand, equivalent to `%H:%M` | \n",
    "|**`%T`** | Shorthand, equivalent to `%H:%M:%S` | "
   ]
  },
  {
   "cell_type": "markdown",
   "id": "55e858de-025f-45e3-a969-30971706088d",
   "metadata": {},
   "source": [
    "**Math Functions with R**\n",
    "\n",
    "| Function | Description | \n",
    "| ---- | ---- |\n",
    "|**`abs(x)`** | Returns the absoluve value of x |\n",
    "|**`sum(x)`** | Returns the sum of all values present in x | \n",
    "|**`mean(x)`** | Returns the average of elements in x |\n",
    "|**`sqrt(x)`** | Returns the square root of x |\n",
    "|**`ceiling(x)`** | Returns the ceiling of x | \n",
    "|**`floor(x)`** | Returns the floor of x |\n",
    "|**`trunc(x)`** | Returns the trucation of x | \n",
    "|**`round(x, digits=n)`** | Rounds x to n decimal points |\n",
    "|**`signif(x, digits=n)`** | Returns x with a TOTAL of n digits |\n",
    "|**`cos(x), sin(x), tan(x)`** | Performs trigonometric operations on x |\n",
    "|**`log(x)`** | Returns the natural algorithm of x | \n",
    "|**`log10(x)`** | Returns the common (base 10) logarithm of x | \n",
    "|**`exp(x)`** | Returns the natural exponent of x (e^x) |\n"
   ]
  }
 ],
 "metadata": {
  "kernelspec": {
   "display_name": "R",
   "language": "R",
   "name": "ir"
  },
  "language_info": {
   "codemirror_mode": "r",
   "file_extension": ".r",
   "mimetype": "text/x-r-source",
   "name": "R",
   "pygments_lexer": "r",
   "version": "3.6.1"
  }
 },
 "nbformat": 4,
 "nbformat_minor": 5
}
