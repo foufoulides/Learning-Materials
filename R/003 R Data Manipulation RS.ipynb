{
 "cells": [
  {
   "cell_type": "markdown",
   "id": "7527fc9a-2717-46b7-b6b8-30be3db523bd",
   "metadata": {
    "tags": []
   },
   "source": [
    "### <center> Data Manipulation with R </center>\n",
    "\n",
    "* **`dplyr`** for manipulating data\n",
    "* **`tidyr`** for clearning data\n",
    "* **`%>%`** (Pipe Oprerator) creates a pipeline of sequential operations that manipulate data"
   ]
  },
  {
   "cell_type": "code",
   "execution_count": 33,
   "id": "505cfb32-64d0-4d9c-a01d-681dfaa5fa36",
   "metadata": {},
   "outputs": [],
   "source": [
    "library(\"dplyr\")\n",
    "library(\"tidyr\")\n",
    "library(\"nycflights13\") # Get flight data"
   ]
  },
  {
   "cell_type": "code",
   "execution_count": 34,
   "id": "09ff55f7-3480-4b20-99b4-cd399f400798",
   "metadata": {},
   "outputs": [
    {
     "data": {
      "text/html": [
       "<table>\n",
       "<thead><tr><th scope=col>year</th><th scope=col>month</th><th scope=col>day</th><th scope=col>dep_time</th><th scope=col>sched_dep_time</th><th scope=col>dep_delay</th><th scope=col>arr_time</th><th scope=col>sched_arr_time</th><th scope=col>arr_delay</th><th scope=col>carrier</th><th scope=col>flight</th><th scope=col>tailnum</th><th scope=col>origin</th><th scope=col>dest</th><th scope=col>air_time</th><th scope=col>distance</th><th scope=col>hour</th><th scope=col>minute</th><th scope=col>time_hour</th></tr></thead>\n",
       "<tbody>\n",
       "\t<tr><td>2013               </td><td>1                  </td><td>1                  </td><td>517                </td><td>515                </td><td>2                  </td><td>830                </td><td>819                </td><td>11                 </td><td>UA                 </td><td>1545               </td><td>N14228             </td><td>EWR                </td><td>IAH                </td><td>227                </td><td>1400               </td><td>5                  </td><td>15                 </td><td>2013-01-01 05:00:00</td></tr>\n",
       "\t<tr><td>2013               </td><td>1                  </td><td>1                  </td><td>533                </td><td>529                </td><td>4                  </td><td>850                </td><td>830                </td><td>20                 </td><td>UA                 </td><td>1714               </td><td>N24211             </td><td>LGA                </td><td>IAH                </td><td>227                </td><td>1416               </td><td>5                  </td><td>29                 </td><td>2013-01-01 05:00:00</td></tr>\n",
       "\t<tr><td>2013               </td><td>1                  </td><td>1                  </td><td>542                </td><td>540                </td><td>2                  </td><td>923                </td><td>850                </td><td>33                 </td><td>AA                 </td><td>1141               </td><td>N619AA             </td><td>JFK                </td><td>MIA                </td><td>160                </td><td>1089               </td><td>5                  </td><td>40                 </td><td>2013-01-01 05:00:00</td></tr>\n",
       "</tbody>\n",
       "</table>\n"
      ],
      "text/latex": [
       "\\begin{tabular}{r|lllllllllllllllllll}\n",
       " year & month & day & dep\\_time & sched\\_dep\\_time & dep\\_delay & arr\\_time & sched\\_arr\\_time & arr\\_delay & carrier & flight & tailnum & origin & dest & air\\_time & distance & hour & minute & time\\_hour\\\\\n",
       "\\hline\n",
       "\t 2013                & 1                   & 1                   & 517                 & 515                 & 2                   & 830                 & 819                 & 11                  & UA                  & 1545                & N14228              & EWR                 & IAH                 & 227                 & 1400                & 5                   & 15                  & 2013-01-01 05:00:00\\\\\n",
       "\t 2013                & 1                   & 1                   & 533                 & 529                 & 4                   & 850                 & 830                 & 20                  & UA                  & 1714                & N24211              & LGA                 & IAH                 & 227                 & 1416                & 5                   & 29                  & 2013-01-01 05:00:00\\\\\n",
       "\t 2013                & 1                   & 1                   & 542                 & 540                 & 2                   & 923                 & 850                 & 33                  & AA                  & 1141                & N619AA              & JFK                 & MIA                 & 160                 & 1089                & 5                   & 40                  & 2013-01-01 05:00:00\\\\\n",
       "\\end{tabular}\n"
      ],
      "text/markdown": [
       "\n",
       "| year | month | day | dep_time | sched_dep_time | dep_delay | arr_time | sched_arr_time | arr_delay | carrier | flight | tailnum | origin | dest | air_time | distance | hour | minute | time_hour |\n",
       "|---|---|---|---|---|---|---|---|---|---|---|---|---|---|---|---|---|---|---|\n",
       "| 2013                | 1                   | 1                   | 517                 | 515                 | 2                   | 830                 | 819                 | 11                  | UA                  | 1545                | N14228              | EWR                 | IAH                 | 227                 | 1400                | 5                   | 15                  | 2013-01-01 05:00:00 |\n",
       "| 2013                | 1                   | 1                   | 533                 | 529                 | 4                   | 850                 | 830                 | 20                  | UA                  | 1714                | N24211              | LGA                 | IAH                 | 227                 | 1416                | 5                   | 29                  | 2013-01-01 05:00:00 |\n",
       "| 2013                | 1                   | 1                   | 542                 | 540                 | 2                   | 923                 | 850                 | 33                  | AA                  | 1141                | N619AA              | JFK                 | MIA                 | 160                 | 1089                | 5                   | 40                  | 2013-01-01 05:00:00 |\n",
       "\n"
      ],
      "text/plain": [
       "  year month day dep_time sched_dep_time dep_delay arr_time sched_arr_time\n",
       "1 2013 1     1   517      515            2         830      819           \n",
       "2 2013 1     1   533      529            4         850      830           \n",
       "3 2013 1     1   542      540            2         923      850           \n",
       "  arr_delay carrier flight tailnum origin dest air_time distance hour minute\n",
       "1 11        UA      1545   N14228  EWR    IAH  227      1400     5    15    \n",
       "2 20        UA      1714   N24211  LGA    IAH  227      1416     5    29    \n",
       "3 33        AA      1141   N619AA  JFK    MIA  160      1089     5    40    \n",
       "  time_hour          \n",
       "1 2013-01-01 05:00:00\n",
       "2 2013-01-01 05:00:00\n",
       "3 2013-01-01 05:00:00"
      ]
     },
     "metadata": {},
     "output_type": "display_data"
    }
   ],
   "source": [
    "head(x=flights, n=3)"
   ]
  },
  {
   "cell_type": "markdown",
   "id": "f3b8a18b-abef-4225-ab08-a51b3ef878cc",
   "metadata": {},
   "source": [
    "### <center> dplyr() </center>"
   ]
  },
  {
   "cell_type": "markdown",
   "id": "c774e8a1-a103-4f8c-a093-264f5dd203bb",
   "metadata": {},
   "source": [
    "| Function | Description | Example |\n",
    "| ---- | ---- | ---- |\n",
    "|**`filter()`**| Select a subset of rows, by expressions that filter the data frame. You can also use logical operators **`(&, \\|, !)`** inside. |**`filter(flights, month==11, day==3, carrier==\"AA\")`** |\n",
    "|**`slice()`** | Select rows by position in a data frame | **`slice(flights, 1:3)`** |\n",
    "|**`arrange()`** | Sort a data frame based on a set of column names | **`arrange(flights, year, month, day, air_time)`** |\n",
    "|**`desc()`** | Can be used inside the `arrange()` to sort a column in descending order| **`arrange(flights, desc(dep_delay), 3)`** |\n",
    "|**`select()`** | Select specific columns of a data frame | **`select(flights, carrier)`** |\n",
    "|**`rename()`** | Rename columns in a data frame.  **This is not in-place!** | **`rename(flights, airline_carrier = carrier)`** |\n",
    "|**`distinct()`** | Returns the distinct values in a data frame.  Often used with **`select()`** to select specific column | **`distinct(select(flights, carrier))`** |\n",
    "|**`mutate()`** | Create new columns that are functions of existing columns | **`mutate(flights, total_delay = arr_delay+dep_delay)`** |\n",
    "|**`transmute()`** |Use transmuate when you only want the new columns | **`transmute(flights, total_delay = arr_delay+dep_delay)`** |\n",
    "|**`summarise()`** |Use aggregate results of data frames into single rows. Remember **`na.rm=TRUE`** to remove NA values. | **`summarise(flights, avg_air_time=mean(air_time, na.rm=TRUE))`** |\n",
    "|**`sample_n()`** | Get a random sample of n rows from data frame | **`sample_n(flights, 3)`** | \n",
    "|**`sample_frac()`**| Get a random sample of a percentage of a data frame (expressed as decimal)| **`sample_frac(flights, 0.000005)`** |\n",
    "\n",
    "* Full documentation of **`dplyr`** can be found **[here](https://cran.r-project.org/web/packages/dplyr/dplyr.pdf)**."
   ]
  },
  {
   "cell_type": "markdown",
   "id": "b82be00d-3e93-4b81-ad22-fb16ec3fb131",
   "metadata": {},
   "source": [
    "### <center> Pipe Operator `%>%` </center> \n",
    "**The pipe operator `%>%` allows you to chain together multiple functions on a dataset (i.e. create a pipeline), to avoid long nested operations or doing multiple assignments.**"
   ]
  },
  {
   "cell_type": "code",
   "execution_count": 31,
   "id": "60185d07-d866-4faa-ba97-e496d73c0990",
   "metadata": {},
   "outputs": [
    {
     "data": {
      "text/html": [
       "<table>\n",
       "<thead><tr><th scope=col>year</th><th scope=col>month</th><th scope=col>day</th><th scope=col>dep_time</th><th scope=col>sched_dep_time</th><th scope=col>dep_delay</th><th scope=col>arr_time</th><th scope=col>sched_arr_time</th><th scope=col>arr_delay</th><th scope=col>carrier</th><th scope=col>flight</th><th scope=col>tailnum</th><th scope=col>origin</th><th scope=col>dest</th><th scope=col>air_time</th><th scope=col>distance</th><th scope=col>hour</th><th scope=col>minute</th><th scope=col>time_hour</th></tr></thead>\n",
       "<tbody>\n",
       "\t<tr><td>2013               </td><td>11                 </td><td>7                  </td><td>1455               </td><td>1459               </td><td>-4                 </td><td>1750               </td><td>1814               </td><td>-24                </td><td>AA                 </td><td>2297               </td><td>N3FKAA             </td><td>LGA                </td><td>MIA                </td><td>156                </td><td>1096               </td><td>14                 </td><td>59                 </td><td>2013-11-07 14:00:00</td></tr>\n",
       "\t<tr><td>2013               </td><td>11                 </td><td>7                  </td><td> 954               </td><td> 959               </td><td>-5                 </td><td>1144               </td><td>1144               </td><td>  0                </td><td>AA                 </td><td>1030               </td><td>N4XDAA             </td><td>LGA                </td><td>STL                </td><td>145                </td><td> 888               </td><td> 9                 </td><td>59                 </td><td>2013-11-07 09:00:00</td></tr>\n",
       "\t<tr><td>2013               </td><td>11                 </td><td>7                  </td><td> 931               </td><td> 940               </td><td>-9                 </td><td>1055               </td><td>1120               </td><td>-25                </td><td>AA                 </td><td> 317               </td><td>N4YEAA             </td><td>LGA                </td><td>ORD                </td><td>115                </td><td> 733               </td><td> 9                 </td><td>40                 </td><td>2013-11-07 09:00:00</td></tr>\n",
       "</tbody>\n",
       "</table>\n"
      ],
      "text/latex": [
       "\\begin{tabular}{r|lllllllllllllllllll}\n",
       " year & month & day & dep\\_time & sched\\_dep\\_time & dep\\_delay & arr\\_time & sched\\_arr\\_time & arr\\_delay & carrier & flight & tailnum & origin & dest & air\\_time & distance & hour & minute & time\\_hour\\\\\n",
       "\\hline\n",
       "\t 2013                & 11                  & 7                   & 1455                & 1459                & -4                  & 1750                & 1814                & -24                 & AA                  & 2297                & N3FKAA              & LGA                 & MIA                 & 156                 & 1096                & 14                  & 59                  & 2013-11-07 14:00:00\\\\\n",
       "\t 2013                & 11                  & 7                   &  954                &  959                & -5                  & 1144                & 1144                &   0                 & AA                  & 1030                & N4XDAA              & LGA                 & STL                 & 145                 &  888                &  9                  & 59                  & 2013-11-07 09:00:00\\\\\n",
       "\t 2013                & 11                  & 7                   &  931                &  940                & -9                  & 1055                & 1120                & -25                 & AA                  &  317                & N4YEAA              & LGA                 & ORD                 & 115                 &  733                &  9                  & 40                  & 2013-11-07 09:00:00\\\\\n",
       "\\end{tabular}\n"
      ],
      "text/markdown": [
       "\n",
       "| year | month | day | dep_time | sched_dep_time | dep_delay | arr_time | sched_arr_time | arr_delay | carrier | flight | tailnum | origin | dest | air_time | distance | hour | minute | time_hour |\n",
       "|---|---|---|---|---|---|---|---|---|---|---|---|---|---|---|---|---|---|---|\n",
       "| 2013                | 11                  | 7                   | 1455                | 1459                | -4                  | 1750                | 1814                | -24                 | AA                  | 2297                | N3FKAA              | LGA                 | MIA                 | 156                 | 1096                | 14                  | 59                  | 2013-11-07 14:00:00 |\n",
       "| 2013                | 11                  | 7                   |  954                |  959                | -5                  | 1144                | 1144                |   0                 | AA                  | 1030                | N4XDAA              | LGA                 | STL                 | 145                 |  888                |  9                  | 59                  | 2013-11-07 09:00:00 |\n",
       "| 2013                | 11                  | 7                   |  931                |  940                | -9                  | 1055                | 1120                | -25                 | AA                  |  317                | N4YEAA              | LGA                 | ORD                 | 115                 |  733                |  9                  | 40                  | 2013-11-07 09:00:00 |\n",
       "\n"
      ],
      "text/plain": [
       "  year month day dep_time sched_dep_time dep_delay arr_time sched_arr_time\n",
       "1 2013 11    7   1455     1459           -4        1750     1814          \n",
       "2 2013 11    7    954      959           -5        1144     1144          \n",
       "3 2013 11    7    931      940           -9        1055     1120          \n",
       "  arr_delay carrier flight tailnum origin dest air_time distance hour minute\n",
       "1 -24       AA      2297   N3FKAA  LGA    MIA  156      1096     14   59    \n",
       "2   0       AA      1030   N4XDAA  LGA    STL  145       888      9   59    \n",
       "3 -25       AA       317   N4YEAA  LGA    ORD  115       733      9   40    \n",
       "  time_hour          \n",
       "1 2013-11-07 14:00:00\n",
       "2 2013-11-07 09:00:00\n",
       "3 2013-11-07 09:00:00"
      ]
     },
     "metadata": {},
     "output_type": "display_data"
    }
   ],
   "source": [
    "f1 <- filter(flights, month==11, carrier==\"AA\")\n",
    "f2 <- sample_n(f1, size=3) \n",
    "f3 <- arrange(f2, desc(hour))\n",
    "f3"
   ]
  },
  {
   "cell_type": "code",
   "execution_count": 35,
   "id": "9646c8a1-ab5b-43cc-ae52-622c4f1cfe7d",
   "metadata": {},
   "outputs": [
    {
     "data": {
      "text/html": [
       "<table>\n",
       "<thead><tr><th scope=col>year</th><th scope=col>month</th><th scope=col>day</th><th scope=col>dep_time</th><th scope=col>sched_dep_time</th><th scope=col>dep_delay</th><th scope=col>arr_time</th><th scope=col>sched_arr_time</th><th scope=col>arr_delay</th><th scope=col>carrier</th><th scope=col>flight</th><th scope=col>tailnum</th><th scope=col>origin</th><th scope=col>dest</th><th scope=col>air_time</th><th scope=col>distance</th><th scope=col>hour</th><th scope=col>minute</th><th scope=col>time_hour</th></tr></thead>\n",
       "<tbody>\n",
       "\t<tr><td>2013               </td><td>11                 </td><td>19                 </td><td>1239               </td><td>1250               </td><td>-11                </td><td>1346               </td><td>1400               </td><td>-14                </td><td>AA                 </td><td>178                </td><td>N3JVAA             </td><td>JFK                </td><td>BOS                </td><td> 44                </td><td>187                </td><td>12                 </td><td>50                 </td><td>2013-11-19 12:00:00</td></tr>\n",
       "\t<tr><td>2013               </td><td>11                 </td><td>21                 </td><td>1012               </td><td>1015               </td><td> -3                </td><td>1208               </td><td>1150               </td><td> 18                </td><td>AA                 </td><td>325                </td><td>N455AA             </td><td>LGA                </td><td>ORD                </td><td>120                </td><td>733                </td><td>10                 </td><td>15                 </td><td>2013-11-21 10:00:00</td></tr>\n",
       "\t<tr><td>2013               </td><td>11                 </td><td> 6                 </td><td> 931               </td><td> 940               </td><td> -9                </td><td>1209               </td><td>1120               </td><td> 49                </td><td>AA                 </td><td>317                </td><td>N426AA             </td><td>LGA                </td><td>ORD                </td><td>126                </td><td>733                </td><td> 9                 </td><td>40                 </td><td>2013-11-06 09:00:00</td></tr>\n",
       "</tbody>\n",
       "</table>\n"
      ],
      "text/latex": [
       "\\begin{tabular}{r|lllllllllllllllllll}\n",
       " year & month & day & dep\\_time & sched\\_dep\\_time & dep\\_delay & arr\\_time & sched\\_arr\\_time & arr\\_delay & carrier & flight & tailnum & origin & dest & air\\_time & distance & hour & minute & time\\_hour\\\\\n",
       "\\hline\n",
       "\t 2013                & 11                  & 19                  & 1239                & 1250                & -11                 & 1346                & 1400                & -14                 & AA                  & 178                 & N3JVAA              & JFK                 & BOS                 &  44                 & 187                 & 12                  & 50                  & 2013-11-19 12:00:00\\\\\n",
       "\t 2013                & 11                  & 21                  & 1012                & 1015                &  -3                 & 1208                & 1150                &  18                 & AA                  & 325                 & N455AA              & LGA                 & ORD                 & 120                 & 733                 & 10                  & 15                  & 2013-11-21 10:00:00\\\\\n",
       "\t 2013                & 11                  &  6                  &  931                &  940                &  -9                 & 1209                & 1120                &  49                 & AA                  & 317                 & N426AA              & LGA                 & ORD                 & 126                 & 733                 &  9                  & 40                  & 2013-11-06 09:00:00\\\\\n",
       "\\end{tabular}\n"
      ],
      "text/markdown": [
       "\n",
       "| year | month | day | dep_time | sched_dep_time | dep_delay | arr_time | sched_arr_time | arr_delay | carrier | flight | tailnum | origin | dest | air_time | distance | hour | minute | time_hour |\n",
       "|---|---|---|---|---|---|---|---|---|---|---|---|---|---|---|---|---|---|---|\n",
       "| 2013                | 11                  | 19                  | 1239                | 1250                | -11                 | 1346                | 1400                | -14                 | AA                  | 178                 | N3JVAA              | JFK                 | BOS                 |  44                 | 187                 | 12                  | 50                  | 2013-11-19 12:00:00 |\n",
       "| 2013                | 11                  | 21                  | 1012                | 1015                |  -3                 | 1208                | 1150                |  18                 | AA                  | 325                 | N455AA              | LGA                 | ORD                 | 120                 | 733                 | 10                  | 15                  | 2013-11-21 10:00:00 |\n",
       "| 2013                | 11                  |  6                  |  931                |  940                |  -9                 | 1209                | 1120                |  49                 | AA                  | 317                 | N426AA              | LGA                 | ORD                 | 126                 | 733                 |  9                  | 40                  | 2013-11-06 09:00:00 |\n",
       "\n"
      ],
      "text/plain": [
       "  year month day dep_time sched_dep_time dep_delay arr_time sched_arr_time\n",
       "1 2013 11    19  1239     1250           -11       1346     1400          \n",
       "2 2013 11    21  1012     1015            -3       1208     1150          \n",
       "3 2013 11     6   931      940            -9       1209     1120          \n",
       "  arr_delay carrier flight tailnum origin dest air_time distance hour minute\n",
       "1 -14       AA      178    N3JVAA  JFK    BOS   44      187      12   50    \n",
       "2  18       AA      325    N455AA  LGA    ORD  120      733      10   15    \n",
       "3  49       AA      317    N426AA  LGA    ORD  126      733       9   40    \n",
       "  time_hour          \n",
       "1 2013-11-19 12:00:00\n",
       "2 2013-11-21 10:00:00\n",
       "3 2013-11-06 09:00:00"
      ]
     },
     "metadata": {},
     "output_type": "display_data"
    }
   ],
   "source": [
    "flights %>% filter(month==11, carrier==\"AA\") %>% sample_n(size=3) %>% arrange(desc(hour)) # No need to enter the data name in the functions"
   ]
  },
  {
   "cell_type": "markdown",
   "id": "df1d3a11-e21a-4b7c-aa2a-17bc624358c8",
   "metadata": {},
   "source": [
    "#### <center> `tidyr()` </center> \n",
    "\n",
    "|Function | Description | Example |\n",
    "| ---- | ---- | ---- |\n",
    "| **`gather(data, key, value)`** | Unpivot - Collapse multiple columns into key-pair values. | **`gather(data=df, key=Quarter, value=Revenue, Qrt1:Qrt4)`** | \n",
    "| **`spread(data, key, value)`** | Pivot - Seperate one column into multiple ones. | **`gather(data=df, key=stock, value=price, -time)`** |\n",
    "| **`seperate(data, col, into)`** | Split - Split one column into multiple ones | **`separate(data=df, col=x, into=c(\"x1\", \"x2\"))`** | \n",
    "|**`unite(data, col, sep)`**| Merge - Unite multiple columns into one| **`unite(data=df, col=\"X12\", c(\"x1\", \"x2\"), sep=\".\")`** |"
   ]
  }
 ],
 "metadata": {
  "kernelspec": {
   "display_name": "R",
   "language": "R",
   "name": "ir"
  },
  "language_info": {
   "codemirror_mode": "r",
   "file_extension": ".r",
   "mimetype": "text/x-r-source",
   "name": "R",
   "pygments_lexer": "r",
   "version": "3.6.1"
  }
 },
 "nbformat": 4,
 "nbformat_minor": 5
}
