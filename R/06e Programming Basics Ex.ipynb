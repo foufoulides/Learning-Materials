{
 "cells": [
  {
   "cell_type": "markdown",
   "id": "715e7b3d-c2a0-4d48-b199-1c76f3d9010b",
   "metadata": {},
   "source": [
    "### <center> R Functions Exerecises </center>"
   ]
  },
  {
   "cell_type": "markdown",
   "id": "d8b7be00-1a31-452a-ae24-8bd27b2a8a4e",
   "metadata": {},
   "source": [
    "**Ex 1:** Create a function that takes in a name as a string argument, and prints out \"Hello name\""
   ]
  },
  {
   "cell_type": "code",
   "execution_count": 2,
   "id": "12ef3a26-a654-43b0-9832-f5c8022f891c",
   "metadata": {},
   "outputs": [],
   "source": [
    "hello_you <- function(name){ \n",
    "    print(paste(\"Hello \", name))\n",
    "          } "
   ]
  },
  {
   "cell_type": "code",
   "execution_count": 4,
   "id": "170d8590-ac11-41a8-8f15-1b73c062b785",
   "metadata": {},
   "outputs": [
    {
     "name": "stdout",
     "output_type": "stream",
     "text": [
      "[1] \"Hello  Chris\"\n"
     ]
    }
   ],
   "source": [
    "hello_you(\"Chris\")"
   ]
  },
  {
   "cell_type": "markdown",
   "id": "8217b991-d4c1-4e30-9f9a-1efd65334ca1",
   "metadata": {},
   "source": [
    "**Ex 2:** Create a function that takes in a name as a string argument, and returns \"Hello name\""
   ]
  },
  {
   "cell_type": "code",
   "execution_count": 7,
   "id": "fdc8911d-f7c8-4c51-8c2d-c3a4bd25ece3",
   "metadata": {},
   "outputs": [],
   "source": [
    "hello_you2 <- function(name){ \n",
    "    return(paste(\"Hello \", name))\n",
    "    } "
   ]
  },
  {
   "cell_type": "code",
   "execution_count": 9,
   "id": "c720f7bd-9c71-4bf9-9eba-aed23de534d6",
   "metadata": {},
   "outputs": [],
   "source": [
    "greeting <- hello_you2(\"Chris\")"
   ]
  },
  {
   "cell_type": "code",
   "execution_count": 10,
   "id": "28090b13-1da5-4487-9d57-053946602436",
   "metadata": {},
   "outputs": [
    {
     "data": {
      "text/html": [
       "<span style=white-space:pre-wrap>'Hello  Chris'</span>"
      ],
      "text/latex": [
       "'Hello  Chris'"
      ],
      "text/markdown": [
       "<span style=white-space:pre-wrap>'Hello  Chris'</span>"
      ],
      "text/plain": [
       "[1] \"Hello  Chris\""
      ]
     },
     "metadata": {},
     "output_type": "display_data"
    }
   ],
   "source": [
    "greeting"
   ]
  },
  {
   "cell_type": "markdown",
   "id": "620f6616-8243-4290-b7f5-59d906c34e66",
   "metadata": {},
   "source": [
    "**Ex 3:** Create a function that will return the product of two integers."
   ]
  },
  {
   "cell_type": "code",
   "execution_count": 14,
   "id": "ea231926-6b8e-46ae-ae5a-51c3f4f6c382",
   "metadata": {},
   "outputs": [],
   "source": [
    "prod <- function(n1, n2){\n",
    "    return(n1*n2)\n",
    "    }"
   ]
  },
  {
   "cell_type": "code",
   "execution_count": 15,
   "id": "de74fab8-030f-4d10-aba9-c447c2e1aaa8",
   "metadata": {},
   "outputs": [
    {
     "data": {
      "text/html": [
       "12"
      ],
      "text/latex": [
       "12"
      ],
      "text/markdown": [
       "12"
      ],
      "text/plain": [
       "[1] 12"
      ]
     },
     "metadata": {},
     "output_type": "display_data"
    }
   ],
   "source": [
    "prod(3,4)"
   ]
  },
  {
   "cell_type": "markdown",
   "id": "d9f66b06-bdc2-4f0b-82bf-b5fae604f01c",
   "metadata": {},
   "source": [
    "**Ex 4**: Create a function that accepts two arguments, an integer and a vector of integers. It returns the count of the number of occurences of the integer in the input vector."
   ]
  },
  {
   "cell_type": "code",
   "execution_count": 18,
   "id": "bf3af66e-aeb3-40da-9f58-abe61776f219",
   "metadata": {},
   "outputs": [],
   "source": [
    "num_check <- function(n, v){\n",
    "    return(n %in% v)\n",
    "    } "
   ]
  },
  {
   "cell_type": "code",
   "execution_count": 19,
   "id": "77ba931b-e851-4d4e-9801-8acb6e17352c",
   "metadata": {},
   "outputs": [
    {
     "data": {
      "text/html": [
       "TRUE"
      ],
      "text/latex": [
       "TRUE"
      ],
      "text/markdown": [
       "TRUE"
      ],
      "text/plain": [
       "[1] TRUE"
      ]
     },
     "metadata": {},
     "output_type": "display_data"
    }
   ],
   "source": [
    "num_check(3, c(1,2,3))"
   ]
  },
  {
   "cell_type": "markdown",
   "id": "07e10fed-cbc2-4056-b62c-0874cc2e57ac",
   "metadata": {},
   "source": [
    "**Ex 5:** Create a function that accepts two arguments, an integer and a vector of integers. It returns the count of the number of occurences of the integer in the input vector."
   ]
  },
  {
   "cell_type": "code",
   "execution_count": 22,
   "id": "4a819797-4e8e-4458-8ee0-69570a2482de",
   "metadata": {},
   "outputs": [],
   "source": [
    "num_count <- function(n, v){ \n",
    "    count = 0\n",
    "    for (i in v){ \n",
    "        if (i==1){ \n",
    "            count = count + 1\n",
    "            } \n",
    "        } \n",
    "    return(count)\n",
    "    }"
   ]
  },
  {
   "cell_type": "code",
   "execution_count": 23,
   "id": "b182b3f8-8a00-4f71-9630-fd38b7a22762",
   "metadata": {},
   "outputs": [
    {
     "data": {
      "text/html": [
       "2"
      ],
      "text/latex": [
       "2"
      ],
      "text/markdown": [
       "2"
      ],
      "text/plain": [
       "[1] 2"
      ]
     },
     "metadata": {},
     "output_type": "display_data"
    }
   ],
   "source": [
    "num_count(2,c(1,1,2,2,3,3))"
   ]
  },
  {
   "cell_type": "code",
   "execution_count": 24,
   "id": "a66116f3-d22b-4f54-84f1-3df021c665d7",
   "metadata": {},
   "outputs": [
    {
     "data": {
      "text/html": [
       "4"
      ],
      "text/latex": [
       "4"
      ],
      "text/markdown": [
       "4"
      ],
      "text/plain": [
       "[1] 4"
      ]
     },
     "metadata": {},
     "output_type": "display_data"
    }
   ],
   "source": [
    "num_count(1,c(1,1,2,2,3,1,4,5,5,2,2,1,3))"
   ]
  },
  {
   "cell_type": "markdown",
   "id": "c5a62d4f-1b92-4b47-b8cd-c1b2c4b76f51",
   "metadata": {},
   "source": [
    "**Ex 6:** We want to ship bars of aluminum. We will create a function that accepts an integer representing the requested kilograms of aluminum for the package to be shipped. To fullfill these order, we have small bars (1 kilogram each) and big bars (5 kilograms each). Return the least number of bars needed.\n",
    "\n",
    "For example, a load of 6 kg requires a minimum of two bars (1 5kg bars and 1 1kg bars). A load of 17 kg requires a minimum of 5 bars (3 5kg bars and 2 1kg bars)."
   ]
  },
  {
   "cell_type": "code",
   "execution_count": 25,
   "id": "1ce1aed5-cf64-40bf-bc6c-f39276053cbc",
   "metadata": {},
   "outputs": [],
   "source": [
    "bar_count <- function(n){ \n",
    "    return(n%%5 + n%/%5) \n",
    "    }"
   ]
  },
  {
   "cell_type": "code",
   "execution_count": 26,
   "id": "c5e2710c-1463-481a-a784-147f5e9147d8",
   "metadata": {},
   "outputs": [
    {
     "data": {
      "text/html": [
       "2"
      ],
      "text/latex": [
       "2"
      ],
      "text/markdown": [
       "2"
      ],
      "text/plain": [
       "[1] 2"
      ]
     },
     "metadata": {},
     "output_type": "display_data"
    }
   ],
   "source": [
    "bar_count(6)"
   ]
  },
  {
   "cell_type": "code",
   "execution_count": 27,
   "id": "9b36ea61-32d7-4359-9911-d474bb5afd82",
   "metadata": {},
   "outputs": [
    {
     "data": {
      "text/html": [
       "5"
      ],
      "text/latex": [
       "5"
      ],
      "text/markdown": [
       "5"
      ],
      "text/plain": [
       "[1] 5"
      ]
     },
     "metadata": {},
     "output_type": "display_data"
    }
   ],
   "source": [
    "bar_count(17)"
   ]
  },
  {
   "cell_type": "markdown",
   "id": "12c1fbcc-aaba-444f-8ded-e1174f5c0b8d",
   "metadata": {},
   "source": [
    "**Ex 7:** Create a function that accepts 3 integer values and returns their sum. However, if an integer value is evenly divisible by 3, then it does not count towards the sum. Return zero if all numbers are evenly divisible by 3. Hint: You may want to use the append() function."
   ]
  },
  {
   "cell_type": "code",
   "execution_count": 56,
   "id": "af1d767c-b426-4bb6-8cd8-32f525f7e4a4",
   "metadata": {},
   "outputs": [],
   "source": [
    "summer <- function(n1, n2, n3){\n",
    "    \n",
    "    v <- c(n1, n2, n3)\n",
    "    result = 0\n",
    "    \n",
    "    for(i in 1:length(v)){ \n",
    "        if (v[i]%%3==0){\n",
    "            v[[i]] <- 0\n",
    "            }\n",
    "        }\n",
    "    \n",
    "    return(sum(v))\n",
    "    \n",
    "    } "
   ]
  },
  {
   "cell_type": "code",
   "execution_count": 57,
   "id": "3d8872cc-496a-4889-a7c9-b2bfb81187e0",
   "metadata": {},
   "outputs": [
    {
     "data": {
      "text/html": [
       "9"
      ],
      "text/latex": [
       "9"
      ],
      "text/markdown": [
       "9"
      ],
      "text/plain": [
       "[1] 9"
      ]
     },
     "metadata": {},
     "output_type": "display_data"
    }
   ],
   "source": [
    "summer(7,2,3)"
   ]
  },
  {
   "cell_type": "code",
   "execution_count": 58,
   "id": "a17ad83c-3f90-42ab-b43f-a62710bac1c2",
   "metadata": {},
   "outputs": [
    {
     "data": {
      "text/html": [
       "0"
      ],
      "text/latex": [
       "0"
      ],
      "text/markdown": [
       "0"
      ],
      "text/plain": [
       "[1] 0"
      ]
     },
     "metadata": {},
     "output_type": "display_data"
    }
   ],
   "source": [
    "summer(3,6,9)"
   ]
  },
  {
   "cell_type": "code",
   "execution_count": 59,
   "id": "6dcfd53a-e965-4665-8a33-6bdf8c96a0c9",
   "metadata": {},
   "outputs": [
    {
     "data": {
      "text/html": [
       "11"
      ],
      "text/latex": [
       "11"
      ],
      "text/markdown": [
       "11"
      ],
      "text/plain": [
       "[1] 11"
      ]
     },
     "metadata": {},
     "output_type": "display_data"
    }
   ],
   "source": [
    "summer(9,11,12)"
   ]
  }
 ],
 "metadata": {
  "kernelspec": {
   "display_name": "R",
   "language": "R",
   "name": "ir"
  },
  "language_info": {
   "codemirror_mode": "r",
   "file_extension": ".r",
   "mimetype": "text/x-r-source",
   "name": "R",
   "pygments_lexer": "r",
   "version": "3.6.1"
  }
 },
 "nbformat": 4,
 "nbformat_minor": 5
}
