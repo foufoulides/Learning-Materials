{
 "cells": [
  {
   "cell_type": "markdown",
   "id": "d92f744c-06c7-4868-b1d8-7bd74a72be1e",
   "metadata": {},
   "source": [
    "## <center> R Core Concepts Reference Sheet </center>\n",
    "---"
   ]
  },
  {
   "cell_type": "markdown",
   "id": "37a14309-25af-43bb-a95d-c95b36f53f5a",
   "metadata": {},
   "source": [
    "### <center> Arithmetic Operations </center>\n",
    "\n",
    "|Operation | Operator | Example | \n",
    "|----|:----:|----|\n",
    "|Addition | **`+`** | **`6+3` -> `9`** |\n",
    "|Subtraction | **`-`** | **`6-3 -> 3`** |\n",
    "|Multiplication | **`*`** | **`3*2 -> 6`** |\n",
    "|Exponent | **`^`** | **`3^2 -> 9`** | \n",
    "|Division | **`/`** | **`10/3 -> 3.333`** | \n",
    "|Integer Division | **`%/%`** | **`10%/%3 -> 3`** |\n",
    "|Modulo (Remainder) | **`%%`** | **`10%%3 -> 1`** |"
   ]
  },
  {
   "cell_type": "markdown",
   "id": "c6b0053a-24b7-42da-b4b4-1289146df565",
   "metadata": {},
   "source": [
    "### <center> Basic Data Types </center> \n",
    "\n",
    "| Class | Data Type | Description | Example |\n",
    "| ---- | ---- | ---- | ---- |\n",
    "| Numeric | Decimal | Floating point values are in numeric class | **`x <- 2.2`**|\n",
    "| Numeric | Integer | Whole numbers are also in numeric class | **`n <- 2`**|\n",
    "| Logical | Boolean | Boolean values are part of the logical class |**`t1 <- TRUE`** or **`t2 <- T`**|\n",
    "| Character | String | String values are in the character class |**`greeting <- \"Hello World\"`**|"
   ]
  },
  {
   "cell_type": "markdown",
   "id": "720a3cb0-eaf7-4013-82a5-e8f30bb42594",
   "metadata": {},
   "source": [
    "### <center> Comparisson Operators </center> \n",
    "\n",
    "| Operator | Description| Example | \n",
    "| :----: | ---- | ---- |\n",
    "|**`>`** | Greater than |**`5 > 6 -> FALSE`** | \n",
    "|**`<`** | Less than | **`5 < 6 -> TRUE`** |\n",
    "|**`>=`** | Greater than or equal to |**`5 >= 6 -> FALSE`** |\n",
    "|**`<=`** | Less than or equal to |**`5 <= 6 -> TRUE`** |\n",
    "|**`==`** | Equal to |**`5 == 6 -> FALSE`** |\n",
    "|**`!=`** | Not equal to | **`5 != 6 -> TRUE`** |"
   ]
  },
  {
   "cell_type": "markdown",
   "id": "687e1707-1f38-4e6a-ad91-fdafc36faeb5",
   "metadata": {},
   "source": [
    "### <center> Logial Operators </center>\n",
    "\n",
    "| Operator | Description | Example | \n",
    "| :----: | :----: | ---- |\n",
    "| **`&`** | **AND** | True of both conditions are true. For vectors element by element. | \n",
    "| **`\\|`** | **OR** | True if at least one condition is true. For vectors element by element. | \n",
    "| **`!`** | **NOT** | Returns the opposite truth value | \n",
    "| **`&&`** | **OR** | Compares first element only, when comparing two vectors | \n",
    "| **`\\|\\|`** | **NOT** | Compares first element only, when comparing two vectors | \n",
    "\n",
    "----"
   ]
  },
  {
   "cell_type": "markdown",
   "id": "e2a2e342-3765-4ac3-918e-3fc01ee1d0e5",
   "metadata": {},
   "source": [
    "### <center> Core Operators and Functions </center>\n",
    "\n",
    "| Description | Operator | Example | \n",
    "| ---- | ---- | ---- |\n",
    "| Assignment operator | **`<-`** (or **`->`**) | **`x <- 2.2`**, **`2.2 -> x`**  |\n",
    "| Class check function | **`class()`** | **`class(x) -> 'numeric'`** |\n",
    "| Documentation function | **`help(package, topic)`** | **`help(rbind)`** |\n",
    "| Combine function | **`c()`** | **`num.vec <- c(1,2,3,4,5)`** |\n",
    "| Install a package | **`install.packages(\"library.name\")`** | **`install.packaged(\"data.table\")`** |\n",
    "| Include library in script | **`library(\"library.name\")`** | **`library(\"data.table\")`** |\n",
    "\n",
    "---"
   ]
  },
  {
   "cell_type": "markdown",
   "id": "e18e7422-3f6e-4079-8283-18ec50063b9a",
   "metadata": {},
   "source": [
    "### <center> Vectors </center> \n",
    "\n",
    "* **Vectors** are the main building block of R.\n",
    "* It is a 1-dimensional array that can hold **numeric, character, or logical** elements of a single type. \n",
    "* So vectors **can't mix data** types; if we do, R will convert them to make them the same. \n",
    "* They are created using the combine function **`c()`**."
   ]
  },
  {
   "cell_type": "code",
   "execution_count": 12,
   "id": "c180e985-c319-4ce5-a3c0-4669bb455c6c",
   "metadata": {},
   "outputs": [],
   "source": [
    "num.vec <- c(1,2,3,4,5)\n",
    "chr.vec <- c(\"a\",\"b\", \"c\")\n",
    "log.vec <- c(T, T, F, T, F)"
   ]
  },
  {
   "cell_type": "code",
   "execution_count": 15,
   "id": "709ebcc1-b4d7-4f6e-b45e-bbbc08e7e743",
   "metadata": {},
   "outputs": [
    {
     "name": "stdout",
     "output_type": "stream",
     "text": [
      "[1] 1 2 3 4 5\n"
     ]
    },
    {
     "data": {
      "text/html": [
       "'numeric'"
      ],
      "text/latex": [
       "'numeric'"
      ],
      "text/markdown": [
       "'numeric'"
      ],
      "text/plain": [
       "[1] \"numeric\""
      ]
     },
     "metadata": {},
     "output_type": "display_data"
    },
    {
     "name": "stdout",
     "output_type": "stream",
     "text": [
      "[1] \"a\" \"b\" \"c\"\n"
     ]
    },
    {
     "data": {
      "text/html": [
       "'character'"
      ],
      "text/latex": [
       "'character'"
      ],
      "text/markdown": [
       "'character'"
      ],
      "text/plain": [
       "[1] \"character\""
      ]
     },
     "metadata": {},
     "output_type": "display_data"
    },
    {
     "name": "stdout",
     "output_type": "stream",
     "text": [
      "[1]  TRUE  TRUE FALSE  TRUE FALSE\n"
     ]
    },
    {
     "data": {
      "text/html": [
       "'logical'"
      ],
      "text/latex": [
       "'logical'"
      ],
      "text/markdown": [
       "'logical'"
      ],
      "text/plain": [
       "[1] \"logical\""
      ]
     },
     "metadata": {},
     "output_type": "display_data"
    }
   ],
   "source": [
    "print(num.vec)\n",
    "class(num.vec)\n",
    "print(chr.vec)\n",
    "class(chr.vec)\n",
    "print(log.vec)\n",
    "class(log.vec)"
   ]
  },
  {
   "cell_type": "code",
   "execution_count": 17,
   "id": "9933ceff-c60f-4b67-b98f-595dd3f0a924",
   "metadata": {},
   "outputs": [],
   "source": [
    "mix.vec <- c(F, 1) # R casts F as zero to make all data types the same"
   ]
  },
  {
   "cell_type": "code",
   "execution_count": 18,
   "id": "d62711d2-7857-4438-ab17-566256e6717e",
   "metadata": {},
   "outputs": [
    {
     "name": "stdout",
     "output_type": "stream",
     "text": [
      "[1] 0 1\n",
      "[1] \"numeric\"\n"
     ]
    }
   ],
   "source": [
    "print(mix.vec)\n",
    "print(class(mix.vec))"
   ]
  },
  {
   "cell_type": "markdown",
   "id": "e37f6db1-ab9c-464f-b76a-29d783e773a4",
   "metadata": {},
   "source": [
    "##### <center> Vector Operators and Functions </center>\n",
    "\n",
    "| Description | Operator | Example / Notes | \n",
    "| ---- | ---- | ---- |\n",
    "| Combine function creates a vector | **`c()`** | **`num.vec <- c(1,2,3,4,5,6,7)`** |\n",
    "| Vector element naming | **`names()`** | **`char.vec <- c(\"M\", \"T\", \"W\", \"Th\", \"F\", \"S\", \"Sn\")`**|\n",
    "| Elements can be accessed through names,| not just indexing | **`names(num.vec) <- char.vec`**|\n",
    "| Arithmetic Operations | **`+, -, *, /,...`** | Arithmetic occurs on element by element basis.|\n",
    "| Comparisson operations | **`>, >=, ==,...`** | Logical comparison also done element by element |\n",
    "| Indexing | **`[]`** | **`num.vec[1] -> 1`** **`num.vec[c(1,2)] -> 1 2`** |\n",
    "| Slicing | **`[start:end:step]`** | **`num.vec[2:3]`** start and end are invlusive! | \n",
    "| Comparisson and Selection (i.e. Filtering) | **`>, >=, ==,...`** | **`num.vec[num.vec > 3] -> [4,5,6,7]`**  |"
   ]
  },
  {
   "cell_type": "markdown",
   "id": "30833425-3ade-40b9-9df9-73806837a5cd",
   "metadata": {},
   "source": [
    "##### <center> Vector Aggregate Functions </center>\n",
    "\n",
    "| Aggregte Function | Description | \n",
    "| :----: | :---- | \n",
    "|**`sum()`** | Adds up all the elements in a vector|\n",
    "|**`sd()`** | Calculates the standard deviation of the vector elements | \n",
    "|**`var()`** | Calculates the variance of the vector elements |\n",
    "|**`max()`** | Returns the largest element in the vector | \n",
    "|**`min()`** | Returns the smallest element in the vector | \n",
    "|**`prod()`**| Returns the multiplication of the vector elements |\n",
    "\n",
    "| |\n",
    "|----| \n",
    "|**There are a lot more functions. An R reference card is [here](https://cran.r-project.org/doc/contrib/Short-refcard.pdf).**|\n",
    "\n",
    "---"
   ]
  },
  {
   "cell_type": "markdown",
   "id": "36a6bf67-602c-4b81-9d8f-050b0c3e9017",
   "metadata": {},
   "source": [
    "### <center> Matrices </center>\n",
    "\n",
    "* Whereas Vectors allow us to store 1-dimensional index elements of the same type, \n",
    "* Matrices allow us to store 2-dimensional indexed elements of the same type."
   ]
  },
  {
   "cell_type": "markdown",
   "id": "9d139464-904b-43e0-8b09-602e7fd9113f",
   "metadata": {},
   "source": [
    "| Function | Description | Example | \n",
    "| ---- | ---- | ---- |\n",
    "| **`matrix(data, nrow, byrow)`** | Creates a matrix from a vector | **`mtx = matrix(data=vec, nrow=2, byrow=TRUE)`** |\n",
    "||Another example| **`mtx5by5 = matrix(data=1:50, nrow=5, byrow=TRUE)`** |\n",
    "| **`colnames(matrix)`** | Names the matrix columns | **`colnames(mtx) <- col_names_vector`** |\n",
    "| **`rownames(matrix)`** | Names the matrix rows | **`rownames(mtx) <- row_names_vector`** |\n",
    "| **`+, -, *, /,...`**  | Matrix arithmetic operations - element by element | **`mtx*2`, `mtx+mtx`** |\n",
    "| **`rowSums(matrix)`** | Returns row sums of matrix |**`rowSums(mtx)`** |\n",
    "| **`colSums(matrix)`** | Returns column sums of matrix |**`colSums(mtx)`** |\n",
    "| **`rowMeans(matrix)`** | Returns row means of matrix |**`rowMeans(mtx)`** |\n",
    "| **`colMeans(matrix)`** | Returns column means of matrix |**`colMeans(mtx)`** |\n",
    "| **`cbind(matrix, col)`** | Adds a new col to the matirx | **`cbind(mtx, new_col)`** |\n",
    "| **`rbind(matrix, row)`** | Adds a new col to the matirx | **`rbind(mtx, new_row)`** |\n",
    "| **`matrix[rows, cols]`** | General matrix indexing and slicing format | **`mtx[2,3]`** |\n",
    "|| Select first row | **`mtx[1,]`** |\n",
    "|| Select first column | **`mtx[,1]`** |\n",
    "|| Select top left 3x3 | **`mat[1:3, 1:3]`** |\n",
    "|**`factor(levels=cat_vector, ordered=T/F)`** | Make categories from ordinal or nominal data | **`categories <- factor(levels=cat_vec, ordered=FALSE)`** |\n",
    "\n",
    "---"
   ]
  },
  {
   "cell_type": "markdown",
   "id": "5adb0482-c633-428a-91dc-299e6458342b",
   "metadata": {},
   "source": [
    "### <center> Data Frames </center>\n",
    "\n",
    "* Data Frames is one of the main tools for data analysis in R. \n",
    "* Unlike Vectors and Matrices, they can organize data of mixed types, making it a very powerfull data structure tool. "
   ]
  },
  {
   "cell_type": "markdown",
   "id": "2bf23912-77eb-415d-b6b2-b4bbebfd21ce",
   "metadata": {},
   "source": [
    "| Function | Description | Example |\n",
    "|---- | ---- | ---- |\n",
    "| **`head(x, n)`** | Returns first n rows of data frame x | **`head(x=df, n=5)`** |\n",
    "| **`tail(x, n)`** | Returns last n rows of data frame x | **`tail(x=df, n=5)`** |\n",
    "| **`str(object)`** | Return structure summary of Data Frame | **`str(object=df)`** |\n",
    "| **`summary(object)`** | Returns a statistical summary of all Data Frame coluns |**`summary(object=df)`**|\n",
    "| **`nrow(x)`** | Returns the number of rows of a Data Frame | **`nrow(x=df)`** |\n",
    "| **`ncol(x)`** | Returns the number of columns of a Data Frame | **`ncol(x=df)`** |\n",
    "| **`colnames(x)`** | Returns the column names of Data Frame in a vector | **`colnames(x=df)`** |\n",
    "| | Reassignment of a column name | **`colnames(df)[2] <- \"New Name\"`** |\n",
    "| | Reassignment of all column names | **`colnames(df() <- c(\"NewName1\", ..., \"NewNameN\")`** |\n",
    "| **`rownames(x)`** | Returns the row names of Data Frame in a vector (don't use on large df) | **`rownames(x=df)`** |\n",
    "| **`data.frame(vector,...)`** | Creates Data Frame by taking vectors as its columns | **`df <- data.frame(vec1, vec2, vec3)`** |\n",
    "| | Create Data Frame and renaming columns | **`df <- data.frame(name1=vec1, name2=vec2)`** |\n",
    "| | Creating an empty Data Frame | **`df <- data.frame()`** |\n",
    "| **`rbind()`** | Add a new data frame along the rows | **`df <- rbind(df1, df2)`** |\n",
    "| **`cbind()`** | Add a new data frame along the columns | **`df <-crbind(df1, df2)`**, **`df$newcol <- 2*df$col`** |\n",
    "| **`df[rows, cols]`** | General Data Frame indexing and slicing by index and index name |**`df[2,3]`**, **`df[row_name, col_name]`** |\n",
    "| | Double brackets to teturn the value in a particular location |**`df[[2,3]]`**, **`df[[row_name, col_name]]`** |\n",
    "| | Select first row | **`df[1,]`** |\n",
    "| | Select column named \"rain\" | **`df[, \"rain\"]`** |\n",
    "| | Get values of column \"rain\" | **`df$rain`**, **`df[\"rain\"]`** |\n",
    "| | Select first three rows of columns \"days\" and \"temp\" | **`df[1:3, c(\"days\", \"temp\")]`** |\n",
    "| | Select specific columns of a data frame | **`df2 <- df[c(\"rain\", \"temp\")]`** |\n",
    "| **`subset(x, subset)`** |Subsets data frame x based on some condision | **`df2 <- subset(x=df, subset=(rain==TRUE & temp>20))`** |\n",
    "| | Conditional selection altenative to subset, syntax 1 | **`df2 <- df[(df$rain==TRUE) & (df$temp>20),]`** |\n",
    "| | Conditional selection alternative to subet, syntax 2 | **`df2 <- df[(df[\"rain\"]==TRUE) & (df[\"temp\"]>20),]`** |\n",
    "| **`order()`** | Returns a vector with index elements in order | **`oder(df[\"temp\"], decreasing=FALSE)`**|\n",
    "| | When this ordered is passed inside a data frame it orders it | **`df[order(df[\"temp\"]),]`**, **`df[order(df$temp),]`** |\n",
    "| **`df[[row, col]] <- x`** | Reassignment of a single element in data frame | **`df[[2,3]] <- 5`** | \n",
    "| **`is.na(df)`** | Returns a boolean data frame of same size. | **Used for dealing with missing values** | \n",
    "| | Assign zero to all missing data in a data frame. | **`df[is.na(df)] <- 0`** | \n",
    "| | Typically, this is done on a single columns. | **`df[is.na(df$temp)] <- 0`** |\n",
    "| | Also, we may put something more meaningfull like mean | **`df[is.na(df$temp)] <- mean(df$temp)`** |\n",
    "| | Alternatively, we remove rows for missing data on a columns | **`df <- df[!is.na(df$temp)]`** |\n",
    "\n",
    "---"
   ]
  },
  {
   "cell_type": "markdown",
   "id": "ef9c4a4f-1a64-4be6-aa7a-ec2a29222089",
   "metadata": {},
   "source": [
    "## <center> Lists </center> \n",
    "\n",
    "* List can store a variety of data structures (e.g. vector, matrix, data frame) in a single variable.\n",
    "\n",
    "| Function | Description | Example | \n",
    "| ---- | ---- | ---- | \n",
    "| **`list(object,..., object)`** | Combines data structures into a list where objects are indexed. | **`my.list <- list(vec, mtx, df)`** |\n",
    "| | You can also rename the objects |  **`my.list <- list(vecname=vec, mtxname=mtx, dfname=df)`** |\n",
    "|**`ls[object]`** | Shows object in the list | **`my.list[\"vecname\"]`** | \n",
    "|**`ls[[object]]`** | Returns object itself  | **`my.list[\"vecname\"]`**,  **`my.list$vecname`** |\n",
    "| | Select elements from objects in list. E.g. first element from vector | **`my.list[\"vecname\"][1]`** | \n",
    "| | Cobmining lists to create a new one | **`ls <- c(list1, list2)`** |\n",
    "\n",
    "---"
   ]
  },
  {
   "cell_type": "markdown",
   "id": "6d3258d8-e8a2-4371-ae7f-a9ee54b20b07",
   "metadata": {
    "tags": []
   },
   "source": [
    "## <center> Data Input and Output </center> "
   ]
  },
  {
   "cell_type": "markdown",
   "id": "bc992ffc-5586-4e1e-b0ce-0a250372e2c9",
   "metadata": {},
   "source": [
    "| Function | Description | Example | \n",
    "| ---- | ---- | ---- | \n",
    "| | **CSV Input & Output** |Package for some commands for faster operations **`library(\"data.table\")`** |\n",
    "| **`read.csv(file, header, sep)`** | Read CSV file into a Data Frame. Thin wrapper around below.| **`df <- read.csv(file=\"dataset.csv\", header=TRUE, sep=\",\")`** |\n",
    "|**`read.table(file, hader, sep)`** | Read file into a Data Frame. More general form of above.| **`df <- read.table(file=\"dataset.csv\", header=TRUE, sep=\",\")`** |\n",
    "| **`fread()`** | A similar, but faster and more convenient function. | **`df = fread(\"dataset.csv\")`** |\n",
    "| **`write.csv(x, file, row.names)`** | Write to csv file, without row names (i.e. no index) | **`write.csv(x=df, file=\"output.csv\", now.names=FALSE)`** |\n",
    "| | **Excel Input & Output** |Packages needed **`library(\"readxl\")`**. **`library(\"writexl\")`** |\n",
    "| **`read_excel(path, sheet, colnames)`** | Read Workbook data in Data Frame | **`df <- read_excel(path=\"Data.xlsx\", sheet=\"Sheet1\", colnames=TRUE)`** |\n",
    "| **`write_xlsx(x, path, col_names)`** | Write data frame into Excel Workbook | **`write_xlsx(x=df, path=\"Output.xlsx, col_names=TRUE)`** |\n",
    "\n",
    "---"
   ]
  }
 ],
 "metadata": {
  "kernelspec": {
   "display_name": "R",
   "language": "R",
   "name": "ir"
  },
  "language_info": {
   "codemirror_mode": "r",
   "file_extension": ".r",
   "mimetype": "text/x-r-source",
   "name": "R",
   "pygments_lexer": "r",
   "version": "3.6.1"
  }
 },
 "nbformat": 4,
 "nbformat_minor": 5
}
