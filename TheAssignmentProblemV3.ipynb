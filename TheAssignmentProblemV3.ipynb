{
 "cells": [
  {
   "cell_type": "markdown",
   "metadata": {},
   "source": [
    "### The Assgnment Optimization Problem"
   ]
  },
  {
   "cell_type": "markdown",
   "metadata": {},
   "source": [
    "* The **assignment problem** deals with optimally assigning or pairing of objects of two distinct sets (e.g. workers and jobs) where each pairing is associated with some cost or benefit. \n",
    "* This problem is a **network problem**, but it can also be formulated as an **integer linear problem** (i.e. the solutions must be integer). \n",
    "\n",
    "* **Coefficient Matrix ($ c_{i,j} \\ ) \\ \\Leftrightarrow $ Weighted Bipartite Graph**\n",
    "\n",
    "<img src=\"AssignmentProblem.png\"> \n",
    "\n",
    "* Furthermore, it can be proven that a network problem with integer constraint data (e.g. supplies, demands, capacities), has integer optimal solutions! \n",
    "* Therefore, the assignment optimization problem can be formulated as a linear problem (i.e. dropping the integrality requirement) because we know the optimal solution will be integer. "
   ]
  },
  {
   "cell_type": "markdown",
   "metadata": {},
   "source": [
    "#### General Formulation of the Linear Assignment Problem\n",
    "\n",
    "\n",
    "$ \\ \\  \\ \\ \\ \\ \\ \\min / \\max f(\\overrightarrow{X}) = \\sum_i \\sum_j c_{i,j}*x_{i,j}$\n",
    "\n",
    "\n",
    "$s.t. \\ \\sum_j X_{i,j}=1 \\ \\forall \\ i \\  (Each \\ staff \\ is \\ assigned \\ to \\ one \\ role)$\n",
    "\n",
    "\n",
    "$ \\ \\ \\ \\ \\ \\ \\ \\sum_i X_{i,j}=1 \\ \\forall \\ j \\ (Each \\ role \\ is \\ assigned \\ to \\ one \\ task) $\n",
    "\n",
    "\n",
    "$ \\ \\ \\ \\ \\ \\ \\ \\ x_{i,j} \\ \\in \\{0,1\\} \\ \\ \\ \\ OR \\ \\ \\ \\ x_{i,j} \\ \\geq 0 \\ \\ when \\ formulated \\ as \\ a \\ linear \\ problem $"
   ]
  },
  {
   "cell_type": "markdown",
   "metadata": {},
   "source": [
    "* The assignment problem can also be solved even more efficiently with the **Hungarian algorithm**, a combinatorial optimization algorithm, which takes advantages of the specific charasteristics of the problem. \n",
    "* The Hungarian Algorithm is available in the Python module `SciPy` in the sub-module `optimize`, named the `linear_sum_assignment` method (reference [here](https://docs.scipy.org/doc/scipy/reference/generated/scipy.optimize.linear_sum_assignment.html)).\n",
    "* There only data we need to provide to the method is the coefficient matrix."
   ]
  },
  {
   "cell_type": "code",
   "execution_count": 2,
   "metadata": {},
   "outputs": [],
   "source": [
    "import numpy as np \n",
    "import pandas as pd\n",
    "import scipy.optimize as opt\n",
    "import altair as alt"
   ]
  },
  {
   "cell_type": "code",
   "execution_count": 3,
   "metadata": {},
   "outputs": [],
   "source": [
    "Coefficients = pd.read_excel('TheAssignmentProblem.xlsx', sheet_name='Coefficients')"
   ]
  },
  {
   "cell_type": "code",
   "execution_count": 4,
   "metadata": {},
   "outputs": [
    {
     "data": {
      "text/html": [
       "<div>\n",
       "<style scoped>\n",
       "    .dataframe tbody tr th:only-of-type {\n",
       "        vertical-align: middle;\n",
       "    }\n",
       "\n",
       "    .dataframe tbody tr th {\n",
       "        vertical-align: top;\n",
       "    }\n",
       "\n",
       "    .dataframe thead th {\n",
       "        text-align: right;\n",
       "    }\n",
       "</style>\n",
       "<table border=\"1\" class=\"dataframe\">\n",
       "  <thead>\n",
       "    <tr style=\"text-align: right;\">\n",
       "      <th></th>\n",
       "      <th>Coefficients</th>\n",
       "      <th>Role 01</th>\n",
       "      <th>Role 02</th>\n",
       "      <th>Role 03</th>\n",
       "      <th>Role 04</th>\n",
       "      <th>Role 05</th>\n",
       "      <th>Role 06</th>\n",
       "      <th>Role 07</th>\n",
       "      <th>Role 08</th>\n",
       "      <th>Role 09</th>\n",
       "      <th>Role 10</th>\n",
       "      <th>Role 11</th>\n",
       "      <th>Role 12</th>\n",
       "      <th>Role 13</th>\n",
       "      <th>Role 14</th>\n",
       "    </tr>\n",
       "  </thead>\n",
       "  <tbody>\n",
       "    <tr>\n",
       "      <th>0</th>\n",
       "      <td>Person 01</td>\n",
       "      <td>4</td>\n",
       "      <td>12</td>\n",
       "      <td>11</td>\n",
       "      <td>7</td>\n",
       "      <td>1</td>\n",
       "      <td>13</td>\n",
       "      <td>6</td>\n",
       "      <td>2</td>\n",
       "      <td>10</td>\n",
       "      <td>14</td>\n",
       "      <td>5</td>\n",
       "      <td>8</td>\n",
       "      <td>3</td>\n",
       "      <td>9</td>\n",
       "    </tr>\n",
       "    <tr>\n",
       "      <th>1</th>\n",
       "      <td>Person 02</td>\n",
       "      <td>11</td>\n",
       "      <td>2</td>\n",
       "      <td>13</td>\n",
       "      <td>4</td>\n",
       "      <td>7</td>\n",
       "      <td>14</td>\n",
       "      <td>6</td>\n",
       "      <td>3</td>\n",
       "      <td>5</td>\n",
       "      <td>8</td>\n",
       "      <td>10</td>\n",
       "      <td>1</td>\n",
       "      <td>12</td>\n",
       "      <td>9</td>\n",
       "    </tr>\n",
       "  </tbody>\n",
       "</table>\n",
       "</div>"
      ],
      "text/plain": [
       "  Coefficients  Role 01  Role 02  Role 03  Role 04  Role 05  Role 06  Role 07  \\\n",
       "0    Person 01        4       12       11        7        1       13        6   \n",
       "1    Person 02       11        2       13        4        7       14        6   \n",
       "\n",
       "   Role 08  Role 09  Role 10  Role 11  Role 12  Role 13  Role 14  \n",
       "0        2       10       14        5        8        3        9  \n",
       "1        3        5        8       10        1       12        9  "
      ]
     },
     "execution_count": 4,
     "metadata": {},
     "output_type": "execute_result"
    }
   ],
   "source": [
    "Coefficients.head(2)"
   ]
  },
  {
   "cell_type": "markdown",
   "metadata": {},
   "source": [
    "* Setting the \"Coefficients\" column as the row index for the data frame"
   ]
  },
  {
   "cell_type": "code",
   "execution_count": 5,
   "metadata": {},
   "outputs": [],
   "source": [
    "Coefficients.set_index(\"Coefficients\", inplace=True)\n",
    "Coefficients = Coefficients"
   ]
  },
  {
   "cell_type": "code",
   "execution_count": 6,
   "metadata": {},
   "outputs": [
    {
     "data": {
      "text/html": [
       "<div>\n",
       "<style scoped>\n",
       "    .dataframe tbody tr th:only-of-type {\n",
       "        vertical-align: middle;\n",
       "    }\n",
       "\n",
       "    .dataframe tbody tr th {\n",
       "        vertical-align: top;\n",
       "    }\n",
       "\n",
       "    .dataframe thead th {\n",
       "        text-align: right;\n",
       "    }\n",
       "</style>\n",
       "<table border=\"1\" class=\"dataframe\">\n",
       "  <thead>\n",
       "    <tr style=\"text-align: right;\">\n",
       "      <th></th>\n",
       "      <th>Role 01</th>\n",
       "      <th>Role 02</th>\n",
       "      <th>Role 03</th>\n",
       "      <th>Role 04</th>\n",
       "      <th>Role 05</th>\n",
       "      <th>Role 06</th>\n",
       "      <th>Role 07</th>\n",
       "      <th>Role 08</th>\n",
       "      <th>Role 09</th>\n",
       "      <th>Role 10</th>\n",
       "      <th>Role 11</th>\n",
       "      <th>Role 12</th>\n",
       "      <th>Role 13</th>\n",
       "      <th>Role 14</th>\n",
       "    </tr>\n",
       "    <tr>\n",
       "      <th>Coefficients</th>\n",
       "      <th></th>\n",
       "      <th></th>\n",
       "      <th></th>\n",
       "      <th></th>\n",
       "      <th></th>\n",
       "      <th></th>\n",
       "      <th></th>\n",
       "      <th></th>\n",
       "      <th></th>\n",
       "      <th></th>\n",
       "      <th></th>\n",
       "      <th></th>\n",
       "      <th></th>\n",
       "      <th></th>\n",
       "    </tr>\n",
       "  </thead>\n",
       "  <tbody>\n",
       "    <tr>\n",
       "      <th>Person 01</th>\n",
       "      <td>4</td>\n",
       "      <td>12</td>\n",
       "      <td>11</td>\n",
       "      <td>7</td>\n",
       "      <td>1</td>\n",
       "      <td>13</td>\n",
       "      <td>6</td>\n",
       "      <td>2</td>\n",
       "      <td>10</td>\n",
       "      <td>14</td>\n",
       "      <td>5</td>\n",
       "      <td>8</td>\n",
       "      <td>3</td>\n",
       "      <td>9</td>\n",
       "    </tr>\n",
       "    <tr>\n",
       "      <th>Person 02</th>\n",
       "      <td>11</td>\n",
       "      <td>2</td>\n",
       "      <td>13</td>\n",
       "      <td>4</td>\n",
       "      <td>7</td>\n",
       "      <td>14</td>\n",
       "      <td>6</td>\n",
       "      <td>3</td>\n",
       "      <td>5</td>\n",
       "      <td>8</td>\n",
       "      <td>10</td>\n",
       "      <td>1</td>\n",
       "      <td>12</td>\n",
       "      <td>9</td>\n",
       "    </tr>\n",
       "    <tr>\n",
       "      <th>Person 03</th>\n",
       "      <td>11</td>\n",
       "      <td>1</td>\n",
       "      <td>6</td>\n",
       "      <td>5</td>\n",
       "      <td>8</td>\n",
       "      <td>4</td>\n",
       "      <td>12</td>\n",
       "      <td>10</td>\n",
       "      <td>2</td>\n",
       "      <td>3</td>\n",
       "      <td>13</td>\n",
       "      <td>14</td>\n",
       "      <td>7</td>\n",
       "      <td>9</td>\n",
       "    </tr>\n",
       "    <tr>\n",
       "      <th>Person 04</th>\n",
       "      <td>6</td>\n",
       "      <td>8</td>\n",
       "      <td>9</td>\n",
       "      <td>11</td>\n",
       "      <td>13</td>\n",
       "      <td>10</td>\n",
       "      <td>4</td>\n",
       "      <td>12</td>\n",
       "      <td>3</td>\n",
       "      <td>5</td>\n",
       "      <td>14</td>\n",
       "      <td>1</td>\n",
       "      <td>7</td>\n",
       "      <td>2</td>\n",
       "    </tr>\n",
       "    <tr>\n",
       "      <th>Person 05</th>\n",
       "      <td>5</td>\n",
       "      <td>11</td>\n",
       "      <td>13</td>\n",
       "      <td>6</td>\n",
       "      <td>2</td>\n",
       "      <td>8</td>\n",
       "      <td>7</td>\n",
       "      <td>3</td>\n",
       "      <td>10</td>\n",
       "      <td>1</td>\n",
       "      <td>12</td>\n",
       "      <td>4</td>\n",
       "      <td>9</td>\n",
       "      <td>14</td>\n",
       "    </tr>\n",
       "  </tbody>\n",
       "</table>\n",
       "</div>"
      ],
      "text/plain": [
       "              Role 01  Role 02  Role 03  Role 04  Role 05  Role 06  Role 07  \\\n",
       "Coefficients                                                                  \n",
       "Person 01           4       12       11        7        1       13        6   \n",
       "Person 02          11        2       13        4        7       14        6   \n",
       "Person 03          11        1        6        5        8        4       12   \n",
       "Person 04           6        8        9       11       13       10        4   \n",
       "Person 05           5       11       13        6        2        8        7   \n",
       "\n",
       "              Role 08  Role 09  Role 10  Role 11  Role 12  Role 13  Role 14  \n",
       "Coefficients                                                                 \n",
       "Person 01           2       10       14        5        8        3        9  \n",
       "Person 02           3        5        8       10        1       12        9  \n",
       "Person 03          10        2        3       13       14        7        9  \n",
       "Person 04          12        3        5       14        1        7        2  \n",
       "Person 05           3       10        1       12        4        9       14  "
      ]
     },
     "execution_count": 6,
     "metadata": {},
     "output_type": "execute_result"
    }
   ],
   "source": [
    "Coefficients.head()"
   ]
  },
  {
   "cell_type": "markdown",
   "metadata": {},
   "source": [
    "* Convert Coefficients Dataframe to **`Numpy`** Matrix to use in **`SciPy.Optimize`**"
   ]
  },
  {
   "cell_type": "code",
   "execution_count": 7,
   "metadata": {},
   "outputs": [],
   "source": [
    "C = Coefficients.values"
   ]
  },
  {
   "cell_type": "markdown",
   "metadata": {},
   "source": [
    "* Now we can solve the assignment problem using the **Hungarian Algorithm** through the **`linear_sum_assignment`** method\n",
    "\n",
    "* **`row_ind`** and **`col_ind`** are the corresponding indeces of the optimal solution that are returned by the method"
   ]
  },
  {
   "cell_type": "code",
   "execution_count": 8,
   "metadata": {},
   "outputs": [],
   "source": [
    "row_ind, col_ind = opt.linear_sum_assignment(cost_matrix=C,maximize=False)"
   ]
  },
  {
   "cell_type": "markdown",
   "metadata": {},
   "source": [
    "* Since indices start at zero, we add one to the `row_ind` and `col_ind` respectively\n",
    "* We can also use the `row_ind` and `col_ind` indices to get the coefficient matrix values of the optimal allocation\n",
    "* We use these to create a table with the optimal allocation and preference, as well as return the value of the optimal solution"
   ]
  },
  {
   "cell_type": "code",
   "execution_count": 9,
   "metadata": {},
   "outputs": [],
   "source": [
    "Solution = pd.concat([pd.DataFrame(data=row_ind, columns=[\"Staff\"]) + 1, \n",
    "                      pd.DataFrame(data=col_ind, columns=[\"Roles\"]) + 1, \n",
    "                      pd.DataFrame(data=C[row_ind, col_ind], columns=[\"Preference\"])], axis=1)"
   ]
  },
  {
   "cell_type": "code",
   "execution_count": 10,
   "metadata": {},
   "outputs": [
    {
     "name": "stdout",
     "output_type": "stream",
     "text": [
      "Optimal Allocation: \n",
      "     Staff  Roles  Preference\n",
      "0       1      5           1\n",
      "1       2     12           1\n",
      "2       3      2           1\n",
      "3       4     14           2\n",
      "4       5     10           1\n",
      "5       6      1           1\n",
      "6       7      4           1\n",
      "7       8      3           1\n",
      "8       9      6           3\n",
      "9      10      7           1\n",
      "10     11      9           2\n",
      "11     12     11           2\n",
      "12     13     13           2\n",
      "13     14      8           2 \n",
      "\n",
      "Objective Value: 21\n",
      "Maximum Preference: 3\n"
     ]
    }
   ],
   "source": [
    "print(\"Optimal Allocation: \\n\", Solution, \"\\n\")\n",
    "print(\"Objective Value:\", C[row_ind, col_ind].sum())\n",
    "print(\"Maximum Preference:\", Solution[\"Preference\"].max())"
   ]
  },
  {
   "cell_type": "markdown",
   "metadata": {},
   "source": [
    "* We print the frequency of the preferences of the optimal allocation to see if any allocations are significantly different than the rest"
   ]
  },
  {
   "cell_type": "code",
   "execution_count": 14,
   "metadata": {},
   "outputs": [],
   "source": [
    "PrefBars = alt.Chart(Solution).mark_bar().encode(\n",
    "    x=alt.X(\"Preference:Q\", bin=alt.Bin(step=1, extent=[1, 14]), title=\"Preference\"), \n",
    "    y=alt.Y(\"count(Preference):Q\", axis=None, title=\"Count\")\n",
    ").properties(width=310)\n",
    "    \n",
    "PrefText = PrefBars.mark_text(align = \"left\", baseline = \"middle\", dy=-7, dx=-2).encode(\n",
    "    text=\"count(Preference):Q\"\n",
    ")\n",
    "    \n",
    "PrefGraph = PrefBars + PrefText"
   ]
  },
  {
   "cell_type": "code",
   "execution_count": 15,
   "metadata": {},
   "outputs": [
    {
     "data": {
      "text/html": [
       "\n",
       "<div id=\"altair-viz-dd72f465cd1845299ed11b67572cde38\"></div>\n",
       "<script type=\"text/javascript\">\n",
       "  (function(spec, embedOpt){\n",
       "    let outputDiv = document.currentScript.previousElementSibling;\n",
       "    if (outputDiv.id !== \"altair-viz-dd72f465cd1845299ed11b67572cde38\") {\n",
       "      outputDiv = document.getElementById(\"altair-viz-dd72f465cd1845299ed11b67572cde38\");\n",
       "    }\n",
       "    const paths = {\n",
       "      \"vega\": \"https://cdn.jsdelivr.net/npm//vega@5?noext\",\n",
       "      \"vega-lib\": \"https://cdn.jsdelivr.net/npm//vega-lib?noext\",\n",
       "      \"vega-lite\": \"https://cdn.jsdelivr.net/npm//vega-lite@4.8.1?noext\",\n",
       "      \"vega-embed\": \"https://cdn.jsdelivr.net/npm//vega-embed@6?noext\",\n",
       "    };\n",
       "\n",
       "    function loadScript(lib) {\n",
       "      return new Promise(function(resolve, reject) {\n",
       "        var s = document.createElement('script');\n",
       "        s.src = paths[lib];\n",
       "        s.async = true;\n",
       "        s.onload = () => resolve(paths[lib]);\n",
       "        s.onerror = () => reject(`Error loading script: ${paths[lib]}`);\n",
       "        document.getElementsByTagName(\"head\")[0].appendChild(s);\n",
       "      });\n",
       "    }\n",
       "\n",
       "    function showError(err) {\n",
       "      outputDiv.innerHTML = `<div class=\"error\" style=\"color:red;\">${err}</div>`;\n",
       "      throw err;\n",
       "    }\n",
       "\n",
       "    function displayChart(vegaEmbed) {\n",
       "      vegaEmbed(outputDiv, spec, embedOpt)\n",
       "        .catch(err => showError(`Javascript Error: ${err.message}<br>This usually means there's a typo in your chart specification. See the javascript console for the full traceback.`));\n",
       "    }\n",
       "\n",
       "    if(typeof define === \"function\" && define.amd) {\n",
       "      requirejs.config({paths});\n",
       "      require([\"vega-embed\"], displayChart, err => showError(`Error loading script: ${err.message}`));\n",
       "    } else if (typeof vegaEmbed === \"function\") {\n",
       "      displayChart(vegaEmbed);\n",
       "    } else {\n",
       "      loadScript(\"vega\")\n",
       "        .then(() => loadScript(\"vega-lite\"))\n",
       "        .then(() => loadScript(\"vega-embed\"))\n",
       "        .catch(showError)\n",
       "        .then(() => displayChart(vegaEmbed));\n",
       "    }\n",
       "  })({\"config\": {\"view\": {\"continuousWidth\": 400, \"continuousHeight\": 300}}, \"layer\": [{\"mark\": \"bar\", \"encoding\": {\"x\": {\"type\": \"quantitative\", \"bin\": {\"extent\": [1, 14], \"step\": 1}, \"field\": \"Preference\", \"title\": \"Preference\"}, \"y\": {\"type\": \"quantitative\", \"aggregate\": \"count\", \"axis\": null, \"field\": \"Preference\", \"title\": \"Count\"}}, \"width\": 310}, {\"mark\": {\"type\": \"text\", \"align\": \"left\", \"baseline\": \"middle\", \"dx\": -2, \"dy\": -7}, \"encoding\": {\"text\": {\"type\": \"quantitative\", \"aggregate\": \"count\", \"field\": \"Preference\"}, \"x\": {\"type\": \"quantitative\", \"bin\": {\"extent\": [1, 14], \"step\": 1}, \"field\": \"Preference\", \"title\": \"Preference\"}, \"y\": {\"type\": \"quantitative\", \"aggregate\": \"count\", \"axis\": null, \"field\": \"Preference\", \"title\": \"Count\"}}, \"width\": 310}], \"data\": {\"name\": \"data-e061a912404c91cdc8dbe5bd9f10b330\"}, \"$schema\": \"https://vega.github.io/schema/vega-lite/v4.8.1.json\", \"datasets\": {\"data-e061a912404c91cdc8dbe5bd9f10b330\": [{\"Staff\": 1, \"Roles\": 5, \"Preference\": 1}, {\"Staff\": 2, \"Roles\": 12, \"Preference\": 1}, {\"Staff\": 3, \"Roles\": 2, \"Preference\": 1}, {\"Staff\": 4, \"Roles\": 14, \"Preference\": 2}, {\"Staff\": 5, \"Roles\": 10, \"Preference\": 1}, {\"Staff\": 6, \"Roles\": 1, \"Preference\": 1}, {\"Staff\": 7, \"Roles\": 4, \"Preference\": 1}, {\"Staff\": 8, \"Roles\": 3, \"Preference\": 1}, {\"Staff\": 9, \"Roles\": 6, \"Preference\": 3}, {\"Staff\": 10, \"Roles\": 7, \"Preference\": 1}, {\"Staff\": 11, \"Roles\": 9, \"Preference\": 2}, {\"Staff\": 12, \"Roles\": 11, \"Preference\": 2}, {\"Staff\": 13, \"Roles\": 13, \"Preference\": 2}, {\"Staff\": 14, \"Roles\": 8, \"Preference\": 2}]}}, {\"mode\": \"vega-lite\"});\n",
       "</script>"
      ],
      "text/plain": [
       "alt.LayerChart(...)"
      ]
     },
     "execution_count": 15,
     "metadata": {},
     "output_type": "execute_result"
    }
   ],
   "source": [
    "PrefGraph"
   ]
  },
  {
   "cell_type": "code",
   "execution_count": null,
   "metadata": {},
   "outputs": [],
   "source": []
  }
 ],
 "metadata": {
  "kernelspec": {
   "display_name": "Python 3",
   "language": "python",
   "name": "python3"
  },
  "language_info": {
   "codemirror_mode": {
    "name": "ipython",
    "version": 3
   },
   "file_extension": ".py",
   "mimetype": "text/x-python",
   "name": "python",
   "nbconvert_exporter": "python",
   "pygments_lexer": "ipython3",
   "version": "3.8.8"
  }
 },
 "nbformat": 4,
 "nbformat_minor": 4
}
