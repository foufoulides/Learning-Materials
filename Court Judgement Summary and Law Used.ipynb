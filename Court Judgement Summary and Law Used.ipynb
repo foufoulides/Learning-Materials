{
 "cells": [
  {
   "cell_type": "markdown",
   "id": "1646656a-82ce-42b1-905f-d84bb5077874",
   "metadata": {},
   "source": [
    "### <center> Court Judgment General and Technical Summarizations and Legistlation Used List </center>\n",
    "    \n",
    "This code uses **LangChain** to:\n",
    "* Use an **`UnstructuredXMLLoader`** to read a Court Judgment from an XML Document.\n",
    "    * These documents tent to be very large.\n",
    "* Summarize the document with a MapReduce Chain which in turn: \n",
    "    * Uses a **`ReduceDocumentsChain`** to split the document into smaller parts\n",
    "    * Uses an **`LLMchain`** to summarize each part\n",
    "        * There are two versions of this: \n",
    "            * Make a summary with simple language aimed at general audience\n",
    "            * Make a summary with technical language aimed at legal experts\n",
    "    * Uses a **`StuffDocumentsChain`** to group the summaries together\n",
    "    * Uses the **`LLMChain`** again to summarize the grouped summaries\n",
    "* Then we use another **`LLMChain`** to read the technical summary to list and explain the legislation used in this Court Judgement."
   ]
  },
  {
   "cell_type": "markdown",
   "id": "a710daf5-29a4-4e9c-b5ca-8952b1c1d3e2",
   "metadata": {},
   "source": [
    "### 0. Imports and API Keys Setup"
   ]
  },
  {
   "cell_type": "code",
   "execution_count": 23,
   "id": "271d0321-1aaa-4f69-87cf-321243af68dc",
   "metadata": {
    "tags": []
   },
   "outputs": [],
   "source": [
    "from langchain.chat_models import ChatOpenAI\n",
    "from langchain.document_loaders import UnstructuredXMLLoader\n",
    "from langchain.text_splitter import CharacterTextSplitter\n",
    "from langchain.chains import MapReduceDocumentsChain, ReduceDocumentsChain\n",
    "from langchain.chains.combine_documents.stuff import StuffDocumentsChain\n",
    "from langchain.chains import LLMChain\n",
    "from langchain import PromptTemplate\n",
    "from langchain.prompts import ChatPromptTemplate"
   ]
  },
  {
   "cell_type": "markdown",
   "id": "8bd069d2-0dad-4211-8ac9-22763f4740ff",
   "metadata": {},
   "source": [
    "### 1. Load and Split XML Court Judgement Document"
   ]
  },
  {
   "cell_type": "code",
   "execution_count": 3,
   "id": "4c79736a-a67d-4e46-8a6b-13d16446d1ba",
   "metadata": {
    "tags": []
   },
   "outputs": [],
   "source": [
    "xml_loader = UnstructuredXMLLoader(file_path=\"uksc_2023_37.xml\")"
   ]
  },
  {
   "cell_type": "code",
   "execution_count": 4,
   "id": "03ec1ca9-53de-462a-9e0a-eef0cd4ea15c",
   "metadata": {
    "tags": []
   },
   "outputs": [],
   "source": [
    "court_judgment = xml_loader.load()"
   ]
  },
  {
   "cell_type": "code",
   "execution_count": 5,
   "id": "01baa144-043f-4444-a90b-7a860d22e251",
   "metadata": {
    "tags": []
   },
   "outputs": [
    {
     "name": "stdout",
     "output_type": "stream",
     "text": [
      "Number of Documents:1\n"
     ]
    }
   ],
   "source": [
    "print(f\"Number of Documents:{len(court_judgment)}\")"
   ]
  },
  {
   "cell_type": "code",
   "execution_count": 6,
   "id": "3b23e075-4a76-453e-b03e-0ac264418d59",
   "metadata": {
    "tags": []
   },
   "outputs": [
    {
     "name": "stdout",
     "output_type": "stream",
     "text": [
      "Word cound of document content: 4,224\n"
     ]
    }
   ],
   "source": [
    "print(f\"Word cound of document content: {len(court_judgment[0].page_content.split()):,}\")"
   ]
  },
  {
   "cell_type": "code",
   "execution_count": 7,
   "id": "c5b7a436-e038-4c4d-bc67-1e5b2db75255",
   "metadata": {
    "tags": []
   },
   "outputs": [],
   "source": [
    "text_splitter = CharacterTextSplitter(chunk_size=1500)"
   ]
  },
  {
   "cell_type": "code",
   "execution_count": 8,
   "id": "b7817cc6-394d-4cf3-b91b-176cc3984e59",
   "metadata": {
    "tags": []
   },
   "outputs": [
    {
     "name": "stderr",
     "output_type": "stream",
     "text": [
      "Created a chunk of size 3854, which is longer than the specified 1500\n"
     ]
    }
   ],
   "source": [
    "split_court_judgment = text_splitter.create_documents([court_judgment[0].page_content])"
   ]
  },
  {
   "cell_type": "code",
   "execution_count": 9,
   "id": "bca5fd6b-2310-4a8b-9d3a-3b09c6099d5a",
   "metadata": {
    "tags": []
   },
   "outputs": [
    {
     "data": {
      "text/plain": [
       "20"
      ]
     },
     "execution_count": 9,
     "metadata": {},
     "output_type": "execute_result"
    }
   ],
   "source": [
    "len(split_court_judgment)"
   ]
  },
  {
   "cell_type": "markdown",
   "id": "55ff3cb6-8ad0-49c8-b12a-1005ab70b373",
   "metadata": {},
   "source": [
    "### 2. Summarize Legal Document with a Map-Reduce Chain"
   ]
  },
  {
   "cell_type": "markdown",
   "id": "3e89e823-5adc-4f57-9d62-a627b2627da4",
   "metadata": {},
   "source": [
    "#### Map Chain\n",
    "* Two versions: \n",
    "    1. With a general audience prompt\n",
    "    2. With a legal expert prompt"
   ]
  },
  {
   "cell_type": "code",
   "execution_count": 10,
   "id": "5eee736b-d61a-4fac-b36f-17d75cd029de",
   "metadata": {},
   "outputs": [],
   "source": [
    "llm = ChatOpenAI(temperature=0, model='gpt-4-1106-preview')"
   ]
  },
  {
   "cell_type": "code",
   "execution_count": 11,
   "id": "ac76941c-9952-4528-ae9d-fee5daceafae",
   "metadata": {
    "tags": []
   },
   "outputs": [],
   "source": [
    "map_template_general = ''' \n",
    "Write a concise summary of the following legal document in simple terms so that it is accessible to a general audience: \n",
    "{legal_document} \n",
    "Summary:\n",
    "'''\n",
    "map_prompt_general = PromptTemplate.from_template(map_template_general)\n",
    "map_chain_general = LLMChain(prompt=map_prompt_general, llm=llm)"
   ]
  },
  {
   "cell_type": "code",
   "execution_count": 12,
   "id": "5bbbe5d4-8c8e-40e7-b50f-2d99b7c420ba",
   "metadata": {
    "tags": []
   },
   "outputs": [],
   "source": [
    "map_template_legal = ''' \n",
    "Write a concise summary of the following legal document so that it is accessible to a legal expert: \n",
    "{legal_document} \n",
    "Summary:\n",
    "'''\n",
    "map_prompt_legal = PromptTemplate.from_template(map_template_legal)\n",
    "map_chain_legal = LLMChain(prompt=map_prompt_legal, llm=llm)"
   ]
  },
  {
   "cell_type": "markdown",
   "id": "d1e13c0c-5246-4546-bc99-3e6f572f88a7",
   "metadata": {},
   "source": [
    "### Reduce Chain"
   ]
  },
  {
   "cell_type": "code",
   "execution_count": 13,
   "id": "2c9c0b27-dca3-413d-aaa9-fba448f1e4f9",
   "metadata": {
    "tags": []
   },
   "outputs": [],
   "source": [
    "reduce_template = ''' \n",
    "Summarize the following set of summaries with all key details:\n",
    "{doc_summaries} \n",
    "Summary:\n",
    "'''\n",
    "reduce_prompt = PromptTemplate.from_template(reduce_template)\n",
    "reduce_chain = LLMChain(llm=llm, \n",
    "                        prompt=reduce_prompt)\n",
    "\n",
    "stuff_chain = StuffDocumentsChain(llm_chain=reduce_chain, \n",
    "                                  document_variable_name=\"doc_summaries\")\n",
    "\n",
    "reduce_chain = ReduceDocumentsChain(combine_documents_chain=stuff_chain)"
   ]
  },
  {
   "cell_type": "markdown",
   "id": "155cab9c-88b8-468e-bc6b-a0db5f95a655",
   "metadata": {},
   "source": [
    "### Mab Reduce Chain\n",
    "* Two versions:\n",
    "    1. Using the map_chain_general\n",
    "    2. Using the map_chain_legal"
   ]
  },
  {
   "cell_type": "code",
   "execution_count": 14,
   "id": "ee1814a0-53cb-4eb8-8a00-d5c3f0db2f9e",
   "metadata": {
    "tags": []
   },
   "outputs": [],
   "source": [
    "map_reduce_chain_general = MapReduceDocumentsChain(\n",
    "    llm_chain=map_chain_general,\n",
    "    document_variable_name=\"legal_document\",\n",
    "    reduce_documents_chain=reduce_chain\n",
    ")"
   ]
  },
  {
   "cell_type": "code",
   "execution_count": 15,
   "id": "bf5a9d22-342c-41f0-917f-e7d86f93402c",
   "metadata": {
    "tags": []
   },
   "outputs": [],
   "source": [
    "map_reduce_chain_legal = MapReduceDocumentsChain(\n",
    "    llm_chain=map_chain_legal,\n",
    "    document_variable_name=\"legal_document\",\n",
    "    reduce_documents_chain=reduce_chain\n",
    ")"
   ]
  },
  {
   "cell_type": "code",
   "execution_count": 16,
   "id": "5cc55528-5a6a-4e6d-b40f-cd80b4abbd60",
   "metadata": {
    "tags": []
   },
   "outputs": [],
   "source": [
    "summary_general = map_reduce_chain_general.run(split_court_judgment)"
   ]
  },
  {
   "cell_type": "code",
   "execution_count": 17,
   "id": "58eb58d2-8398-401e-b468-051055526f46",
   "metadata": {
    "tags": []
   },
   "outputs": [],
   "source": [
    "summary_legal = map_reduce_chain_legal.run(split_court_judgment)"
   ]
  },
  {
   "cell_type": "code",
   "execution_count": 18,
   "id": "1ae78862-fa17-4a23-a941-ed1cef79af63",
   "metadata": {
    "tags": []
   },
   "outputs": [
    {
     "name": "stdout",
     "output_type": "stream",
     "text": [
      "The UK Supreme Court case involves HMRC and Vermilion Holdings Ltd, focusing on the tax treatment of employment-related securities options under the Income Tax (Earnings and Pensions) Act 2003. Vermilion offered share options as compensation during a 2006 financial restructuring, which were later altered during a 2007 rescue funding exercise. Mr. Marcus Noble, associated with Quest, exercised an option in 2016, leading HMRC to charge Vermilion income tax and National Insurance Contributions, treating the profits as employment income.\n",
      "\n",
      "The legal issue revolved around whether the share options were granted \"by reason of an employment,\" affecting their tax status. The First-tier Tribunal and higher courts debated the application of a \"deeming provision\" that assumes options provided by an employer are related to employment. The Inner House had a majority ruling that the 2007 option was not employment-related, while the Lord President dissented.\n",
      "\n",
      "The Supreme Court, with a judgment written by Lord Hodge, aimed to clarify the interpretation of the deeming provision and its application to the case. Precedents from the Court of Appeal and Lord Briggs provided guidance on the use of deeming provisions, cautioning against extending their scope beyond the intended purpose.\n",
      "\n",
      "The FTT and Inner House were criticized for misapplying the deeming provision and misunderstanding the nature of the stock option exchange in 2007. The case also referenced the Price v Revenue and Customs Comrs case, which dealt with tax avoidance through stock option transfers.\n",
      "\n",
      "The document ultimately supports the appeal, suggesting that the lower court's decision should be overturned and that the deeming provision, when correctly applied, does not lead to inconsistencies or injustices. The outcome of the Supreme Court's decision is not detailed in the summaries provided.\n"
     ]
    }
   ],
   "source": [
    "print(summary_general)"
   ]
  },
  {
   "cell_type": "code",
   "execution_count": 19,
   "id": "e1d4274e-01cd-4cf3-8aa4-86ec3a68260a",
   "metadata": {
    "tags": []
   },
   "outputs": [
    {
     "name": "stdout",
     "output_type": "stream",
     "text": [
      "General Summary Word Cound: 280\n"
     ]
    }
   ],
   "source": [
    "print(f\"General Summary Word Cound: {len(summary_general.split()):,}\")"
   ]
  },
  {
   "cell_type": "code",
   "execution_count": 20,
   "id": "728c1939-d643-4530-be09-7948368ad5fe",
   "metadata": {
    "tags": []
   },
   "outputs": [
    {
     "name": "stdout",
     "output_type": "stream",
     "text": [
      "The legal case involves Vermilion Holdings Ltd and HMRC, focusing on the interpretation of section 471 of the Income Tax (Earnings and Pensions) Act 2003, which deals with the taxation of employment-related securities options. Vermilion Holdings was created after the restructuring of Vermilion Software Ltd in 2006. In 2007, during a fundraising event, supplier options were granted to Quest Advantage Ltd and Dickson Minto, which HMRC later challenged as taxable under employment income.\n",
      "\n",
      "The case hinged on whether the securities option granted to Mr. Noble was employment-related as per section 471 of ITEPA. The First-tier Tribunal (FTT) and the Inner House had differing views on whether the option was granted by reason of employment and the application of the deeming provision in section 471(3). The FTT found that the option was not solely related to employment, while the Upper Tribunal allowed HMRC's case. The Inner House, by majority, sided with the FTT, but the Lord President dissented, seeing no absurdity in applying the deeming provision.\n",
      "\n",
      "The UK Supreme Court's unanimous judgment, written by Lord Hodge, was not detailed in the summary. The case involved complex legal interpretations, including the influence of case law and the application of deeming provisions. The Court of Appeal of England and Wales and Lord Briggs provided guidance on interpreting deeming provisions, emphasizing that they should not lead to absurd outcomes.\n",
      "\n",
      "The document criticizes the FTT and Lord Malcolm for their reasoning, arguing that the deeming provision should be given full effect. The 2007 option was deemed to confer a new right, and the case of Price v Revenue and Customs Comrs influenced the FTT's reasoning regarding the assignment of securities options and their link to employment. Lord Doherty and Judge Hellier suggested that an automatic connection between employment and opportunity is established for employees, but a direct link is required for non-employees. The document concludes with the author's decision to allow the appeal, indicating that the deeming provision should be applied as intended without leading to unreasonable outcomes.\n"
     ]
    }
   ],
   "source": [
    "print(summary_legal)"
   ]
  },
  {
   "cell_type": "code",
   "execution_count": 22,
   "id": "16356b3c-7807-4353-896d-113f3a8ca3ad",
   "metadata": {
    "tags": []
   },
   "outputs": [
    {
     "name": "stdout",
     "output_type": "stream",
     "text": [
      "General Summary Word Cound: 333\n"
     ]
    }
   ],
   "source": [
    "print(f\"General Summary Word Cound: {len(summary_legal.split()):,}\")"
   ]
  },
  {
   "cell_type": "markdown",
   "id": "acf19bd7-73f2-4e9f-a915-f7ce8a39a10e",
   "metadata": {},
   "source": [
    "### 3. What Law was Used"
   ]
  },
  {
   "cell_type": "code",
   "execution_count": 39,
   "id": "f6fff665-cc34-432d-ac46-78573845645c",
   "metadata": {
    "tags": []
   },
   "outputs": [],
   "source": [
    "template = ''' You are a legal expert in UK law. \n",
    "               Provide a list with simple explanations wich UK legistlation was interpreted in this court judgment summary:\\n{document} '''\n",
    "prompt = ChatPromptTemplate.from_template(template)\n",
    "chain = LLMChain(llm=llm,\n",
    "                 prompt=prompt)"
   ]
  },
  {
   "cell_type": "code",
   "execution_count": 40,
   "id": "b4ab2361-95ab-4bb4-89e8-8a0e0713eb61",
   "metadata": {
    "tags": []
   },
   "outputs": [],
   "source": [
    "result = chain.run(summary_legal)"
   ]
  },
  {
   "cell_type": "code",
   "execution_count": 41,
   "id": "cac14cd3-9fda-47a4-873d-05b7a1f92fec",
   "metadata": {
    "tags": []
   },
   "outputs": [
    {
     "name": "stdout",
     "output_type": "stream",
     "text": [
      "Based on the court judgment summary provided, the following UK legislation and legal principles were interpreted:\n",
      "\n",
      "1. **Income Tax (Earnings and Pensions) Act 2003 (ITEPA 2003)** - Specifically, section 471 of ITEPA 2003 was the central piece of legislation under interpretation. This section deals with the taxation of employment-related securities options. The case focused on whether the securities option granted was employment-related and the application of the deeming provision within this section.\n",
      "\n",
      "2. **Deeming Provisions** - The interpretation of deeming provisions within the legislation was a key issue. Deeming provisions are legal constructs that treat something as if it were something else for specific purposes, even if it is not actually the case. The courts had to consider how to apply these provisions without leading to absurd or unreasonable outcomes.\n",
      "\n",
      "3. **Case Law: Price v Revenue and Customs Comrs** - This case was referenced in the judgment summary and influenced the First-tier Tribunal's reasoning. It likely dealt with the assignment of securities options and their connection to employment, which would have been relevant to the interpretation of section 471 of ITEPA 2003.\n",
      "\n",
      "4. **Legal Principles on Interpretation of Statutes** - The judgment summary mentions guidance from the Court of Appeal of England and Wales and Lord Briggs on interpreting deeming provisions. This guidance would involve established legal principles on how to interpret statutes, including the avoidance of absurd results and giving effect to the intention of Parliament.\n",
      "\n",
      "5. **Case Law on Employment-Related Securities** - Although not explicitly mentioned in the summary, the interpretation of what constitutes employment-related securities would likely involve case law that has previously dealt with similar issues, providing precedent for the courts to consider.\n",
      "\n",
      "6. **Legal Principles on Employment and Taxation** - The case required the courts to consider the principles that determine when an opportunity or benefit is sufficiently connected to employment to be taxable under ITEPA 2003.\n",
      "\n",
      "The judgment summary does not provide the specific details of the UK Supreme Court's unanimous judgment written by Lord Hodge, but it is clear that the interpretation of section 471 of ITEPA 2003 and the application of deeming provisions were central to the legal arguments and the court's decision.\n"
     ]
    }
   ],
   "source": [
    "print(result)"
   ]
  },
  {
   "cell_type": "markdown",
   "id": "ef7649ce-22e4-4806-a2dd-dd4674420e5d",
   "metadata": {},
   "source": [
    "Reference: \n",
    "* [Example Court Judgement Used](https://caselaw.nationalarchives.gov.uk/uksc/2023/37#download-options)\n",
    "* [LangChain Summarization Documentation](https://python.langchain.com/docs/use_cases/summarization)\n",
    "* [How to summarize Large Documents with LangChain and OpenAI in Python](https://harikirankante.hashnode.dev/how-to-summarize-large-documents-using-langchain-and-openai-in-python)"
   ]
  },
  {
   "cell_type": "code",
   "execution_count": null,
   "id": "77142cfd-2125-43ff-9ade-0e8871e1d1c4",
   "metadata": {},
   "outputs": [],
   "source": []
  }
 ],
 "metadata": {
  "kernelspec": {
   "display_name": "Python 3 (ipykernel)",
   "language": "python",
   "name": "python3"
  },
  "language_info": {
   "codemirror_mode": {
    "name": "ipython",
    "version": 3
   },
   "file_extension": ".py",
   "mimetype": "text/x-python",
   "name": "python",
   "nbconvert_exporter": "python",
   "pygments_lexer": "ipython3",
   "version": "3.11.5"
  }
 },
 "nbformat": 4,
 "nbformat_minor": 5
}
