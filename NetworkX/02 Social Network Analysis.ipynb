{
 "cells": [
  {
   "cell_type": "markdown",
   "id": "9c8386e9-0d46-4975-a8e1-c9cb16309a59",
   "metadata": {
    "tags": []
   },
   "source": [
    "## <center> Connected: A Social Netork Analysis with NetworkX </center>"
   ]
  },
  {
   "cell_type": "markdown",
   "id": "a10439a7-2085-43f2-981b-1e818fb7d5f0",
   "metadata": {},
   "source": [
    "#### 0. Introduction\n",
    "\n",
    "* Reference: **[Connected: A Social Netowkrk Analysis with NetworkX](https://www.youtube.com/watch?v=7fsreJMy_pI&t=503s)**\n",
    "* Session Outline: \n",
    "    * Introduction and Background \n",
    "    * Creating Graphs \n",
    "    * Visualizing Graphs \n",
    "    * Centrality \n",
    "    * Link Prediction \n",
    "    * Community"
   ]
  },
  {
   "cell_type": "markdown",
   "id": "cd4d51ea-74b2-446d-bfa5-6938caf36188",
   "metadata": {},
   "source": [
    "#### 1. What is Social Network Analysis \n",
    "\n",
    "* Examples: \n",
    "* Zachary's Karate Club \n",
    "    * A social netowrk of a karate club was studied by Wayne W. Zachary for a period of three years from 1970 to 1972. The network captures 34 members of a karate club, documenting 78 pairwise linked between members who interacted **outside** the club. Durint the study, a clonfict arose which led to the split of the clib in two. Based on collected data Zachary assigned correctly all but one member of the club to the groups they actually joined after the split. \n",
    "    * He used a link flow algorithm to do the prediction.\n",
    "    * This dataset can be thought as the Iris dataset of social network analysis. It is very frequently used as the example dataset for the topic. \n",
    "* Florentine Marriages\n",
    "    * This is a graph of a marriage netowrk of 16 influential Florentian families in the 1430s. At this time in Renaissance Italy, the major families were essentially an oligarchy, controlling politics and money in the region.\n",
    "    * Of critical importance here is the Meduci family. The families that were the most powerfull, were because of their connections rather than their wealth or political ambition. |The Meduci family is the most connected through this network. This is the idea we call **centrality** and we will cover it later.  \n",
    "* Semantic Text Network\n",
    "    * This is not social network analysis, but it is netowrk analysis. Social Network Analysis is just a subset of it. Here the nodes are the words, and the edges are connections based on whether they co-occured in a section of text (e.g. 2-word or 5-word windows) \n",
    "    * On this network they ran a community detection algorithm, and they were effectively able to do a topic modelling.\n",
    "    * So netowks is any object that can be the nodes of the network and the arcs are any defined relationship between them. "
   ]
  },
  {
   "cell_type": "markdown",
   "id": "0c1a6409-a839-43b3-a66a-c22ff3e257df",
   "metadata": {},
   "source": [
    "* Defintitions\n",
    "* **Network**: A pattern of interconnections among a set of things. \n",
    "* **Social Network**: A network where the things are people and interconnections are social interactions. \n",
    "* **Social Network Analysis (SNA)**: The application of *graph* and *network theory* to investigate social structures. \n",
    "* **Graph Theory**: The study of graphs, which are mathematical structures used to model pairwise relations between objects. \n",
    "* **Network Theory**: The study of complex interacting systems that are represented as graphs equiped with extra structure. This is on the softer, social science end as opposed to the rigorous mathematical approach. \n",
    "* **Graph elements**:\n",
    "    * **Node (Vertex)**: The entity of analysis which as a relationship. Node is used in the network context and vertex is used int he graph context.\n",
    "    * **Link (Edge)**: The connections between the nodes. Link is used int he network context and edge is used int he graph theory context.\n",
    "    * **Attributed**: Both nodes and edges can store attributes, which contain additional information about that object \n",
    "    * **Weight**: A *common attribute of edges*, used to indicate the *strength or value* of a relationship. \n",
    "    * **Degree**: Number of edges a node has.\n",
    "* **Graph Types**: Graphs are classified based on the presence of weights and direction to their edges: \n",
    "    * **Weights**: **Weighted** or **Unweighted** accordingly. \n",
    "    * **Directionality**: **Directed** or **Undirected** accordingly.\n",
    "    * Additional flavours: \n",
    "        * **Parallel edges** to represent more than one type of relationship.\n",
    "        * **Self-loops** where nodes link to theirselves. \n",
    "        * **n-partitite graphs** (e.g. bipartite) where you see relationships among n different types of objects."
   ]
  },
  {
   "cell_type": "markdown",
   "id": "7c37c5e0-caed-4cf6-9b5a-be8aedeaa238",
   "metadata": {},
   "source": [
    "#### 2. Creating Graphs with NetworkX\n",
    "\n",
    "* Creating a graph object \n",
    "* Adding nodes and edges \n",
    "* Adding attributes\n",
    "* Loading in several data types"
   ]
  },
  {
   "cell_type": "code",
   "execution_count": 2,
   "id": "aaad15e7-340a-4c52-acb1-93135a712d7a",
   "metadata": {},
   "outputs": [],
   "source": [
    "import csv                        # To read a network data from a csv file\n",
    "import networkx as nx\n",
    "import pandas as pd \n",
    "import matplotlib.pyplot as plt"
   ]
  },
  {
   "cell_type": "markdown",
   "id": "ede2bd84-82dc-4f71-b059-22f122c6c7ff",
   "metadata": {},
   "source": [
    "**[GitHub Repository](https://github.com/rtidatascience/connected-nx-tutorial)**"
   ]
  },
  {
   "cell_type": "code",
   "execution_count": 3,
   "id": "d07b49d8-065f-4e07-99ee-572bde11e560",
   "metadata": {},
   "outputs": [],
   "source": [
    "# create an empty graph \n",
    "G = nx.Graph()"
   ]
  },
  {
   "cell_type": "markdown",
   "id": "f109c322-6b65-46e4-8ec7-fdb8b0756ebc",
   "metadata": {},
   "source": [
    "##### a) Addigng notes:"
   ]
  },
  {
   "cell_type": "code",
   "execution_count": 10,
   "id": "8b134075-43da-4941-8fd0-23e5879a244b",
   "metadata": {},
   "outputs": [],
   "source": [
    "G.add_node(1) # Add nodes one at a time\n",
    "G.add_nodes_from([2, 3, 4])  # Adding multiple nodes using a list \n",
    "# In new version of NetworkX we will be able to use generators to add nodes"
   ]
  },
  {
   "cell_type": "markdown",
   "id": "eaf714cb-38ac-4d1f-a964-32820d82163e",
   "metadata": {},
   "source": [
    "##### b) Adding Edges:"
   ]
  },
  {
   "cell_type": "code",
   "execution_count": 11,
   "id": "9f997804-08d7-44ef-9339-6b2b60785ab1",
   "metadata": {},
   "outputs": [],
   "source": [
    "G.add_edge(1,2)"
   ]
  },
  {
   "cell_type": "code",
   "execution_count": 15,
   "id": "09066459-5455-4fca-bfd7-8426fa89554e",
   "metadata": {},
   "outputs": [
    {
     "data": {
      "text/plain": [
       "'Graph with 4 nodes and 1 edges'"
      ]
     },
     "execution_count": 15,
     "metadata": {},
     "output_type": "execute_result"
    }
   ],
   "source": [
    "nx.info(G) # Use info function to get info of a graph"
   ]
  },
  {
   "cell_type": "code",
   "execution_count": 16,
   "id": "b1e94698-d0a2-4940-866a-c6bde986c910",
   "metadata": {},
   "outputs": [
    {
     "data": {
      "text/plain": [
       "NodeView((1, 2, 3, 4))"
      ]
     },
     "execution_count": 16,
     "metadata": {},
     "output_type": "execute_result"
    }
   ],
   "source": [
    "G.nodes() # Return nodes of the graph"
   ]
  },
  {
   "cell_type": "code",
   "execution_count": 18,
   "id": "7cc13e8c-b416-40d5-b7dc-7418cba28a98",
   "metadata": {},
   "outputs": [
    {
     "data": {
      "image/png": "[encoded data removed]",
      "text/plain": [
       "<Figure size 432x288 with 1 Axes>"
      ]
     },
     "metadata": {},
     "output_type": "display_data"
    }
   ],
   "source": [
    "# Quick drawing of a graph \n",
    "nx.draw(G, with_labels=True)"
   ]
  },
  {
   "cell_type": "markdown",
   "id": "4a86d0b7-2aef-4caa-a29f-80d1c0aa069e",
   "metadata": {},
   "source": [
    "##### c) Adding and Inspecting Attributes"
   ]
  },
  {
   "cell_type": "code",
   "execution_count": 19,
   "id": "14d38847-6634-4b52-99b2-a5592cf2615b",
   "metadata": {},
   "outputs": [],
   "source": [
    "# You can add attributes at creation\n",
    "G.add_node(5, favorite_color='blue') # Add single node and atribute\n",
    "G.add_nodes_from([(6, {'favorite_color': 'red'}),     # Add multiple nodes and attributes\n",
    "                  (7, {'favorite_color': 'purple'})]) # Tuple with a node label and a dictionary"
   ]
  },
  {
   "cell_type": "code",
   "execution_count": 37,
   "id": "3bfe01cc-7d1d-4e00-afd3-7d8fe51bbc97",
   "metadata": {},
   "outputs": [],
   "source": [
    "# Same thing with edges \n",
    "G.add_edge(5, 6, relationship = 'best friends')"
   ]
  },
  {
   "cell_type": "code",
   "execution_count": 40,
   "id": "ba18cbc8-72c4-4661-acf9-55e417c9d210",
   "metadata": {},
   "outputs": [
    {
     "name": "stdout",
     "output_type": "stream",
     "text": [
      "Node 5 addtibutes: {'favorite_color': 'blue'}\n",
      "Edge 5-6 attributes: {'relationship': 'best friends'}\n"
     ]
    }
   ],
   "source": [
    "# Accessing Node attributes \n",
    "print(\"Node 5 addtibutes:\", G.nodes[5])\n",
    "print(\"Edge 5-6 attributes:\", G.get_edge_data(5,6))"
   ]
  },
  {
   "cell_type": "code",
   "execution_count": 48,
   "id": "a3d52e48-0f86-41ac-bc28-8b57319bf90c",
   "metadata": {},
   "outputs": [],
   "source": [
    "# Adding attributes to existing nodes: \n",
    "favorite_foods = {\n",
    "    1 : 'pizza',\n",
    "    2 : 'mac and cheese',\n",
    "    3 : 'balogna sandwich',\n",
    "    4 : 'pizza',\n",
    "    5 : 'chocolate',\n",
    "    6 : 'pizza',\n",
    "    7 : 'bananas'\n",
    "}"
   ]
  },
  {
   "cell_type": "code",
   "execution_count": 51,
   "id": "1b684237-0a2b-4443-88e2-3f020961f135",
   "metadata": {},
   "outputs": [],
   "source": [
    "# Set node attributes from from a dictionary\n",
    "nx.set_node_attributes(G=G, values=favorite_foods, name=\"favorite_food\")"
   ]
  },
  {
   "cell_type": "code",
   "execution_count": 52,
   "id": "1d0497dc-ea33-4338-8985-c4b4812e0691",
   "metadata": {},
   "outputs": [
    {
     "name": "stdout",
     "output_type": "stream",
     "text": [
      "Node 5 addtibutes: {'favorite_food': 'pizza'}\n"
     ]
    }
   ],
   "source": [
    "print(\"Node 5 addtibutes:\", G.nodes[4])"
   ]
  },
  {
   "cell_type": "markdown",
   "id": "b521728f-d4c1-4dc1-b8ee-640e3fec0de7",
   "metadata": {},
   "source": [
    "##### Reading in Different Representations of Graphs \n",
    "\n",
    "* Graph and network data can come in many different representations. \n",
    "* Representations: \n",
    "    * Edge List \n",
    "    * Adjecency Matrix \n",
    "    * Adjacency List (not covered)\n",
    "    * Incidence Matrix (not covered) \n",
    "* Note: Representations are related to, but not distinct from, the storage format. In our examples we'll be loading our data from text files. You may also have network data stored as `JSON`, `GEFX` , or other formats. For more details, check the docs. "
   ]
  },
  {
   "cell_type": "markdown",
   "id": "be4c7531-d426-4352-88b0-deab5b7e400a",
   "metadata": {},
   "source": [
    "#### Grey's Anatomy Dataset\n",
    "* This dataset looks at the record of all romantic encounters between characters from the TV Show Grey's Anatomy. \n",
    "\n",
    "##### Edge Lists\n",
    "* An **edge list** is a common way of representing a graph. This representation can be thought of as a list of tuples, where each tuple represents an edge between two nodes in your graph. The nodes of the graph can be inferred by taking the set of objects in all tuples."
   ]
  },
  {
   "cell_type": "code",
   "execution_count": null,
   "id": "d41cc89b-4125-49c9-b1b9-b581e649216a",
   "metadata": {},
   "outputs": [],
   "source": []
  }
 ],
 "metadata": {
  "kernelspec": {
   "display_name": "Python 3 (ipykernel)",
   "language": "python",
   "name": "python3"
  },
  "language_info": {
   "codemirror_mode": {
    "name": "ipython",
    "version": 3
   },
   "file_extension": ".py",
   "mimetype": "text/x-python",
   "name": "python",
   "nbconvert_exporter": "python",
   "pygments_lexer": "ipython3",
   "version": "3.9.7"
  }
 },
 "nbformat": 4,
 "nbformat_minor": 5
}
